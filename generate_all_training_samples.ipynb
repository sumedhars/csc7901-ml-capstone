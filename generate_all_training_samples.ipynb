{
 "cells": [
  {
   "cell_type": "code",
   "execution_count": 5,
   "id": "c3e711a1",
   "metadata": {},
   "outputs": [],
   "source": [
    "import pandas as pd\n",
    "import os\n",
    "import random\n",
    "import re"
   ]
  },
  {
   "cell_type": "code",
   "execution_count": null,
   "id": "1450ce58",
   "metadata": {},
   "outputs": [],
   "source": [
    "def create_training_sample(individual_pathway, all_nodes, union_ppi, ind_pathway_name):\n",
    "    \"\"\"\n",
    "    create the training samples from a processed single pathway\n",
    "    \"\"\"\n",
    "    sample_size = max(1, len(all_nodes) // 4)  # TODO: change this to multiplication\n",
    "    # randomly sample nodes\n",
    "    random_sample = random.sample(all_nodes, sample_size)\n",
    "    \n",
    "    # Filter the edges that contain the sampled nodes\n",
    "    mask = individual_pathway[0].isin(random_sample) & individual_pathway[2].isin(random_sample)\n",
    "    matching_rows = individual_pathway[mask]\n",
    "    \n",
    "    # Generate the training sample\n",
    "    training_sample = union_ppi.copy()\n",
    "    training_sample[\"label\"] = training_sample[[0, 1]].apply(tuple, axis=1).isin(matching_rows.apply(tuple, axis=1)).astype(int)\n",
    "    \n",
    "    if 1 in training_sample['label'].tolist():\n",
    "        print(\"True labels in PPI - found\")\n",
    "    else:\n",
    "        print(\"No True Label found in PPI\")\n",
    "        \n",
    "    # save the training sample\n",
    "    filename = ind_pathway_name + str(random.randint(1000, 9999)) + '.csv'\n",
    "    training_sample.to_csv(f'training-samples/{filename}', index=False, sep='\\t')"
   ]
  },
  {
   "cell_type": "code",
   "execution_count": null,
   "id": "354bc8dd",
   "metadata": {},
   "outputs": [],
   "source": [
    "def process_individual_pathway(file_path, union_ppi, id_map):\n",
    "    \"\"\"\n",
    "    Process a single pathway file and generate training samples\n",
    "    \n",
    "    Parameters:\n",
    "    file_path (str): Path to the pathway file\n",
    "    union_ppi (pd.DataFrame): The union PPI dataset\n",
    "    id_map (pd.DataFrame): Mapping between gene names and entry names\n",
    "    \"\"\"\n",
    "    # extract filename without extension for naming training samples\n",
    "    path_name = os.path.splitext(os.path.basename(file_path))[0]\n",
    "    path_name = re.sub(r'\\W+', '_', path_name).strip('_').lower() + '_train_'\n",
    "    print(path_name)\n",
    "    \n",
    "    # read + preprocess the pathway file\n",
    "    individual_pathway = pd.read_csv(file_path, sep='\\t', header=None)\n",
    "    # remove the reaction column\n",
    "    individual_pathway.drop(columns=[1], inplace=True)\n",
    "    \n",
    "    # create mapping dictionary from id map\n",
    "    mapping_dict = dict(zip(id_map[\"gene_name\"], id_map[\"entry_name\"]))\n",
    "    # replace gene names w entry names\n",
    "    individual_pathway[0] = individual_pathway[0].replace(mapping_dict)\n",
    "    individual_pathway[2] = individual_pathway[2].replace(mapping_dict)\n",
    "    \n",
    "    # get all unique nodes in the individual pathway\n",
    "    all_nodes = list(set(individual_pathway[0].tolist() + individual_pathway[2].tolist()))\n",
    "    \n",
    "    print(f\"\\nProcessing pathway: {path_name}\")\n",
    "    print(f\"Total nodes in pathway: {len(all_nodes)}\")\n",
    "    \n",
    "    # Generate 10 training samples for each pathway\n",
    "    for i in range(10):\n",
    "        create_training_sample(individual_pathway, all_nodes, union_ppi, path_name)"
   ]
  },
  {
   "cell_type": "code",
   "execution_count": null,
   "id": "eabb2efb",
   "metadata": {},
   "outputs": [],
   "source": [
    "def process_all_pathways(folder_path, union_ppi, id_map):\n",
    "    \"\"\"\n",
    "    Process all pathway files in the specified folder\n",
    "    \n",
    "    Parameters:\n",
    "    folder_path (str): Path to the folder containing pathway files\n",
    "    union_ppi (pd.DataFrame): The union PPI dataset\n",
    "    id_map (pd.DataFrame): Mapping between gene names and entry names\n",
    "    \"\"\"\n",
    "\n",
    "    os.makedirs('training-samples', exist_ok=True)\n",
    "    # get all .txt files in the folder\n",
    "    pathway_files = [f for f in os.listdir(folder_path) if f.endswith('.txt')]\n",
    "    print(f\"Found {len(pathway_files)} pathway files to process\")\n",
    "    \n",
    "    # Process each pathway file\n",
    "    for file_name in pathway_files:\n",
    "        file_path = os.path.join(folder_path, file_name)\n",
    "        try:\n",
    "            process_individual_pathway(file_path, union_ppi, id_map)\n",
    "        except Exception as e:\n",
    "            print(f\"Error processing {file_name}: {str(e)}\")\n",
    "            continue"
   ]
  },
  {
   "cell_type": "code",
   "execution_count": null,
   "id": "ba82611d",
   "metadata": {},
   "outputs": [],
   "source": [
    "union_ppi = pd.read_csv('processed-data/union_ppi.txt', sep='\\t', header=None)\n",
    "union_ppi.head()"
   ]
  },
  {
   "cell_type": "code",
   "execution_count": null,
   "id": "7d84c39c",
   "metadata": {},
   "outputs": [],
   "source": [
    "id_map = pd.read_csv('processed-data/mapped_ids_reviewed.csv', sep='\\t')\n",
    "id_map.head()"
   ]
  },
  {
   "cell_type": "code",
   "execution_count": null,
   "id": "855d0f4a",
   "metadata": {},
   "outputs": [],
   "source": [
    "folder_path = 'pathwaycommons-individual'\n",
    "process_all_pathways(folder_path, union_ppi, id_map)"
   ]
  },
  {
   "cell_type": "code",
   "execution_count": 6,
   "id": "780eea5a",
   "metadata": {},
   "outputs": [
    {
     "name": "stdout",
     "output_type": "stream",
     "text": [
      "Total files: 821\n"
     ]
    }
   ],
   "source": [
    "folder_path = 'training-samples'\n",
    "files = os.listdir(folder_path)\n",
    "num_files = len(files)\n",
    "print(f\"Total files: {num_files}\")"
   ]
  },
  {
   "cell_type": "code",
   "execution_count": null,
   "id": "10e74b57",
   "metadata": {},
   "outputs": [],
   "source": []
  }
 ],
 "metadata": {
  "kernelspec": {
   "display_name": "Python 3 (ipykernel)",
   "language": "python",
   "name": "python3"
  },
  "language_info": {
   "codemirror_mode": {
    "name": "ipython",
    "version": 3
   },
   "file_extension": ".py",
   "mimetype": "text/x-python",
   "name": "python",
   "nbconvert_exporter": "python",
   "pygments_lexer": "ipython3",
   "version": "3.10.12"
  }
 },
 "nbformat": 4,
 "nbformat_minor": 5
}
