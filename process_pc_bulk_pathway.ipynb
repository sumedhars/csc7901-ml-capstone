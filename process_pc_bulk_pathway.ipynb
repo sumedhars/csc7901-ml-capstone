{
 "cells": [
  {
   "cell_type": "code",
   "execution_count": 2,
   "id": "43d5b99a",
   "metadata": {},
   "outputs": [],
   "source": [
    "import pandas as pd\n",
    "import os\n",
    "import re"
   ]
  },
  {
   "cell_type": "code",
   "execution_count": 3,
   "id": "07455522",
   "metadata": {},
   "outputs": [
    {
     "data": {
      "text/html": [
       "<div>\n",
       "<style scoped>\n",
       "    .dataframe tbody tr th:only-of-type {\n",
       "        vertical-align: middle;\n",
       "    }\n",
       "\n",
       "    .dataframe tbody tr th {\n",
       "        vertical-align: top;\n",
       "    }\n",
       "\n",
       "    .dataframe thead th {\n",
       "        text-align: right;\n",
       "    }\n",
       "</style>\n",
       "<table border=\"1\" class=\"dataframe\">\n",
       "  <thead>\n",
       "    <tr style=\"text-align: right;\">\n",
       "      <th></th>\n",
       "      <th>gene_name</th>\n",
       "      <th>entry_name</th>\n",
       "    </tr>\n",
       "  </thead>\n",
       "  <tbody>\n",
       "    <tr>\n",
       "      <th>0</th>\n",
       "      <td>PLA2G10</td>\n",
       "      <td>PA2GX_HUMAN</td>\n",
       "    </tr>\n",
       "    <tr>\n",
       "      <th>1</th>\n",
       "      <td>FDFT1</td>\n",
       "      <td>FDFT_HUMAN</td>\n",
       "    </tr>\n",
       "    <tr>\n",
       "      <th>2</th>\n",
       "      <td>UGCG</td>\n",
       "      <td>CEGT_HUMAN</td>\n",
       "    </tr>\n",
       "    <tr>\n",
       "      <th>3</th>\n",
       "      <td>CYP1A2</td>\n",
       "      <td>CP1A2_HUMAN</td>\n",
       "    </tr>\n",
       "    <tr>\n",
       "      <th>4</th>\n",
       "      <td>RARS2</td>\n",
       "      <td>SYRM_HUMAN</td>\n",
       "    </tr>\n",
       "  </tbody>\n",
       "</table>\n",
       "</div>"
      ],
      "text/plain": [
       "  gene_name   entry_name\n",
       "0   PLA2G10  PA2GX_HUMAN\n",
       "1     FDFT1   FDFT_HUMAN\n",
       "2      UGCG   CEGT_HUMAN\n",
       "3    CYP1A2  CP1A2_HUMAN\n",
       "4     RARS2   SYRM_HUMAN"
      ]
     },
     "execution_count": 3,
     "metadata": {},
     "output_type": "execute_result"
    }
   ],
   "source": [
    "mapped_ids_reviewed = pd.read_csv('processed-data/mapped_ids_reviewed.csv', sep='\\t')\n",
    "mapped_ids_reviewed.head()"
   ]
  },
  {
   "cell_type": "code",
   "execution_count": 4,
   "id": "ef7feb27",
   "metadata": {},
   "outputs": [
    {
     "data": {
      "text/html": [
       "<div>\n",
       "<style scoped>\n",
       "    .dataframe tbody tr th:only-of-type {\n",
       "        vertical-align: middle;\n",
       "    }\n",
       "\n",
       "    .dataframe tbody tr th {\n",
       "        vertical-align: top;\n",
       "    }\n",
       "\n",
       "    .dataframe thead th {\n",
       "        text-align: right;\n",
       "    }\n",
       "</style>\n",
       "<table border=\"1\" class=\"dataframe\">\n",
       "  <thead>\n",
       "    <tr style=\"text-align: right;\">\n",
       "      <th></th>\n",
       "      <th>0</th>\n",
       "      <th>1</th>\n",
       "      <th>2</th>\n",
       "    </tr>\n",
       "  </thead>\n",
       "  <tbody>\n",
       "    <tr>\n",
       "      <th>0</th>\n",
       "      <td>A4GALT</td>\n",
       "      <td>catalysis-precedes</td>\n",
       "      <td>ABO</td>\n",
       "    </tr>\n",
       "    <tr>\n",
       "      <th>1</th>\n",
       "      <td>A4GALT</td>\n",
       "      <td>catalysis-precedes</td>\n",
       "      <td>AK3</td>\n",
       "    </tr>\n",
       "    <tr>\n",
       "      <th>2</th>\n",
       "      <td>A4GALT</td>\n",
       "      <td>catalysis-precedes</td>\n",
       "      <td>ALG13</td>\n",
       "    </tr>\n",
       "    <tr>\n",
       "      <th>3</th>\n",
       "      <td>A4GALT</td>\n",
       "      <td>catalysis-precedes</td>\n",
       "      <td>ALG14</td>\n",
       "    </tr>\n",
       "    <tr>\n",
       "      <th>4</th>\n",
       "      <td>A4GALT</td>\n",
       "      <td>catalysis-precedes</td>\n",
       "      <td>ALG5</td>\n",
       "    </tr>\n",
       "  </tbody>\n",
       "</table>\n",
       "</div>"
      ],
      "text/plain": [
       "        0                   1      2\n",
       "0  A4GALT  catalysis-precedes    ABO\n",
       "1  A4GALT  catalysis-precedes    AK3\n",
       "2  A4GALT  catalysis-precedes  ALG13\n",
       "3  A4GALT  catalysis-precedes  ALG14\n",
       "4  A4GALT  catalysis-precedes   ALG5"
      ]
     },
     "execution_count": 4,
     "metadata": {},
     "output_type": "execute_result"
    }
   ],
   "source": [
    "pathway_commons = pd.read_csv('PathwayCommons12.kegg.hgnc.sif', sep='\\t', header=None)\n",
    "pathway_commons.head()"
   ]
  },
  {
   "cell_type": "code",
   "execution_count": 5,
   "id": "cb55b5b1",
   "metadata": {},
   "outputs": [],
   "source": [
    "mapping_dict = dict(zip(mapped_ids_reviewed[\"gene_name\"], mapped_ids_reviewed[\"entry_name\"]))\n",
    "\n",
    "pathway_commons[0] = pathway_commons[0].replace(mapping_dict)\n",
    "pathway_commons[2] = pathway_commons[2].replace(mapping_dict)"
   ]
  },
  {
   "cell_type": "code",
   "execution_count": 6,
   "id": "7e0849a1",
   "metadata": {},
   "outputs": [
    {
     "data": {
      "text/plain": [
       "['used-to-produce',\n",
       " 'interacts-with',\n",
       " 'reacts-with',\n",
       " 'consumption-controlled-by',\n",
       " 'controls-production-of',\n",
       " 'catalysis-precedes']"
      ]
     },
     "execution_count": 6,
     "metadata": {},
     "output_type": "execute_result"
    }
   ],
   "source": [
    "all_relations = list(set(pathway_commons[1]))\n",
    "all_relations"
   ]
  },
  {
   "cell_type": "code",
   "execution_count": 7,
   "id": "69091724",
   "metadata": {},
   "outputs": [
    {
     "data": {
      "text/plain": [
       "['used-to-produce',\n",
       " 'consumption-controlled-by',\n",
       " 'controls-production-of',\n",
       " 'catalysis-precedes']"
      ]
     },
     "execution_count": 7,
     "metadata": {},
     "output_type": "execute_result"
    }
   ],
   "source": [
    "undirected = ['in-complex-with', 'interacts-with', 'neighbor-of', 'reacts-with']\n",
    "directed = [item for item in all_relations if item not in undirected]\n",
    "directed"
   ]
  },
  {
   "cell_type": "code",
   "execution_count": 8,
   "id": "f744952b",
   "metadata": {},
   "outputs": [],
   "source": [
    "new_rows = pd.DataFrame({\n",
    "    0: pathway_commons[0],  # First column\n",
    "    1: pathway_commons[2],  # Second column\n",
    "    2: [0.75] * len(pathway_commons),  # Placeholder for column 3\n",
    "    3: pathway_commons[1].apply(lambda x: 'D' if x in directed else 'U')\n",
    "})"
   ]
  },
  {
   "cell_type": "code",
   "execution_count": 9,
   "id": "9c33b3cf",
   "metadata": {},
   "outputs": [
    {
     "name": "stderr",
     "output_type": "stream",
     "text": [
      "/tmp/ipykernel_3545648/3435582215.py:10: FutureWarning: DataFrame.applymap has been deprecated. Use DataFrame.map instead.\n",
      "  new_rows = new_rows.applymap(replace_chebi)\n"
     ]
    }
   ],
   "source": [
    "# Function to replace CHEBI entries efficiently\n",
    "def replace_chebi(value):\n",
    "    if isinstance(value, str) and value.startswith(\"CHEBI:\"):\n",
    "        match = re.match(r\"CHEBI:\\s*(\\d+)\", value)\n",
    "        if match:\n",
    "            return f\"chebi:{match.group(1)}\"\n",
    "    return value\n",
    "\n",
    "# Apply function to the entire DataFrame\n",
    "new_rows = new_rows.applymap(replace_chebi)"
   ]
  },
  {
   "cell_type": "code",
   "execution_count": 10,
   "id": "e16351c3",
   "metadata": {},
   "outputs": [
    {
     "data": {
      "text/html": [
       "<div>\n",
       "<style scoped>\n",
       "    .dataframe tbody tr th:only-of-type {\n",
       "        vertical-align: middle;\n",
       "    }\n",
       "\n",
       "    .dataframe tbody tr th {\n",
       "        vertical-align: top;\n",
       "    }\n",
       "\n",
       "    .dataframe thead th {\n",
       "        text-align: right;\n",
       "    }\n",
       "</style>\n",
       "<table border=\"1\" class=\"dataframe\">\n",
       "  <thead>\n",
       "    <tr style=\"text-align: right;\">\n",
       "      <th></th>\n",
       "      <th>0</th>\n",
       "      <th>1</th>\n",
       "      <th>2</th>\n",
       "      <th>3</th>\n",
       "    </tr>\n",
       "  </thead>\n",
       "  <tbody>\n",
       "    <tr>\n",
       "      <th>0</th>\n",
       "      <td>A4GAT_HUMAN</td>\n",
       "      <td>BGAT_HUMAN</td>\n",
       "      <td>0.75</td>\n",
       "      <td>D</td>\n",
       "    </tr>\n",
       "    <tr>\n",
       "      <th>1</th>\n",
       "      <td>A4GAT_HUMAN</td>\n",
       "      <td>KAD3_HUMAN</td>\n",
       "      <td>0.75</td>\n",
       "      <td>D</td>\n",
       "    </tr>\n",
       "    <tr>\n",
       "      <th>2</th>\n",
       "      <td>A4GAT_HUMAN</td>\n",
       "      <td>ALG13_HUMAN</td>\n",
       "      <td>0.75</td>\n",
       "      <td>D</td>\n",
       "    </tr>\n",
       "    <tr>\n",
       "      <th>3</th>\n",
       "      <td>A4GAT_HUMAN</td>\n",
       "      <td>ALG14_HUMAN</td>\n",
       "      <td>0.75</td>\n",
       "      <td>D</td>\n",
       "    </tr>\n",
       "    <tr>\n",
       "      <th>4</th>\n",
       "      <td>A4GAT_HUMAN</td>\n",
       "      <td>ALG5_HUMAN</td>\n",
       "      <td>0.75</td>\n",
       "      <td>D</td>\n",
       "    </tr>\n",
       "  </tbody>\n",
       "</table>\n",
       "</div>"
      ],
      "text/plain": [
       "             0            1     2  3\n",
       "0  A4GAT_HUMAN   BGAT_HUMAN  0.75  D\n",
       "1  A4GAT_HUMAN   KAD3_HUMAN  0.75  D\n",
       "2  A4GAT_HUMAN  ALG13_HUMAN  0.75  D\n",
       "3  A4GAT_HUMAN  ALG14_HUMAN  0.75  D\n",
       "4  A4GAT_HUMAN   ALG5_HUMAN  0.75  D"
      ]
     },
     "execution_count": 10,
     "metadata": {},
     "output_type": "execute_result"
    }
   ],
   "source": [
    "new_rows.head()"
   ]
  },
  {
   "cell_type": "code",
   "execution_count": 11,
   "id": "c20a0684",
   "metadata": {},
   "outputs": [],
   "source": [
    "new_rows.to_csv('processed-bulk-pc-pathway.txt', sep='\\t')"
   ]
  },
  {
   "cell_type": "code",
   "execution_count": null,
   "id": "b9793f04",
   "metadata": {},
   "outputs": [],
   "source": []
  }
 ],
 "metadata": {
  "kernelspec": {
   "display_name": "Python 3 (ipykernel)",
   "language": "python",
   "name": "python3"
  },
  "language_info": {
   "codemirror_mode": {
    "name": "ipython",
    "version": 3
   },
   "file_extension": ".py",
   "mimetype": "text/x-python",
   "name": "python",
   "nbconvert_exporter": "python",
   "pygments_lexer": "ipython3",
   "version": "3.10.12"
  }
 },
 "nbformat": 4,
 "nbformat_minor": 5
}
