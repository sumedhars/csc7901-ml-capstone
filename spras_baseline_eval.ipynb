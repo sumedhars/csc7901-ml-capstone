{
 "cells": [
  {
   "cell_type": "code",
   "execution_count": 34,
   "id": "0c3977a6",
   "metadata": {},
   "outputs": [],
   "source": [
    "import pandas as pd\n",
    "from sklearn.metrics import precision_recall_curve\n",
    "import matplotlib.pyplot as plt\n",
    "import os\n",
    "import re"
   ]
  },
  {
   "cell_type": "markdown",
   "id": "3fc67337",
   "metadata": {},
   "source": [
    "### TEST:"
   ]
  },
  {
   "cell_type": "markdown",
   "id": "582e1ba4",
   "metadata": {},
   "source": [
    "**Load SPRAS ensemble pathway output**\n",
    "\n",
    "- currently contains:\n",
    "    - false positives (in ensemble, not in pathwaycommons individual graph)\n",
    "    - true positives (in ensemble, also in pathway commons individual graph)\n",
    "- compare it do "
   ]
  },
  {
   "cell_type": "code",
   "execution_count": null,
   "id": "73686574",
   "metadata": {},
   "outputs": [
    {
     "data": {
      "text/html": [
       "<div>\n",
       "<style scoped>\n",
       "    .dataframe tbody tr th:only-of-type {\n",
       "        vertical-align: middle;\n",
       "    }\n",
       "\n",
       "    .dataframe tbody tr th {\n",
       "        vertical-align: top;\n",
       "    }\n",
       "\n",
       "    .dataframe thead th {\n",
       "        text-align: right;\n",
       "    }\n",
       "</style>\n",
       "<table border=\"1\" class=\"dataframe\">\n",
       "  <thead>\n",
       "    <tr style=\"text-align: right;\">\n",
       "      <th></th>\n",
       "      <th>Node1</th>\n",
       "      <th>Node2</th>\n",
       "      <th>Frequency</th>\n",
       "      <th>y_true</th>\n",
       "    </tr>\n",
       "  </thead>\n",
       "  <tbody>\n",
       "    <tr>\n",
       "      <th>0</th>\n",
       "      <td>DCE2_HUMAN</td>\n",
       "      <td>GLSK_HUMAN</td>\n",
       "      <td>0.04</td>\n",
       "      <td>0</td>\n",
       "    </tr>\n",
       "    <tr>\n",
       "      <th>1</th>\n",
       "      <td>SSDH_HUMAN</td>\n",
       "      <td>chebi:16265</td>\n",
       "      <td>0.04</td>\n",
       "      <td>0</td>\n",
       "    </tr>\n",
       "    <tr>\n",
       "      <th>2</th>\n",
       "      <td>chebi:16265</td>\n",
       "      <td>SSDH_HUMAN</td>\n",
       "      <td>0.04</td>\n",
       "      <td>0</td>\n",
       "    </tr>\n",
       "    <tr>\n",
       "      <th>3</th>\n",
       "      <td>TACC1_HUMAN</td>\n",
       "      <td>RUXG_HUMAN</td>\n",
       "      <td>0.04</td>\n",
       "      <td>0</td>\n",
       "    </tr>\n",
       "    <tr>\n",
       "      <th>4</th>\n",
       "      <td>TACC1_HUMAN</td>\n",
       "      <td>KAT2A_HUMAN</td>\n",
       "      <td>0.04</td>\n",
       "      <td>0</td>\n",
       "    </tr>\n",
       "  </tbody>\n",
       "</table>\n",
       "</div>"
      ],
      "text/plain": [
       "         Node1        Node2  Frequency  y_true\n",
       "0   DCE2_HUMAN   GLSK_HUMAN       0.04       0\n",
       "1   SSDH_HUMAN  chebi:16265       0.04       0\n",
       "2  chebi:16265   SSDH_HUMAN       0.04       0\n",
       "3  TACC1_HUMAN   RUXG_HUMAN       0.04       0\n",
       "4  TACC1_HUMAN  KAT2A_HUMAN       0.04       0"
      ]
     },
     "execution_count": 21,
     "metadata": {},
     "output_type": "execute_result"
    }
   ],
   "source": [
    "ensemble_sample = pd.read_csv('processed-data/ensemble-pathway-sample.txt', sep='\\t')\n",
    "ensemble_sample.drop(columns=['Direction'], inplace=True)\n",
    "ensemble_sample['y_true'] = 0\n",
    "ensemble_sample.head()"
   ]
  },
  {
   "cell_type": "markdown",
   "id": "bc8b8039",
   "metadata": {},
   "source": [
    "**Add edges not in ensemble, but in pathway commons graph**\n",
    "\n",
    "- i.e. add the false negatives"
   ]
  },
  {
   "cell_type": "code",
   "execution_count": 20,
   "id": "3f17c101",
   "metadata": {},
   "outputs": [
    {
     "data": {
      "text/html": [
       "<div>\n",
       "<style scoped>\n",
       "    .dataframe tbody tr th:only-of-type {\n",
       "        vertical-align: middle;\n",
       "    }\n",
       "\n",
       "    .dataframe tbody tr th {\n",
       "        vertical-align: top;\n",
       "    }\n",
       "\n",
       "    .dataframe thead th {\n",
       "        text-align: right;\n",
       "    }\n",
       "</style>\n",
       "<table border=\"1\" class=\"dataframe\">\n",
       "  <thead>\n",
       "    <tr style=\"text-align: right;\">\n",
       "      <th></th>\n",
       "      <th>Node1</th>\n",
       "      <th>Node2</th>\n",
       "    </tr>\n",
       "  </thead>\n",
       "  <tbody>\n",
       "    <tr>\n",
       "      <th>0</th>\n",
       "      <td>AGT1_HUMAN</td>\n",
       "      <td>chebi:15428</td>\n",
       "    </tr>\n",
       "    <tr>\n",
       "      <th>1</th>\n",
       "      <td>AGT1_HUMAN</td>\n",
       "      <td>chebi:16891</td>\n",
       "    </tr>\n",
       "    <tr>\n",
       "      <th>2</th>\n",
       "      <td>AGT1_HUMAN</td>\n",
       "      <td>chebi:16977</td>\n",
       "    </tr>\n",
       "    <tr>\n",
       "      <th>3</th>\n",
       "      <td>AGT1_HUMAN</td>\n",
       "      <td>chebi:32816</td>\n",
       "    </tr>\n",
       "    <tr>\n",
       "      <th>4</th>\n",
       "      <td>AL4A1_HUMAN</td>\n",
       "      <td>CHEBI:371</td>\n",
       "    </tr>\n",
       "    <tr>\n",
       "      <th>...</th>\n",
       "      <td>...</td>\n",
       "      <td>...</td>\n",
       "    </tr>\n",
       "    <tr>\n",
       "      <th>258</th>\n",
       "      <td>chebi:30915</td>\n",
       "      <td>DHE4_HUMAN</td>\n",
       "    </tr>\n",
       "    <tr>\n",
       "      <th>259</th>\n",
       "      <td>chebi:30915</td>\n",
       "      <td>chebi:16015</td>\n",
       "    </tr>\n",
       "    <tr>\n",
       "      <th>260</th>\n",
       "      <td>chebi:32816</td>\n",
       "      <td>AGT1_HUMAN</td>\n",
       "    </tr>\n",
       "    <tr>\n",
       "      <th>261</th>\n",
       "      <td>chebi:32816</td>\n",
       "      <td>chebi:16891</td>\n",
       "    </tr>\n",
       "    <tr>\n",
       "      <th>262</th>\n",
       "      <td>chebi:32816</td>\n",
       "      <td>chebi:16977</td>\n",
       "    </tr>\n",
       "  </tbody>\n",
       "</table>\n",
       "<p>263 rows × 2 columns</p>\n",
       "</div>"
      ],
      "text/plain": [
       "           Node1        Node2\n",
       "0     AGT1_HUMAN  chebi:15428\n",
       "1     AGT1_HUMAN  chebi:16891\n",
       "2     AGT1_HUMAN  chebi:16977\n",
       "3     AGT1_HUMAN  chebi:32816\n",
       "4    AL4A1_HUMAN    CHEBI:371\n",
       "..           ...          ...\n",
       "258  chebi:30915   DHE4_HUMAN\n",
       "259  chebi:30915  chebi:16015\n",
       "260  chebi:32816   AGT1_HUMAN\n",
       "261  chebi:32816  chebi:16891\n",
       "262  chebi:32816  chebi:16977\n",
       "\n",
       "[263 rows x 2 columns]"
      ]
     },
     "execution_count": 20,
     "metadata": {},
     "output_type": "execute_result"
    }
   ],
   "source": [
    "pathwaycommons_ind = pd.read_csv('pathway-commons-individual/Alanine,_aspartate_a.txt', sep='\\t', header=None)\n",
    "\n",
    "mapped_ids_reviewed = pd.read_csv('processed-data/mapped_ids_reviewed.csv', sep='\\t')\n",
    "mapped_ids_reviewed.head()\n",
    "\n",
    "mapping_dict = dict(zip(mapped_ids_reviewed[\"gene_name\"], mapped_ids_reviewed[\"entry_name\"]))\n",
    "\n",
    "pathwaycommons_ind[0] = pathwaycommons_ind[0].replace(mapping_dict)\n",
    "pathwaycommons_ind[2] = pathwaycommons_ind[2].replace(mapping_dict)\n",
    "pathwaycommons_ind.drop(columns=[1], inplace=True)\n",
    "pathwaycommons_ind.rename(columns={0:'Node1', 2:'Node2'}, inplace=True)\n",
    "pathwaycommons_ind"
   ]
  },
  {
   "cell_type": "code",
   "execution_count": null,
   "id": "67d0f817",
   "metadata": {},
   "outputs": [],
   "source": [
    "ytrue_pairs = set(zip(pathwaycommons_ind['Node1'], pathwaycommons_ind['Node2']))\n",
    "ensemble_sample.loc[ensemble_sample[['Node1', 'Node2']].apply(tuple, axis=1).isin(ytrue_pairs), 'y_true'] = 1\n",
    "\n",
    "# --- find pairs that are *only* in  and append them ------------------\n",
    "missing_pairs = ytrue_pairs.difference(zip(ensemble_sample['Node1'], ensemble_sample['Node2']))\n",
    "if missing_pairs:                      # only build a frame if something is missing\n",
    "    new_rows = pd.DataFrame(list(missing_pairs), columns=['Node1', 'Node2'])\n",
    "    new_rows['Frequency'] = 0          # per your rule\n",
    "    new_rows['y_true']   = 1\n",
    "    ensemble_sample = pd.concat([ensemble_sample, new_rows], ignore_index=True)"
   ]
  },
  {
   "cell_type": "code",
   "execution_count": 24,
   "id": "affe4dd2",
   "metadata": {},
   "outputs": [
    {
     "data": {
      "text/html": [
       "<div>\n",
       "<style scoped>\n",
       "    .dataframe tbody tr th:only-of-type {\n",
       "        vertical-align: middle;\n",
       "    }\n",
       "\n",
       "    .dataframe tbody tr th {\n",
       "        vertical-align: top;\n",
       "    }\n",
       "\n",
       "    .dataframe thead th {\n",
       "        text-align: right;\n",
       "    }\n",
       "</style>\n",
       "<table border=\"1\" class=\"dataframe\">\n",
       "  <thead>\n",
       "    <tr style=\"text-align: right;\">\n",
       "      <th></th>\n",
       "      <th>Node1</th>\n",
       "      <th>Node2</th>\n",
       "      <th>Frequency</th>\n",
       "      <th>y_true</th>\n",
       "    </tr>\n",
       "  </thead>\n",
       "  <tbody>\n",
       "    <tr>\n",
       "      <th>0</th>\n",
       "      <td>DCE2_HUMAN</td>\n",
       "      <td>GLSK_HUMAN</td>\n",
       "      <td>0.04</td>\n",
       "      <td>1</td>\n",
       "    </tr>\n",
       "    <tr>\n",
       "      <th>1</th>\n",
       "      <td>SSDH_HUMAN</td>\n",
       "      <td>chebi:16265</td>\n",
       "      <td>0.04</td>\n",
       "      <td>1</td>\n",
       "    </tr>\n",
       "    <tr>\n",
       "      <th>2</th>\n",
       "      <td>chebi:16265</td>\n",
       "      <td>SSDH_HUMAN</td>\n",
       "      <td>0.04</td>\n",
       "      <td>1</td>\n",
       "    </tr>\n",
       "    <tr>\n",
       "      <th>3</th>\n",
       "      <td>TACC1_HUMAN</td>\n",
       "      <td>RUXG_HUMAN</td>\n",
       "      <td>0.04</td>\n",
       "      <td>0</td>\n",
       "    </tr>\n",
       "    <tr>\n",
       "      <th>4</th>\n",
       "      <td>TACC1_HUMAN</td>\n",
       "      <td>KAT2A_HUMAN</td>\n",
       "      <td>0.04</td>\n",
       "      <td>0</td>\n",
       "    </tr>\n",
       "    <tr>\n",
       "      <th>...</th>\n",
       "      <td>...</td>\n",
       "      <td>...</td>\n",
       "      <td>...</td>\n",
       "      <td>...</td>\n",
       "    </tr>\n",
       "    <tr>\n",
       "      <th>259</th>\n",
       "      <td>DCE2_HUMAN</td>\n",
       "      <td>GNPI2_HUMAN</td>\n",
       "      <td>0.00</td>\n",
       "      <td>1</td>\n",
       "    </tr>\n",
       "    <tr>\n",
       "      <th>260</th>\n",
       "      <td>chebi:15428</td>\n",
       "      <td>chebi:32816</td>\n",
       "      <td>0.00</td>\n",
       "      <td>1</td>\n",
       "    </tr>\n",
       "    <tr>\n",
       "      <th>261</th>\n",
       "      <td>GLSK_HUMAN</td>\n",
       "      <td>chebi:16015</td>\n",
       "      <td>0.00</td>\n",
       "      <td>1</td>\n",
       "    </tr>\n",
       "    <tr>\n",
       "      <th>262</th>\n",
       "      <td>chebi:16467</td>\n",
       "      <td>chebi:15682</td>\n",
       "      <td>0.00</td>\n",
       "      <td>1</td>\n",
       "    </tr>\n",
       "    <tr>\n",
       "      <th>263</th>\n",
       "      <td>GFPT1_HUMAN</td>\n",
       "      <td>GLSK_HUMAN</td>\n",
       "      <td>0.00</td>\n",
       "      <td>1</td>\n",
       "    </tr>\n",
       "  </tbody>\n",
       "</table>\n",
       "<p>264 rows × 4 columns</p>\n",
       "</div>"
      ],
      "text/plain": [
       "           Node1        Node2  Frequency  y_true\n",
       "0     DCE2_HUMAN   GLSK_HUMAN       0.04       1\n",
       "1     SSDH_HUMAN  chebi:16265       0.04       1\n",
       "2    chebi:16265   SSDH_HUMAN       0.04       1\n",
       "3    TACC1_HUMAN   RUXG_HUMAN       0.04       0\n",
       "4    TACC1_HUMAN  KAT2A_HUMAN       0.04       0\n",
       "..           ...          ...        ...     ...\n",
       "259   DCE2_HUMAN  GNPI2_HUMAN       0.00       1\n",
       "260  chebi:15428  chebi:32816       0.00       1\n",
       "261   GLSK_HUMAN  chebi:16015       0.00       1\n",
       "262  chebi:16467  chebi:15682       0.00       1\n",
       "263  GFPT1_HUMAN   GLSK_HUMAN       0.00       1\n",
       "\n",
       "[264 rows x 4 columns]"
      ]
     },
     "execution_count": 24,
     "metadata": {},
     "output_type": "execute_result"
    }
   ],
   "source": [
    "ensemble_sample"
   ]
  },
  {
   "cell_type": "code",
   "execution_count": 25,
   "id": "df42f78d",
   "metadata": {},
   "outputs": [],
   "source": [
    "y_true = ensemble_sample[\"y_true\"]\n",
    "y_scores = ensemble_sample[\"Frequency\"]"
   ]
  },
  {
   "cell_type": "code",
   "execution_count": 33,
   "id": "17fa5ff4",
   "metadata": {},
   "outputs": [
    {
     "data": {
      "image/png": "[encoded data removed]",
      "text/plain": [
       "<Figure size 800x600 with 1 Axes>"
      ]
     },
     "metadata": {},
     "output_type": "display_data"
    }
   ],
   "source": [
    "# Calculate precision-recall curve\n",
    "precision, recall, _ = precision_recall_curve(y_true, y_scores)\n",
    "\n",
    "# Plot the Precision-Recall curve\n",
    "plt.figure(figsize=(8, 6))\n",
    "plt.plot(recall, precision, marker='.')\n",
    "plt.title(\"Precision-Recall Curve\")\n",
    "plt.xlabel(\"Recall\")\n",
    "plt.ylabel(\"Precision\")\n",
    "plt.grid(True)\n",
    "plt.show()"
   ]
  },
  {
   "cell_type": "markdown",
   "id": "5cb944d9",
   "metadata": {},
   "source": [
    "### ACTUAL IMPLEMENTATION:"
   ]
  },
  {
   "cell_type": "markdown",
   "id": "247544db",
   "metadata": {},
   "source": [
    "- loop through all spras ensemble pathway\n",
    "    - match the ensemble pathway to the processed pc individual pathway\n",
    "    - make the prc table:\n",
    "        - remove direction from ensemble pathway\n",
    "        - add y_true column and set all rows 0\n",
    "        - if ensemble pathway has rows from processed pc individual pathway, set those y_true to 1\n",
    "        - if there are rows in processed pc individual pathway that are not in ensemble pathway, add to prc df with y_true 1 and frequency 0\n",
    "    - use prc table to make the pr curve image"
   ]
  },
  {
   "cell_type": "code",
   "execution_count": null,
   "id": "79722dea",
   "metadata": {},
   "outputs": [],
   "source": [
    "folder_path_1 = 'processed-data/spras-ml-ensembles'\n",
    "spras_ensemble_pathways_list = [f for f in os.listdir(folder_path_1) if f.endswith('.txt')]"
   ]
  },
  {
   "cell_type": "code",
   "execution_count": null,
   "id": "9b4c906b",
   "metadata": {},
   "outputs": [
    {
     "name": "stdout",
     "output_type": "stream",
     "text": [
      "drug_metab\n",
      "fatty_acid\n",
      "fatty_acid\n",
      "glycosamin\n",
      "glycosamin\n",
      "glycosphin\n",
      "glycosphin\n",
      "phenylalan\n",
      "valine__le\n",
      "73\n",
      "73\n"
     ]
    }
   ],
   "source": [
    "folder_path_2 = 'processed-data/processed-pc-individual-pathways'\n",
    "pc_processed_list = [f for f in os.listdir(folder_path_2) if f.endswith('.txt')]\n",
    "list_labels = []\n",
    "for filename in pc_processed_list:\n",
    "    base = filename[:10]\n",
    "    label = re.sub(r'\\W+', '_', base).strip('_')\n",
    "    if label not in list_labels:\n",
    "        list_labels.append(label)\n",
    "    else:\n",
    "        print(label)"
   ]
  },
  {
   "cell_type": "code",
   "execution_count": null,
   "id": "5c61cad4",
   "metadata": {},
   "outputs": [],
   "source": [
    "for pathway in spras_ensemble_pathways_list:\n",
    "\n",
    "    # read ensemble pathway as df\n",
    "    file_path = os.path.join(folder_path_1, pathway)\n",
    "    ensemble_pathway_df = pd.read_csv(file_path, sep='\\t')\n",
    "\n",
    "    # match ensemble pathway to processed pathway commons file\n",
    "    \n"
   ]
  }
 ],
 "metadata": {
  "kernelspec": {
   "display_name": "Python 3",
   "language": "python",
   "name": "python3"
  },
  "language_info": {
   "codemirror_mode": {
    "name": "ipython",
    "version": 3
   },
   "file_extension": ".py",
   "mimetype": "text/x-python",
   "name": "python",
   "nbconvert_exporter": "python",
   "pygments_lexer": "ipython3",
   "version": "3.13.2"
  }
 },
 "nbformat": 4,
 "nbformat_minor": 5
}
