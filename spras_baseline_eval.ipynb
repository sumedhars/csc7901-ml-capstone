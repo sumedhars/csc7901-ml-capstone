{
 "cells": [
  {
   "cell_type": "markdown",
   "id": "5cb944d9",
   "metadata": {},
   "source": [
    "### CREATE PRECISION RECALL CURVES FOR ALL SPRAS ENSEMBLE PATHWAYS"
   ]
  },
  {
   "cell_type": "markdown",
   "id": "247544db",
   "metadata": {},
   "source": [
    "- loop through all spras ensemble pathway\n",
    "    - match the ensemble pathway to the processed pc individual pathway\n",
    "    - make the prc table:\n",
    "        - remove direction from ensemble pathway\n",
    "        - add y_true column and set all rows 0\n",
    "        - if ensemble pathway has rows from processed pc individual pathway, set those y_true to 1\n",
    "        - if there are rows in processed pc individual pathway that are not in ensemble pathway, add to prc df with y_true 1 and frequency 0\n",
    "    - use prc table to make the pr curve image"
   ]
  },
  {
   "cell_type": "code",
   "execution_count": 1,
   "id": "a865ec9e",
   "metadata": {},
   "outputs": [],
   "source": [
    "import pandas as pd\n",
    "from sklearn.metrics import precision_recall_curve\n",
    "import matplotlib.pyplot as plt\n",
    "import os\n",
    "import re\n",
    "import shutil"
   ]
  },
  {
   "cell_type": "code",
   "execution_count": 2,
   "id": "a3d580bd",
   "metadata": {},
   "outputs": [],
   "source": [
    "processed_pc_pathways_folder = 'processed-data/processed-pc-individual-pathways'\n",
    "oi2_baseline_outputs_folder = 'oi2-baseline-outputs'"
   ]
  },
  {
   "cell_type": "code",
   "execution_count": 3,
   "id": "71bd9c81",
   "metadata": {},
   "outputs": [
    {
     "name": "stdout",
     "output_type": "stream",
     "text": [
      "duplicate found - verify manually\n",
      "drug_metab\n",
      "duplicate found - verify manually\n",
      "fatty_acid\n",
      "duplicate found - verify manually\n",
      "fatty_acid\n",
      "duplicate found - verify manually\n",
      "glycosamin\n",
      "duplicate found - verify manually\n",
      "glycosamin\n",
      "duplicate found - verify manually\n",
      "glycosphin\n",
      "duplicate found - verify manually\n",
      "glycosphin\n",
      "duplicate found - verify manually\n",
      "phenylalan\n",
      "duplicate found - verify manually\n",
      "valine__le\n",
      "73\n"
     ]
    }
   ],
   "source": [
    "pc_processed_list = [f for f in os.listdir(processed_pc_pathways_folder) if f.endswith('.txt')]\n",
    "\n",
    "# Create a map of cleaned base names to file names\n",
    "file_map = {}\n",
    "for filename in pc_processed_list:\n",
    "    base = filename[:10]\n",
    "    label = re.sub(r'\\W+', '_', base).strip('_')\n",
    "    if label not in file_map:\n",
    "        file_map[label] = filename\n",
    "    else:\n",
    "        print(\"duplicate found - verify manually\")\n",
    "        print(label)\n",
    "print(len(file_map))"
   ]
  },
  {
   "cell_type": "code",
   "execution_count": 4,
   "id": "ffdc4bf8",
   "metadata": {},
   "outputs": [
    {
     "name": "stdout",
     "output_type": "stream",
     "text": [
      "67\n"
     ]
    }
   ],
   "source": [
    "del file_map['drug_metab']\n",
    "del file_map['fatty_acid']\n",
    "del file_map['glycosamin']\n",
    "del file_map['glycosphin']\n",
    "del file_map['phenylalan']\n",
    "del file_map['valine__le']\n",
    "print(len(file_map))"
   ]
  },
  {
   "cell_type": "code",
   "execution_count": 5,
   "id": "c16614a4",
   "metadata": {},
   "outputs": [],
   "source": [
    "# loop through each subfolder in spras outputs dir\n",
    "for folder_name in os.listdir(oi2_baseline_outputs_folder):\n",
    "    folder_path = os.path.join(oi2_baseline_outputs_folder, folder_name)\n",
    "    if os.path.isdir(folder_path):\n",
    "        # Extract label from subfolder name\n",
    "        label_match = re.match(r'([a-zA-Z_]+)', folder_name)\n",
    "        if label_match:\n",
    "            label = label_match.group(1).strip('_')\n",
    "            if label in file_map:\n",
    "                src_file = os.path.join(processed_pc_pathways_folder, file_map[label])\n",
    "                dest_file = os.path.join(folder_path, file_map[label])\n",
    "                shutil.copy(src_file, dest_file)\n",
    "                # print(f\"Copied {src_file} -> {dest_file}\")\n",
    "            # else:\n",
    "            #     print(f\"No matching file for folder: {folder_name}\")"
   ]
  },
  {
   "cell_type": "code",
   "execution_count": 8,
   "id": "5c61cad4",
   "metadata": {},
   "outputs": [],
   "source": [
    "for training_sample_subfolder in os.listdir(oi2_baseline_outputs_folder):\n",
    "    # get subfolder \n",
    "    folder_path = os.path.join(oi2_baseline_outputs_folder, training_sample_subfolder)\n",
    "\n",
    "    if os.path.isdir(folder_path):\n",
    "        # get the processed pc pathway\n",
    "        prefix = training_sample_subfolder[:10]\n",
    "        matched_pc_pathway = None\n",
    "        for file_name in os.listdir(folder_path):\n",
    "            if file_name.startswith(prefix) and file_name.endswith(\".txt\"):\n",
    "                matched_pc_pathway = os.path.join(folder_path, file_name)\n",
    "                break  \n",
    "        if matched_pc_pathway and os.path.isfile(matched_pc_pathway):\n",
    "            pc_df = pd.read_csv(matched_pc_pathway, sep='\\t')  \n",
    "        # get ensemble pathway file \n",
    "        file_path = os.path.join(folder_path, \"ensemble-pathway.txt\")\n",
    "        if os.path.isfile(file_path):\n",
    "            ensemble_df = pd.read_csv(file_path, sep='\\t')\n",
    "\n",
    "        # MAKE THE PRC TABLE:\n",
    "        ensemble_df.drop(columns=['Direction'], inplace=True)\n",
    "        ensemble_df['y_true'] = 0\n",
    "        pc_ytrue_pairs = set(zip(pc_df['Node1'], pc_df['Node2']))\n",
    "        ensemble_df.loc[ensemble_df[['Node1', 'Node2']].apply(tuple, axis=1).isin(pc_ytrue_pairs), 'y_true'] = 1\n",
    "        # only build a frame if something is missing\n",
    "        missing_pairs = pc_ytrue_pairs.difference(zip(ensemble_df['Node1'], ensemble_df['Node2']))\n",
    "        if missing_pairs:                      \n",
    "            new_rows = pd.DataFrame(list(missing_pairs), columns=['Node1', 'Node2'])\n",
    "            new_rows['Frequency'] = 0          \n",
    "            new_rows['y_true']   = 1\n",
    "            prc_df = pd.concat([ensemble_df, new_rows], ignore_index=True)\n",
    "        \n",
    "        # plot and save precision recall curve\n",
    "        precision, recall, _ = precision_recall_curve(prc_df['y_true'], prc_df['Frequency'])\n",
    "        plt.figure()\n",
    "        plt.plot(recall, precision, linewidth=2)\n",
    "        plt.xlabel('Recall')\n",
    "        plt.ylabel('Precision')\n",
    "        plt.title(f'Precision-Recall Curve for {training_sample_subfolder}')\n",
    "        plt.grid(True)\n",
    "        clean_name = training_sample_subfolder.replace('-ml', '')\n",
    "        save_path = os.path.join('spras-baseline-eval-prc', f\"{clean_name}_prc_curve.png\")\n",
    "        plt.savefig(save_path)\n",
    "        plt.close()"
   ]
  },
  {
   "cell_type": "code",
   "execution_count": null,
   "id": "733ca158",
   "metadata": {},
   "outputs": [],
   "source": [
    "#TODO: handle files where the labels are same but the datasets are different!"
   ]
  }
 ],
 "metadata": {
  "kernelspec": {
   "display_name": "base",
   "language": "python",
   "name": "python3"
  },
  "language_info": {
   "codemirror_mode": {
    "name": "ipython",
    "version": 3
   },
   "file_extension": ".py",
   "mimetype": "text/x-python",
   "name": "python",
   "nbconvert_exporter": "python",
   "pygments_lexer": "ipython3",
   "version": "3.11.7"
  }
 },
 "nbformat": 4,
 "nbformat_minor": 5
}
