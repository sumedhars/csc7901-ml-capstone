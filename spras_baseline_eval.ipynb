{
 "cells": [
  {
   "cell_type": "markdown",
   "id": "5cb944d9",
   "metadata": {},
   "source": [
    "### CREATE PRECISION RECALL CURVES FOR ALL SPRAS ENSEMBLE PATHWAYS"
   ]
  },
  {
   "cell_type": "markdown",
   "id": "247544db",
   "metadata": {},
   "source": [
    "- loop through all spras ensemble pathway\n",
    "    - match the ensemble pathway to the processed pc individual pathway\n",
    "    - make the prc table:\n",
    "        - remove direction from ensemble pathway\n",
    "        - add y_true column and set all rows 0\n",
    "        - if ensemble pathway has rows from processed pc individual pathway, set those y_true to 1\n",
    "        - if there are rows in processed pc individual pathway that are not in ensemble pathway, add to prc df with y_true 1 and frequency 0\n",
    "    - use prc table to make the pr curve image"
   ]
  },
  {
   "cell_type": "code",
   "execution_count": 9,
   "id": "a865ec9e",
   "metadata": {},
   "outputs": [],
   "source": [
    "import pandas as pd\n",
    "from sklearn.metrics import precision_recall_curve\n",
    "import matplotlib.pyplot as plt\n",
    "import os\n",
    "import re\n",
    "import shutil"
   ]
  },
  {
   "cell_type": "code",
   "execution_count": 10,
   "id": "a3d580bd",
   "metadata": {},
   "outputs": [],
   "source": [
    "processed_pc_pathways_folder = 'processed-data/processed-pc-individual-pathways'\n",
    "oi2_baseline_outputs_folder = 'oi2-baseline-outputs'"
   ]
  },
  {
   "cell_type": "code",
   "execution_count": 11,
   "id": "71bd9c81",
   "metadata": {},
   "outputs": [
    {
     "name": "stdout",
     "output_type": "stream",
     "text": [
      "duplicate found - verify manually\n",
      "drug_metab\n",
      "duplicate found - verify manually\n",
      "fatty_acid\n",
      "duplicate found - verify manually\n",
      "fatty_acid\n",
      "duplicate found - verify manually\n",
      "glycosamin\n",
      "duplicate found - verify manually\n",
      "glycosamin\n",
      "duplicate found - verify manually\n",
      "glycosphin\n",
      "duplicate found - verify manually\n",
      "glycosphin\n",
      "duplicate found - verify manually\n",
      "phenylalan\n",
      "duplicate found - verify manually\n",
      "valine__le\n",
      "73\n"
     ]
    }
   ],
   "source": [
    "pc_processed_list = [f for f in os.listdir(processed_pc_pathways_folder) if f.endswith('.txt')]\n",
    "\n",
    "# Create a map of cleaned base names to file names\n",
    "file_map = {}\n",
    "for filename in pc_processed_list:\n",
    "    base = filename[:10]\n",
    "    label = re.sub(r'\\W+', '_', base).strip('_')\n",
    "    if label not in file_map:\n",
    "        file_map[label] = filename\n",
    "    else:\n",
    "        print(\"duplicate found - verify manually\")\n",
    "        print(label)\n",
    "print(len(file_map))"
   ]
  },
  {
   "cell_type": "code",
   "execution_count": 12,
   "id": "ffdc4bf8",
   "metadata": {},
   "outputs": [
    {
     "name": "stdout",
     "output_type": "stream",
     "text": [
      "67\n"
     ]
    }
   ],
   "source": [
    "del file_map['drug_metab']\n",
    "del file_map['fatty_acid']\n",
    "del file_map['glycosamin']\n",
    "del file_map['glycosphin']\n",
    "del file_map['phenylalan']\n",
    "del file_map['valine__le']\n",
    "print(len(file_map))"
   ]
  },
  {
   "cell_type": "code",
   "execution_count": 13,
   "id": "52beb169",
   "metadata": {},
   "outputs": [
    {
     "data": {
      "text/plain": [
       "202090"
      ]
     },
     "execution_count": 13,
     "metadata": {},
     "output_type": "execute_result"
    }
   ],
   "source": [
    "union_ppi = pd.read_csv('processed-data/union_ppi.txt', sep='\\t', header=None)\n",
    "union_ppi.rename(columns={0:'Node1', 1:'Node2', 3:'Prize',4:'Directionality'}, inplace=True)\n",
    "\n",
    "union_ppi_length = len(union_ppi)\n",
    "union_ppi_length"
   ]
  },
  {
   "cell_type": "code",
   "execution_count": 14,
   "id": "c16614a4",
   "metadata": {},
   "outputs": [
    {
     "name": "stdout",
     "output_type": "stream",
     "text": [
      "No matching file for folder: drug_metab_1108-ml\n",
      "No matching file for folder: drug_metab_1722-ml\n",
      "No matching file for folder: drug_metab_3545-ml\n",
      "No matching file for folder: drug_metab_4503-ml\n",
      "No matching file for folder: drug_metab_5565-ml\n",
      "No matching file for folder: drug_metab_6155-ml\n",
      "No matching file for folder: drug_metab_6253-ml\n",
      "No matching file for folder: drug_metab_6262-ml\n",
      "No matching file for folder: drug_metab_7207-ml\n",
      "No matching file for folder: drug_metab_7643-ml\n",
      "No matching file for folder: drug_metab_7684-ml\n",
      "No matching file for folder: drug_metab_8702-ml\n"
     ]
    }
   ],
   "source": [
    "# loop through each subfolder in spras outputs dir\n",
    "for folder_name in os.listdir(oi2_baseline_outputs_folder):\n",
    "    folder_path = os.path.join(oi2_baseline_outputs_folder, folder_name)\n",
    "    if os.path.isdir(folder_path):\n",
    "        # Extract label from subfolder name\n",
    "        label_match = re.match(r'([a-zA-Z_]+)', folder_name)\n",
    "        if label_match:\n",
    "            label = label_match.group(1).strip('_')\n",
    "            if label in file_map:\n",
    "                src_file = os.path.join(processed_pc_pathways_folder, file_map[label])\n",
    "                dest_file = os.path.join(folder_path, file_map[label])\n",
    "                shutil.copy(src_file, dest_file)\n",
    "                # print(f\"Copied {src_file} -> {dest_file}\")\n",
    "            else:\n",
    "                print(f\"No matching file for folder: {folder_name}\")"
   ]
  },
  {
   "cell_type": "code",
   "execution_count": 15,
   "id": "5c61cad4",
   "metadata": {},
   "outputs": [
    {
     "name": "stdout",
     "output_type": "stream",
     "text": [
      "Skipping subfolder 'drug_metab_1108-ml': no matching .txt file with prefix 'drug_metab'\n",
      "Skipping subfolder 'drug_metab_1722-ml': no matching .txt file with prefix 'drug_metab'\n",
      "Skipping subfolder 'drug_metab_3545-ml': no matching .txt file with prefix 'drug_metab'\n",
      "Skipping subfolder 'drug_metab_4503-ml': no matching .txt file with prefix 'drug_metab'\n",
      "Skipping subfolder 'drug_metab_5565-ml': no matching .txt file with prefix 'drug_metab'\n",
      "Skipping subfolder 'drug_metab_6155-ml': no matching .txt file with prefix 'drug_metab'\n",
      "Skipping subfolder 'drug_metab_6253-ml': no matching .txt file with prefix 'drug_metab'\n",
      "Skipping subfolder 'drug_metab_6262-ml': no matching .txt file with prefix 'drug_metab'\n",
      "Skipping subfolder 'drug_metab_7207-ml': no matching .txt file with prefix 'drug_metab'\n",
      "Skipping subfolder 'drug_metab_7643-ml': no matching .txt file with prefix 'drug_metab'\n",
      "Skipping subfolder 'drug_metab_7684-ml': no matching .txt file with prefix 'drug_metab'\n",
      "Skipping subfolder 'drug_metab_8702-ml': no matching .txt file with prefix 'drug_metab'\n"
     ]
    }
   ],
   "source": [
    "for training_sample_subfolder in os.listdir(oi2_baseline_outputs_folder):\n",
    "    # get subfolder \n",
    "    folder_path = os.path.join(oi2_baseline_outputs_folder, training_sample_subfolder)\n",
    "\n",
    "    if os.path.isdir(folder_path):\n",
    "\n",
    "        # get the matching processed pc pathway\n",
    "        prefix = training_sample_subfolder[:10]\n",
    "        matched_pc_pathway = None\n",
    "        for file_name in os.listdir(folder_path):\n",
    "            if file_name.startswith(prefix) and file_name.endswith(\".txt\"):\n",
    "                matched_pc_pathway = os.path.join(folder_path, file_name)\n",
    "                break  \n",
    "        # if there's no matching pc pathway, report and skip\n",
    "        if not matched_pc_pathway or not os.path.isfile(matched_pc_pathway):\n",
    "            print(f\"Skipping subfolder '{training_sample_subfolder}': no matching .txt file with prefix '{prefix}'\")\n",
    "            continue\n",
    "\n",
    "        pc_df = pd.read_csv(matched_pc_pathway, sep=\"\\t\")\n",
    "        # get ensemble pathway file \n",
    "        file_path = os.path.join(folder_path, \"ensemble-pathway.txt\")\n",
    "        if os.path.isfile(file_path):\n",
    "            ensemble_df = pd.read_csv(file_path, sep='\\t')\n",
    "\n",
    "        # MAKE THE PRC TABLE:\n",
    "        ensemble_df.drop(columns=['Direction'], inplace=True)\n",
    "        ensemble_df['y_true'] = 0\n",
    "        # comparing ensemble df to pathway commons --> set y_true to 1 and freq to 0 for missing pairs\n",
    "        pc_ytrue_pairs = set(zip(pc_df['Node1'], pc_df['Node2']))\n",
    "        ensemble_df.loc[ensemble_df[['Node1', 'Node2']].apply(tuple, axis=1).isin(pc_ytrue_pairs), 'y_true'] = 1\n",
    "        pc_missing_pairs = pc_ytrue_pairs.difference(zip(ensemble_df['Node1'], ensemble_df['Node2']))\n",
    "        if pc_missing_pairs:                      \n",
    "            new_rows = pd.DataFrame(list(pc_missing_pairs), columns=['Node1', 'Node2'])\n",
    "            new_rows['Frequency'] = 0          \n",
    "            new_rows['y_true']   = 1\n",
    "            prc_df = pd.concat([ensemble_df, new_rows], ignore_index=True)\n",
    "        # comparing ensemble df to union ppi --> set y_true to 0 and freq to 0 for missing pairs\n",
    "        union_ppi_pairs = set(zip(union_ppi['Node1'], union_ppi['Node2']))\n",
    "        ensemble_pairs  = set(zip(ensemble_df['Node1'],  ensemble_df['Node2']))\n",
    "        union_missing_pairs = union_ppi_pairs.difference(ensemble_pairs)\n",
    "        missing_df = pd.DataFrame(list(union_missing_pairs), columns=['Node1','Node2'])\n",
    "        missing_df['y_true'] = 0\n",
    "        missing_df['Frequency']   = 0\n",
    "        prc_df = pd.concat([prc_df, missing_df], ignore_index=True)\n",
    "        #print(prc_df)\n",
    "\n",
    "        # calculate prevalence --> probability of randomly drawing a positive example from your dataset\n",
    "        # num positives --> taken from pathwaycommons individual\n",
    "        num_pos = len(pc_df)\n",
    "        prevalence = num_pos/union_ppi_length\n",
    "    \n",
    "        # plot and save precision recall curve\n",
    "        precision, recall, _ = precision_recall_curve(prc_df['y_true'], prc_df['Frequency'])\n",
    "        plt.figure()\n",
    "        plt.plot(recall, precision, linewidth=2)\n",
    "        # add prevalence as a horizontal dotted line\n",
    "        plt.axhline(prevalence, color='gray', linestyle='--', label=f'Prevalence = {prevalence:.5f}')\n",
    "        # force both axes from 0 to 1\n",
    "        plt.xlim(0, 1)\n",
    "        plt.ylim(0, 1)\n",
    "        plt.xlabel('Recall')\n",
    "        plt.ylabel('Precision')\n",
    "        plt.title(f'Precision-Recall Curve for {training_sample_subfolder}')\n",
    "        plt.grid(True)\n",
    "        plt.legend(loc='lower left')\n",
    "        clean_name = training_sample_subfolder.replace('-ml', '')\n",
    "        save_path = os.path.join('spras-baseline-eval-prc', f\"{clean_name}_prc_curve.png\")\n",
    "        plt.savefig(save_path)\n",
    "        plt.close()"
   ]
  },
  {
   "cell_type": "markdown",
   "id": "a1daf5b7",
   "metadata": {},
   "source": [
    "if the label has multiple matches to processed pc pathway, need to manually create PRC:"
   ]
  },
  {
   "cell_type": "code",
   "execution_count": 22,
   "id": "9215810d",
   "metadata": {},
   "outputs": [],
   "source": [
    "# get the matching processed pc pathway\n",
    "training_sample_subfolder = 'drug_metab_6262-ml'\n",
    "folder_path = os.path.join(oi2_baseline_outputs_folder, training_sample_subfolder)\n",
    "prefix = training_sample_subfolder[:10]\n",
    "matched_pc_pathway = 'processed-data\\processed-pc-individual-pathways\\drug_metabolism___cy.txt'\n",
    "pc_df = pd.read_csv(matched_pc_pathway, sep=\"\\t\")\n",
    "\n",
    "\n",
    "# get ensemble pathway file \n",
    "file_path = os.path.join(folder_path, \"ensemble-pathway.txt\")\n",
    "if os.path.isfile(file_path):\n",
    "    ensemble_df = pd.read_csv(file_path, sep='\\t')\n",
    "\n",
    "# MAKE THE PRC TABLE:\n",
    "ensemble_df.drop(columns=['Direction'], inplace=True)\n",
    "ensemble_df['y_true'] = 0\n",
    "# comparing ensemble df to pathway commons --> set y_true to 1 and freq to 0 for missing pairs\n",
    "pc_ytrue_pairs = set(zip(pc_df['Node1'], pc_df['Node2']))\n",
    "ensemble_df.loc[ensemble_df[['Node1', 'Node2']].apply(tuple, axis=1).isin(pc_ytrue_pairs), 'y_true'] = 1\n",
    "pc_missing_pairs = pc_ytrue_pairs.difference(zip(ensemble_df['Node1'], ensemble_df['Node2']))\n",
    "if pc_missing_pairs:                      \n",
    "    new_rows = pd.DataFrame(list(pc_missing_pairs), columns=['Node1', 'Node2'])\n",
    "    new_rows['Frequency'] = 0          \n",
    "    new_rows['y_true']   = 1\n",
    "    prc_df = pd.concat([ensemble_df, new_rows], ignore_index=True)\n",
    "# comparing ensemble df to union ppi --> set y_true to 0 and freq to 0 for missing pairs\n",
    "union_ppi_pairs = set(zip(union_ppi['Node1'], union_ppi['Node2']))\n",
    "ensemble_pairs  = set(zip(ensemble_df['Node1'],  ensemble_df['Node2']))\n",
    "union_missing_pairs = union_ppi_pairs.difference(ensemble_pairs)\n",
    "missing_df = pd.DataFrame(list(union_missing_pairs), columns=['Node1','Node2'])\n",
    "missing_df['y_true'] = 0\n",
    "missing_df['Frequency']   = 0\n",
    "prc_df = pd.concat([prc_df, missing_df], ignore_index=True)\n",
    "#print(prc_df)\n",
    "\n",
    "# calculate prevalence --> probability of randomly drawing a positive example from your dataset\n",
    "# num positives --> taken from pathwaycommons individual\n",
    "num_pos = len(pc_df)\n",
    "prevalence = num_pos/union_ppi_length\n",
    "\n",
    "# plot and save precision recall curve\n",
    "precision, recall, _ = precision_recall_curve(prc_df['y_true'], prc_df['Frequency'])\n",
    "plt.figure()\n",
    "plt.plot(recall, precision, linewidth=2)\n",
    "# add prevalence as a horizontal dotted line\n",
    "plt.axhline(prevalence, color='gray', linestyle='--', label=f'Prevalence = {prevalence:.5f}')\n",
    "# force both axes from 0 to 1\n",
    "plt.xlim(0, 1)\n",
    "plt.ylim(0, 1)\n",
    "plt.xlabel('Recall')\n",
    "plt.ylabel('Precision')\n",
    "plt.title(f'Precision-Recall Curve for {training_sample_subfolder}')\n",
    "plt.grid(True)\n",
    "plt.legend(loc='lower left')\n",
    "clean_name = training_sample_subfolder.replace('-ml', '')\n",
    "save_path = os.path.join('spras-baseline-eval-prc', f\"{clean_name}_prc_curve.png\")\n",
    "plt.savefig(save_path)\n",
    "plt.close()"
   ]
  }
 ],
 "metadata": {
  "kernelspec": {
   "display_name": "base",
   "language": "python",
   "name": "python3"
  },
  "language_info": {
   "codemirror_mode": {
    "name": "ipython",
    "version": 3
   },
   "file_extension": ".py",
   "mimetype": "text/x-python",
   "name": "python",
   "nbconvert_exporter": "python",
   "pygments_lexer": "ipython3",
   "version": "3.11.7"
  }
 },
 "nbformat": 4,
 "nbformat_minor": 5
}
