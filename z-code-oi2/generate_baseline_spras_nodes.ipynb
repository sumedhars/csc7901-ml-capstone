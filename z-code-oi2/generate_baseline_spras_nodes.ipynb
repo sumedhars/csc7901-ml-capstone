{
 "cells": [
  {
   "cell_type": "code",
   "execution_count": 5,
   "metadata": {},
   "outputs": [],
   "source": [
    "import os\n",
    "import pandas as pd"
   ]
  },
  {
   "cell_type": "code",
   "execution_count": 6,
   "metadata": {},
   "outputs": [],
   "source": [
    "def generate_node_list(training_sample_df, og_filename):\n",
    "    sampled_edges = training_sample_df[training_sample_df['label']==1]\n",
    "    node_1_col = sampled_edges.iloc[:,0]\n",
    "    node_2_col = sampled_edges.iloc[:,1]\n",
    "    node_list = list(set(node_1_col.tolist() + node_2_col.tolist()))\n",
    "    node_df = pd.DataFrame(node_list, columns=['NODEID'])\n",
    "    node_df['prize'] = 1.0\n",
    "    filepath = 'baseline-spras-nodes/' + og_filename + '_nodes.txt'\n",
    "    node_df.to_csv(filepath, sep='\\t', index=False)"
   ]
  },
  {
   "cell_type": "code",
   "execution_count": 7,
   "metadata": {},
   "outputs": [],
   "source": [
    "# pathsample = 'training-samples/alanine,_aspartate_a_train_1510.csv'\n",
    "# sampledf = pd.read_csv(pathsample, sep='\\t')\n",
    "# generate_node_list(sampledf, 'temp')"
   ]
  },
  {
   "cell_type": "code",
   "execution_count": 8,
   "metadata": {},
   "outputs": [],
   "source": [
    "training_files = [f for f in os.listdir('training-samples') if f.endswith('.csv')]\n",
    "for sample in training_files:\n",
    "    og_filename = sample[:-4]\n",
    "    sample_df = pd.read_csv('training-samples/' + sample, sep='\\t')\n",
    "    generate_node_list(sample_df, og_filename)"
   ]
  },
  {
   "cell_type": "code",
   "execution_count": 5,
   "metadata": {},
   "outputs": [
    {
     "name": "stdout",
     "output_type": "stream",
     "text": [
      "Total files: 821\n"
     ]
    }
   ],
   "source": [
    "folder_path = 'baseline-spras-nodes'\n",
    "files = os.listdir(folder_path)\n",
    "num_files = len(files)\n",
    "print(f\"Total files: {num_files}\")"
   ]
  }
 ],
 "metadata": {
  "kernelspec": {
   "display_name": "Python 3 (ipykernel)",
   "language": "python",
   "name": "python3"
  },
  "language_info": {
   "codemirror_mode": {
    "name": "ipython",
    "version": 3
   },
   "file_extension": ".py",
   "mimetype": "text/x-python",
   "name": "python",
   "nbconvert_exporter": "python",
   "pygments_lexer": "ipython3",
   "version": "3.10.12"
  }
 },
 "nbformat": 4,
 "nbformat_minor": 2
}
