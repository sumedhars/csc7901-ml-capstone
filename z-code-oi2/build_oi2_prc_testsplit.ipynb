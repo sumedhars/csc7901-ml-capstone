{
 "cells": [
  {
   "cell_type": "code",
   "execution_count": 14,
   "metadata": {},
   "outputs": [],
   "source": [
    "import os\n",
    "import pandas as pd\n",
    "import yaml\n",
    "import matplotlib.pyplot as plt\n",
    "from sklearn.metrics import (\n",
    "    precision_score,\n",
    "    recall_score,\n",
    "    f1_score,\n",
    "    roc_auc_score,\n",
    "    precision_recall_curve,\n",
    "    average_precision_score\n",
    ")"
   ]
  },
  {
   "cell_type": "code",
   "execution_count": 2,
   "metadata": {},
   "outputs": [],
   "source": [
    "import os\n",
    "parent_dir = \"../oi2-baseline-outputs-test-split\"\n",
    "subdirs = [d for d in os.listdir(parent_dir) if os.path.isdir(os.path.join(parent_dir, d))]"
   ]
  },
  {
   "cell_type": "code",
   "execution_count": 3,
   "metadata": {},
   "outputs": [
    {
     "name": "stdout",
     "output_type": "stream",
     "text": [
      "{'alpha_lino_4939-ml': 'alpha_linolenic_acid.txt', 'aminoacyl_2796-ml': 'aminoacyl_trna_biosy.txt', 'aminoacyl_5354-ml': 'aminoacyl_trna_biosy.txt', 'aminoacyl_8954-ml': 'aminoacyl_trna_biosy.txt', 'arachidoni_3652-ml': 'arachidonic_acid_met.txt', 'arginine_a_3611-ml': 'arginine_and_proline.txt', 'arginine_a_7047-ml': 'arginine_and_proline.txt', 'ascorbate_3317-ml': 'ascorbate_and_aldara.txt', 'ascorbate_8407-ml': 'ascorbate_and_aldara.txt', 'beta_alani_4217-ml': 'beta_alanine_metabol.txt', 'biosynthes_2748-ml': 'biosynthesis_of_unsa.txt', 'butanoate_4190-ml': 'butanoate_metabolism.txt', 'butanoate_5885-ml': 'butanoate_metabolism.txt', 'citrate_cy_5392-ml': 'citrate_cycle__tca_c.txt', 'citrate_cy_5519-ml': 'citrate_cycle__tca_c.txt', 'citrate_cy_6720-ml': 'citrate_cycle__tca_c.txt', 'drug_metab_1576-ml': 'drug_metabolism___cy.txt', 'drug_metab_2581-ml': 'drug_metabolism___cy.txt', 'drug_metab_2665-ml': 'drug_metabolism___cy.txt', 'drug_metab_7291-ml': 'drug_metabolism___cy.txt', 'drug_metab_1801-ml': 'drug_metabolism___ot.txt', 'drug_metab_4485-ml': 'drug_metabolism___ot.txt', 'drug_metab_6288-ml': 'drug_metabolism___ot.txt', 'drug_metab_9953-ml': 'drug_metabolism___ot.txt', 'ether_lipi_3321-ml': 'ether_lipid_metaboli.txt', 'ether_lipi_7450-ml': 'ether_lipid_metaboli.txt', 'ether_lipi_9182-ml': 'ether_lipid_metaboli.txt', 'fatty_acid_1183-ml': 'fatty_acid_biosynthe.txt', 'fatty_acid_1363-ml': 'fatty_acid_biosynthe.txt', 'fatty_acid_2123-ml': 'fatty_acid_degradati.txt', 'fatty_acid_2865-ml': 'fatty_acid_degradati.txt', 'fatty_acid_3978-ml': 'fatty_acid_elongatio.txt', 'folate_bio_5097-ml': 'folate_biosynthesis.txt', 'folate_bio_5773-ml': 'folate_biosynthesis.txt', 'fructose_a_5194-ml': 'fructose_and_mannose.txt', 'galactose_2135-ml': 'galactose_metabolism.txt', 'galactose_4802-ml': 'galactose_metabolism.txt', 'glutathion_8472-ml': 'glutathione_metaboli.txt', 'glyceropho_1191-ml': 'glycerophospholipid.txt', 'glyceropho_2901-ml': 'glycerophospholipid.txt', 'glyceropho_8885-ml': 'glycerophospholipid.txt', 'glyceropho_9385-ml': 'glycerophospholipid.txt', 'glycine__s_1327-ml': 'glycine__serine_and.txt', 'glycine__s_8569-ml': 'glycine__serine_and.txt', 'glycolysis_3272-ml': 'glycolysis___glucone.txt', 'glycolysis_9461-ml': 'glycolysis___glucone.txt', 'glycosamin_4526-ml': 'glycosaminoglycan_bi.txt', 'glycosamin_6194-ml': 'glycosaminoglycan_bi.txt', 'glycosamin_7747-ml': 'glycosaminoglycan_bi.txt', 'glycosamin_4067-ml': 'glycosaminoglycan_bi__1.txt', 'glycosamin_1224-ml': 'glycosaminoglycan_de.txt', 'glycosamin_3395-ml': 'glycosaminoglycan_de.txt', 'glycosamin_9198-ml': 'glycosaminoglycan_de.txt', 'glycosphin_4993-ml': 'glycosphingolipid_bi.txt', 'glycosphin_2264-ml': 'glycosphingolipid_bi__1.txt', 'glycosphin_2271-ml': 'glycosphingolipid_bi__1.txt', 'glycosphin_4340-ml': 'glycosphingolipid_bi__1.txt', 'glycosphin_8148-ml': 'glycosphingolipid_bi__1.txt', 'glycosphin_1757-ml': 'glycosphingolipid_bi__2.txt', 'glycosphin_2594-ml': 'glycosphingolipid_bi__2.txt', 'glycosphin_7608-ml': 'glycosphingolipid_bi__2.txt', 'glyoxylate_3343-ml': 'glyoxylate_and_dicar.txt', 'glyoxylate_4579-ml': 'glyoxylate_and_dicar.txt', 'inositol_p_1337-ml': 'inositol_phosphate_m.txt', 'inositol_p_3768-ml': 'inositol_phosphate_m.txt', 'lysine_deg_9667-ml': 'lysine_degradation.txt', 'mucin_type_2449-ml': 'mucin_type_o_glycan.txt', 'mucin_type_5763-ml': 'mucin_type_o_glycan.txt', 'nicotinate_3074-ml': 'nicotinate_and_nicot.txt', 'nicotinate_3087-ml': 'nicotinate_and_nicot.txt', 'nicotinate_6359-ml': 'nicotinate_and_nicot.txt', 'nitrogen_m_3442-ml': 'nitrogen_metabolism.txt', 'nitrogen_m_4157-ml': 'nitrogen_metabolism.txt', 'n_glycan_b_3427-ml': 'n_glycan_biosynthesi.txt', 'n_glycan_b_4870-ml': 'n_glycan_biosynthesi.txt', 'one_carbon_9250-ml': 'one_carbon_pool_by_f.txt', 'other_type_5221-ml': 'other_types_of_o_gly.txt', 'pantothena_7783-ml': 'pantothenate_and_coa.txt', 'pantothena_8812-ml': 'pantothenate_and_coa.txt', 'pentose_an_6832-ml': 'pentose_and_glucuron.txt', 'pentose_an_8480-ml': 'pentose_and_glucuron.txt', 'pentose_ph_3930-ml': 'pentose_phosphate_pa.txt', 'pentose_ph_4578-ml': 'pentose_phosphate_pa.txt', 'pentose_ph_5518-ml': 'pentose_phosphate_pa.txt', 'pentose_ph_6584-ml': 'pentose_phosphate_pa.txt', 'pentose_ph_8739-ml': 'pentose_phosphate_pa.txt', 'phenylalan_2940-ml': 'phenylalanine_metabo.txt', 'phenylalan_5357-ml': 'phenylalanine_metabo.txt', 'porphyrin_4873-ml': 'porphyrin_and_chloro.txt', 'porphyrin_8247-ml': 'porphyrin_and_chloro.txt', 'primary_bi_7460-ml': 'primary_bile_acid_bi.txt', 'primary_bi_9453-ml': 'primary_bile_acid_bi.txt', 'propanoate_9228-ml': 'propanoate_metabolis.txt', 'purine_met_1035-ml': 'purine_metabolism.txt', 'purine_met_3580-ml': 'purine_metabolism.txt', 'purine_met_5896-ml': 'purine_metabolism.txt', 'pyrimidine_5325-ml': 'pyrimidine_metabolis.txt', 'pyrimidine_8850-ml': 'pyrimidine_metabolis.txt', 'pyrimidine_9011-ml': 'pyrimidine_metabolis.txt', 'pyruvate_m_2916-ml': 'pyruvate_metabolism.txt', 'retinol_me_6244-ml': 'retinol_metabolism.txt', 'retinol_me_9664-ml': 'retinol_metabolism.txt', 'selenocomp_2780-ml': 'selenocompound_metab.txt', 'selenocomp_5508-ml': 'selenocompound_metab.txt', 'selenocomp_5553-ml': 'selenocompound_metab.txt', 'selenocomp_8196-ml': 'selenocompound_metab.txt', 'selenocomp_9397-ml': 'selenocompound_metab.txt', 'sphingolip_1064-ml': 'sphingolipid_metabol.txt', 'starch_and_4604-ml': 'starch_and_sucrose_m.txt', 'steroid_bi_1126-ml': 'steroid_biosynthesis.txt', 'steroid_bi_5084-ml': 'steroid_biosynthesis.txt', 'steroid_ho_2798-ml': 'steroid_hormone_bios.txt', 'steroid_ho_8921-ml': 'steroid_hormone_bios.txt', 'sulfur_met_1891-ml': 'sulfur_metabolism.txt', 'sulfur_met_3820-ml': 'sulfur_metabolism.txt', 'sulfur_met_6064-ml': 'sulfur_metabolism.txt', 'taurine_an_1079-ml': 'taurine_and_hypotaur.txt', 'taurine_an_2474-ml': 'taurine_and_hypotaur.txt', 'taurine_an_6366-ml': 'taurine_and_hypotaur.txt', 'taurine_an_9891-ml': 'taurine_and_hypotaur.txt', 'thiamine_m_5980-ml': 'thiamine_metabolism.txt', 'tryptophan_6237-ml': 'tryptophan_metabolis.txt', 'tryptophan_6753-ml': 'tryptophan_metabolis.txt', 'tyrosine_m_1290-ml': 'tyrosine_metabolism.txt', 'tyrosine_m_4111-ml': 'tyrosine_metabolism.txt', 'tyrosine_m_7101-ml': 'tyrosine_metabolism.txt', 'ubiquinone_2517-ml': 'ubiquinone_and_other.txt', 'ubiquinone_4287-ml': 'ubiquinone_and_other.txt', 'valine__le_7368-ml': 'valine__leucine_and.txt', 'valine__le_4437-ml': 'valine__leucine_and___1.txt', 'vitamin_b6_6881-ml': 'vitamin_b6_metabolis.txt'}\n"
     ]
    }
   ],
   "source": [
    "# Load the YAML config\n",
    "with open(\"../processed-data-files/all_datasets_config.txt\", \"r\") as f:\n",
    "    cfg = yaml.safe_load(f)\n",
    "\n",
    "# Build a lookup from label → node_files[0]\n",
    "label_to_nodefile = {}\n",
    "for ds in cfg.get(\"datasets\", []):\n",
    "    label = ds.get(\"label\")\n",
    "    label = label + \"-ml\"\n",
    "    if label in subdirs:\n",
    "        # grab the first node file, or None if the list is empty\n",
    "        node_files = ds.get(\"node_files\", [])\n",
    "        if node_files:\n",
    "            pc_pathway = str(node_files[0])[:-21] + '.txt'\n",
    "            label_to_nodefile[label] = pc_pathway\n",
    "        else:\n",
    "            label_to_nodefile[label] = None\n",
    "\n",
    "# Now `label_to_nodefile` holds your desired map\n",
    "print(label_to_nodefile)"
   ]
  },
  {
   "cell_type": "code",
   "execution_count": 4,
   "metadata": {},
   "outputs": [],
   "source": [
    "test_oi2_prc_df = pd.DataFrame(columns=['Node1','Node2','Frequency','y_true'])"
   ]
  },
  {
   "cell_type": "code",
   "execution_count": 5,
   "metadata": {},
   "outputs": [
    {
     "name": "stderr",
     "output_type": "stream",
     "text": [
      "C:\\Users\\sumed\\AppData\\Local\\Temp\\ipykernel_41084\\539061561.py:18: FutureWarning: The behavior of DataFrame concatenation with empty or all-NA entries is deprecated. In a future version, this will no longer exclude empty or all-NA columns when determining the result dtypes. To retain the old behavior, exclude the relevant entries before the concat operation.\n",
      "  test_oi2_prc_df = pd.concat([test_oi2_prc_df, temp_df], ignore_index=True)\n"
     ]
    }
   ],
   "source": [
    "for label in label_to_nodefile.keys():\n",
    "    ensemble_pathway = '../oi2-baseline-outputs-test-split/' + str(label) + '/ensemble-pathway.txt'\n",
    "    ensemble_df = pd.read_csv(ensemble_pathway, sep='\\t')\n",
    "    # MAKE THE PRC TABLE:\n",
    "    ensemble_df.drop(columns=['Direction'], inplace=True)\n",
    "    ensemble_df['y_true'] = 0\n",
    "    # comparing ensemble df to pathway commons --> set y_true to 1 and freq to 0 for missing pairs\n",
    "    pc_true_path = '../oi2-baseline-outputs-test-split/' + str(label) + '/' + str(label_to_nodefile[label])\n",
    "    pc_true_df = pd.read_csv(pc_true_path, sep='\\t')\n",
    "    pc_ytrue_pairs = set(zip(pc_true_df['Node1'], pc_true_df['Node2']))\n",
    "    ensemble_df.loc[ensemble_df[['Node1', 'Node2']].apply(tuple, axis=1).isin(pc_ytrue_pairs), 'y_true'] = 1\n",
    "    pc_missing_pairs = pc_ytrue_pairs.difference(zip(ensemble_df['Node1'], ensemble_df['Node2']))\n",
    "    if pc_missing_pairs:                      \n",
    "        new_rows = pd.DataFrame(list(pc_missing_pairs), columns=['Node1', 'Node2'])\n",
    "        new_rows['Frequency'] = 0          \n",
    "        new_rows['y_true']   = 1\n",
    "        temp_df = pd.concat([ensemble_df, new_rows], ignore_index=True)\n",
    "    test_oi2_prc_df = pd.concat([test_oi2_prc_df, temp_df], ignore_index=True)"
   ]
  },
  {
   "cell_type": "code",
   "execution_count": 6,
   "metadata": {},
   "outputs": [
    {
     "data": {
      "text/plain": [
       "202090"
      ]
     },
     "execution_count": 6,
     "metadata": {},
     "output_type": "execute_result"
    }
   ],
   "source": [
    "union_ppi = pd.read_csv('../processed-data-files/union_ppi.txt', sep='\\t', header=None)\n",
    "union_ppi.rename(columns={0:'Node1', 1:'Node2', 3:'Prize',4:'Directionality'}, inplace=True)\n",
    "\n",
    "union_ppi_length = len(union_ppi)\n",
    "union_ppi_length"
   ]
  },
  {
   "cell_type": "code",
   "execution_count": 7,
   "metadata": {},
   "outputs": [],
   "source": [
    "# comparing ensemble df to union ppi --> set y_true to 0 and freq to 0 for missing pairs\n",
    "union_ppi_pairs = set(zip(union_ppi['Node1'], union_ppi['Node2']))\n",
    "ensemble_pairs  = set(zip(ensemble_df['Node1'],  ensemble_df['Node2']))\n",
    "union_missing_pairs = union_ppi_pairs.difference(ensemble_pairs)\n",
    "missing_df = pd.DataFrame(list(union_missing_pairs), columns=['Node1','Node2'])\n",
    "missing_df['y_true'] = 0\n",
    "missing_df['Frequency']   = 0\n",
    "test_oi2_prc_df = pd.concat([test_oi2_prc_df, missing_df], ignore_index=True)"
   ]
  },
  {
   "cell_type": "code",
   "execution_count": 10,
   "metadata": {},
   "outputs": [
    {
     "name": "stdout",
     "output_type": "stream",
     "text": [
      "object\n",
      "[1 0]\n",
      "unknown\n",
      "0  missing y_true values\n"
     ]
    }
   ],
   "source": [
    "from sklearn.utils.multiclass import type_of_target\n",
    "\n",
    "print(test_oi2_prc_df['y_true'].dtype)\n",
    "print(test_oi2_prc_df['y_true'].unique())\n",
    "print(type_of_target(test_oi2_prc_df['y_true']))\n",
    "print(test_oi2_prc_df['y_true'].isna().sum(), \" missing y_true values\")"
   ]
  },
  {
   "cell_type": "code",
   "execution_count": 11,
   "metadata": {},
   "outputs": [],
   "source": [
    "# cast the labels to integer\n",
    "test_oi2_prc_df['y_true'] = test_oi2_prc_df['y_true'].astype(int)\n",
    "\n",
    "# (optionally) ensure your scores are floats\n",
    "test_oi2_prc_df['Frequency'] = test_oi2_prc_df['Frequency'].astype(float)"
   ]
  },
  {
   "cell_type": "code",
   "execution_count": 13,
   "metadata": {},
   "outputs": [],
   "source": [
    "# plot and save precision recall curve\n",
    "precision, recall, _ = precision_recall_curve(test_oi2_prc_df['y_true'], test_oi2_prc_df['Frequency'])\n",
    "plt.figure()\n",
    "plt.plot(recall, precision, linewidth=2)\n",
    "# force both axes from 0 to 1\n",
    "plt.xlim(0, 1)\n",
    "plt.ylim(0, 1)\n",
    "plt.xlabel('Recall')\n",
    "plt.ylabel('Precision')\n",
    "plt.title('OmicsIntegrator2: Precision-Recall Curve for GNN Test split')\n",
    "plt.grid(True)\n",
    "save_path = os.path.join('../processed-data-files', \"oi2_test_prc_curve.png\")\n",
    "plt.savefig(save_path)\n",
    "plt.close()"
   ]
  },
  {
   "cell_type": "code",
   "execution_count": 15,
   "metadata": {},
   "outputs": [
    {
     "name": "stdout",
     "output_type": "stream",
     "text": [
      "Precision (th=0.5): 0.6803\n",
      "Recall    (th=0.5): 0.0163\n",
      "F1-score  (th=0.5): 0.0319\n",
      "ROC-AUC                : 0.5094\n"
     ]
    }
   ],
   "source": [
    "# make sure your columns are numeric\n",
    "y_true   = test_oi2_prc_df['y_true'].astype(int)\n",
    "y_scores = test_oi2_prc_df['Frequency'].astype(float)\n",
    "\n",
    "# choose your classification threshold\n",
    "threshold = 0.5\n",
    "y_pred    = (y_scores >= threshold).astype(int)\n",
    "\n",
    "# compute metrics\n",
    "precision_val = precision_score(y_true, y_pred)\n",
    "recall_val    = recall_score(y_true, y_pred)\n",
    "f1_val        = f1_score(y_true, y_pred)\n",
    "roc_auc       = roc_auc_score(y_true, y_scores)\n",
    "\n",
    "print(f\"Precision (th={threshold}): {precision_val:.4f}\")\n",
    "print(f\"Recall    (th={threshold}): {recall_val:.4f}\")\n",
    "print(f\"F1-score  (th={threshold}): {f1_val:.4f}\")\n",
    "print(f\"ROC-AUC                : {roc_auc:.4f}\")"
   ]
  }
 ],
 "metadata": {
  "kernelspec": {
   "display_name": "base",
   "language": "python",
   "name": "python3"
  },
  "language_info": {
   "codemirror_mode": {
    "name": "ipython",
    "version": 3
   },
   "file_extension": ".py",
   "mimetype": "text/x-python",
   "name": "python",
   "nbconvert_exporter": "python",
   "pygments_lexer": "ipython3",
   "version": "3.11.7"
  }
 },
 "nbformat": 4,
 "nbformat_minor": 2
}
