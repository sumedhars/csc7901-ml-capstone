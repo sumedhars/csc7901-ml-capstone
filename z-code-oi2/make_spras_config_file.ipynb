{
 "cells": [
  {
   "cell_type": "code",
   "execution_count": 2,
   "metadata": {},
   "outputs": [],
   "source": [
    "import pandas as pd\n",
    "import os\n",
    "import re"
   ]
  },
  {
   "cell_type": "code",
   "execution_count": null,
   "metadata": {},
   "outputs": [],
   "source": [
    "# training_nodes = [f for f in os.listdir('../gnn-train-split-samples-nodes') if f.endswith('.txt')]"
   ]
  },
  {
   "cell_type": "code",
   "execution_count": null,
   "metadata": {},
   "outputs": [],
   "source": [
    "test_nodes_df = pd.read_csv('../processed-data-files/test_split_node_files.txt', header=None)\n",
    "test_nodes_list = sorted(test_nodes_df[0].tolist())"
   ]
  },
  {
   "cell_type": "code",
   "execution_count": 31,
   "metadata": {},
   "outputs": [],
   "source": [
    "all_node_files = [f for f in os.listdir('../baseline-spras-nodes') if f.endswith('.txt')]"
   ]
  },
  {
   "cell_type": "code",
   "execution_count": 32,
   "metadata": {},
   "outputs": [],
   "source": [
    "output_lines = []\n",
    "output_lines.append(\"datasets:\")\n",
    "\n",
    "for filename in all_node_files:\n",
    "    match = re.search(r'_(\\d{4})_nodes\\.txt$', filename)\n",
    "    if not match:\n",
    "        continue\n",
    "    num = match.group(1)\n",
    "\n",
    "    base = filename[:10]\n",
    "    label = re.sub(r'\\W+', '_', base).strip('_') + f\"_{num}\"\n",
    "\n",
    "    output_lines.append(f\"    -\")\n",
    "    output_lines.append(f\"      label: {label}\")\n",
    "    output_lines.append(f\"      node_files: [\\\"{filename}\\\"]\")\n",
    "    output_lines.append(f\"      edge_files: [\\\"union_ppi.txt\\\"]\")\n",
    "    output_lines.append(f\"      # Placeholder\")\n",
    "    output_lines.append(f\"      other_files: []\")\n",
    "    output_lines.append(f\"      data_dir: \\\"input\\\"\")\n",
    "\n",
    "# Save to file\n",
    "with open(\"../processed-data-files/all_datasets_config.txt\", \"w\") as f:\n",
    "    f.write(\"\\n\".join(output_lines))"
   ]
  },
  {
   "cell_type": "code",
   "execution_count": 28,
   "metadata": {},
   "outputs": [
    {
     "name": "stdout",
     "output_type": "stream",
     "text": [
      "['alpha_linolenic_acid_train_5635_nodes.txt', 'arginine_and_proline_train_1159_nodes.txt', 'arginine_and_proline_train_1355_nodes.txt', 'arginine_and_proline_train_1599_nodes.txt', 'arginine_and_proline_train_2834_nodes.txt', 'arginine_and_proline_train_4399_nodes.txt', 'arginine_and_proline_train_4664_nodes.txt', 'arginine_and_proline_train_8211_nodes.txt', 'arginine_and_proline_train_9140_nodes.txt', 'ascorbate_and_aldara_train_6755_nodes.txt', 'ascorbate_and_aldara_train_8171_nodes.txt', 'ascorbate_and_aldara_train_9303_nodes.txt', 'beta_alanine_metabol_train_7183_nodes.txt', 'biotin_metabolism_train_6989_nodes.txt', 'biotin_metabolism_train_7622_nodes.txt', 'biotin_metabolism_train_7733_nodes.txt', 'biotin_metabolism_train_8673_nodes.txt', 'caffeine_metabolism_train_1005_nodes.txt', 'caffeine_metabolism_train_3176_nodes.txt', 'caffeine_metabolism_train_3718_nodes.txt', 'caffeine_metabolism_train_4187_nodes.txt', 'caffeine_metabolism_train_4536_nodes.txt', 'caffeine_metabolism_train_4696_nodes.txt', 'caffeine_metabolism_train_6505_nodes.txt', 'caffeine_metabolism_train_8310_nodes.txt', 'caffeine_metabolism_train_9692_nodes.txt', 'cyanoamino_acid_meta_train_5188_nodes.txt', 'cyanoamino_acid_meta_train_7427_nodes.txt', 'cyanoamino_acid_meta_train_8911_nodes.txt', 'cyanoamino_acid_meta_train_9451_nodes.txt', 'fatty_acid_biosynthe_train_1749_nodes.txt', 'fatty_acid_biosynthe_train_6264_nodes.txt', 'fatty_acid_biosynthe_train_7404_nodes.txt', 'fatty_acid_biosynthe_train_7456_nodes.txt', 'fatty_acid_biosynthe_train_8014_nodes.txt', 'fatty_acid_biosynthe_train_8694_nodes.txt', 'fatty_acid_biosynthe_train_9579_nodes.txt', 'fatty_acid_degradati_train_2826_nodes.txt', 'fatty_acid_degradati_train_2978_nodes.txt', 'fatty_acid_degradati_train_3240_nodes.txt', 'fatty_acid_degradati_train_3405_nodes.txt', 'fatty_acid_degradati_train_4206_nodes.txt', 'fatty_acid_degradati_train_7616_nodes.txt', 'fatty_acid_degradati_train_8270_nodes.txt', 'fatty_acid_degradati_train_8271_nodes.txt', 'fatty_acid_elongatio_train_1228_nodes.txt', 'fatty_acid_elongatio_train_2789_nodes.txt', 'fatty_acid_elongatio_train_3530_nodes.txt', 'fatty_acid_elongatio_train_4051_nodes.txt', 'fatty_acid_elongatio_train_4296_nodes.txt', 'fatty_acid_elongatio_train_6026_nodes.txt', 'fatty_acid_elongatio_train_6374_nodes.txt', 'fatty_acid_elongatio_train_7460_nodes.txt', 'fatty_acid_elongatio_train_7810_nodes.txt', 'folate_biosynthesis_train_3178_nodes.txt', 'folate_biosynthesis_train_3931_nodes.txt', 'folate_biosynthesis_train_4994_nodes.txt', 'folate_biosynthesis_train_5346_nodes.txt', 'folate_biosynthesis_train_8418_nodes.txt', 'folate_biosynthesis_train_8579_nodes.txt', 'folate_biosynthesis_train_9363_nodes.txt', 'folate_biosynthesis_train_9494_nodes.txt', 'fructose_and_mannose_train_1791_nodes.txt', 'fructose_and_mannose_train_1904_nodes.txt', 'fructose_and_mannose_train_5404_nodes.txt', 'fructose_and_mannose_train_6210_nodes.txt', 'fructose_and_mannose_train_6584_nodes.txt', 'fructose_and_mannose_train_6794_nodes.txt', 'fructose_and_mannose_train_8580_nodes.txt', 'fructose_and_mannose_train_9217_nodes.txt', 'fructose_and_mannose_train_9475_nodes.txt', 'glycine__serine_and_train_9687_nodes.txt', 'glycosaminoglycan_bi__1_train_4495_nodes.txt', 'glycosaminoglycan_bi__1_train_5286_nodes.txt', 'glycosaminoglycan_bi__1_train_5476_nodes.txt', 'glycosaminoglycan_bi__1_train_7496_nodes.txt', 'glycosaminoglycan_bi_train_9258_nodes.txt', 'glycosaminoglycan_de_train_8470_nodes.txt', 'glycosphingolipid_bi_train_2504_nodes.txt', 'glyoxylate_and_dicar_train_7549_nodes.txt', 'histidine_metabolism_train_1209_nodes.txt', 'histidine_metabolism_train_2211_nodes.txt', 'histidine_metabolism_train_3733_nodes.txt', 'histidine_metabolism_train_4986_nodes.txt', 'histidine_metabolism_train_5677_nodes.txt', 'histidine_metabolism_train_6614_nodes.txt', 'histidine_metabolism_train_8687_nodes.txt', 'histidine_metabolism_train_9640_nodes.txt', 'lipoic_acid_metaboli_train_6169_nodes.txt', 'lipoic_acid_metaboli_train_6350_nodes.txt', 'lipoic_acid_metaboli_train_8189_nodes.txt', 'lipoic_acid_metaboli_train_8395_nodes.txt', 'lipoic_acid_metaboli_train_8541_nodes.txt', 'lipoic_acid_metaboli_train_8728_nodes.txt', 'lipoic_acid_metaboli_train_8800_nodes.txt', 'lysine_degradation_train_1404_nodes.txt', 'lysine_degradation_train_5043_nodes.txt', 'lysine_degradation_train_8754_nodes.txt', 'mucin_type_o_glycan_train_8983_nodes.txt', 'nicotinate_and_nicot_train_1497_nodes.txt', 'phenylalanine__tyros_train_1487_nodes.txt', 'phenylalanine__tyros_train_2296_nodes.txt', 'phenylalanine__tyros_train_2724_nodes.txt', 'phenylalanine_metabo_train_1899_nodes.txt', 'phenylalanine_metabo_train_2067_nodes.txt', 'phenylalanine_metabo_train_3213_nodes.txt', 'phenylalanine_metabo_train_7746_nodes.txt', 'phenylalanine_metabo_train_7866_nodes.txt', 'phenylalanine_metabo_train_7995_nodes.txt', 'phenylalanine_metabo_train_8640_nodes.txt', 'phenylalanine_metabo_train_9455_nodes.txt', 'riboflavin_metabolis_train_1552_nodes.txt', 'riboflavin_metabolis_train_9684_nodes.txt', 'sulfur_metabolism_train_5877_nodes.txt', 'taurine_and_hypotaur_train_3065_nodes.txt', 'terpenoid_backbone_b_train_3241_nodes.txt', 'thiamine_metabolism_train_8748_nodes.txt', 'tryptophan_metabolis_train_1628_nodes.txt', 'tryptophan_metabolis_train_2110_nodes.txt', 'tryptophan_metabolis_train_3266_nodes.txt', 'tryptophan_metabolis_train_5522_nodes.txt', 'tryptophan_metabolis_train_6412_nodes.txt', 'tryptophan_metabolis_train_8942_nodes.txt', 'tryptophan_metabolis_train_9256_nodes.txt', 'tryptophan_metabolis_train_9385_nodes.txt', 'tyrosine_metabolism_train_1681_nodes.txt', 'tyrosine_metabolism_train_2226_nodes.txt', 'tyrosine_metabolism_train_5403_nodes.txt', 'tyrosine_metabolism_train_6010_nodes.txt', 'tyrosine_metabolism_train_7807_nodes.txt', 'tyrosine_metabolism_train_8180_nodes.txt', 'tyrosine_metabolism_train_8918_nodes.txt', 'vitamin_b6_metabolis_train_3756_nodes.txt']\n",
      "133\n"
     ]
    }
   ],
   "source": [
    "files = pd.read_csv('../processed-data-files/train_files.txt', header=None)\n",
    "parent = \"../oi2-baseline-outputs-train-split\"\n",
    "dirs = [d for d in os.listdir(parent)            \n",
    "        if os.path.isdir(os.path.join(parent, d))] \n",
    "\n",
    "files_list = sorted(files[0].tolist())\n",
    "\n",
    "missing_train_files = []\n",
    "\n",
    "for filename in files_list:\n",
    "    \n",
    "    filename = filename[:-4]\n",
    "    filename = filename + '_nodes.txt'\n",
    "\n",
    "    df_file_path = '../baseline-spras-nodes/' + filename\n",
    "    df = pd.read_csv(df_file_path, sep='\\t')\n",
    "    df_nodes = df['NODEID'].tolist()\n",
    "\n",
    "    if not df_nodes:\n",
    "        continue\n",
    "    else:\n",
    "        match = re.search(r'_(\\d{4})_nodes\\.txt$', filename)\n",
    "        if not match:\n",
    "            continue\n",
    "        num = match.group(1)\n",
    "\n",
    "        base = filename[:10]\n",
    "        label = re.sub(r'\\W+', '_', base).strip('_') + f\"_{num}\"\n",
    "        label = label + '-ml'\n",
    "\n",
    "        if label not in dirs:\n",
    "            missing_train_files.append(filename)\n",
    "    \n",
    "print(missing_train_files)\n",
    "print(len(missing_train_files))"
   ]
  },
  {
   "cell_type": "code",
   "execution_count": 30,
   "metadata": {},
   "outputs": [],
   "source": [
    "output_lines = []\n",
    "output_lines.append(\"datasets:\")\n",
    "\n",
    "for filename in missing_train_files:\n",
    "    match = re.search(r'_(\\d{4})_nodes\\.txt$', filename)\n",
    "    if not match:\n",
    "        continue\n",
    "    num = match.group(1)\n",
    "\n",
    "    base = filename[:10]\n",
    "    label = re.sub(r'\\W+', '_', base).strip('_') + f\"_{num}\"\n",
    "\n",
    "    output_lines.append(f\"    -\")\n",
    "    output_lines.append(f\"      label: {label}\")\n",
    "    output_lines.append(f\"      node_files: [\\\"{filename}\\\"]\")\n",
    "    output_lines.append(f\"      edge_files: [\\\"union_ppi.txt\\\"]\")\n",
    "    output_lines.append(f\"      # Placeholder\")\n",
    "    output_lines.append(f\"      other_files: []\")\n",
    "    output_lines.append(f\"      data_dir: \\\"input\\\"\")\n",
    "\n",
    "# Save to file\n",
    "with open(\"../processed-data-files/missing_train_datasets_config.txt\", \"w\") as f:\n",
    "    f.write(\"\\n\".join(output_lines))"
   ]
  }
 ],
 "metadata": {
  "kernelspec": {
   "display_name": "base",
   "language": "python",
   "name": "python3"
  },
  "language_info": {
   "codemirror_mode": {
    "name": "ipython",
    "version": 3
   },
   "file_extension": ".py",
   "mimetype": "text/x-python",
   "name": "python",
   "nbconvert_exporter": "python",
   "pygments_lexer": "ipython3",
   "version": "3.11.7"
  }
 },
 "nbformat": 4,
 "nbformat_minor": 2
}
