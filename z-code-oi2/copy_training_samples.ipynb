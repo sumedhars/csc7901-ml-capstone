{
 "cells": [
  {
   "cell_type": "code",
   "execution_count": 1,
   "metadata": {},
   "outputs": [],
   "source": [
    "import os\n",
    "import shutil"
   ]
  },
  {
   "cell_type": "code",
   "execution_count": 2,
   "metadata": {},
   "outputs": [
    {
     "data": {
      "text/plain": [
       "820"
      ]
     },
     "execution_count": 2,
     "metadata": {},
     "output_type": "execute_result"
    }
   ],
   "source": [
    "training_samples = [f for f in os.listdir('../training-samples') if f.endswith('.txt')]\n",
    "len(training_samples)"
   ]
  },
  {
   "cell_type": "code",
   "execution_count": 5,
   "metadata": {},
   "outputs": [
    {
     "name": "stdout",
     "output_type": "stream",
     "text": [
      "['ether_lipid_metaboli_train_7450_nodes.txt', 'nitrogen_metabolism_train_3442_nodes.txt', 'aminoacyl_trna_biosy_train_5354_nodes.txt', 'fatty_acid_degradati_train_2865_nodes.txt', 'porphyrin_and_chloro_train_4873_nodes.txt', 'ubiquinone_and_other_train_4287_nodes.txt', 'starch_and_sucrose_m_train_4604_nodes.txt', 'pantothenate_and_coa_train_8812_nodes.txt', 'phenylalanine__tyros_train_9660_nodes.txt', 'pentose_and_glucuron_train_8480_nodes.txt', 'glycosphingolipid_bi__2_train_1757_nodes.txt', 'beta_alanine_metabol_train_4217_nodes.txt', 'histidine_metabolism_train_4981_nodes.txt', 'fatty_acid_biosynthe_train_1183_nodes.txt', 'steroid_biosynthesis_train_5084_nodes.txt', 'tryptophan_metabolis_train_6753_nodes.txt', 'pentose_phosphate_pa_train_8739_nodes.txt', 'citrate_cycle__tca_c_train_5392_nodes.txt', 'steroid_hormone_bios_train_8921_nodes.txt', 'fatty_acid_degradati_train_2123_nodes.txt', 'glycerophospholipid_train_8885_nodes.txt', 'purine_metabolism_train_5896_nodes.txt', 'n_glycan_biosynthesi_train_3427_nodes.txt', 'nicotinate_and_nicot_train_3087_nodes.txt', 'arginine_and_proline_train_3611_nodes.txt', 'glycosaminoglycan_de_train_3395_nodes.txt', 'one_carbon_pool_by_f_train_9250_nodes.txt', 'fatty_acid_elongatio_train_3978_nodes.txt', 'glycine__serine_and_train_1327_nodes.txt', 'phenylalanine_metabo_train_2940_nodes.txt', 'glycosaminoglycan_bi_train_7747_nodes.txt', 'glycosphingolipid_bi__1_train_8148_nodes.txt', 'mucin_type_o_glycan_train_5763_nodes.txt', 'nicotinate_and_nicot_train_3074_nodes.txt', 'glycerophospholipid_train_9385_nodes.txt', 'mucin_type_o_glycan_train_2449_nodes.txt', 'tyrosine_metabolism_train_4111_nodes.txt', 'taurine_and_hypotaur_train_9891_nodes.txt', 'selenocompound_metab_train_8196_nodes.txt', 'pyrimidine_metabolis_train_8850_nodes.txt', 'inositol_phosphate_m_train_3768_nodes.txt', 'ether_lipid_metaboli_train_9182_nodes.txt', 'pentose_phosphate_pa_train_6584_nodes.txt', 'propanoate_metabolis_train_9228_nodes.txt', 'valine__leucine_and___1_train_4437_nodes.txt', 'glycosphingolipid_bi__1_train_2271_nodes.txt', 'selenocompound_metab_train_2780_nodes.txt', 'retinol_metabolism_train_6244_nodes.txt', 'glycosaminoglycan_bi_train_6194_nodes.txt', 'glycosaminoglycan_bi__1_train_4067_nodes.txt', 'glycerophospholipid_train_1191_nodes.txt', 'pentose_phosphate_pa_train_4578_nodes.txt', 'pentose_phosphate_pa_train_3930_nodes.txt', 'galactose_metabolism_train_4802_nodes.txt', 'drug_metabolism___ot_train_1801_nodes.txt', 'pyrimidine_metabolis_train_9011_nodes.txt', 'porphyrin_and_chloro_train_8247_nodes.txt', 'other_types_of_o_gly_train_5221_nodes.txt', 'valine__leucine_and_train_7368_nodes.txt', 'primary_bile_acid_bi_train_9453_nodes.txt', 'phenylalanine_metabo_train_5357_nodes.txt', 'vitamin_b6_metabolis_train_6881_nodes.txt', 'fructose_and_mannose_train_5194_nodes.txt', 'glycosaminoglycan_bi_train_4526_nodes.txt', 'folate_biosynthesis_train_5097_nodes.txt', 'citrate_cycle__tca_c_train_6720_nodes.txt', 'glycosaminoglycan_de_train_9198_nodes.txt', 'steroid_hormone_bios_train_2798_nodes.txt', 'galactose_metabolism_train_2135_nodes.txt', 'taurine_and_hypotaur_train_2474_nodes.txt', 'citrate_cycle__tca_c_train_5519_nodes.txt', 'arginine_and_proline_train_7047_nodes.txt', 'ascorbate_and_aldara_train_8407_nodes.txt', 'pantothenate_and_coa_train_7783_nodes.txt', 'drug_metabolism___cy_train_2581_nodes.txt', 'selenocompound_metab_train_5508_nodes.txt', 'glutathione_metaboli_train_8472_nodes.txt', 'drug_metabolism___cy_train_7291_nodes.txt', 'fatty_acid_biosynthe_train_1363_nodes.txt', 'ubiquinone_and_other_train_2517_nodes.txt', 'drug_metabolism___ot_train_4485_nodes.txt', 'lysine_degradation_train_9667_nodes.txt', 'glycolysis___glucone_train_3272_nodes.txt', 'retinol_metabolism_train_9664_nodes.txt', 'pentose_phosphate_pa_train_5518_nodes.txt', 'pentose_and_glucuron_train_6832_nodes.txt', 'alpha_linolenic_acid_train_4939_nodes.txt', 'aminoacyl_trna_biosy_train_2796_nodes.txt', 'biotin_metabolism_train_1902_nodes.txt', 'drug_metabolism___ot_train_9953_nodes.txt', 'steroid_biosynthesis_train_1126_nodes.txt', 'inositol_phosphate_m_train_1337_nodes.txt', 'nitrogen_metabolism_train_4157_nodes.txt', 'thiamine_metabolism_train_5980_nodes.txt', 'folate_biosynthesis_train_5773_nodes.txt', 'butanoate_metabolism_train_4190_nodes.txt', 'ascorbate_and_aldara_train_3317_nodes.txt', 'purine_metabolism_train_3580_nodes.txt', 'nicotinate_and_nicot_train_6359_nodes.txt', 'selenocompound_metab_train_5553_nodes.txt', 'sulfur_metabolism_train_6064_nodes.txt', 'glycine__serine_and_train_8569_nodes.txt', 'glyoxylate_and_dicar_train_3343_nodes.txt', 'glycosaminoglycan_de_train_1224_nodes.txt', 'selenocompound_metab_train_9397_nodes.txt', 'glycosphingolipid_bi_train_4993_nodes.txt', 'primary_bile_acid_bi_train_7460_nodes.txt', 'tyrosine_metabolism_train_1290_nodes.txt', 'ether_lipid_metaboli_train_3321_nodes.txt', 'arachidonic_acid_met_train_3652_nodes.txt', 'taurine_and_hypotaur_train_6366_nodes.txt', 'glycosphingolipid_bi__2_train_7608_nodes.txt', 'pyruvate_metabolism_train_2916_nodes.txt', 'glycolysis___glucone_train_9461_nodes.txt', 'sulfur_metabolism_train_3820_nodes.txt', 'glycosphingolipid_bi__1_train_4340_nodes.txt', 'drug_metabolism___ot_train_6288_nodes.txt', 'drug_metabolism___cy_train_1576_nodes.txt', 'glycerophospholipid_train_2901_nodes.txt', 'drug_metabolism___cy_train_2665_nodes.txt', 'taurine_and_hypotaur_train_1079_nodes.txt', 'biosynthesis_of_unsa_train_2748_nodes.txt', 'aminoacyl_trna_biosy_train_8954_nodes.txt', 'riboflavin_metabolis_train_2807_nodes.txt', 'tryptophan_metabolis_train_6237_nodes.txt', 'n_glycan_biosynthesi_train_4870_nodes.txt', 'glycosphingolipid_bi__2_train_2594_nodes.txt', 'pyrimidine_metabolis_train_5325_nodes.txt', 'glycosphingolipid_bi__1_train_2264_nodes.txt', 'sphingolipid_metabol_train_1064_nodes.txt', 'purine_metabolism_train_1035_nodes.txt', 'sulfur_metabolism_train_1891_nodes.txt', 'tyrosine_metabolism_train_7101_nodes.txt', 'riboflavin_metabolis_train_5743_nodes.txt', 'butanoate_metabolism_train_5885_nodes.txt', 'glyoxylate_and_dicar_train_4579_nodes.txt', 'valine__leucine_and_train_1863_nodes.txt']\n",
      "Copied: ether_lipid_metaboli_train_7450_nodes.txt\n",
      "Copied: nitrogen_metabolism_train_3442_nodes.txt\n",
      "Copied: aminoacyl_trna_biosy_train_5354_nodes.txt\n",
      "Copied: fatty_acid_degradati_train_2865_nodes.txt\n",
      "Copied: porphyrin_and_chloro_train_4873_nodes.txt\n",
      "Copied: ubiquinone_and_other_train_4287_nodes.txt\n",
      "Copied: starch_and_sucrose_m_train_4604_nodes.txt\n",
      "Copied: pantothenate_and_coa_train_8812_nodes.txt\n",
      "Copied: phenylalanine__tyros_train_9660_nodes.txt\n",
      "Copied: pentose_and_glucuron_train_8480_nodes.txt\n",
      "Copied: glycosphingolipid_bi__2_train_1757_nodes.txt\n",
      "Copied: beta_alanine_metabol_train_4217_nodes.txt\n",
      "Copied: histidine_metabolism_train_4981_nodes.txt\n",
      "Copied: fatty_acid_biosynthe_train_1183_nodes.txt\n",
      "Copied: steroid_biosynthesis_train_5084_nodes.txt\n",
      "Copied: tryptophan_metabolis_train_6753_nodes.txt\n",
      "Copied: pentose_phosphate_pa_train_8739_nodes.txt\n",
      "Copied: citrate_cycle__tca_c_train_5392_nodes.txt\n",
      "Copied: steroid_hormone_bios_train_8921_nodes.txt\n",
      "Copied: fatty_acid_degradati_train_2123_nodes.txt\n",
      "Copied: glycerophospholipid_train_8885_nodes.txt\n",
      "Copied: purine_metabolism_train_5896_nodes.txt\n",
      "Copied: n_glycan_biosynthesi_train_3427_nodes.txt\n",
      "Copied: nicotinate_and_nicot_train_3087_nodes.txt\n",
      "Copied: arginine_and_proline_train_3611_nodes.txt\n",
      "Copied: glycosaminoglycan_de_train_3395_nodes.txt\n",
      "Copied: one_carbon_pool_by_f_train_9250_nodes.txt\n",
      "Copied: fatty_acid_elongatio_train_3978_nodes.txt\n",
      "Copied: glycine__serine_and_train_1327_nodes.txt\n",
      "Copied: phenylalanine_metabo_train_2940_nodes.txt\n",
      "Copied: glycosaminoglycan_bi_train_7747_nodes.txt\n",
      "Copied: glycosphingolipid_bi__1_train_8148_nodes.txt\n",
      "Copied: mucin_type_o_glycan_train_5763_nodes.txt\n",
      "Copied: nicotinate_and_nicot_train_3074_nodes.txt\n",
      "Copied: glycerophospholipid_train_9385_nodes.txt\n",
      "Copied: mucin_type_o_glycan_train_2449_nodes.txt\n",
      "Copied: tyrosine_metabolism_train_4111_nodes.txt\n",
      "Copied: taurine_and_hypotaur_train_9891_nodes.txt\n",
      "Copied: selenocompound_metab_train_8196_nodes.txt\n",
      "Copied: pyrimidine_metabolis_train_8850_nodes.txt\n",
      "Copied: inositol_phosphate_m_train_3768_nodes.txt\n",
      "Copied: ether_lipid_metaboli_train_9182_nodes.txt\n",
      "Copied: pentose_phosphate_pa_train_6584_nodes.txt\n",
      "Copied: propanoate_metabolis_train_9228_nodes.txt\n",
      "Copied: valine__leucine_and___1_train_4437_nodes.txt\n",
      "Copied: glycosphingolipid_bi__1_train_2271_nodes.txt\n",
      "Copied: selenocompound_metab_train_2780_nodes.txt\n",
      "Copied: retinol_metabolism_train_6244_nodes.txt\n",
      "Copied: glycosaminoglycan_bi_train_6194_nodes.txt\n",
      "Copied: glycosaminoglycan_bi__1_train_4067_nodes.txt\n",
      "Copied: glycerophospholipid_train_1191_nodes.txt\n",
      "Copied: pentose_phosphate_pa_train_4578_nodes.txt\n",
      "Copied: pentose_phosphate_pa_train_3930_nodes.txt\n",
      "Copied: galactose_metabolism_train_4802_nodes.txt\n",
      "Copied: drug_metabolism___ot_train_1801_nodes.txt\n",
      "Copied: pyrimidine_metabolis_train_9011_nodes.txt\n",
      "Copied: porphyrin_and_chloro_train_8247_nodes.txt\n",
      "Copied: other_types_of_o_gly_train_5221_nodes.txt\n",
      "Copied: valine__leucine_and_train_7368_nodes.txt\n",
      "Copied: primary_bile_acid_bi_train_9453_nodes.txt\n",
      "Copied: phenylalanine_metabo_train_5357_nodes.txt\n",
      "Copied: vitamin_b6_metabolis_train_6881_nodes.txt\n",
      "Copied: fructose_and_mannose_train_5194_nodes.txt\n",
      "Copied: glycosaminoglycan_bi_train_4526_nodes.txt\n",
      "Copied: folate_biosynthesis_train_5097_nodes.txt\n",
      "Copied: citrate_cycle__tca_c_train_6720_nodes.txt\n",
      "Copied: glycosaminoglycan_de_train_9198_nodes.txt\n",
      "Copied: steroid_hormone_bios_train_2798_nodes.txt\n",
      "Copied: galactose_metabolism_train_2135_nodes.txt\n",
      "Copied: taurine_and_hypotaur_train_2474_nodes.txt\n",
      "Copied: citrate_cycle__tca_c_train_5519_nodes.txt\n",
      "Copied: arginine_and_proline_train_7047_nodes.txt\n",
      "Copied: ascorbate_and_aldara_train_8407_nodes.txt\n",
      "Copied: pantothenate_and_coa_train_7783_nodes.txt\n",
      "Copied: drug_metabolism___cy_train_2581_nodes.txt\n",
      "Copied: selenocompound_metab_train_5508_nodes.txt\n",
      "Copied: glutathione_metaboli_train_8472_nodes.txt\n",
      "Copied: drug_metabolism___cy_train_7291_nodes.txt\n",
      "Copied: fatty_acid_biosynthe_train_1363_nodes.txt\n",
      "Copied: ubiquinone_and_other_train_2517_nodes.txt\n",
      "Copied: drug_metabolism___ot_train_4485_nodes.txt\n",
      "Copied: lysine_degradation_train_9667_nodes.txt\n",
      "Copied: glycolysis___glucone_train_3272_nodes.txt\n",
      "Copied: retinol_metabolism_train_9664_nodes.txt\n",
      "Copied: pentose_phosphate_pa_train_5518_nodes.txt\n",
      "Copied: pentose_and_glucuron_train_6832_nodes.txt\n",
      "Copied: alpha_linolenic_acid_train_4939_nodes.txt\n",
      "Copied: aminoacyl_trna_biosy_train_2796_nodes.txt\n",
      "Copied: biotin_metabolism_train_1902_nodes.txt\n",
      "Copied: drug_metabolism___ot_train_9953_nodes.txt\n",
      "Copied: steroid_biosynthesis_train_1126_nodes.txt\n",
      "Copied: inositol_phosphate_m_train_1337_nodes.txt\n",
      "Copied: nitrogen_metabolism_train_4157_nodes.txt\n",
      "Copied: thiamine_metabolism_train_5980_nodes.txt\n",
      "Copied: folate_biosynthesis_train_5773_nodes.txt\n",
      "Copied: butanoate_metabolism_train_4190_nodes.txt\n",
      "Copied: ascorbate_and_aldara_train_3317_nodes.txt\n",
      "Copied: purine_metabolism_train_3580_nodes.txt\n",
      "Copied: nicotinate_and_nicot_train_6359_nodes.txt\n",
      "Copied: selenocompound_metab_train_5553_nodes.txt\n",
      "Copied: sulfur_metabolism_train_6064_nodes.txt\n",
      "Copied: glycine__serine_and_train_8569_nodes.txt\n",
      "Copied: glyoxylate_and_dicar_train_3343_nodes.txt\n",
      "Copied: glycosaminoglycan_de_train_1224_nodes.txt\n",
      "Copied: selenocompound_metab_train_9397_nodes.txt\n",
      "Copied: glycosphingolipid_bi_train_4993_nodes.txt\n",
      "Copied: primary_bile_acid_bi_train_7460_nodes.txt\n",
      "Copied: tyrosine_metabolism_train_1290_nodes.txt\n",
      "Copied: ether_lipid_metaboli_train_3321_nodes.txt\n",
      "Copied: arachidonic_acid_met_train_3652_nodes.txt\n",
      "Copied: taurine_and_hypotaur_train_6366_nodes.txt\n",
      "Copied: glycosphingolipid_bi__2_train_7608_nodes.txt\n",
      "Copied: pyruvate_metabolism_train_2916_nodes.txt\n",
      "Copied: glycolysis___glucone_train_9461_nodes.txt\n",
      "Copied: sulfur_metabolism_train_3820_nodes.txt\n",
      "Copied: glycosphingolipid_bi__1_train_4340_nodes.txt\n",
      "Copied: drug_metabolism___ot_train_6288_nodes.txt\n",
      "Copied: drug_metabolism___cy_train_1576_nodes.txt\n",
      "Copied: glycerophospholipid_train_2901_nodes.txt\n",
      "Copied: drug_metabolism___cy_train_2665_nodes.txt\n",
      "Copied: taurine_and_hypotaur_train_1079_nodes.txt\n",
      "Copied: biosynthesis_of_unsa_train_2748_nodes.txt\n",
      "Copied: aminoacyl_trna_biosy_train_8954_nodes.txt\n",
      "Copied: riboflavin_metabolis_train_2807_nodes.txt\n",
      "Copied: tryptophan_metabolis_train_6237_nodes.txt\n",
      "Copied: n_glycan_biosynthesi_train_4870_nodes.txt\n",
      "Copied: glycosphingolipid_bi__2_train_2594_nodes.txt\n",
      "Copied: pyrimidine_metabolis_train_5325_nodes.txt\n",
      "Copied: glycosphingolipid_bi__1_train_2264_nodes.txt\n",
      "Copied: sphingolipid_metabol_train_1064_nodes.txt\n",
      "Copied: purine_metabolism_train_1035_nodes.txt\n",
      "Copied: sulfur_metabolism_train_1891_nodes.txt\n",
      "Copied: tyrosine_metabolism_train_7101_nodes.txt\n",
      "Copied: riboflavin_metabolis_train_5743_nodes.txt\n",
      "Copied: butanoate_metabolism_train_5885_nodes.txt\n",
      "Copied: glyoxylate_and_dicar_train_4579_nodes.txt\n",
      "Copied: valine__leucine_and_train_1863_nodes.txt\n"
     ]
    }
   ],
   "source": [
    "txt_file = \"../processed-data-files/test_split_node_files.txt\"\n",
    "source_dir = \"../baseline-spras-nodes\"\n",
    "dest_dir = \"../gnn-test-split-samples-nodes\"\n",
    "\n",
    "# Ensure destination directory exists\n",
    "os.makedirs(dest_dir, exist_ok=True)\n",
    "\n",
    "# Open the text file and read lines\n",
    "with open(txt_file, 'r') as f:\n",
    "    file_names = [line.strip() for line in f if line.strip()]\n",
    "    print(file_names)\n",
    "    \n",
    "# Loop through each file name in the text file\n",
    "for file_name in file_names:\n",
    "    # node_str = file_name[:-4] + '_nodes.txt'\n",
    "    src_file = os.path.join(source_dir, file_name)\n",
    "    dst_file = os.path.join(dest_dir, file_name)\n",
    "        \n",
    "    # Check if file exists in the source directory\n",
    "    if os.path.isfile(src_file):\n",
    "        # Copy the file\n",
    "        shutil.copy2(src_file, dst_file)\n",
    "        print(f\"Copied: {file_name}\")"
   ]
  },
  {
   "cell_type": "markdown",
   "metadata": {},
   "source": [
    "#### Removing empty node files"
   ]
  },
  {
   "cell_type": "code",
   "execution_count": 6,
   "metadata": {},
   "outputs": [],
   "source": [
    "src_dir = '../gnn-test-split-samples-nodes/'\n",
    "\n",
    "for fname in os.listdir(src_dir):\n",
    "    path = os.path.join(src_dir, fname)\n",
    "    # skip sub‐dirs, focus on files\n",
    "    if not os.path.isfile(path):\n",
    "        continue\n",
    "\n",
    "    # read in only non‐blank lines\n",
    "    with open(path, 'r') as f:\n",
    "        lines = [line for line in f if line.strip()]\n",
    "\n",
    "    # if there’s 0 lines (empty file) or exactly 1 line (just header), remove it\n",
    "    if len(lines) <= 1:\n",
    "        print(f\"Removing empty data file: {fname}\")\n",
    "        os.remove(path)\n"
   ]
  },
  {
   "cell_type": "code",
   "execution_count": 8,
   "metadata": {},
   "outputs": [
    {
     "name": "stdout",
     "output_type": "stream",
     "text": [
      "Total files: 137\n"
     ]
    }
   ],
   "source": [
    "folder_path = '../gnn-test-split-samples-nodes'\n",
    "files = os.listdir(folder_path)\n",
    "num_files = len(files)\n",
    "print(f\"Total files: {num_files}\")"
   ]
  }
 ],
 "metadata": {
  "kernelspec": {
   "display_name": "base",
   "language": "python",
   "name": "python3"
  },
  "language_info": {
   "codemirror_mode": {
    "name": "ipython",
    "version": 3
   },
   "file_extension": ".py",
   "mimetype": "text/x-python",
   "name": "python",
   "nbconvert_exporter": "python",
   "pygments_lexer": "ipython3",
   "version": "3.11.7"
  }
 },
 "nbformat": 4,
 "nbformat_minor": 2
}
