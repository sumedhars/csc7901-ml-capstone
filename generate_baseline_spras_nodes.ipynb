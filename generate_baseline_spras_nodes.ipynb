{
 "cells": [
  {
   "cell_type": "code",
   "execution_count": 21,
   "metadata": {},
   "outputs": [],
   "source": [
    "import os\n",
    "import pandas as pd\n",
    "from math import ceil"
   ]
  },
  {
   "cell_type": "code",
   "execution_count": 6,
   "metadata": {},
   "outputs": [],
   "source": [
    "def generate_node_list(training_sample_df, og_filename):\n",
    "    sampled_edges = training_sample_df[training_sample_df['label']==1]\n",
    "    node_1_col = sampled_edges.iloc[:,0]\n",
    "    node_2_col = sampled_edges.iloc[:,1]\n",
    "    node_list = list(set(node_1_col.tolist() + node_2_col.tolist()))\n",
    "    node_df = pd.DataFrame(node_list, columns=['NODEID'])\n",
    "    node_df['prize'] = 1.0\n",
    "    filepath = 'baseline-spras-nodes/' + og_filename + '_nodes.txt'\n",
    "    node_df.to_csv(filepath, sep='\\t', index=False)\n",
    "    return (og_filename, len(node_df))"
   ]
  },
  {
   "cell_type": "code",
   "execution_count": 7,
   "metadata": {},
   "outputs": [],
   "source": [
    "# pathsample = 'training-samples/alanine,_aspartate_a_train_1510.csv'\n",
    "# sampledf = pd.read_csv(pathsample, sep='\\t')\n",
    "# generate_node_list(sampledf, 'temp')"
   ]
  },
  {
   "cell_type": "code",
   "execution_count": null,
   "metadata": {},
   "outputs": [
    {
     "name": "stdout",
     "output_type": "stream",
     "text": [
      "vitamin_b6_metabolis_train_7692\n",
      "vitamin_b6_metabolis_train_7692\n"
     ]
    }
   ],
   "source": [
    "training_files = [f for f in os.listdir('training-samples') if f.endswith('.csv')]\n",
    "\n",
    "for sample in training_files:\n",
    "    og_filename = sample[:-4]\n",
    "    sample_df = pd.read_csv('training-samples/' + sample, sep='\\t')\n",
    "    val = generate_node_list(sample_df, og_filename)"
   ]
  },
  {
   "cell_type": "code",
   "execution_count": 9,
   "metadata": {},
   "outputs": [
    {
     "name": "stdout",
     "output_type": "stream",
     "text": [
      "Total files: 820\n"
     ]
    }
   ],
   "source": [
    "folder_path = 'baseline-spras-nodes'\n",
    "files = os.listdir(folder_path)\n",
    "num_files = len(files)\n",
    "print(f\"Total files: {num_files}\")"
   ]
  },
  {
   "cell_type": "markdown",
   "metadata": {},
   "source": [
    "**EDA on number of nodes for test OmicsIntegrator2 run:**"
   ]
  },
  {
   "cell_type": "code",
   "execution_count": null,
   "metadata": {},
   "outputs": [
    {
     "name": "stdout",
     "output_type": "stream",
     "text": [
      "8\n",
      "alanine,_aspartate_a_train_1510_nodes.txt\n",
      "12\n",
      "alanine,_aspartate_a_train_2535_nodes.txt\n",
      "15\n",
      "aminoacyl-trna_biosy_train_1565_nodes.txt\n",
      "16\n",
      "aminoacyl-trna_biosy_train_2796_nodes.txt\n",
      "18\n",
      "arachidonic_acid_met_train_4290_nodes.txt\n",
      "25\n",
      "arginine_and_proline_train_1159_nodes.txt\n",
      "31\n",
      "drug_metabolism_-_cy_train_1576_nodes.txt\n",
      "40\n",
      "purine_metabolism_train_1035_nodes.txt\n"
     ]
    }
   ],
   "source": [
    "node_files = [f for f in os.listdir('baseline-spras-nodes') if f.endswith('.txt')]\n",
    "longest_file = None\n",
    "num = -999\n",
    "for node_file in node_files:\n",
    "   with open('baseline-spras-nodes/' + node_file,'r') as file:\n",
    "      li = file.readlines()\n",
    "   if len(li) > num:\n",
    "      num = len(li)\n",
    "      print(num)\n",
    "      print(node_file)"
   ]
  },
  {
   "cell_type": "code",
   "execution_count": 18,
   "metadata": {},
   "outputs": [],
   "source": [
    "node_files = [f for f in os.listdir('baseline-spras-nodes') if f.endswith('.txt')]\n",
    "details = []\n",
    "for node_file in node_files:\n",
    "    with open('baseline-spras-nodes/' + node_file,'r') as file:\n",
    "      li = file.readlines()\n",
    "    tup = (node_file, len(li))\n",
    "    details.append(tup)"
   ]
  },
  {
   "cell_type": "code",
   "execution_count": 34,
   "metadata": {},
   "outputs": [
    {
     "name": "stdout",
     "output_type": "stream",
     "text": [
      "Min: 1\n",
      "Max: 40\n",
      "Average: 8.96829268292683\n"
     ]
    }
   ],
   "source": [
    "# Extract all the second elements\n",
    "values = [x[1] for x in details]\n",
    "\n",
    "# Calculate min, max, and average\n",
    "min_val = min(values)\n",
    "max_val = max(values)\n",
    "avg_val = sum(values) / len(values)\n",
    "\n",
    "min_keys =  [x[0] for x in details if x[1] == 1]\n",
    "average_keys = [x[0] for x in details if x[1] == ceil(avg_val)]\n",
    "\n",
    "# Print results\n",
    "print(\"Min:\", min_val)\n",
    "print(\"Max:\", max_val)\n",
    "print(\"Average:\", avg_val)"
   ]
  }
 ],
 "metadata": {
  "kernelspec": {
   "display_name": "Python 3",
   "language": "python",
   "name": "python3"
  },
  "language_info": {
   "codemirror_mode": {
    "name": "ipython",
    "version": 3
   },
   "file_extension": ".py",
   "mimetype": "text/x-python",
   "name": "python",
   "nbconvert_exporter": "python",
   "pygments_lexer": "ipython3",
   "version": "3.13.2"
  }
 },
 "nbformat": 4,
 "nbformat_minor": 2
}
