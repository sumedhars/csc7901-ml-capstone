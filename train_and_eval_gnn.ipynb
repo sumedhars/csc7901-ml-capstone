{
 "cells": [
  {
   "cell_type": "markdown",
   "id": "40c8b2c2",
   "metadata": {},
   "source": [
    "## GOAL: predict whether an edge (interaction) between two proteins should be included in a pathway (label 1) or not (label 0)"
   ]
  },
  {
   "cell_type": "code",
   "execution_count": 1,
   "id": "b9c50aad",
   "metadata": {},
   "outputs": [],
   "source": [
    "import torch\n",
    "import torch.nn.functional as F\n",
    "from torch import nn\n",
    "from torch_geometric.nn import EdgeConv, NNConv\n",
    "from torch_geometric.loader import DataLoader\n",
    "from torch.utils.data import random_split"
   ]
  },
  {
   "cell_type": "code",
   "execution_count": 2,
   "id": "bae6dbea",
   "metadata": {},
   "outputs": [],
   "source": [
    "import pandas as pd\n",
    "import numpy as np\n",
    "import os\n",
    "import matplotlib.pyplot as plt\n",
    "import networkx as nx\n",
    "from sklearn.metrics import precision_score, recall_score, f1_score, roc_auc_score, precision_recall_curve, average_precision_score"
   ]
  },
  {
   "cell_type": "code",
   "execution_count": 3,
   "id": "d7030fee",
   "metadata": {},
   "outputs": [
    {
     "name": "stdout",
     "output_type": "stream",
     "text": [
      "Number of GPUs available: 2\n"
     ]
    }
   ],
   "source": [
    "num_gpus = torch.cuda.device_count()\n",
    "print(f\"Number of GPUs available: {num_gpus}\")"
   ]
  },
  {
   "cell_type": "code",
   "execution_count": 4,
   "id": "0f94abc2",
   "metadata": {},
   "outputs": [],
   "source": [
    "# set device to CUDA\n",
    "device = torch.device('cuda:0' if torch.cuda.is_available() else 'cpu')"
   ]
  },
  {
   "cell_type": "markdown",
   "id": "5c45e575",
   "metadata": {},
   "source": [
    "### Data Loading:"
   ]
  },
  {
   "cell_type": "markdown",
   "id": "e7975f71",
   "metadata": {},
   "source": [
    "**Pytorch Geometric `DataLoader` object from saved data:**"
   ]
  },
  {
   "cell_type": "code",
   "execution_count": 5,
   "id": "78f8a323",
   "metadata": {},
   "outputs": [
    {
     "name": "stdout",
     "output_type": "stream",
     "text": [
      "Total unique nodes: 17407\n"
     ]
    }
   ],
   "source": [
    "union_ppi = pd.read_csv('processed-data/union_ppi.txt', sep='\\t', header=None)\n",
    "unique_nodes = set(union_ppi[0].tolist() + union_ppi[1].tolist())\n",
    "label_id_map = {label: idx for idx, label in enumerate(sorted(unique_nodes))}\n",
    "num_nodes = len(label_id_map)\n",
    "print(f\"Total unique nodes: {num_nodes}\")"
   ]
  },
  {
   "cell_type": "code",
   "execution_count": 6,
   "id": "e60700cb",
   "metadata": {},
   "outputs": [],
   "source": [
    "data_list = torch.load('dataset.pt', weights_only=False)"
   ]
  },
  {
   "cell_type": "code",
   "execution_count": 7,
   "id": "92ce6bad",
   "metadata": {},
   "outputs": [
    {
     "name": "stdout",
     "output_type": "stream",
     "text": [
      "Total number of data objects: 820\n",
      "\n",
      "Data object 0:\n",
      "  Node features (x) size: torch.Size([17407, 1])\n",
      "  Edge index size: torch.Size([2, 202090])\n",
      "  Edge attributes size: torch.Size([202090, 1])\n",
      "  Edge labels (y) size: torch.Size([202090, 1])\n",
      "\n",
      "Data object 1:\n",
      "  Node features (x) size: torch.Size([17407, 1])\n",
      "  Edge index size: torch.Size([2, 202090])\n",
      "  Edge attributes size: torch.Size([202090, 1])\n",
      "  Edge labels (y) size: torch.Size([202090, 1])\n"
     ]
    }
   ],
   "source": [
    "print(\"Total number of data objects:\", len(data_list))\n",
    "\n",
    "for i, data in enumerate(data_list[:2]):\n",
    "    print(f\"\\nData object {i}:\")\n",
    "    print(\"  Node features (x) size:\", data.x.size())\n",
    "    print(\"  Edge index size:\", data.edge_index.size())\n",
    "    print(\"  Edge attributes size:\", data.edge_attr.size())\n",
    "    print(\"  Edge labels (y) size:\", data.y.size())"
   ]
  },
  {
   "cell_type": "markdown",
   "id": "c24a6c6a",
   "metadata": {},
   "source": [
    "### Class Weight Calculation:"
   ]
  },
  {
   "cell_type": "markdown",
   "id": "406e493d",
   "metadata": {},
   "source": [
    "- Calculate the weight for the positive class to handle class imbalance\n",
    "- needed since the number of negative samples (non-selected edges) is much higher than positive samples (selected edges)\n",
    "- weighting the **loss function** helps the model to learn from the minority class effectively"
   ]
  },
  {
   "cell_type": "code",
   "execution_count": 8,
   "id": "1d8bddf9",
   "metadata": {},
   "outputs": [
    {
     "name": "stdout",
     "output_type": "stream",
     "text": [
      "Positive class weight: 7362.594285968186\n"
     ]
    }
   ],
   "source": [
    "def calculate_class_weights(data_list):\n",
    "    # concat all labels into single tensor\n",
    "    y = torch.cat([data.y for data in data_list]).cpu().numpy()\n",
    "    # count the number of pos and negative samples\n",
    "    num_positive = y.sum()\n",
    "    num_negative = len(y) - num_positive\n",
    "    # calculate the weight --> ratio of negative samples to positive samples\n",
    "    # so that loss function balances the contribution of both classes\n",
    "    pos_weight = torch.tensor([num_negative / (2 * num_positive)]).to(device)\n",
    "    return pos_weight\n",
    "\n",
    "pos_weight = calculate_class_weights(data_list)\n",
    "print(f\"Positive class weight: {pos_weight.item()}\")"
   ]
  },
  {
   "cell_type": "markdown",
   "id": "b75b024a",
   "metadata": {},
   "source": [
    "### Train-test split:"
   ]
  },
  {
   "cell_type": "code",
   "execution_count": 9,
   "id": "5e89fb92",
   "metadata": {},
   "outputs": [],
   "source": [
    "train_ratio = 0.8\n",
    "train_size = int(train_ratio * len(data_list))\n",
    "test_size = len(data_list) - train_size"
   ]
  },
  {
   "cell_type": "code",
   "execution_count": 10,
   "id": "6c900326",
   "metadata": {},
   "outputs": [],
   "source": [
    "# train_dataset, test_dataset = random_split(data_list, [train_size, test_size])"
   ]
  },
  {
   "cell_type": "code",
   "execution_count": 11,
   "id": "6bc3376c",
   "metadata": {},
   "outputs": [],
   "source": [
    "# Retrieve the file names from the train split\n",
    "# train_indices = train_dataset.indices \n",
    "# train_file_names = [data_list[idx].file_name for idx in train_indices]"
   ]
  },
  {
   "cell_type": "code",
   "execution_count": 12,
   "id": "c009d4df",
   "metadata": {},
   "outputs": [],
   "source": [
    "# Save the train_file_names to a txt file\n",
    "# with open('train_files.txt', 'w') as f:\n",
    "#     for fname in train_file_names:\n",
    "#         f.write(f\"{fname}\\n\")"
   ]
  },
  {
   "cell_type": "markdown",
   "id": "e37eacf6",
   "metadata": {},
   "source": [
    "### Train-test split: from existing train split file"
   ]
  },
  {
   "cell_type": "code",
   "execution_count": 13,
   "id": "2b1f9fea",
   "metadata": {},
   "outputs": [
    {
     "name": "stdout",
     "output_type": "stream",
     "text": [
      "Training on 656 graphs; testing on 164 graphs.\n"
     ]
    }
   ],
   "source": [
    "with open('train_files.txt') as f:\n",
    "    train_files = set(f.read().splitlines())\n",
    "\n",
    "#Partition data_list\n",
    "train_dataset = [data for data in data_list if data.file_name in train_files]\n",
    "test_dataset  = [data for data in data_list if data.file_name not in train_files]\n",
    "\n",
    "print(f\"Training on {len(train_dataset)} graphs; testing on {len(test_dataset)} graphs.\")"
   ]
  },
  {
   "cell_type": "markdown",
   "id": "32ab2737",
   "metadata": {},
   "source": [
    "### Edge Sampling"
   ]
  },
  {
   "cell_type": "markdown",
   "id": "f8ffd1b2",
   "metadata": {},
   "source": [
    "- technique that oversamples the positive edges to address class imbalance\n",
    "- duplicate positive edges in dataset to increase representation during training - so that the model sees more examples\n",
    "- oersampling helps the model to better learn the characteristics of the minority class (selected edges), improving its ability to classify them correctly"
   ]
  },
  {
   "cell_type": "code",
   "execution_count": 15,
   "id": "e9c7763e",
   "metadata": {},
   "outputs": [],
   "source": [
    "def edge_sampling(data_list, sampling_ratio=0.5):\n",
    "    \"\"\"\n",
    "    Oversample edges from the minority class (positive edges).\n",
    "    Args:\n",
    "        data_list: List of PyG data objects.\n",
    "        sampling_ratio: Ratio of minority class edges to add.\n",
    "    Returns:\n",
    "        Augmented data_list with oversampled positive edges.\n",
    "    \"\"\"\n",
    "    augmented_data_list = []\n",
    "    for data in data_list:\n",
    "        y = data.y.cpu().numpy()\n",
    "        # get the indices of positive and negtive edges\n",
    "        positive_indices = np.where(y == 1)[0]\n",
    "        negative_indices = np.where(y == 0)[0]\n",
    "        # oversample positive edges\n",
    "        num_positive = len(positive_indices)\n",
    "        # fraction of +ve edges are randomly sampled with replacement\n",
    "        num_samples = int(sampling_ratio * num_positive)\n",
    "        # stores the indices of the sampled positive edges\n",
    "        sampled_indices = np.random.choice(positive_indices, num_samples, replace=True)\n",
    "        # connectivity information (source and target nodes) for the sampled edges:\n",
    "        sampled_edge_index = data.edge_index[:, sampled_indices]\n",
    "        # edge features for sampled edges:\n",
    "        sampled_edge_attr = data.edge_attr[sampled_indices]\n",
    "        # labels for sampled edges:\n",
    "        sampled_y = data.y[sampled_indices]\n",
    "        # connectivity information is updated by concatenating the original edges and the sampled edge:\n",
    "        data.edge_index = torch.cat([data.edge_index, sampled_edge_index], dim=1)\n",
    "        # edge features are updated by concatenating the original features and the sampled features:\n",
    "        data.edge_attr = torch.cat([data.edge_attr, sampled_edge_attr], dim=0)\n",
    "        # labels are updated by concatenating the original labels and the sampled label:\n",
    "        data.y = torch.cat([data.y, sampled_y], dim=0)\n",
    "        augmented_data_list.append(data)  \n",
    "    return augmented_data_list"
   ]
  },
  {
   "cell_type": "code",
   "execution_count": 16,
   "id": "3f3c682f",
   "metadata": {},
   "outputs": [],
   "source": [
    "# apply edge sampling to the training dataset\n",
    "train_dataset = edge_sampling(train_dataset, sampling_ratio=1.0)"
   ]
  },
  {
   "cell_type": "markdown",
   "id": "441f2d34",
   "metadata": {},
   "source": [
    "### Make DataLoader:"
   ]
  },
  {
   "cell_type": "markdown",
   "id": "ba25b273",
   "metadata": {},
   "source": [
    "- for batching and shuffling data\n",
    "- feeds data into model during training and eval"
   ]
  },
  {
   "cell_type": "code",
   "execution_count": 17,
   "id": "005c6ecd",
   "metadata": {},
   "outputs": [],
   "source": [
    "train_loader = DataLoader(train_dataset, batch_size=32, shuffle=True, num_workers=4)\n",
    "test_loader = DataLoader(test_dataset, batch_size=32, shuffle=False, num_workers=4)"
   ]
  },
  {
   "cell_type": "markdown",
   "id": "bbfe1879",
   "metadata": {},
   "source": [
    "### Model Definition: using `EdgeConv` and `NNNConv` layers"
   ]
  },
  {
   "cell_type": "markdown",
   "id": "82375eea",
   "metadata": {},
   "source": [
    "- define GNN for edge classification \n",
    "- architecture designed to capture both node + edge features - needed for accurately classifying edges in PPI network\n",
    "- use mlps to transform node + edge features into higher dim representations to capture pattersn in data"
   ]
  },
  {
   "cell_type": "markdown",
   "id": "8038020e",
   "metadata": {},
   "source": [
    "**Input Graph:**\n",
    "- Node features (x): `[num_nodes, node_feat_dim]`\n",
    "- Edge index (edge_index): `[2, num_edges]`\n",
    "- Edge features (edge_attr): `[num_edges, edge_feat_dim]`"
   ]
  },
  {
   "cell_type": "markdown",
   "id": "a5d302b8",
   "metadata": {},
   "source": [
    "**Layers:**\n",
    "- `EdgeConv` captures local patterns in the graph by considering the relationships between a node and its neighbors."
   ]
  },
  {
   "cell_type": "code",
   "execution_count": 18,
   "id": "0e3c9ed8",
   "metadata": {},
   "outputs": [],
   "source": [
    "class EdgeClassificationGNN(nn.Module):\n",
    "    def __init__(self, node_feat_dim, hidden_dim, edge_feat_dim, out_dim=1):\n",
    "        \"\"\"\n",
    "        Args:\n",
    "            node_feat_dim (int): Dimensionality of node features (1 in this case).\n",
    "            hidden_dim (int): Hidden layer dimension.\n",
    "            edge_feat_dim (int): Dimensionality of edge features (1 for prize).\n",
    "            out_dim (int): Output dimension (1 for binary classification).\n",
    "        \"\"\"\n",
    "        super(EdgeClassificationGNN, self).__init__()\n",
    "        \n",
    "        # --- First Layer: EdgeConv ---\n",
    "        # PURPOSE: updates the features of each node by aggregating information from its direct neighbors.\n",
    "        # MLP takes the concatenated features of a node and its neighbor --> outputs new feature vector\n",
    "        self.mlp_edgeconv = nn.Sequential(\n",
    "            nn.Linear(2 * node_feat_dim, hidden_dim),\n",
    "            nn.ReLU(),\n",
    "            nn.Linear(hidden_dim, hidden_dim)\n",
    "        )\n",
    "        # resutls from all neighbors are aggregated - \n",
    "        # 'max' selects the most important feature for each dimension\n",
    "        self.conv1 = EdgeConv(nn=self.mlp_edgeconv, aggr='max')\n",
    "        \n",
    "        # --- Second Layer: NNConv ---\n",
    "        # PURPOSE: updates node features by incorporating edge-specific information\n",
    "        # MLP maps edge features to weight matrix --> which transforms the neighboring node features\n",
    "        self.edge_nn = nn.Sequential(\n",
    "            nn.Linear(edge_feat_dim, hidden_dim * hidden_dim),\n",
    "            nn.ReLU(),\n",
    "            nn.Linear(hidden_dim * hidden_dim, hidden_dim * hidden_dim)\n",
    "        )\n",
    "        # transformed features from all neighbors aggregated by averaging contriutions from all neihbors\n",
    "        self.conv2 = NNConv(in_channels=hidden_dim,\n",
    "                            out_channels=hidden_dim,\n",
    "                            nn=self.edge_nn,\n",
    "                            aggr='mean')\n",
    "        \n",
    "        # --- Final Edge Classifier ---\n",
    "        # combine the features of the source node, target node, and edge to predict the edge label\n",
    "        # classifier is mlp that takes concatenated features and outputs raw score i.e. logit for binary classification\n",
    "        self.edge_classifier = nn.Sequential(\n",
    "            nn.Linear(2 * hidden_dim + edge_feat_dim, hidden_dim),\n",
    "            nn.BatchNorm1d(hidden_dim),\n",
    "            nn.ReLU(),\n",
    "            nn.Dropout(0.5),\n",
    "            nn.Linear(hidden_dim, out_dim)\n",
    "        )\n",
    "        \n",
    "    \n",
    "    def forward(self, data):\n",
    "        x, edge_index, edge_attr = data.x, data.edge_index, data.edge_attr\n",
    "        # input node features and edge index into edge conv\n",
    "        x = self.conv1(x, edge_index)\n",
    "        x = F.relu(x)\n",
    "        # input updated node features, edge index (edge_index), and edge features (edge_attr)\n",
    "        x = self.conv2(x, edge_index, edge_attr)\n",
    "        x = F.relu(x)\n",
    "        # for edge classification\n",
    "        src, dst = edge_index\n",
    "        edge_representation = torch.cat([x[src], x[dst], edge_attr], dim=1)\n",
    "        logits = self.edge_classifier(edge_representation)\n",
    "        # return raw logits instead of probabilities\n",
    "        return logits  "
   ]
  },
  {
   "cell_type": "markdown",
   "id": "a2630d50",
   "metadata": {},
   "source": [
    "### Training Setup & Loop"
   ]
  },
  {
   "cell_type": "markdown",
   "id": "f0dd4ce9",
   "metadata": {},
   "source": [
    "- initialize model, loss function, and optimizer\n",
    "- `BCEWithLogitsLoss` loss function is chosen for binary classification - binary CEL with logitcs i.e raw scores\n",
    "- `Adam` optimizer users to update model parameters during training"
   ]
  },
  {
   "cell_type": "code",
   "execution_count": 19,
   "id": "3b1c2904",
   "metadata": {},
   "outputs": [],
   "source": [
    "hidden_dim = 8 # dimension of hidden layer\n",
    "node_feat_dim = 1 # dimension of node features\n",
    "edge_feat_dim = 1 # dimension of edge features"
   ]
  },
  {
   "cell_type": "code",
   "execution_count": 20,
   "id": "e7e38a7d",
   "metadata": {},
   "outputs": [],
   "source": [
    "model = EdgeClassificationGNN(node_feat_dim, hidden_dim, edge_feat_dim)\n",
    "model = model.to(device)"
   ]
  },
  {
   "cell_type": "code",
   "execution_count": 21,
   "id": "80be6c78",
   "metadata": {},
   "outputs": [],
   "source": [
    "# use class weighting in the loss function - assign higher weight to positive class i.e. minority class\n",
    "criterion = nn.BCEWithLogitsLoss(pos_weight=pos_weight)\n",
    "optimizer = torch.optim.Adam(model.parameters(), lr=0.01, weight_decay=1e-5)"
   ]
  },
  {
   "cell_type": "markdown",
   "id": "47ad95b0",
   "metadata": {},
   "source": [
    "- train the model using the following loop function \n",
    "- update model params to minimize loss functions "
   ]
  },
  {
   "cell_type": "code",
   "execution_count": 22,
   "id": "159545b5",
   "metadata": {},
   "outputs": [],
   "source": [
    "def train(model, train_loader, epochs=20):\n",
    "    model.train()  # set the model to training mode bc of layers beaviours\n",
    "    # epoch loop:\n",
    "    for epoch in range(epochs):\n",
    "        epoch_loss = 0.0\n",
    "        for batch in train_loader:\n",
    "            batch = batch.to(device)  # move batch to the GPU\n",
    "            # clear grads from previous batch\n",
    "            optimizer.zero_grad()  \n",
    "            # forward pass + get model predictions based on input batch\n",
    "            out = model(batch) \n",
    "            # compute loss by comparing model pred (out) to ground truth labels\n",
    "            loss = criterion(out, batch.y)  \n",
    "            # compute grads wrt model params - backprop\n",
    "            loss.backward()  \n",
    "            # update model params using computed gradients - optimization\n",
    "            optimizer.step() \n",
    "            # accumulate loss for current epoch\n",
    "            epoch_loss += loss.item()  # Accumulate loss    \n",
    "        # print average loss for the epoch\n",
    "        avg_loss = epoch_loss / len(train_loader)\n",
    "        print(f\"Epoch {epoch + 1}/{epochs}, Loss: {avg_loss:.4f}\")"
   ]
  },
  {
   "cell_type": "code",
   "execution_count": 23,
   "id": "4b907b25",
   "metadata": {},
   "outputs": [
    {
     "name": "stderr",
     "output_type": "stream",
     "text": [
      "/home/sanjeevs/.local/lib/python3.10/site-packages/torch_geometric/warnings.py:11: UserWarning: The usage of `scatter(reduce='max')` can be accelerated via the 'torch-scatter' package, but it was not found\n",
      "  warnings.warn(message)\n"
     ]
    },
    {
     "name": "stdout",
     "output_type": "stream",
     "text": [
      "Epoch 1/7, Loss: 0.8636\n",
      "Epoch 2/7, Loss: 0.5048\n",
      "Epoch 3/7, Loss: 0.3795\n",
      "Epoch 4/7, Loss: 0.2948\n",
      "Epoch 5/7, Loss: 0.2411\n",
      "Epoch 6/7, Loss: 0.2160\n",
      "Epoch 7/7, Loss: 0.1918\n"
     ]
    }
   ],
   "source": [
    "# Train the model.\n",
    "train(model, train_loader, epochs=7)"
   ]
  },
  {
   "cell_type": "markdown",
   "id": "3961db6b",
   "metadata": {},
   "source": [
    "### Overall: Evaluation & Precision-Recall Curve"
   ]
  },
  {
   "cell_type": "markdown",
   "id": "fc582ff5",
   "metadata": {},
   "source": [
    "- Evaluates the model's performance using precision, recall, F1-score, and AUC-ROC.\n",
    "- These metrics provide a comprehensive assessment of the model's classification performance, especially important for imbalanced datasets"
   ]
  },
  {
   "cell_type": "code",
   "execution_count": 24,
   "id": "c44e4488",
   "metadata": {},
   "outputs": [],
   "source": [
    "def evaluate_metrics(model, test_loader):\n",
    "    model.eval()\n",
    "    y_true, y_pred, y_score = [], [], []\n",
    "\n",
    "    with torch.no_grad():\n",
    "        for batch in test_loader:\n",
    "            batch = batch.to(device)\n",
    "            out = model(batch)\n",
    "            preds = (out > 0).float()  # Use 0 as threshold for logits\n",
    "            y_true.extend(batch.y.cpu().numpy())\n",
    "            y_pred.extend(preds.cpu().numpy())\n",
    "            y_score.extend(out.sigmoid().cpu().numpy())  # Probabilities for AUC-ROC\n",
    "\n",
    "    precision = precision_score(y_true, y_pred)\n",
    "    recall = recall_score(y_true, y_pred)\n",
    "    f1 = f1_score(y_true, y_pred)\n",
    "    roc_auc = roc_auc_score(y_true, y_score)\n",
    "    print(f\"Precision: {precision:.4f}, Recall: {recall:.4f}, F1: {f1:.4f}, AUC-ROC: {roc_auc:.4f}\")"
   ]
  },
  {
   "cell_type": "code",
   "execution_count": 25,
   "id": "3248e455",
   "metadata": {},
   "outputs": [
    {
     "name": "stdout",
     "output_type": "stream",
     "text": [
      "Precision: 0.0298, Recall: 1.0000, F1: 0.0579, AUC-ROC: 1.0000\n"
     ]
    }
   ],
   "source": [
    "evaluate_metrics(model, test_loader)"
   ]
  },
  {
   "cell_type": "markdown",
   "id": "8b7acfec",
   "metadata": {},
   "source": [
    "**Plotting PRC:**"
   ]
  },
  {
   "cell_type": "code",
   "execution_count": 26,
   "id": "ffa24d76",
   "metadata": {},
   "outputs": [],
   "source": [
    "def plot_precision_recall_curve(model, test_loader):\n",
    "    model.eval()\n",
    "    y_true, y_score = [], []\n",
    "\n",
    "    with torch.no_grad():\n",
    "        for batch in test_loader:\n",
    "            batch = batch.to(device)\n",
    "            out = model(batch)\n",
    "            y_true.extend(batch.y.cpu().numpy())\n",
    "            y_score.extend(out.sigmoid().cpu().numpy())  # Probabilities for Precision-Recall curve\n",
    "\n",
    "    precision, recall, thresholds = precision_recall_curve(y_true, y_score)\n",
    "\n",
    "    plt.figure(figsize=(8, 6))\n",
    "    plt.plot(recall, precision, marker='.', label='Precision-Recall Curve')\n",
    "    plt.xlabel('Recall')\n",
    "    plt.ylabel('Precision')\n",
    "    plt.title('Precision-Recall Curve')\n",
    "    plt.legend()\n",
    "    plt.grid(True)\n",
    "    plt.show()"
   ]
  },
  {
   "cell_type": "code",
   "execution_count": 27,
   "id": "f3fcc8f2",
   "metadata": {},
   "outputs": [
    {
     "data": {
      "image/png": "[encoded data removed]",
      "text/plain": [
       "<Figure size 800x600 with 1 Axes>"
      ]
     },
     "metadata": {},
     "output_type": "display_data"
    }
   ],
   "source": [
    "plot_precision_recall_curve(model, test_loader)"
   ]
  },
  {
   "cell_type": "markdown",
   "id": "95386b09",
   "metadata": {},
   "source": [
    "### Validate Prediction with Test Pathway"
   ]
  },
  {
   "cell_type": "markdown",
   "id": "ef475f2b",
   "metadata": {},
   "source": [
    "**Extract single graph**"
   ]
  },
  {
   "cell_type": "code",
   "execution_count": 28,
   "id": "3d9561fb",
   "metadata": {},
   "outputs": [],
   "source": [
    "single_test_data = test_dataset[-2].to(device)"
   ]
  },
  {
   "cell_type": "code",
   "execution_count": 29,
   "id": "79f3c588",
   "metadata": {},
   "outputs": [
    {
     "data": {
      "text/plain": [
       "torch.Size([17407, 1])"
      ]
     },
     "execution_count": 29,
     "metadata": {},
     "output_type": "execute_result"
    }
   ],
   "source": [
    "single_test_data.x.size()"
   ]
  },
  {
   "cell_type": "markdown",
   "id": "aba7c3c9",
   "metadata": {},
   "source": [
    "**Run model forward pass for single test graph**"
   ]
  },
  {
   "cell_type": "code",
   "execution_count": 30,
   "id": "1c1097aa",
   "metadata": {},
   "outputs": [],
   "source": [
    "model.eval()\n",
    "with torch.no_grad():\n",
    "    logits = model(single_test_data)\n",
    "    y_prob = torch.sigmoid(logits).cpu().numpy()\n",
    "    y_pred = (y_prob > 0.5).astype(int)\n",
    "    y_true = single_test_data.y.cpu().numpy()"
   ]
  },
  {
   "cell_type": "markdown",
   "id": "cc61c392",
   "metadata": {},
   "source": [
    "**Identify TP/FP/FN edges**"
   ]
  },
  {
   "cell_type": "code",
   "execution_count": 31,
   "id": "e316943f",
   "metadata": {},
   "outputs": [],
   "source": [
    "tp_mask = (y_true == 1) & (y_pred == 1)\n",
    "fp_mask = (y_true == 0) & (y_pred == 1)\n",
    "fn_mask = (y_true == 1) & (y_pred == 0)"
   ]
  },
  {
   "cell_type": "code",
   "execution_count": 32,
   "id": "fd0fa592",
   "metadata": {},
   "outputs": [
    {
     "name": "stdout",
     "output_type": "stream",
     "text": [
      "True Positives (TP): 17\n",
      "False Positives (FP): 429\n",
      "False Negatives (FN): 0\n"
     ]
    }
   ],
   "source": [
    "num_tp = np.sum(tp_mask)\n",
    "num_fp = np.sum(fp_mask)\n",
    "num_fn = np.sum(fn_mask)\n",
    "\n",
    "print(f\"True Positives (TP): {num_tp}\")\n",
    "print(f\"False Positives (FP): {num_fp}\")\n",
    "print(f\"False Negatives (FN): {num_fn}\")"
   ]
  },
  {
   "cell_type": "markdown",
   "id": "2aa968ab",
   "metadata": {},
   "source": [
    "**Convert to NetworkX graph (only plot TP/FP/FN edges)**"
   ]
  },
  {
   "cell_type": "code",
   "execution_count": 33,
   "id": "7e241085",
   "metadata": {},
   "outputs": [],
   "source": [
    "edge_index = single_test_data.edge_index.cpu().numpy()\n",
    "G = nx.Graph()"
   ]
  },
  {
   "cell_type": "code",
   "execution_count": 34,
   "id": "09cbf8e2",
   "metadata": {},
   "outputs": [],
   "source": [
    "# add only TP/FP/FN edges to reduce clutter\n",
    "for i, (src, dst) in enumerate(edge_index.T):\n",
    "    if tp_mask[i] or fp_mask[i] or fn_mask[i]:\n",
    "        G.add_edge(src, dst)"
   ]
  },
  {
   "cell_type": "markdown",
   "id": "ed6a53e1",
   "metadata": {},
   "source": [
    "**Assign edge colors**"
   ]
  },
  {
   "cell_type": "code",
   "execution_count": 35,
   "id": "38bfa01d",
   "metadata": {},
   "outputs": [],
   "source": [
    "edge_colors = []\n",
    "for i, (src, dst) in enumerate(edge_index.T):\n",
    "    if tp_mask[i]:\n",
    "        # TP -> green\n",
    "        edge_colors.append(\"green\")  \n",
    "    elif fp_mask[i]:\n",
    "        # FP -> red\n",
    "        edge_colors.append(\"red\")    \n",
    "    elif fn_mask[i]:\n",
    "        # FN -> blue\n",
    "        edge_colors.append(\"blue\")  "
   ]
  },
  {
   "cell_type": "markdown",
   "id": "155fac59",
   "metadata": {},
   "source": [
    "**Draw the graph (only TP/FP/FN edges)**"
   ]
  },
  {
   "cell_type": "code",
   "execution_count": 36,
   "id": "5dd0cab0",
   "metadata": {
    "scrolled": true
   },
   "outputs": [],
   "source": [
    "plt.figure(figsize=(12, 10))\n",
    "pos = nx.spring_layout(G, k=0.15, iterations=50)  # Force-directed layout\n",
    "nx.draw(\n",
    "    G,\n",
    "    pos,\n",
    "    edge_color=edge_colors,\n",
    "    node_size=20,\n",
    "    node_color=\"lightgray\",\n",
    "    width=1.0,\n",
    "    with_labels=False,\n",
    ")\n",
    "plt.title(\"Network: TP (Green), FP (Red), FN (Blue)\")\n",
    "plt.show()"
   ]
  },
  {
   "cell_type": "markdown",
   "id": "788455aa",
   "metadata": {},
   "source": [
    "**Print metrics for this graph**"
   ]
  },
  {
   "cell_type": "code",
   "execution_count": 37,
   "id": "7adcde1d",
   "metadata": {},
   "outputs": [
    {
     "name": "stdout",
     "output_type": "stream",
     "text": [
      "Precision: 0.0381, Recall: 1.0000, F1: 0.0734\n"
     ]
    }
   ],
   "source": [
    "precision = precision_score(y_true, y_pred, zero_division=0)\n",
    "recall = recall_score(y_true, y_pred, zero_division=0)\n",
    "f1 = f1_score(y_true, y_pred, zero_division=0)\n",
    "print(f\"Precision: {precision:.4f}, Recall: {recall:.4f}, F1: {f1:.4f}\")"
   ]
  },
  {
   "cell_type": "markdown",
   "id": "6d1e3943",
   "metadata": {},
   "source": [
    "### Compute PRC for each `Data` object"
   ]
  },
  {
   "cell_type": "code",
   "execution_count": 38,
   "id": "6f4d2d6d",
   "metadata": {},
   "outputs": [],
   "source": [
    "def compute_prc_for_dataset(model, dataset, device):\n",
    "    model.eval()\n",
    "    prc_dict = {}\n",
    "    for data in dataset:                           \n",
    "        data = data.to(device)\n",
    "        with torch.no_grad():\n",
    "            logits = model(data)                   # [num_edges, 1]\n",
    "            probs  = torch.sigmoid(logits).view(-1).cpu().numpy()\n",
    "        y_true = data.y.cpu().numpy().astype(int)  # [num_edges,]\n",
    "\n",
    "        # get per-edge precision / recall / thresholds\n",
    "        precision, recall, thresholds = precision_recall_curve(y_true, probs)\n",
    "        # scalar average precision (area under PR curve)\n",
    "        ap = average_precision_score(y_true, probs)\n",
    "\n",
    "        fn = data.file_name  # this is your sample identifier\n",
    "        prc_dict[fn] = {\n",
    "            'precision': precision,\n",
    "            'recall': recall,\n",
    "            'thresholds': thresholds,\n",
    "            'average_precision': ap\n",
    "        }\n",
    "\n",
    "    return prc_dict"
   ]
  },
  {
   "cell_type": "code",
   "execution_count": 39,
   "id": "ed69edc6",
   "metadata": {},
   "outputs": [
    {
     "name": "stderr",
     "output_type": "stream",
     "text": [
      "/usr/local/lib/python3.10/dist-packages/sklearn/metrics/_ranking.py:993: UserWarning: No positive class found in y_true, recall is set to one for all thresholds.\n",
      "  warnings.warn(\n",
      "/usr/local/lib/python3.10/dist-packages/sklearn/metrics/_ranking.py:993: UserWarning: No positive class found in y_true, recall is set to one for all thresholds.\n",
      "  warnings.warn(\n",
      "/usr/local/lib/python3.10/dist-packages/sklearn/metrics/_ranking.py:993: UserWarning: No positive class found in y_true, recall is set to one for all thresholds.\n",
      "  warnings.warn(\n",
      "/usr/local/lib/python3.10/dist-packages/sklearn/metrics/_ranking.py:993: UserWarning: No positive class found in y_true, recall is set to one for all thresholds.\n",
      "  warnings.warn(\n",
      "/usr/local/lib/python3.10/dist-packages/sklearn/metrics/_ranking.py:993: UserWarning: No positive class found in y_true, recall is set to one for all thresholds.\n",
      "  warnings.warn(\n",
      "/usr/local/lib/python3.10/dist-packages/sklearn/metrics/_ranking.py:993: UserWarning: No positive class found in y_true, recall is set to one for all thresholds.\n",
      "  warnings.warn(\n",
      "/usr/local/lib/python3.10/dist-packages/sklearn/metrics/_ranking.py:993: UserWarning: No positive class found in y_true, recall is set to one for all thresholds.\n",
      "  warnings.warn(\n",
      "/usr/local/lib/python3.10/dist-packages/sklearn/metrics/_ranking.py:993: UserWarning: No positive class found in y_true, recall is set to one for all thresholds.\n",
      "  warnings.warn(\n",
      "/usr/local/lib/python3.10/dist-packages/sklearn/metrics/_ranking.py:993: UserWarning: No positive class found in y_true, recall is set to one for all thresholds.\n",
      "  warnings.warn(\n",
      "/usr/local/lib/python3.10/dist-packages/sklearn/metrics/_ranking.py:993: UserWarning: No positive class found in y_true, recall is set to one for all thresholds.\n",
      "  warnings.warn(\n",
      "/usr/local/lib/python3.10/dist-packages/sklearn/metrics/_ranking.py:993: UserWarning: No positive class found in y_true, recall is set to one for all thresholds.\n",
      "  warnings.warn(\n",
      "/usr/local/lib/python3.10/dist-packages/sklearn/metrics/_ranking.py:993: UserWarning: No positive class found in y_true, recall is set to one for all thresholds.\n",
      "  warnings.warn(\n",
      "/usr/local/lib/python3.10/dist-packages/sklearn/metrics/_ranking.py:993: UserWarning: No positive class found in y_true, recall is set to one for all thresholds.\n",
      "  warnings.warn(\n",
      "/usr/local/lib/python3.10/dist-packages/sklearn/metrics/_ranking.py:993: UserWarning: No positive class found in y_true, recall is set to one for all thresholds.\n",
      "  warnings.warn(\n",
      "/usr/local/lib/python3.10/dist-packages/sklearn/metrics/_ranking.py:993: UserWarning: No positive class found in y_true, recall is set to one for all thresholds.\n",
      "  warnings.warn(\n",
      "/usr/local/lib/python3.10/dist-packages/sklearn/metrics/_ranking.py:993: UserWarning: No positive class found in y_true, recall is set to one for all thresholds.\n",
      "  warnings.warn(\n",
      "/usr/local/lib/python3.10/dist-packages/sklearn/metrics/_ranking.py:993: UserWarning: No positive class found in y_true, recall is set to one for all thresholds.\n",
      "  warnings.warn(\n",
      "/usr/local/lib/python3.10/dist-packages/sklearn/metrics/_ranking.py:993: UserWarning: No positive class found in y_true, recall is set to one for all thresholds.\n",
      "  warnings.warn(\n",
      "/usr/local/lib/python3.10/dist-packages/sklearn/metrics/_ranking.py:993: UserWarning: No positive class found in y_true, recall is set to one for all thresholds.\n",
      "  warnings.warn(\n",
      "/usr/local/lib/python3.10/dist-packages/sklearn/metrics/_ranking.py:993: UserWarning: No positive class found in y_true, recall is set to one for all thresholds.\n",
      "  warnings.warn(\n",
      "/usr/local/lib/python3.10/dist-packages/sklearn/metrics/_ranking.py:993: UserWarning: No positive class found in y_true, recall is set to one for all thresholds.\n",
      "  warnings.warn(\n",
      "/usr/local/lib/python3.10/dist-packages/sklearn/metrics/_ranking.py:993: UserWarning: No positive class found in y_true, recall is set to one for all thresholds.\n",
      "  warnings.warn(\n",
      "/usr/local/lib/python3.10/dist-packages/sklearn/metrics/_ranking.py:993: UserWarning: No positive class found in y_true, recall is set to one for all thresholds.\n",
      "  warnings.warn(\n",
      "/usr/local/lib/python3.10/dist-packages/sklearn/metrics/_ranking.py:993: UserWarning: No positive class found in y_true, recall is set to one for all thresholds.\n",
      "  warnings.warn(\n",
      "/usr/local/lib/python3.10/dist-packages/sklearn/metrics/_ranking.py:993: UserWarning: No positive class found in y_true, recall is set to one for all thresholds.\n",
      "  warnings.warn(\n",
      "/usr/local/lib/python3.10/dist-packages/sklearn/metrics/_ranking.py:993: UserWarning: No positive class found in y_true, recall is set to one for all thresholds.\n",
      "  warnings.warn(\n",
      "/usr/local/lib/python3.10/dist-packages/sklearn/metrics/_ranking.py:993: UserWarning: No positive class found in y_true, recall is set to one for all thresholds.\n",
      "  warnings.warn(\n",
      "/usr/local/lib/python3.10/dist-packages/sklearn/metrics/_ranking.py:993: UserWarning: No positive class found in y_true, recall is set to one for all thresholds.\n",
      "  warnings.warn(\n",
      "/usr/local/lib/python3.10/dist-packages/sklearn/metrics/_ranking.py:993: UserWarning: No positive class found in y_true, recall is set to one for all thresholds.\n",
      "  warnings.warn(\n",
      "/usr/local/lib/python3.10/dist-packages/sklearn/metrics/_ranking.py:993: UserWarning: No positive class found in y_true, recall is set to one for all thresholds.\n",
      "  warnings.warn(\n",
      "/usr/local/lib/python3.10/dist-packages/sklearn/metrics/_ranking.py:993: UserWarning: No positive class found in y_true, recall is set to one for all thresholds.\n",
      "  warnings.warn(\n",
      "/usr/local/lib/python3.10/dist-packages/sklearn/metrics/_ranking.py:993: UserWarning: No positive class found in y_true, recall is set to one for all thresholds.\n",
      "  warnings.warn(\n",
      "/usr/local/lib/python3.10/dist-packages/sklearn/metrics/_ranking.py:993: UserWarning: No positive class found in y_true, recall is set to one for all thresholds.\n",
      "  warnings.warn(\n",
      "/usr/local/lib/python3.10/dist-packages/sklearn/metrics/_ranking.py:993: UserWarning: No positive class found in y_true, recall is set to one for all thresholds.\n",
      "  warnings.warn(\n",
      "/usr/local/lib/python3.10/dist-packages/sklearn/metrics/_ranking.py:993: UserWarning: No positive class found in y_true, recall is set to one for all thresholds.\n",
      "  warnings.warn(\n",
      "/usr/local/lib/python3.10/dist-packages/sklearn/metrics/_ranking.py:993: UserWarning: No positive class found in y_true, recall is set to one for all thresholds.\n",
      "  warnings.warn(\n",
      "/usr/local/lib/python3.10/dist-packages/sklearn/metrics/_ranking.py:993: UserWarning: No positive class found in y_true, recall is set to one for all thresholds.\n",
      "  warnings.warn(\n",
      "/usr/local/lib/python3.10/dist-packages/sklearn/metrics/_ranking.py:993: UserWarning: No positive class found in y_true, recall is set to one for all thresholds.\n",
      "  warnings.warn(\n",
      "/usr/local/lib/python3.10/dist-packages/sklearn/metrics/_ranking.py:993: UserWarning: No positive class found in y_true, recall is set to one for all thresholds.\n",
      "  warnings.warn(\n",
      "/usr/local/lib/python3.10/dist-packages/sklearn/metrics/_ranking.py:993: UserWarning: No positive class found in y_true, recall is set to one for all thresholds.\n",
      "  warnings.warn(\n",
      "/usr/local/lib/python3.10/dist-packages/sklearn/metrics/_ranking.py:993: UserWarning: No positive class found in y_true, recall is set to one for all thresholds.\n",
      "  warnings.warn(\n",
      "/usr/local/lib/python3.10/dist-packages/sklearn/metrics/_ranking.py:993: UserWarning: No positive class found in y_true, recall is set to one for all thresholds.\n",
      "  warnings.warn(\n",
      "/usr/local/lib/python3.10/dist-packages/sklearn/metrics/_ranking.py:993: UserWarning: No positive class found in y_true, recall is set to one for all thresholds.\n",
      "  warnings.warn(\n",
      "/usr/local/lib/python3.10/dist-packages/sklearn/metrics/_ranking.py:993: UserWarning: No positive class found in y_true, recall is set to one for all thresholds.\n",
      "  warnings.warn(\n",
      "/usr/local/lib/python3.10/dist-packages/sklearn/metrics/_ranking.py:993: UserWarning: No positive class found in y_true, recall is set to one for all thresholds.\n",
      "  warnings.warn(\n",
      "/usr/local/lib/python3.10/dist-packages/sklearn/metrics/_ranking.py:993: UserWarning: No positive class found in y_true, recall is set to one for all thresholds.\n",
      "  warnings.warn(\n",
      "/usr/local/lib/python3.10/dist-packages/sklearn/metrics/_ranking.py:993: UserWarning: No positive class found in y_true, recall is set to one for all thresholds.\n",
      "  warnings.warn(\n",
      "/usr/local/lib/python3.10/dist-packages/sklearn/metrics/_ranking.py:993: UserWarning: No positive class found in y_true, recall is set to one for all thresholds.\n",
      "  warnings.warn(\n"
     ]
    },
    {
     "name": "stderr",
     "output_type": "stream",
     "text": [
      "/usr/local/lib/python3.10/dist-packages/sklearn/metrics/_ranking.py:993: UserWarning: No positive class found in y_true, recall is set to one for all thresholds.\n",
      "  warnings.warn(\n",
      "/usr/local/lib/python3.10/dist-packages/sklearn/metrics/_ranking.py:993: UserWarning: No positive class found in y_true, recall is set to one for all thresholds.\n",
      "  warnings.warn(\n",
      "/usr/local/lib/python3.10/dist-packages/sklearn/metrics/_ranking.py:993: UserWarning: No positive class found in y_true, recall is set to one for all thresholds.\n",
      "  warnings.warn(\n",
      "/usr/local/lib/python3.10/dist-packages/sklearn/metrics/_ranking.py:993: UserWarning: No positive class found in y_true, recall is set to one for all thresholds.\n",
      "  warnings.warn(\n",
      "/usr/local/lib/python3.10/dist-packages/sklearn/metrics/_ranking.py:993: UserWarning: No positive class found in y_true, recall is set to one for all thresholds.\n",
      "  warnings.warn(\n",
      "/usr/local/lib/python3.10/dist-packages/sklearn/metrics/_ranking.py:993: UserWarning: No positive class found in y_true, recall is set to one for all thresholds.\n",
      "  warnings.warn(\n",
      "/usr/local/lib/python3.10/dist-packages/sklearn/metrics/_ranking.py:993: UserWarning: No positive class found in y_true, recall is set to one for all thresholds.\n",
      "  warnings.warn(\n",
      "/usr/local/lib/python3.10/dist-packages/sklearn/metrics/_ranking.py:993: UserWarning: No positive class found in y_true, recall is set to one for all thresholds.\n",
      "  warnings.warn(\n",
      "/usr/local/lib/python3.10/dist-packages/sklearn/metrics/_ranking.py:993: UserWarning: No positive class found in y_true, recall is set to one for all thresholds.\n",
      "  warnings.warn(\n",
      "/usr/local/lib/python3.10/dist-packages/sklearn/metrics/_ranking.py:993: UserWarning: No positive class found in y_true, recall is set to one for all thresholds.\n",
      "  warnings.warn(\n",
      "/usr/local/lib/python3.10/dist-packages/sklearn/metrics/_ranking.py:993: UserWarning: No positive class found in y_true, recall is set to one for all thresholds.\n",
      "  warnings.warn(\n",
      "/usr/local/lib/python3.10/dist-packages/sklearn/metrics/_ranking.py:993: UserWarning: No positive class found in y_true, recall is set to one for all thresholds.\n",
      "  warnings.warn(\n",
      "/usr/local/lib/python3.10/dist-packages/sklearn/metrics/_ranking.py:993: UserWarning: No positive class found in y_true, recall is set to one for all thresholds.\n",
      "  warnings.warn(\n",
      "/usr/local/lib/python3.10/dist-packages/sklearn/metrics/_ranking.py:993: UserWarning: No positive class found in y_true, recall is set to one for all thresholds.\n",
      "  warnings.warn(\n",
      "/usr/local/lib/python3.10/dist-packages/sklearn/metrics/_ranking.py:993: UserWarning: No positive class found in y_true, recall is set to one for all thresholds.\n",
      "  warnings.warn(\n",
      "/usr/local/lib/python3.10/dist-packages/sklearn/metrics/_ranking.py:993: UserWarning: No positive class found in y_true, recall is set to one for all thresholds.\n",
      "  warnings.warn(\n",
      "/usr/local/lib/python3.10/dist-packages/sklearn/metrics/_ranking.py:993: UserWarning: No positive class found in y_true, recall is set to one for all thresholds.\n",
      "  warnings.warn(\n",
      "/usr/local/lib/python3.10/dist-packages/sklearn/metrics/_ranking.py:993: UserWarning: No positive class found in y_true, recall is set to one for all thresholds.\n",
      "  warnings.warn(\n",
      "/usr/local/lib/python3.10/dist-packages/sklearn/metrics/_ranking.py:993: UserWarning: No positive class found in y_true, recall is set to one for all thresholds.\n",
      "  warnings.warn(\n",
      "/usr/local/lib/python3.10/dist-packages/sklearn/metrics/_ranking.py:993: UserWarning: No positive class found in y_true, recall is set to one for all thresholds.\n",
      "  warnings.warn(\n",
      "/usr/local/lib/python3.10/dist-packages/sklearn/metrics/_ranking.py:993: UserWarning: No positive class found in y_true, recall is set to one for all thresholds.\n",
      "  warnings.warn(\n",
      "/usr/local/lib/python3.10/dist-packages/sklearn/metrics/_ranking.py:993: UserWarning: No positive class found in y_true, recall is set to one for all thresholds.\n",
      "  warnings.warn(\n",
      "/usr/local/lib/python3.10/dist-packages/sklearn/metrics/_ranking.py:993: UserWarning: No positive class found in y_true, recall is set to one for all thresholds.\n",
      "  warnings.warn(\n",
      "/usr/local/lib/python3.10/dist-packages/sklearn/metrics/_ranking.py:993: UserWarning: No positive class found in y_true, recall is set to one for all thresholds.\n",
      "  warnings.warn(\n",
      "/usr/local/lib/python3.10/dist-packages/sklearn/metrics/_ranking.py:993: UserWarning: No positive class found in y_true, recall is set to one for all thresholds.\n",
      "  warnings.warn(\n",
      "/usr/local/lib/python3.10/dist-packages/sklearn/metrics/_ranking.py:993: UserWarning: No positive class found in y_true, recall is set to one for all thresholds.\n",
      "  warnings.warn(\n",
      "/usr/local/lib/python3.10/dist-packages/sklearn/metrics/_ranking.py:993: UserWarning: No positive class found in y_true, recall is set to one for all thresholds.\n",
      "  warnings.warn(\n",
      "/usr/local/lib/python3.10/dist-packages/sklearn/metrics/_ranking.py:993: UserWarning: No positive class found in y_true, recall is set to one for all thresholds.\n",
      "  warnings.warn(\n",
      "/usr/local/lib/python3.10/dist-packages/sklearn/metrics/_ranking.py:993: UserWarning: No positive class found in y_true, recall is set to one for all thresholds.\n",
      "  warnings.warn(\n",
      "/usr/local/lib/python3.10/dist-packages/sklearn/metrics/_ranking.py:993: UserWarning: No positive class found in y_true, recall is set to one for all thresholds.\n",
      "  warnings.warn(\n",
      "/usr/local/lib/python3.10/dist-packages/sklearn/metrics/_ranking.py:993: UserWarning: No positive class found in y_true, recall is set to one for all thresholds.\n",
      "  warnings.warn(\n",
      "/usr/local/lib/python3.10/dist-packages/sklearn/metrics/_ranking.py:993: UserWarning: No positive class found in y_true, recall is set to one for all thresholds.\n",
      "  warnings.warn(\n",
      "/usr/local/lib/python3.10/dist-packages/sklearn/metrics/_ranking.py:993: UserWarning: No positive class found in y_true, recall is set to one for all thresholds.\n",
      "  warnings.warn(\n",
      "/usr/local/lib/python3.10/dist-packages/sklearn/metrics/_ranking.py:993: UserWarning: No positive class found in y_true, recall is set to one for all thresholds.\n",
      "  warnings.warn(\n",
      "/usr/local/lib/python3.10/dist-packages/sklearn/metrics/_ranking.py:993: UserWarning: No positive class found in y_true, recall is set to one for all thresholds.\n",
      "  warnings.warn(\n",
      "/usr/local/lib/python3.10/dist-packages/sklearn/metrics/_ranking.py:993: UserWarning: No positive class found in y_true, recall is set to one for all thresholds.\n",
      "  warnings.warn(\n",
      "/usr/local/lib/python3.10/dist-packages/sklearn/metrics/_ranking.py:993: UserWarning: No positive class found in y_true, recall is set to one for all thresholds.\n",
      "  warnings.warn(\n",
      "/usr/local/lib/python3.10/dist-packages/sklearn/metrics/_ranking.py:993: UserWarning: No positive class found in y_true, recall is set to one for all thresholds.\n",
      "  warnings.warn(\n",
      "/usr/local/lib/python3.10/dist-packages/sklearn/metrics/_ranking.py:993: UserWarning: No positive class found in y_true, recall is set to one for all thresholds.\n",
      "  warnings.warn(\n",
      "/usr/local/lib/python3.10/dist-packages/sklearn/metrics/_ranking.py:993: UserWarning: No positive class found in y_true, recall is set to one for all thresholds.\n",
      "  warnings.warn(\n",
      "/usr/local/lib/python3.10/dist-packages/sklearn/metrics/_ranking.py:993: UserWarning: No positive class found in y_true, recall is set to one for all thresholds.\n",
      "  warnings.warn(\n",
      "/usr/local/lib/python3.10/dist-packages/sklearn/metrics/_ranking.py:993: UserWarning: No positive class found in y_true, recall is set to one for all thresholds.\n",
      "  warnings.warn(\n",
      "/usr/local/lib/python3.10/dist-packages/sklearn/metrics/_ranking.py:993: UserWarning: No positive class found in y_true, recall is set to one for all thresholds.\n",
      "  warnings.warn(\n",
      "/usr/local/lib/python3.10/dist-packages/sklearn/metrics/_ranking.py:993: UserWarning: No positive class found in y_true, recall is set to one for all thresholds.\n",
      "  warnings.warn(\n",
      "/usr/local/lib/python3.10/dist-packages/sklearn/metrics/_ranking.py:993: UserWarning: No positive class found in y_true, recall is set to one for all thresholds.\n",
      "  warnings.warn(\n",
      "/usr/local/lib/python3.10/dist-packages/sklearn/metrics/_ranking.py:993: UserWarning: No positive class found in y_true, recall is set to one for all thresholds.\n",
      "  warnings.warn(\n"
     ]
    },
    {
     "name": "stderr",
     "output_type": "stream",
     "text": [
      "/usr/local/lib/python3.10/dist-packages/sklearn/metrics/_ranking.py:993: UserWarning: No positive class found in y_true, recall is set to one for all thresholds.\n",
      "  warnings.warn(\n",
      "/usr/local/lib/python3.10/dist-packages/sklearn/metrics/_ranking.py:993: UserWarning: No positive class found in y_true, recall is set to one for all thresholds.\n",
      "  warnings.warn(\n",
      "/usr/local/lib/python3.10/dist-packages/sklearn/metrics/_ranking.py:993: UserWarning: No positive class found in y_true, recall is set to one for all thresholds.\n",
      "  warnings.warn(\n",
      "/usr/local/lib/python3.10/dist-packages/sklearn/metrics/_ranking.py:993: UserWarning: No positive class found in y_true, recall is set to one for all thresholds.\n",
      "  warnings.warn(\n",
      "/usr/local/lib/python3.10/dist-packages/sklearn/metrics/_ranking.py:993: UserWarning: No positive class found in y_true, recall is set to one for all thresholds.\n",
      "  warnings.warn(\n",
      "/usr/local/lib/python3.10/dist-packages/sklearn/metrics/_ranking.py:993: UserWarning: No positive class found in y_true, recall is set to one for all thresholds.\n",
      "  warnings.warn(\n",
      "/usr/local/lib/python3.10/dist-packages/sklearn/metrics/_ranking.py:993: UserWarning: No positive class found in y_true, recall is set to one for all thresholds.\n",
      "  warnings.warn(\n",
      "/usr/local/lib/python3.10/dist-packages/sklearn/metrics/_ranking.py:993: UserWarning: No positive class found in y_true, recall is set to one for all thresholds.\n",
      "  warnings.warn(\n",
      "/usr/local/lib/python3.10/dist-packages/sklearn/metrics/_ranking.py:993: UserWarning: No positive class found in y_true, recall is set to one for all thresholds.\n",
      "  warnings.warn(\n",
      "/usr/local/lib/python3.10/dist-packages/sklearn/metrics/_ranking.py:993: UserWarning: No positive class found in y_true, recall is set to one for all thresholds.\n",
      "  warnings.warn(\n",
      "/usr/local/lib/python3.10/dist-packages/sklearn/metrics/_ranking.py:993: UserWarning: No positive class found in y_true, recall is set to one for all thresholds.\n",
      "  warnings.warn(\n",
      "/usr/local/lib/python3.10/dist-packages/sklearn/metrics/_ranking.py:993: UserWarning: No positive class found in y_true, recall is set to one for all thresholds.\n",
      "  warnings.warn(\n",
      "/usr/local/lib/python3.10/dist-packages/sklearn/metrics/_ranking.py:993: UserWarning: No positive class found in y_true, recall is set to one for all thresholds.\n",
      "  warnings.warn(\n",
      "/usr/local/lib/python3.10/dist-packages/sklearn/metrics/_ranking.py:993: UserWarning: No positive class found in y_true, recall is set to one for all thresholds.\n",
      "  warnings.warn(\n",
      "/usr/local/lib/python3.10/dist-packages/sklearn/metrics/_ranking.py:993: UserWarning: No positive class found in y_true, recall is set to one for all thresholds.\n",
      "  warnings.warn(\n",
      "/usr/local/lib/python3.10/dist-packages/sklearn/metrics/_ranking.py:993: UserWarning: No positive class found in y_true, recall is set to one for all thresholds.\n",
      "  warnings.warn(\n",
      "/usr/local/lib/python3.10/dist-packages/sklearn/metrics/_ranking.py:993: UserWarning: No positive class found in y_true, recall is set to one for all thresholds.\n",
      "  warnings.warn(\n",
      "/usr/local/lib/python3.10/dist-packages/sklearn/metrics/_ranking.py:993: UserWarning: No positive class found in y_true, recall is set to one for all thresholds.\n",
      "  warnings.warn(\n",
      "/usr/local/lib/python3.10/dist-packages/sklearn/metrics/_ranking.py:993: UserWarning: No positive class found in y_true, recall is set to one for all thresholds.\n",
      "  warnings.warn(\n",
      "/usr/local/lib/python3.10/dist-packages/sklearn/metrics/_ranking.py:993: UserWarning: No positive class found in y_true, recall is set to one for all thresholds.\n",
      "  warnings.warn(\n",
      "/usr/local/lib/python3.10/dist-packages/sklearn/metrics/_ranking.py:993: UserWarning: No positive class found in y_true, recall is set to one for all thresholds.\n",
      "  warnings.warn(\n",
      "/usr/local/lib/python3.10/dist-packages/sklearn/metrics/_ranking.py:993: UserWarning: No positive class found in y_true, recall is set to one for all thresholds.\n",
      "  warnings.warn(\n",
      "/usr/local/lib/python3.10/dist-packages/sklearn/metrics/_ranking.py:993: UserWarning: No positive class found in y_true, recall is set to one for all thresholds.\n",
      "  warnings.warn(\n",
      "/usr/local/lib/python3.10/dist-packages/sklearn/metrics/_ranking.py:993: UserWarning: No positive class found in y_true, recall is set to one for all thresholds.\n",
      "  warnings.warn(\n",
      "/usr/local/lib/python3.10/dist-packages/sklearn/metrics/_ranking.py:993: UserWarning: No positive class found in y_true, recall is set to one for all thresholds.\n",
      "  warnings.warn(\n",
      "/usr/local/lib/python3.10/dist-packages/sklearn/metrics/_ranking.py:993: UserWarning: No positive class found in y_true, recall is set to one for all thresholds.\n",
      "  warnings.warn(\n",
      "/usr/local/lib/python3.10/dist-packages/sklearn/metrics/_ranking.py:993: UserWarning: No positive class found in y_true, recall is set to one for all thresholds.\n",
      "  warnings.warn(\n",
      "/usr/local/lib/python3.10/dist-packages/sklearn/metrics/_ranking.py:993: UserWarning: No positive class found in y_true, recall is set to one for all thresholds.\n",
      "  warnings.warn(\n",
      "/usr/local/lib/python3.10/dist-packages/sklearn/metrics/_ranking.py:993: UserWarning: No positive class found in y_true, recall is set to one for all thresholds.\n",
      "  warnings.warn(\n",
      "/usr/local/lib/python3.10/dist-packages/sklearn/metrics/_ranking.py:993: UserWarning: No positive class found in y_true, recall is set to one for all thresholds.\n",
      "  warnings.warn(\n",
      "/usr/local/lib/python3.10/dist-packages/sklearn/metrics/_ranking.py:993: UserWarning: No positive class found in y_true, recall is set to one for all thresholds.\n",
      "  warnings.warn(\n",
      "/usr/local/lib/python3.10/dist-packages/sklearn/metrics/_ranking.py:993: UserWarning: No positive class found in y_true, recall is set to one for all thresholds.\n",
      "  warnings.warn(\n",
      "/usr/local/lib/python3.10/dist-packages/sklearn/metrics/_ranking.py:993: UserWarning: No positive class found in y_true, recall is set to one for all thresholds.\n",
      "  warnings.warn(\n",
      "/usr/local/lib/python3.10/dist-packages/sklearn/metrics/_ranking.py:993: UserWarning: No positive class found in y_true, recall is set to one for all thresholds.\n",
      "  warnings.warn(\n",
      "/usr/local/lib/python3.10/dist-packages/sklearn/metrics/_ranking.py:993: UserWarning: No positive class found in y_true, recall is set to one for all thresholds.\n",
      "  warnings.warn(\n",
      "/usr/local/lib/python3.10/dist-packages/sklearn/metrics/_ranking.py:993: UserWarning: No positive class found in y_true, recall is set to one for all thresholds.\n",
      "  warnings.warn(\n",
      "/usr/local/lib/python3.10/dist-packages/sklearn/metrics/_ranking.py:993: UserWarning: No positive class found in y_true, recall is set to one for all thresholds.\n",
      "  warnings.warn(\n",
      "/usr/local/lib/python3.10/dist-packages/sklearn/metrics/_ranking.py:993: UserWarning: No positive class found in y_true, recall is set to one for all thresholds.\n",
      "  warnings.warn(\n",
      "/usr/local/lib/python3.10/dist-packages/sklearn/metrics/_ranking.py:993: UserWarning: No positive class found in y_true, recall is set to one for all thresholds.\n",
      "  warnings.warn(\n",
      "/usr/local/lib/python3.10/dist-packages/sklearn/metrics/_ranking.py:993: UserWarning: No positive class found in y_true, recall is set to one for all thresholds.\n",
      "  warnings.warn(\n",
      "/usr/local/lib/python3.10/dist-packages/sklearn/metrics/_ranking.py:993: UserWarning: No positive class found in y_true, recall is set to one for all thresholds.\n",
      "  warnings.warn(\n",
      "/usr/local/lib/python3.10/dist-packages/sklearn/metrics/_ranking.py:993: UserWarning: No positive class found in y_true, recall is set to one for all thresholds.\n",
      "  warnings.warn(\n",
      "/usr/local/lib/python3.10/dist-packages/sklearn/metrics/_ranking.py:993: UserWarning: No positive class found in y_true, recall is set to one for all thresholds.\n",
      "  warnings.warn(\n",
      "/usr/local/lib/python3.10/dist-packages/sklearn/metrics/_ranking.py:993: UserWarning: No positive class found in y_true, recall is set to one for all thresholds.\n",
      "  warnings.warn(\n",
      "/usr/local/lib/python3.10/dist-packages/sklearn/metrics/_ranking.py:993: UserWarning: No positive class found in y_true, recall is set to one for all thresholds.\n",
      "  warnings.warn(\n",
      "/usr/local/lib/python3.10/dist-packages/sklearn/metrics/_ranking.py:993: UserWarning: No positive class found in y_true, recall is set to one for all thresholds.\n",
      "  warnings.warn(\n"
     ]
    },
    {
     "name": "stderr",
     "output_type": "stream",
     "text": [
      "/usr/local/lib/python3.10/dist-packages/sklearn/metrics/_ranking.py:993: UserWarning: No positive class found in y_true, recall is set to one for all thresholds.\n",
      "  warnings.warn(\n",
      "/usr/local/lib/python3.10/dist-packages/sklearn/metrics/_ranking.py:993: UserWarning: No positive class found in y_true, recall is set to one for all thresholds.\n",
      "  warnings.warn(\n",
      "/usr/local/lib/python3.10/dist-packages/sklearn/metrics/_ranking.py:993: UserWarning: No positive class found in y_true, recall is set to one for all thresholds.\n",
      "  warnings.warn(\n",
      "/usr/local/lib/python3.10/dist-packages/sklearn/metrics/_ranking.py:993: UserWarning: No positive class found in y_true, recall is set to one for all thresholds.\n",
      "  warnings.warn(\n",
      "/usr/local/lib/python3.10/dist-packages/sklearn/metrics/_ranking.py:993: UserWarning: No positive class found in y_true, recall is set to one for all thresholds.\n",
      "  warnings.warn(\n",
      "/usr/local/lib/python3.10/dist-packages/sklearn/metrics/_ranking.py:993: UserWarning: No positive class found in y_true, recall is set to one for all thresholds.\n",
      "  warnings.warn(\n",
      "/usr/local/lib/python3.10/dist-packages/sklearn/metrics/_ranking.py:993: UserWarning: No positive class found in y_true, recall is set to one for all thresholds.\n",
      "  warnings.warn(\n",
      "/usr/local/lib/python3.10/dist-packages/sklearn/metrics/_ranking.py:993: UserWarning: No positive class found in y_true, recall is set to one for all thresholds.\n",
      "  warnings.warn(\n",
      "/usr/local/lib/python3.10/dist-packages/sklearn/metrics/_ranking.py:993: UserWarning: No positive class found in y_true, recall is set to one for all thresholds.\n",
      "  warnings.warn(\n",
      "/usr/local/lib/python3.10/dist-packages/sklearn/metrics/_ranking.py:993: UserWarning: No positive class found in y_true, recall is set to one for all thresholds.\n",
      "  warnings.warn(\n",
      "/usr/local/lib/python3.10/dist-packages/sklearn/metrics/_ranking.py:993: UserWarning: No positive class found in y_true, recall is set to one for all thresholds.\n",
      "  warnings.warn(\n",
      "/usr/local/lib/python3.10/dist-packages/sklearn/metrics/_ranking.py:993: UserWarning: No positive class found in y_true, recall is set to one for all thresholds.\n",
      "  warnings.warn(\n",
      "/usr/local/lib/python3.10/dist-packages/sklearn/metrics/_ranking.py:993: UserWarning: No positive class found in y_true, recall is set to one for all thresholds.\n",
      "  warnings.warn(\n",
      "/usr/local/lib/python3.10/dist-packages/sklearn/metrics/_ranking.py:993: UserWarning: No positive class found in y_true, recall is set to one for all thresholds.\n",
      "  warnings.warn(\n",
      "/usr/local/lib/python3.10/dist-packages/sklearn/metrics/_ranking.py:993: UserWarning: No positive class found in y_true, recall is set to one for all thresholds.\n",
      "  warnings.warn(\n",
      "/usr/local/lib/python3.10/dist-packages/sklearn/metrics/_ranking.py:993: UserWarning: No positive class found in y_true, recall is set to one for all thresholds.\n",
      "  warnings.warn(\n",
      "/usr/local/lib/python3.10/dist-packages/sklearn/metrics/_ranking.py:993: UserWarning: No positive class found in y_true, recall is set to one for all thresholds.\n",
      "  warnings.warn(\n",
      "/usr/local/lib/python3.10/dist-packages/sklearn/metrics/_ranking.py:993: UserWarning: No positive class found in y_true, recall is set to one for all thresholds.\n",
      "  warnings.warn(\n",
      "/usr/local/lib/python3.10/dist-packages/sklearn/metrics/_ranking.py:993: UserWarning: No positive class found in y_true, recall is set to one for all thresholds.\n",
      "  warnings.warn(\n",
      "/usr/local/lib/python3.10/dist-packages/sklearn/metrics/_ranking.py:993: UserWarning: No positive class found in y_true, recall is set to one for all thresholds.\n",
      "  warnings.warn(\n",
      "/usr/local/lib/python3.10/dist-packages/sklearn/metrics/_ranking.py:993: UserWarning: No positive class found in y_true, recall is set to one for all thresholds.\n",
      "  warnings.warn(\n",
      "/usr/local/lib/python3.10/dist-packages/sklearn/metrics/_ranking.py:993: UserWarning: No positive class found in y_true, recall is set to one for all thresholds.\n",
      "  warnings.warn(\n",
      "/usr/local/lib/python3.10/dist-packages/sklearn/metrics/_ranking.py:993: UserWarning: No positive class found in y_true, recall is set to one for all thresholds.\n",
      "  warnings.warn(\n",
      "/usr/local/lib/python3.10/dist-packages/sklearn/metrics/_ranking.py:993: UserWarning: No positive class found in y_true, recall is set to one for all thresholds.\n",
      "  warnings.warn(\n",
      "/usr/local/lib/python3.10/dist-packages/sklearn/metrics/_ranking.py:993: UserWarning: No positive class found in y_true, recall is set to one for all thresholds.\n",
      "  warnings.warn(\n",
      "/usr/local/lib/python3.10/dist-packages/sklearn/metrics/_ranking.py:993: UserWarning: No positive class found in y_true, recall is set to one for all thresholds.\n",
      "  warnings.warn(\n",
      "/usr/local/lib/python3.10/dist-packages/sklearn/metrics/_ranking.py:993: UserWarning: No positive class found in y_true, recall is set to one for all thresholds.\n",
      "  warnings.warn(\n",
      "/usr/local/lib/python3.10/dist-packages/sklearn/metrics/_ranking.py:993: UserWarning: No positive class found in y_true, recall is set to one for all thresholds.\n",
      "  warnings.warn(\n",
      "/usr/local/lib/python3.10/dist-packages/sklearn/metrics/_ranking.py:993: UserWarning: No positive class found in y_true, recall is set to one for all thresholds.\n",
      "  warnings.warn(\n",
      "/usr/local/lib/python3.10/dist-packages/sklearn/metrics/_ranking.py:993: UserWarning: No positive class found in y_true, recall is set to one for all thresholds.\n",
      "  warnings.warn(\n",
      "/usr/local/lib/python3.10/dist-packages/sklearn/metrics/_ranking.py:993: UserWarning: No positive class found in y_true, recall is set to one for all thresholds.\n",
      "  warnings.warn(\n",
      "/usr/local/lib/python3.10/dist-packages/sklearn/metrics/_ranking.py:993: UserWarning: No positive class found in y_true, recall is set to one for all thresholds.\n",
      "  warnings.warn(\n",
      "/usr/local/lib/python3.10/dist-packages/sklearn/metrics/_ranking.py:993: UserWarning: No positive class found in y_true, recall is set to one for all thresholds.\n",
      "  warnings.warn(\n",
      "/usr/local/lib/python3.10/dist-packages/sklearn/metrics/_ranking.py:993: UserWarning: No positive class found in y_true, recall is set to one for all thresholds.\n",
      "  warnings.warn(\n",
      "/usr/local/lib/python3.10/dist-packages/sklearn/metrics/_ranking.py:993: UserWarning: No positive class found in y_true, recall is set to one for all thresholds.\n",
      "  warnings.warn(\n",
      "/usr/local/lib/python3.10/dist-packages/sklearn/metrics/_ranking.py:993: UserWarning: No positive class found in y_true, recall is set to one for all thresholds.\n",
      "  warnings.warn(\n",
      "/usr/local/lib/python3.10/dist-packages/sklearn/metrics/_ranking.py:993: UserWarning: No positive class found in y_true, recall is set to one for all thresholds.\n",
      "  warnings.warn(\n",
      "/usr/local/lib/python3.10/dist-packages/sklearn/metrics/_ranking.py:993: UserWarning: No positive class found in y_true, recall is set to one for all thresholds.\n",
      "  warnings.warn(\n",
      "/usr/local/lib/python3.10/dist-packages/sklearn/metrics/_ranking.py:993: UserWarning: No positive class found in y_true, recall is set to one for all thresholds.\n",
      "  warnings.warn(\n",
      "/usr/local/lib/python3.10/dist-packages/sklearn/metrics/_ranking.py:993: UserWarning: No positive class found in y_true, recall is set to one for all thresholds.\n",
      "  warnings.warn(\n",
      "/usr/local/lib/python3.10/dist-packages/sklearn/metrics/_ranking.py:993: UserWarning: No positive class found in y_true, recall is set to one for all thresholds.\n",
      "  warnings.warn(\n",
      "/usr/local/lib/python3.10/dist-packages/sklearn/metrics/_ranking.py:993: UserWarning: No positive class found in y_true, recall is set to one for all thresholds.\n",
      "  warnings.warn(\n",
      "/usr/local/lib/python3.10/dist-packages/sklearn/metrics/_ranking.py:993: UserWarning: No positive class found in y_true, recall is set to one for all thresholds.\n",
      "  warnings.warn(\n",
      "/usr/local/lib/python3.10/dist-packages/sklearn/metrics/_ranking.py:993: UserWarning: No positive class found in y_true, recall is set to one for all thresholds.\n",
      "  warnings.warn(\n",
      "/usr/local/lib/python3.10/dist-packages/sklearn/metrics/_ranking.py:993: UserWarning: No positive class found in y_true, recall is set to one for all thresholds.\n",
      "  warnings.warn(\n",
      "/usr/local/lib/python3.10/dist-packages/sklearn/metrics/_ranking.py:993: UserWarning: No positive class found in y_true, recall is set to one for all thresholds.\n",
      "  warnings.warn(\n"
     ]
    },
    {
     "name": "stderr",
     "output_type": "stream",
     "text": [
      "/usr/local/lib/python3.10/dist-packages/sklearn/metrics/_ranking.py:993: UserWarning: No positive class found in y_true, recall is set to one for all thresholds.\n",
      "  warnings.warn(\n",
      "/usr/local/lib/python3.10/dist-packages/sklearn/metrics/_ranking.py:993: UserWarning: No positive class found in y_true, recall is set to one for all thresholds.\n",
      "  warnings.warn(\n",
      "/usr/local/lib/python3.10/dist-packages/sklearn/metrics/_ranking.py:993: UserWarning: No positive class found in y_true, recall is set to one for all thresholds.\n",
      "  warnings.warn(\n",
      "/usr/local/lib/python3.10/dist-packages/sklearn/metrics/_ranking.py:993: UserWarning: No positive class found in y_true, recall is set to one for all thresholds.\n",
      "  warnings.warn(\n",
      "/usr/local/lib/python3.10/dist-packages/sklearn/metrics/_ranking.py:993: UserWarning: No positive class found in y_true, recall is set to one for all thresholds.\n",
      "  warnings.warn(\n",
      "/usr/local/lib/python3.10/dist-packages/sklearn/metrics/_ranking.py:993: UserWarning: No positive class found in y_true, recall is set to one for all thresholds.\n",
      "  warnings.warn(\n",
      "/usr/local/lib/python3.10/dist-packages/sklearn/metrics/_ranking.py:993: UserWarning: No positive class found in y_true, recall is set to one for all thresholds.\n",
      "  warnings.warn(\n",
      "/usr/local/lib/python3.10/dist-packages/sklearn/metrics/_ranking.py:993: UserWarning: No positive class found in y_true, recall is set to one for all thresholds.\n",
      "  warnings.warn(\n",
      "/usr/local/lib/python3.10/dist-packages/sklearn/metrics/_ranking.py:993: UserWarning: No positive class found in y_true, recall is set to one for all thresholds.\n",
      "  warnings.warn(\n",
      "/usr/local/lib/python3.10/dist-packages/sklearn/metrics/_ranking.py:993: UserWarning: No positive class found in y_true, recall is set to one for all thresholds.\n",
      "  warnings.warn(\n",
      "/usr/local/lib/python3.10/dist-packages/sklearn/metrics/_ranking.py:993: UserWarning: No positive class found in y_true, recall is set to one for all thresholds.\n",
      "  warnings.warn(\n",
      "/usr/local/lib/python3.10/dist-packages/sklearn/metrics/_ranking.py:993: UserWarning: No positive class found in y_true, recall is set to one for all thresholds.\n",
      "  warnings.warn(\n",
      "/usr/local/lib/python3.10/dist-packages/sklearn/metrics/_ranking.py:993: UserWarning: No positive class found in y_true, recall is set to one for all thresholds.\n",
      "  warnings.warn(\n",
      "/usr/local/lib/python3.10/dist-packages/sklearn/metrics/_ranking.py:993: UserWarning: No positive class found in y_true, recall is set to one for all thresholds.\n",
      "  warnings.warn(\n",
      "/usr/local/lib/python3.10/dist-packages/sklearn/metrics/_ranking.py:993: UserWarning: No positive class found in y_true, recall is set to one for all thresholds.\n",
      "  warnings.warn(\n",
      "/usr/local/lib/python3.10/dist-packages/sklearn/metrics/_ranking.py:993: UserWarning: No positive class found in y_true, recall is set to one for all thresholds.\n",
      "  warnings.warn(\n",
      "/usr/local/lib/python3.10/dist-packages/sklearn/metrics/_ranking.py:993: UserWarning: No positive class found in y_true, recall is set to one for all thresholds.\n",
      "  warnings.warn(\n",
      "/usr/local/lib/python3.10/dist-packages/sklearn/metrics/_ranking.py:993: UserWarning: No positive class found in y_true, recall is set to one for all thresholds.\n",
      "  warnings.warn(\n",
      "/usr/local/lib/python3.10/dist-packages/sklearn/metrics/_ranking.py:993: UserWarning: No positive class found in y_true, recall is set to one for all thresholds.\n",
      "  warnings.warn(\n",
      "/usr/local/lib/python3.10/dist-packages/sklearn/metrics/_ranking.py:993: UserWarning: No positive class found in y_true, recall is set to one for all thresholds.\n",
      "  warnings.warn(\n",
      "/usr/local/lib/python3.10/dist-packages/sklearn/metrics/_ranking.py:993: UserWarning: No positive class found in y_true, recall is set to one for all thresholds.\n",
      "  warnings.warn(\n",
      "/usr/local/lib/python3.10/dist-packages/sklearn/metrics/_ranking.py:993: UserWarning: No positive class found in y_true, recall is set to one for all thresholds.\n",
      "  warnings.warn(\n",
      "/usr/local/lib/python3.10/dist-packages/sklearn/metrics/_ranking.py:993: UserWarning: No positive class found in y_true, recall is set to one for all thresholds.\n",
      "  warnings.warn(\n",
      "/usr/local/lib/python3.10/dist-packages/sklearn/metrics/_ranking.py:993: UserWarning: No positive class found in y_true, recall is set to one for all thresholds.\n",
      "  warnings.warn(\n",
      "/usr/local/lib/python3.10/dist-packages/sklearn/metrics/_ranking.py:993: UserWarning: No positive class found in y_true, recall is set to one for all thresholds.\n",
      "  warnings.warn(\n",
      "/usr/local/lib/python3.10/dist-packages/sklearn/metrics/_ranking.py:993: UserWarning: No positive class found in y_true, recall is set to one for all thresholds.\n",
      "  warnings.warn(\n",
      "/usr/local/lib/python3.10/dist-packages/sklearn/metrics/_ranking.py:993: UserWarning: No positive class found in y_true, recall is set to one for all thresholds.\n",
      "  warnings.warn(\n",
      "/usr/local/lib/python3.10/dist-packages/sklearn/metrics/_ranking.py:993: UserWarning: No positive class found in y_true, recall is set to one for all thresholds.\n",
      "  warnings.warn(\n",
      "/usr/local/lib/python3.10/dist-packages/sklearn/metrics/_ranking.py:993: UserWarning: No positive class found in y_true, recall is set to one for all thresholds.\n",
      "  warnings.warn(\n",
      "/usr/local/lib/python3.10/dist-packages/sklearn/metrics/_ranking.py:993: UserWarning: No positive class found in y_true, recall is set to one for all thresholds.\n",
      "  warnings.warn(\n",
      "/usr/local/lib/python3.10/dist-packages/sklearn/metrics/_ranking.py:993: UserWarning: No positive class found in y_true, recall is set to one for all thresholds.\n",
      "  warnings.warn(\n",
      "/usr/local/lib/python3.10/dist-packages/sklearn/metrics/_ranking.py:993: UserWarning: No positive class found in y_true, recall is set to one for all thresholds.\n",
      "  warnings.warn(\n",
      "/usr/local/lib/python3.10/dist-packages/sklearn/metrics/_ranking.py:993: UserWarning: No positive class found in y_true, recall is set to one for all thresholds.\n",
      "  warnings.warn(\n",
      "/usr/local/lib/python3.10/dist-packages/sklearn/metrics/_ranking.py:993: UserWarning: No positive class found in y_true, recall is set to one for all thresholds.\n",
      "  warnings.warn(\n",
      "/usr/local/lib/python3.10/dist-packages/sklearn/metrics/_ranking.py:993: UserWarning: No positive class found in y_true, recall is set to one for all thresholds.\n",
      "  warnings.warn(\n",
      "/usr/local/lib/python3.10/dist-packages/sklearn/metrics/_ranking.py:993: UserWarning: No positive class found in y_true, recall is set to one for all thresholds.\n",
      "  warnings.warn(\n",
      "/usr/local/lib/python3.10/dist-packages/sklearn/metrics/_ranking.py:993: UserWarning: No positive class found in y_true, recall is set to one for all thresholds.\n",
      "  warnings.warn(\n",
      "/usr/local/lib/python3.10/dist-packages/sklearn/metrics/_ranking.py:993: UserWarning: No positive class found in y_true, recall is set to one for all thresholds.\n",
      "  warnings.warn(\n",
      "/usr/local/lib/python3.10/dist-packages/sklearn/metrics/_ranking.py:993: UserWarning: No positive class found in y_true, recall is set to one for all thresholds.\n",
      "  warnings.warn(\n",
      "/usr/local/lib/python3.10/dist-packages/sklearn/metrics/_ranking.py:993: UserWarning: No positive class found in y_true, recall is set to one for all thresholds.\n",
      "  warnings.warn(\n",
      "/usr/local/lib/python3.10/dist-packages/sklearn/metrics/_ranking.py:993: UserWarning: No positive class found in y_true, recall is set to one for all thresholds.\n",
      "  warnings.warn(\n",
      "/usr/local/lib/python3.10/dist-packages/sklearn/metrics/_ranking.py:993: UserWarning: No positive class found in y_true, recall is set to one for all thresholds.\n",
      "  warnings.warn(\n",
      "/usr/local/lib/python3.10/dist-packages/sklearn/metrics/_ranking.py:993: UserWarning: No positive class found in y_true, recall is set to one for all thresholds.\n",
      "  warnings.warn(\n",
      "/usr/local/lib/python3.10/dist-packages/sklearn/metrics/_ranking.py:993: UserWarning: No positive class found in y_true, recall is set to one for all thresholds.\n",
      "  warnings.warn(\n"
     ]
    }
   ],
   "source": [
    "model = model.to(device)\n",
    "train_prc = compute_prc_for_dataset(model, train_dataset, device)\n",
    "test_prc  = compute_prc_for_dataset(model, test_dataset,  device)"
   ]
  },
  {
   "cell_type": "code",
   "execution_count": 40,
   "id": "5cd08b2b",
   "metadata": {},
   "outputs": [],
   "source": [
    "rows = []\n",
    "for fn, info in train_prc.items():\n",
    "    rows.append({\n",
    "      'file_name': fn,\n",
    "      'precision': info['precision'],\n",
    "      'recall': info['recall'],\n",
    "      'thresholds': info['thresholds'],\n",
    "      'average_precision': info['average_precision']\n",
    "    })\n",
    "\n",
    "train_prc_df = pd.DataFrame(rows)"
   ]
  },
  {
   "cell_type": "code",
   "execution_count": 41,
   "id": "2983b0b0",
   "metadata": {},
   "outputs": [
    {
     "data": {
      "text/html": [
       "<div>\n",
       "<style scoped>\n",
       "    .dataframe tbody tr th:only-of-type {\n",
       "        vertical-align: middle;\n",
       "    }\n",
       "\n",
       "    .dataframe tbody tr th {\n",
       "        vertical-align: top;\n",
       "    }\n",
       "\n",
       "    .dataframe thead th {\n",
       "        text-align: right;\n",
       "    }\n",
       "</style>\n",
       "<table border=\"1\" class=\"dataframe\">\n",
       "  <thead>\n",
       "    <tr style=\"text-align: right;\">\n",
       "      <th></th>\n",
       "      <th>file_name</th>\n",
       "      <th>precision</th>\n",
       "      <th>recall</th>\n",
       "      <th>thresholds</th>\n",
       "      <th>average_precision</th>\n",
       "    </tr>\n",
       "  </thead>\n",
       "  <tbody>\n",
       "    <tr>\n",
       "      <th>0</th>\n",
       "      <td>vitamin_b6_metabolis_train_1175.csv</td>\n",
       "      <td>[0.0, 0.0, 0.0, 0.0, 0.0, 0.0, 0.0, 0.0, 0.0, ...</td>\n",
       "      <td>[1.0, 1.0, 1.0, 1.0, 1.0, 1.0, 1.0, 1.0, 1.0, ...</td>\n",
       "      <td>[0.049783528, 0.050077904, 0.050210472, 0.0503...</td>\n",
       "      <td>-0.0</td>\n",
       "    </tr>\n",
       "    <tr>\n",
       "      <th>1</th>\n",
       "      <td>vitamin_b6_metabolis_train_3756.csv</td>\n",
       "      <td>[9.896531760444553e-06, 9.896629702754727e-06,...</td>\n",
       "      <td>[1.0, 1.0, 1.0, 1.0, 1.0, 1.0, 1.0, 1.0, 1.0, ...</td>\n",
       "      <td>[0.014615389, 0.01468741, 0.014691371, 0.01470...</td>\n",
       "      <td>1.0</td>\n",
       "    </tr>\n",
       "    <tr>\n",
       "      <th>2</th>\n",
       "      <td>vitamin_b6_metabolis_train_3761.csv</td>\n",
       "      <td>[0.0, 0.0, 0.0, 0.0, 0.0, 0.0, 0.0, 0.0, 0.0, ...</td>\n",
       "      <td>[1.0, 1.0, 1.0, 1.0, 1.0, 1.0, 1.0, 1.0, 1.0, ...</td>\n",
       "      <td>[0.049783528, 0.050077904, 0.050210472, 0.0503...</td>\n",
       "      <td>-0.0</td>\n",
       "    </tr>\n",
       "    <tr>\n",
       "      <th>3</th>\n",
       "      <td>vitamin_b6_metabolis_train_6075.csv</td>\n",
       "      <td>[0.0, 0.0, 0.0, 0.0, 0.0, 0.0, 0.0, 0.0, 0.0, ...</td>\n",
       "      <td>[1.0, 1.0, 1.0, 1.0, 1.0, 1.0, 1.0, 1.0, 1.0, ...</td>\n",
       "      <td>[0.049783528, 0.050077904, 0.050210472, 0.0503...</td>\n",
       "      <td>-0.0</td>\n",
       "    </tr>\n",
       "    <tr>\n",
       "      <th>4</th>\n",
       "      <td>vitamin_b6_metabolis_train_7692.csv</td>\n",
       "      <td>[0.0, 0.0, 0.0, 0.0, 0.0, 0.0, 0.0, 0.0, 0.0, ...</td>\n",
       "      <td>[1.0, 1.0, 1.0, 1.0, 1.0, 1.0, 1.0, 1.0, 1.0, ...</td>\n",
       "      <td>[0.049783528, 0.050077904, 0.050210472, 0.0503...</td>\n",
       "      <td>-0.0</td>\n",
       "    </tr>\n",
       "  </tbody>\n",
       "</table>\n",
       "</div>"
      ],
      "text/plain": [
       "                             file_name  \\\n",
       "0  vitamin_b6_metabolis_train_1175.csv   \n",
       "1  vitamin_b6_metabolis_train_3756.csv   \n",
       "2  vitamin_b6_metabolis_train_3761.csv   \n",
       "3  vitamin_b6_metabolis_train_6075.csv   \n",
       "4  vitamin_b6_metabolis_train_7692.csv   \n",
       "\n",
       "                                           precision  \\\n",
       "0  [0.0, 0.0, 0.0, 0.0, 0.0, 0.0, 0.0, 0.0, 0.0, ...   \n",
       "1  [9.896531760444553e-06, 9.896629702754727e-06,...   \n",
       "2  [0.0, 0.0, 0.0, 0.0, 0.0, 0.0, 0.0, 0.0, 0.0, ...   \n",
       "3  [0.0, 0.0, 0.0, 0.0, 0.0, 0.0, 0.0, 0.0, 0.0, ...   \n",
       "4  [0.0, 0.0, 0.0, 0.0, 0.0, 0.0, 0.0, 0.0, 0.0, ...   \n",
       "\n",
       "                                              recall  \\\n",
       "0  [1.0, 1.0, 1.0, 1.0, 1.0, 1.0, 1.0, 1.0, 1.0, ...   \n",
       "1  [1.0, 1.0, 1.0, 1.0, 1.0, 1.0, 1.0, 1.0, 1.0, ...   \n",
       "2  [1.0, 1.0, 1.0, 1.0, 1.0, 1.0, 1.0, 1.0, 1.0, ...   \n",
       "3  [1.0, 1.0, 1.0, 1.0, 1.0, 1.0, 1.0, 1.0, 1.0, ...   \n",
       "4  [1.0, 1.0, 1.0, 1.0, 1.0, 1.0, 1.0, 1.0, 1.0, ...   \n",
       "\n",
       "                                          thresholds  average_precision  \n",
       "0  [0.049783528, 0.050077904, 0.050210472, 0.0503...               -0.0  \n",
       "1  [0.014615389, 0.01468741, 0.014691371, 0.01470...                1.0  \n",
       "2  [0.049783528, 0.050077904, 0.050210472, 0.0503...               -0.0  \n",
       "3  [0.049783528, 0.050077904, 0.050210472, 0.0503...               -0.0  \n",
       "4  [0.049783528, 0.050077904, 0.050210472, 0.0503...               -0.0  "
      ]
     },
     "execution_count": 41,
     "metadata": {},
     "output_type": "execute_result"
    }
   ],
   "source": [
    "train_prc_df.head()"
   ]
  },
  {
   "cell_type": "code",
   "execution_count": 47,
   "id": "8967eedf",
   "metadata": {},
   "outputs": [],
   "source": [
    "test_rows = []\n",
    "for fn, info in test_prc.items():\n",
    "    test_rows.append({\n",
    "      'file_name': fn,\n",
    "      'precision': info['precision'],\n",
    "      'recall': info['recall'],\n",
    "      'thresholds': info['thresholds'],\n",
    "      'average_precision': info['average_precision']\n",
    "    })\n",
    "\n",
    "test_prc_df = pd.DataFrame(test_rows)"
   ]
  },
  {
   "cell_type": "code",
   "execution_count": 48,
   "id": "b78ab54c",
   "metadata": {},
   "outputs": [
    {
     "data": {
      "text/html": [
       "<div>\n",
       "<style scoped>\n",
       "    .dataframe tbody tr th:only-of-type {\n",
       "        vertical-align: middle;\n",
       "    }\n",
       "\n",
       "    .dataframe tbody tr th {\n",
       "        vertical-align: top;\n",
       "    }\n",
       "\n",
       "    .dataframe thead th {\n",
       "        text-align: right;\n",
       "    }\n",
       "</style>\n",
       "<table border=\"1\" class=\"dataframe\">\n",
       "  <thead>\n",
       "    <tr style=\"text-align: right;\">\n",
       "      <th></th>\n",
       "      <th>file_name</th>\n",
       "      <th>precision</th>\n",
       "      <th>recall</th>\n",
       "      <th>thresholds</th>\n",
       "      <th>average_precision</th>\n",
       "    </tr>\n",
       "  </thead>\n",
       "  <tbody>\n",
       "    <tr>\n",
       "      <th>0</th>\n",
       "      <td>vitamin_b6_metabolis_train_6881.csv</td>\n",
       "      <td>[9.896580731357317e-06, 9.896629702754727e-06,...</td>\n",
       "      <td>[1.0, 1.0, 1.0, 1.0, 1.0, 1.0, 1.0, 1.0, 1.0, ...</td>\n",
       "      <td>[0.013744537, 0.01381178, 0.0138137685, 0.0138...</td>\n",
       "      <td>1.00000</td>\n",
       "    </tr>\n",
       "    <tr>\n",
       "      <th>1</th>\n",
       "      <td>valine,_leucine_and__train_1863.csv</td>\n",
       "      <td>[4.948290365678658e-06, 4.948314851377364e-06,...</td>\n",
       "      <td>[1.0, 1.0, 1.0, 1.0, 1.0, 1.0, 1.0, 1.0, 1.0, ...</td>\n",
       "      <td>[0.014042849, 0.014068283, 0.014090603, 0.0140...</td>\n",
       "      <td>0.50000</td>\n",
       "    </tr>\n",
       "    <tr>\n",
       "      <th>2</th>\n",
       "      <td>valine,_leucine_and__train_7368.csv</td>\n",
       "      <td>[4.948290365678658e-06, 4.948314851377364e-06,...</td>\n",
       "      <td>[1.0, 1.0, 1.0, 1.0, 1.0, 1.0, 1.0, 1.0, 1.0, ...</td>\n",
       "      <td>[0.014042849, 0.014068283, 0.014090609, 0.0140...</td>\n",
       "      <td>0.50000</td>\n",
       "    </tr>\n",
       "    <tr>\n",
       "      <th>3</th>\n",
       "      <td>valine,_leucine_and__(1)_train_4437.csv</td>\n",
       "      <td>[6.432777475382255e-05, 6.432809306790573e-05,...</td>\n",
       "      <td>[1.0, 1.0, 1.0, 1.0, 1.0, 1.0, 1.0, 1.0, 1.0, ...</td>\n",
       "      <td>[0.014893066, 0.014894192, 0.014949318, 0.0150...</td>\n",
       "      <td>0.60632</td>\n",
       "    </tr>\n",
       "    <tr>\n",
       "      <th>4</th>\n",
       "      <td>ubiquinone_and_other_train_2517.csv</td>\n",
       "      <td>[1.4844871097035974e-05, 1.4844944554132091e-0...</td>\n",
       "      <td>[1.0, 1.0, 1.0, 1.0, 1.0, 1.0, 1.0, 1.0, 1.0, ...</td>\n",
       "      <td>[0.018199727, 0.018371753, 0.020801334, 0.0224...</td>\n",
       "      <td>1.00000</td>\n",
       "    </tr>\n",
       "  </tbody>\n",
       "</table>\n",
       "</div>"
      ],
      "text/plain": [
       "                                 file_name  \\\n",
       "0      vitamin_b6_metabolis_train_6881.csv   \n",
       "1      valine,_leucine_and__train_1863.csv   \n",
       "2      valine,_leucine_and__train_7368.csv   \n",
       "3  valine,_leucine_and__(1)_train_4437.csv   \n",
       "4      ubiquinone_and_other_train_2517.csv   \n",
       "\n",
       "                                           precision  \\\n",
       "0  [9.896580731357317e-06, 9.896629702754727e-06,...   \n",
       "1  [4.948290365678658e-06, 4.948314851377364e-06,...   \n",
       "2  [4.948290365678658e-06, 4.948314851377364e-06,...   \n",
       "3  [6.432777475382255e-05, 6.432809306790573e-05,...   \n",
       "4  [1.4844871097035974e-05, 1.4844944554132091e-0...   \n",
       "\n",
       "                                              recall  \\\n",
       "0  [1.0, 1.0, 1.0, 1.0, 1.0, 1.0, 1.0, 1.0, 1.0, ...   \n",
       "1  [1.0, 1.0, 1.0, 1.0, 1.0, 1.0, 1.0, 1.0, 1.0, ...   \n",
       "2  [1.0, 1.0, 1.0, 1.0, 1.0, 1.0, 1.0, 1.0, 1.0, ...   \n",
       "3  [1.0, 1.0, 1.0, 1.0, 1.0, 1.0, 1.0, 1.0, 1.0, ...   \n",
       "4  [1.0, 1.0, 1.0, 1.0, 1.0, 1.0, 1.0, 1.0, 1.0, ...   \n",
       "\n",
       "                                          thresholds  average_precision  \n",
       "0  [0.013744537, 0.01381178, 0.0138137685, 0.0138...            1.00000  \n",
       "1  [0.014042849, 0.014068283, 0.014090603, 0.0140...            0.50000  \n",
       "2  [0.014042849, 0.014068283, 0.014090609, 0.0140...            0.50000  \n",
       "3  [0.014893066, 0.014894192, 0.014949318, 0.0150...            0.60632  \n",
       "4  [0.018199727, 0.018371753, 0.020801334, 0.0224...            1.00000  "
      ]
     },
     "execution_count": 48,
     "metadata": {},
     "output_type": "execute_result"
    }
   ],
   "source": [
    "test_prc_df.head()"
   ]
  },
  {
   "cell_type": "markdown",
   "id": "ec328ea8",
   "metadata": {},
   "source": [
    "**Save these dataframes**"
   ]
  },
  {
   "cell_type": "code",
   "execution_count": 49,
   "id": "9ce3d072",
   "metadata": {},
   "outputs": [],
   "source": [
    "test_prc_df.to_csv('test_prc_values.csv', sep='\\t')"
   ]
  },
  {
   "cell_type": "code",
   "execution_count": 50,
   "id": "435d1917",
   "metadata": {},
   "outputs": [],
   "source": [
    "train_prc_df.to_csv('train_prc_values.csv', sep='\\t')"
   ]
  }
 ],
 "metadata": {
  "kernelspec": {
   "display_name": "Python 3 (ipykernel)",
   "language": "python",
   "name": "python3"
  },
  "language_info": {
   "codemirror_mode": {
    "name": "ipython",
    "version": 3
   },
   "file_extension": ".py",
   "mimetype": "text/x-python",
   "name": "python",
   "nbconvert_exporter": "python",
   "pygments_lexer": "ipython3",
   "version": "3.10.12"
  }
 },
 "nbformat": 4,
 "nbformat_minor": 5
}
