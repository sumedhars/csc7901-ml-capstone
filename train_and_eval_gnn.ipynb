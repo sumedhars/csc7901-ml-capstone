{
 "cells": [
  {
   "cell_type": "markdown",
   "id": "40c8b2c2",
   "metadata": {},
   "source": [
    "## GOAL: predict whether an edge (interaction) between two proteins should be included in a pathway (label 1) or not (label 0)"
   ]
  },
  {
   "cell_type": "code",
   "execution_count": 1,
   "id": "b9c50aad",
   "metadata": {},
   "outputs": [],
   "source": [
    "import torch\n",
    "import torch.nn.functional as F\n",
    "from torch import nn\n",
    "from torch_geometric.nn import EdgeConv, NNConv\n",
    "from torch_geometric.loader import DataLoader\n",
    "from torch.utils.data import random_split"
   ]
  },
  {
   "cell_type": "code",
   "execution_count": 2,
   "id": "bae6dbea",
   "metadata": {},
   "outputs": [],
   "source": [
    "import pandas as pd\n",
    "import numpy as np\n",
    "import re\n",
    "import glob\n",
    "import os\n",
    "import matplotlib.pyplot as plt\n",
    "import networkx as nx\n",
    "from sklearn.metrics import precision_score, recall_score, f1_score, roc_auc_score, precision_recall_curve, average_precision_score"
   ]
  },
  {
   "cell_type": "code",
   "execution_count": 3,
   "id": "d7030fee",
   "metadata": {},
   "outputs": [
    {
     "name": "stdout",
     "output_type": "stream",
     "text": [
      "Number of GPUs available: 0\n"
     ]
    }
   ],
   "source": [
    "num_gpus = torch.cuda.device_count()\n",
    "print(f\"Number of GPUs available: {num_gpus}\")"
   ]
  },
  {
   "cell_type": "code",
   "execution_count": 4,
   "id": "0f94abc2",
   "metadata": {},
   "outputs": [],
   "source": [
    "# set device to CUDA\n",
    "device = torch.device('cuda:0' if torch.cuda.is_available() else 'cpu')"
   ]
  },
  {
   "cell_type": "markdown",
   "id": "5c45e575",
   "metadata": {},
   "source": [
    "### Data Loading:"
   ]
  },
  {
   "cell_type": "markdown",
   "id": "e7975f71",
   "metadata": {},
   "source": [
    "**Pytorch Geometric `DataLoader` object from saved data:**"
   ]
  },
  {
   "cell_type": "code",
   "execution_count": 5,
   "id": "78f8a323",
   "metadata": {},
   "outputs": [
    {
     "name": "stdout",
     "output_type": "stream",
     "text": [
      "Total unique nodes: 17407\n"
     ]
    }
   ],
   "source": [
    "union_ppi = pd.read_csv('processed-data/union_ppi.txt', sep='\\t', header=None)\n",
    "unique_nodes = set(union_ppi[0].tolist() + union_ppi[1].tolist())\n",
    "label_id_map = {label: idx for idx, label in enumerate(sorted(unique_nodes))}\n",
    "num_nodes = len(label_id_map)\n",
    "print(f\"Total unique nodes: {num_nodes}\")\n",
    "\n",
    "inv_label_map = {idx: label for label, idx in label_id_map.items()}"
   ]
  },
  {
   "cell_type": "code",
   "execution_count": 6,
   "id": "e60700cb",
   "metadata": {},
   "outputs": [],
   "source": [
    "data_list = torch.load('dataset.pt', weights_only=False)"
   ]
  },
  {
   "cell_type": "code",
   "execution_count": 7,
   "id": "92ce6bad",
   "metadata": {},
   "outputs": [
    {
     "name": "stdout",
     "output_type": "stream",
     "text": [
      "Total number of data objects: 820\n",
      "\n",
      "Data object 0:\n",
      "  Node features (x) size: torch.Size([17407, 1])\n",
      "  Edge index size: torch.Size([2, 202090])\n",
      "  Edge attributes size: torch.Size([202090, 1])\n",
      "  Edge labels (y) size: torch.Size([202090, 1])\n",
      "\n",
      "Data object 1:\n",
      "  Node features (x) size: torch.Size([17407, 1])\n",
      "  Edge index size: torch.Size([2, 202090])\n",
      "  Edge attributes size: torch.Size([202090, 1])\n",
      "  Edge labels (y) size: torch.Size([202090, 1])\n",
      "\n",
      "Data object 2:\n",
      "  Node features (x) size: torch.Size([17407, 1])\n",
      "  Edge index size: torch.Size([2, 202090])\n",
      "  Edge attributes size: torch.Size([202090, 1])\n",
      "  Edge labels (y) size: torch.Size([202090, 1])\n",
      "\n",
      "Data object 3:\n",
      "  Node features (x) size: torch.Size([17407, 1])\n",
      "  Edge index size: torch.Size([2, 202090])\n",
      "  Edge attributes size: torch.Size([202090, 1])\n",
      "  Edge labels (y) size: torch.Size([202090, 1])\n",
      "\n",
      "Data object 4:\n",
      "  Node features (x) size: torch.Size([17407, 1])\n",
      "  Edge index size: torch.Size([2, 202090])\n",
      "  Edge attributes size: torch.Size([202090, 1])\n",
      "  Edge labels (y) size: torch.Size([202090, 1])\n"
     ]
    }
   ],
   "source": [
    "print(\"Total number of data objects:\", len(data_list))\n",
    "\n",
    "for i, data in enumerate(data_list[:5]):\n",
    "    print(f\"\\nData object {i}:\")\n",
    "    print(\"  Node features (x) size:\", data.x.size())\n",
    "    print(\"  Edge index size:\", data.edge_index.size())\n",
    "    print(\"  Edge attributes size:\", data.edge_attr.size())\n",
    "    print(\"  Edge labels (y) size:\", data.y.size())"
   ]
  },
  {
   "cell_type": "markdown",
   "id": "c24a6c6a",
   "metadata": {},
   "source": [
    "### Class Weight Calculation:"
   ]
  },
  {
   "cell_type": "markdown",
   "id": "406e493d",
   "metadata": {},
   "source": [
    "- Calculate the weight for the positive class to handle class imbalance\n",
    "- needed since the number of negative samples (non-selected edges) is much higher than positive samples (selected edges)\n",
    "- weighting the **loss function** helps the model to learn from the minority class effectively"
   ]
  },
  {
   "cell_type": "code",
   "execution_count": 8,
   "id": "1d8bddf9",
   "metadata": {},
   "outputs": [
    {
     "name": "stdout",
     "output_type": "stream",
     "text": [
      "Positive class weight: 7362.594285968186\n"
     ]
    }
   ],
   "source": [
    "def calculate_class_weights(data_list):\n",
    "    # concat all labels into single tensor\n",
    "    y = torch.cat([data.y for data in data_list]).cpu().numpy()\n",
    "    # count the number of pos and negative samples\n",
    "    num_positive = y.sum()\n",
    "    num_negative = len(y) - num_positive\n",
    "    # calculate the weight --> ratio of negative samples to positive samples\n",
    "    # so that loss function balances the contribution of both classes\n",
    "    pos_weight = torch.tensor([num_negative / (2 * num_positive)]).to(device)\n",
    "    return pos_weight\n",
    "\n",
    "pos_weight = calculate_class_weights(data_list)\n",
    "print(f\"Positive class weight: {pos_weight.item()}\")"
   ]
  },
  {
   "cell_type": "markdown",
   "id": "b75b024a",
   "metadata": {},
   "source": [
    "### Train-test split:"
   ]
  },
  {
   "cell_type": "code",
   "execution_count": 9,
   "id": "5e89fb92",
   "metadata": {},
   "outputs": [],
   "source": [
    "train_ratio = 0.8\n",
    "train_size = int(train_ratio * len(data_list))\n",
    "test_size = len(data_list) - train_size"
   ]
  },
  {
   "cell_type": "code",
   "execution_count": 10,
   "id": "6c900326",
   "metadata": {},
   "outputs": [],
   "source": [
    "# train_dataset, test_dataset = random_split(data_list, [train_size, test_size])"
   ]
  },
  {
   "cell_type": "code",
   "execution_count": 11,
   "id": "6bc3376c",
   "metadata": {},
   "outputs": [],
   "source": [
    "# Retrieve the file names from the train split\n",
    "# train_indices = train_dataset.indices \n",
    "# train_file_names = [data_list[idx].file_name for idx in train_indices]"
   ]
  },
  {
   "cell_type": "code",
   "execution_count": 12,
   "id": "c009d4df",
   "metadata": {},
   "outputs": [],
   "source": [
    "# Save the train_file_names to a txt file\n",
    "# with open('train_files.txt', 'w') as f:\n",
    "#     for fname in train_file_names:\n",
    "#         f.write(f\"{fname}\\n\")"
   ]
  },
  {
   "cell_type": "markdown",
   "id": "e37eacf6",
   "metadata": {},
   "source": [
    "### Train-test split: from existing train split file"
   ]
  },
  {
   "cell_type": "code",
   "execution_count": 13,
   "id": "2b1f9fea",
   "metadata": {},
   "outputs": [
    {
     "name": "stdout",
     "output_type": "stream",
     "text": [
      "Training on 656 graphs; testing on 164 graphs.\n"
     ]
    }
   ],
   "source": [
    "with open('normalized_train_files.txt') as f:\n",
    "    train_files = set(f.read().splitlines())\n",
    "\n",
    "#Partition data_list\n",
    "train_dataset = [data for data in data_list if data.file_name in train_files]\n",
    "test_dataset  = [data for data in data_list if data.file_name not in train_files]\n",
    "\n",
    "print(f\"Training on {len(train_dataset)} graphs; testing on {len(test_dataset)} graphs.\")"
   ]
  },
  {
   "cell_type": "markdown",
   "id": "32ab2737",
   "metadata": {},
   "source": [
    "### Edge Sampling"
   ]
  },
  {
   "cell_type": "markdown",
   "id": "f8ffd1b2",
   "metadata": {},
   "source": [
    "- technique that oversamples the positive edges to address class imbalance\n",
    "- duplicate positive edges in dataset to increase representation during training - so that the model sees more examples\n",
    "- oersampling helps the model to better learn the characteristics of the minority class (selected edges), improving its ability to classify them correctly"
   ]
  },
  {
   "cell_type": "code",
   "execution_count": 14,
   "id": "e9c7763e",
   "metadata": {},
   "outputs": [],
   "source": [
    "def edge_sampling(data_list, sampling_ratio=0.5):\n",
    "    \"\"\"\n",
    "    Oversample edges from the minority class (positive edges).\n",
    "    Args:\n",
    "        data_list: List of PyG data objects.\n",
    "        sampling_ratio: Ratio of minority class edges to add.\n",
    "    Returns:\n",
    "        Augmented data_list with oversampled positive edges.\n",
    "    \"\"\"\n",
    "    augmented_data_list = []\n",
    "    for data in data_list:\n",
    "        y = data.y.cpu().numpy()\n",
    "        # get the indices of positive and negtive edges\n",
    "        positive_indices = np.where(y == 1)[0]\n",
    "        negative_indices = np.where(y == 0)[0]\n",
    "        # oversample positive edges\n",
    "        num_positive = len(positive_indices)\n",
    "        # fraction of +ve edges are randomly sampled with replacement\n",
    "        num_samples = int(sampling_ratio * num_positive)\n",
    "        # stores the indices of the sampled positive edges\n",
    "        sampled_indices = np.random.choice(positive_indices, num_samples, replace=True)\n",
    "        # connectivity information (source and target nodes) for the sampled edges:\n",
    "        sampled_edge_index = data.edge_index[:, sampled_indices]\n",
    "        # edge features for sampled edges:\n",
    "        sampled_edge_attr = data.edge_attr[sampled_indices]\n",
    "        # labels for sampled edges:\n",
    "        sampled_y = data.y[sampled_indices]\n",
    "        # connectivity information is updated by concatenating the original edges and the sampled edge:\n",
    "        data.edge_index = torch.cat([data.edge_index, sampled_edge_index], dim=1)\n",
    "        # edge features are updated by concatenating the original features and the sampled features:\n",
    "        data.edge_attr = torch.cat([data.edge_attr, sampled_edge_attr], dim=0)\n",
    "        # labels are updated by concatenating the original labels and the sampled label:\n",
    "        data.y = torch.cat([data.y, sampled_y], dim=0)\n",
    "        augmented_data_list.append(data)  \n",
    "    return augmented_data_list"
   ]
  },
  {
   "cell_type": "code",
   "execution_count": 15,
   "id": "3f3c682f",
   "metadata": {},
   "outputs": [],
   "source": [
    "# apply edge sampling to the training dataset\n",
    "train_dataset = edge_sampling(train_dataset, sampling_ratio=1.0)"
   ]
  },
  {
   "cell_type": "markdown",
   "id": "441f2d34",
   "metadata": {},
   "source": [
    "### Make DataLoader:"
   ]
  },
  {
   "cell_type": "markdown",
   "id": "ba25b273",
   "metadata": {},
   "source": [
    "- for batching and shuffling data\n",
    "- feeds data into model during training and eval"
   ]
  },
  {
   "cell_type": "code",
   "execution_count": 16,
   "id": "005c6ecd",
   "metadata": {},
   "outputs": [],
   "source": [
    "train_loader = DataLoader(train_dataset, batch_size=32, shuffle=True, num_workers=4)\n",
    "test_loader = DataLoader(test_dataset, batch_size=32, shuffle=False, num_workers=4)"
   ]
  },
  {
   "cell_type": "markdown",
   "id": "bbfe1879",
   "metadata": {},
   "source": [
    "### Model Definition: using `EdgeConv` and `NNNConv` layers"
   ]
  },
  {
   "cell_type": "markdown",
   "id": "82375eea",
   "metadata": {},
   "source": [
    "- define GNN for edge classification \n",
    "- architecture designed to capture both node + edge features - needed for accurately classifying edges in PPI network\n",
    "- use mlps to transform node + edge features into higher dim representations to capture pattersn in data"
   ]
  },
  {
   "cell_type": "markdown",
   "id": "8038020e",
   "metadata": {},
   "source": [
    "**Input Graph:**\n",
    "- Node features (x): `[num_nodes, node_feat_dim]`\n",
    "- Edge index (edge_index): `[2, num_edges]`\n",
    "- Edge features (edge_attr): `[num_edges, edge_feat_dim]`"
   ]
  },
  {
   "cell_type": "markdown",
   "id": "a5d302b8",
   "metadata": {},
   "source": [
    "**Layers:**\n",
    "- `EdgeConv` captures local patterns in the graph by considering the relationships between a node and its neighbors."
   ]
  },
  {
   "cell_type": "code",
   "execution_count": 17,
   "id": "0e3c9ed8",
   "metadata": {},
   "outputs": [],
   "source": [
    "class EdgeClassificationGNN(nn.Module):\n",
    "    def __init__(self, node_feat_dim, hidden_dim, edge_feat_dim, out_dim=1):\n",
    "        \"\"\"\n",
    "        Args:\n",
    "            node_feat_dim (int): Dimensionality of node features (1 in this case).\n",
    "            hidden_dim (int): Hidden layer dimension.\n",
    "            edge_feat_dim (int): Dimensionality of edge features (1 for prize).\n",
    "            out_dim (int): Output dimension (1 for binary classification).\n",
    "        \"\"\"\n",
    "        super(EdgeClassificationGNN, self).__init__()\n",
    "        \n",
    "        # --- First Layer: EdgeConv ---\n",
    "        # PURPOSE: updates the features of each node by aggregating information from its direct neighbors.\n",
    "        # MLP takes the concatenated features of a node and its neighbor --> outputs new feature vector\n",
    "        self.mlp_edgeconv = nn.Sequential(\n",
    "            nn.Linear(2 * node_feat_dim, hidden_dim),\n",
    "            nn.ReLU(),\n",
    "            nn.Linear(hidden_dim, hidden_dim)\n",
    "        )\n",
    "        # resutls from all neighbors are aggregated - \n",
    "        # 'max' selects the most important feature for each dimension\n",
    "        self.conv1 = EdgeConv(nn=self.mlp_edgeconv, aggr='max')\n",
    "        \n",
    "        # --- Second Layer: NNConv ---\n",
    "        # PURPOSE: updates node features by incorporating edge-specific information\n",
    "        # MLP maps edge features to weight matrix --> which transforms the neighboring node features\n",
    "        self.edge_nn = nn.Sequential(\n",
    "            nn.Linear(edge_feat_dim, hidden_dim * hidden_dim),\n",
    "            nn.ReLU(),\n",
    "            nn.Linear(hidden_dim * hidden_dim, hidden_dim * hidden_dim)\n",
    "        )\n",
    "        # transformed features from all neighbors aggregated by averaging contriutions from all neihbors\n",
    "        self.conv2 = NNConv(in_channels=hidden_dim,\n",
    "                            out_channels=hidden_dim,\n",
    "                            nn=self.edge_nn,\n",
    "                            aggr='mean')\n",
    "        \n",
    "        # --- Final Edge Classifier ---\n",
    "        # combine the features of the source node, target node, and edge to predict the edge label\n",
    "        # classifier is mlp that takes concatenated features and outputs raw score i.e. logit for binary classification\n",
    "        self.edge_classifier = nn.Sequential(\n",
    "            nn.Linear(2 * hidden_dim + edge_feat_dim, hidden_dim),\n",
    "            nn.BatchNorm1d(hidden_dim),\n",
    "            nn.ReLU(),\n",
    "            nn.Dropout(0.5),\n",
    "            nn.Linear(hidden_dim, out_dim)\n",
    "        )\n",
    "        \n",
    "    \n",
    "    def forward(self, data):\n",
    "        x, edge_index, edge_attr = data.x, data.edge_index, data.edge_attr\n",
    "        # input node features and edge index into edge conv\n",
    "        x = self.conv1(x, edge_index)\n",
    "        x = F.relu(x)\n",
    "        # input updated node features, edge index (edge_index), and edge features (edge_attr)\n",
    "        x = self.conv2(x, edge_index, edge_attr)\n",
    "        x = F.relu(x)\n",
    "        # for edge classification\n",
    "        src, dst = edge_index\n",
    "        edge_representation = torch.cat([x[src], x[dst], edge_attr], dim=1)\n",
    "        logits = self.edge_classifier(edge_representation)\n",
    "        # return raw logits instead of probabilities\n",
    "        return logits  "
   ]
  },
  {
   "cell_type": "markdown",
   "id": "a2630d50",
   "metadata": {},
   "source": [
    "### Training Setup & Loop"
   ]
  },
  {
   "cell_type": "markdown",
   "id": "f0dd4ce9",
   "metadata": {},
   "source": [
    "- initialize model, loss function, and optimizer\n",
    "- `BCEWithLogitsLoss` loss function is chosen for binary classification - binary CEL with logitcs i.e raw scores\n",
    "- `Adam` optimizer users to update model parameters during training"
   ]
  },
  {
   "cell_type": "code",
   "execution_count": 18,
   "id": "3b1c2904",
   "metadata": {},
   "outputs": [],
   "source": [
    "hidden_dim = 8 # dimension of hidden layer\n",
    "node_feat_dim = 1 # dimension of node features\n",
    "edge_feat_dim = 1 # dimension of edge features"
   ]
  },
  {
   "cell_type": "code",
   "execution_count": 19,
   "id": "e7e38a7d",
   "metadata": {},
   "outputs": [],
   "source": [
    "model = EdgeClassificationGNN(node_feat_dim, hidden_dim, edge_feat_dim)\n",
    "model = model.to(device)"
   ]
  },
  {
   "cell_type": "code",
   "execution_count": 20,
   "id": "80be6c78",
   "metadata": {},
   "outputs": [],
   "source": [
    "# use class weighting in the loss function - assign higher weight to positive class i.e. minority class\n",
    "criterion = nn.BCEWithLogitsLoss(pos_weight=pos_weight)\n",
    "optimizer = torch.optim.Adam(model.parameters(), lr=0.01, weight_decay=1e-5)"
   ]
  },
  {
   "cell_type": "markdown",
   "id": "47ad95b0",
   "metadata": {},
   "source": [
    "- train the model using the following loop function \n",
    "- update model params to minimize loss functions "
   ]
  },
  {
   "cell_type": "code",
   "execution_count": 21,
   "id": "159545b5",
   "metadata": {},
   "outputs": [],
   "source": [
    "def train(model, train_loader, epochs=20):\n",
    "    model.train()  # set the model to training mode bc of layers beaviours\n",
    "    # epoch loop:\n",
    "    for epoch in range(epochs):\n",
    "        epoch_loss = 0.0\n",
    "        for batch in train_loader:\n",
    "            batch = batch.to(device)  # move batch to the GPU\n",
    "            # clear grads from previous batch\n",
    "            optimizer.zero_grad()  \n",
    "            # forward pass + get model predictions based on input batch\n",
    "            out = model(batch) \n",
    "            # compute loss by comparing model pred (out) to ground truth labels\n",
    "            loss = criterion(out, batch.y)  \n",
    "            # compute grads wrt model params - backprop\n",
    "            loss.backward()  \n",
    "            # update model params using computed gradients - optimization\n",
    "            optimizer.step() \n",
    "            # accumulate loss for current epoch\n",
    "            epoch_loss += loss.item()  # Accumulate loss    \n",
    "        # print average loss for the epoch\n",
    "        avg_loss = epoch_loss / len(train_loader)\n",
    "        print(f\"Epoch {epoch + 1}/{epochs}, Loss: {avg_loss:.4f}\")"
   ]
  },
  {
   "cell_type": "code",
   "execution_count": 22,
   "id": "4b907b25",
   "metadata": {},
   "outputs": [
    {
     "name": "stdout",
     "output_type": "stream",
     "text": [
      "Epoch 1/7, Loss: 1.0195\n",
      "Epoch 2/7, Loss: 0.4963\n",
      "Epoch 3/7, Loss: 0.3219\n",
      "Epoch 4/7, Loss: 0.2167\n",
      "Epoch 5/7, Loss: 0.1739\n",
      "Epoch 6/7, Loss: 0.1507\n",
      "Epoch 7/7, Loss: 0.1336\n"
     ]
    }
   ],
   "source": [
    "# Train the model.\n",
    "train(model, train_loader, epochs=7)"
   ]
  },
  {
   "cell_type": "markdown",
   "id": "3961db6b",
   "metadata": {},
   "source": [
    "### Overall: Evaluation & Precision-Recall Curve"
   ]
  },
  {
   "cell_type": "markdown",
   "id": "fc582ff5",
   "metadata": {},
   "source": [
    "- Evaluates the model's performance using precision, recall, F1-score, and AUC-ROC.\n",
    "- These metrics provide a comprehensive assessment of the model's classification performance, especially important for imbalanced datasets"
   ]
  },
  {
   "cell_type": "code",
   "execution_count": 23,
   "id": "244b78b5",
   "metadata": {},
   "outputs": [
    {
     "data": {
      "text/html": [
       "<div>\n",
       "<style scoped>\n",
       "    .dataframe tbody tr th:only-of-type {\n",
       "        vertical-align: middle;\n",
       "    }\n",
       "\n",
       "    .dataframe tbody tr th {\n",
       "        vertical-align: top;\n",
       "    }\n",
       "\n",
       "    .dataframe thead th {\n",
       "        text-align: right;\n",
       "    }\n",
       "</style>\n",
       "<table border=\"1\" class=\"dataframe\">\n",
       "  <thead>\n",
       "    <tr style=\"text-align: right;\">\n",
       "      <th></th>\n",
       "      <th>Node1</th>\n",
       "      <th>Node2</th>\n",
       "      <th>Prize</th>\n",
       "      <th>Directionality</th>\n",
       "    </tr>\n",
       "  </thead>\n",
       "  <tbody>\n",
       "    <tr>\n",
       "      <th>0</th>\n",
       "      <td>A4GAT_HUMAN</td>\n",
       "      <td>BGAT_HUMAN</td>\n",
       "      <td>0.75</td>\n",
       "      <td>D</td>\n",
       "    </tr>\n",
       "    <tr>\n",
       "      <th>1</th>\n",
       "      <td>A4GAT_HUMAN</td>\n",
       "      <td>KAD3_HUMAN</td>\n",
       "      <td>0.75</td>\n",
       "      <td>D</td>\n",
       "    </tr>\n",
       "    <tr>\n",
       "      <th>2</th>\n",
       "      <td>A4GAT_HUMAN</td>\n",
       "      <td>ALG13_HUMAN</td>\n",
       "      <td>0.75</td>\n",
       "      <td>D</td>\n",
       "    </tr>\n",
       "    <tr>\n",
       "      <th>3</th>\n",
       "      <td>A4GAT_HUMAN</td>\n",
       "      <td>ALG14_HUMAN</td>\n",
       "      <td>0.75</td>\n",
       "      <td>D</td>\n",
       "    </tr>\n",
       "    <tr>\n",
       "      <th>4</th>\n",
       "      <td>A4GAT_HUMAN</td>\n",
       "      <td>ALG5_HUMAN</td>\n",
       "      <td>0.75</td>\n",
       "      <td>D</td>\n",
       "    </tr>\n",
       "  </tbody>\n",
       "</table>\n",
       "</div>"
      ],
      "text/plain": [
       "         Node1        Node2  Prize Directionality\n",
       "0  A4GAT_HUMAN   BGAT_HUMAN   0.75              D\n",
       "1  A4GAT_HUMAN   KAD3_HUMAN   0.75              D\n",
       "2  A4GAT_HUMAN  ALG13_HUMAN   0.75              D\n",
       "3  A4GAT_HUMAN  ALG14_HUMAN   0.75              D\n",
       "4  A4GAT_HUMAN   ALG5_HUMAN   0.75              D"
      ]
     },
     "execution_count": 23,
     "metadata": {},
     "output_type": "execute_result"
    }
   ],
   "source": [
    "# get the y_true from the bulk processed pathway\n",
    "bulk_pc_processed = pd.read_csv('processed-bulk-pc-pathway.txt', sep='\\t')\n",
    "bulk_pc_processed.drop(columns=['Unnamed: 0'], inplace=True)\n",
    "bulk_pc_processed.rename(columns={'0':'Node1','1':'Node2','2':'Prize','3':'Directionality'}, inplace=True)\n",
    "bulk_pc_processed.head()"
   ]
  },
  {
   "cell_type": "code",
   "execution_count": 24,
   "id": "83a59b92",
   "metadata": {},
   "outputs": [],
   "source": [
    "gold_edges = set()\n",
    "for _, row in bulk_pc_processed.iterrows():\n",
    "    a, b = row['Node1'], row['Node2']\n",
    "    gold_edges.add(tuple(sorted((a, b))))"
   ]
  },
  {
   "cell_type": "code",
   "execution_count": 25,
   "id": "c44e4488",
   "metadata": {},
   "outputs": [],
   "source": [
    "def evaluate_bulk_metrics(model, dataset, device,\n",
    "                          inv_label_map, gold_edges):\n",
    "    model.eval()\n",
    "    y_true_all, y_pred_all, y_score_all = [], [], []\n",
    "\n",
    "    with torch.no_grad():\n",
    "        for data in dataset:\n",
    "            data = data.to(device)\n",
    "            logits = model(data)                        # [num_edges, 1]\n",
    "            probs  = torch.sigmoid(logits).view(-1).cpu().numpy()\n",
    "            preds  = (logits > 0).view(-1).float().cpu().numpy()\n",
    "\n",
    "            # Re-build y_true from gold_edges:\n",
    "            src = data.edge_index[0].cpu().numpy()\n",
    "            dst = data.edge_index[1].cpu().numpy()\n",
    "            y_true = [\n",
    "                1 if tuple(sorted((\n",
    "                    inv_label_map[int(u)],\n",
    "                    inv_label_map[int(v)]\n",
    "                ))) in gold_edges else 0\n",
    "                for u, v in zip(src, dst)\n",
    "            ]\n",
    "\n",
    "            y_true_all.extend(y_true)\n",
    "            y_pred_all.extend(preds)\n",
    "            y_score_all.extend(probs)\n",
    "\n",
    "    precision = precision_score(y_true_all, y_pred_all)\n",
    "    recall    = recall_score(y_true_all, y_pred_all)\n",
    "    f1        = f1_score(y_true_all, y_pred_all)\n",
    "    roc_auc   = roc_auc_score(y_true_all, y_score_all)\n",
    "\n",
    "    print(f\"Precision: {precision:.4f}, \"\n",
    "          f\"Recall:    {recall:.4f}, \"\n",
    "          f\"F1:        {f1:.4f}, \"\n",
    "          f\"AUC-ROC:   {roc_auc:.4f}\")"
   ]
  },
  {
   "cell_type": "code",
   "execution_count": 26,
   "id": "3248e455",
   "metadata": {},
   "outputs": [
    {
     "name": "stdout",
     "output_type": "stream",
     "text": [
      "Precision: 0.9230, Recall:    0.0121, F1:        0.0239, AUC-ROC:   0.2566\n"
     ]
    }
   ],
   "source": [
    "evaluate_bulk_metrics(model, test_dataset, device, inv_label_map, gold_edges)"
   ]
  },
  {
   "cell_type": "markdown",
   "id": "8b7acfec",
   "metadata": {},
   "source": [
    "**Plotting PRC:**"
   ]
  },
  {
   "cell_type": "code",
   "execution_count": 27,
   "id": "ffa24d76",
   "metadata": {},
   "outputs": [],
   "source": [
    "def plot_bulk_prc(model, dataset, device):\n",
    "    model.eval()\n",
    "    y_true_all, y_score_all = [], []\n",
    "\n",
    "    with torch.no_grad():\n",
    "        for data in dataset:\n",
    "            data = data.to(device)\n",
    "            probs = torch.sigmoid(model(data)).view(-1).cpu().numpy()\n",
    "\n",
    "            # same gold-based y_true:\n",
    "            src = data.edge_index[0].cpu().numpy()\n",
    "            dst = data.edge_index[1].cpu().numpy()\n",
    "            for u, v, p in zip(src, dst, probs):\n",
    "                lu = inv_label_map[int(u)]\n",
    "                lv = inv_label_map[int(v)]\n",
    "                y_true_all.append(\n",
    "                    1 if tuple(sorted((lu, lv))) in gold_edges else 0\n",
    "                )\n",
    "                y_score_all.append(p)\n",
    "\n",
    "    precision, recall, thresholds = precision_recall_curve(y_true_all, y_score_all)\n",
    "\n",
    "    plt.figure(figsize=(8, 6))\n",
    "    plt.plot(recall, precision, marker='.', label='PR Curve (bulk)')\n",
    "    plt.xlabel('Recall')\n",
    "    plt.ylabel('Precision')\n",
    "    plt.title('Bulk Precision–Recall Curve')\n",
    "    plt.legend()\n",
    "    plt.grid(True)\n",
    "    plt.show()"
   ]
  },
  {
   "cell_type": "code",
   "execution_count": 28,
   "id": "f3fcc8f2",
   "metadata": {},
   "outputs": [
    {
     "data": {
      "image/png": "[encoded data removed]",
      "text/plain": [
       "<Figure size 800x600 with 1 Axes>"
      ]
     },
     "metadata": {},
     "output_type": "display_data"
    }
   ],
   "source": [
    "plot_bulk_prc(model, test_dataset, device)"
   ]
  },
  {
   "cell_type": "markdown",
   "id": "95386b09",
   "metadata": {},
   "source": [
    "### Validate Prediction with Test Pathway"
   ]
  },
  {
   "cell_type": "markdown",
   "id": "ef475f2b",
   "metadata": {},
   "source": [
    "**Extract single graph**"
   ]
  },
  {
   "cell_type": "code",
   "execution_count": 29,
   "id": "3d9561fb",
   "metadata": {},
   "outputs": [],
   "source": [
    "single_test_data = test_dataset[-2].to(device)"
   ]
  },
  {
   "cell_type": "code",
   "execution_count": 30,
   "id": "79f3c588",
   "metadata": {},
   "outputs": [
    {
     "data": {
      "text/plain": [
       "torch.Size([17407, 1])"
      ]
     },
     "execution_count": 30,
     "metadata": {},
     "output_type": "execute_result"
    }
   ],
   "source": [
    "single_test_data.x.size()"
   ]
  },
  {
   "cell_type": "markdown",
   "id": "aba7c3c9",
   "metadata": {},
   "source": [
    "**Run model forward pass for single test graph**"
   ]
  },
  {
   "cell_type": "code",
   "execution_count": 31,
   "id": "1c1097aa",
   "metadata": {},
   "outputs": [],
   "source": [
    "model.eval()\n",
    "with torch.no_grad():\n",
    "    logits = model(single_test_data)\n",
    "    y_prob = torch.sigmoid(logits).cpu().numpy()\n",
    "    y_pred = (y_prob > 0.5).astype(int)\n",
    "    y_true = single_test_data.y.cpu().numpy()"
   ]
  },
  {
   "cell_type": "markdown",
   "id": "cc61c392",
   "metadata": {},
   "source": [
    "**Identify TP/FP/FN edges**"
   ]
  },
  {
   "cell_type": "code",
   "execution_count": 32,
   "id": "e316943f",
   "metadata": {},
   "outputs": [],
   "source": [
    "tp_mask = (y_true == 1) & (y_pred == 1)\n",
    "fp_mask = (y_true == 0) & (y_pred == 1)\n",
    "fn_mask = (y_true == 1) & (y_pred == 0)"
   ]
  },
  {
   "cell_type": "code",
   "execution_count": 33,
   "id": "fd0fa592",
   "metadata": {},
   "outputs": [
    {
     "name": "stdout",
     "output_type": "stream",
     "text": [
      "True Positives (TP): 1\n",
      "False Positives (FP): 316\n",
      "False Negatives (FN): 0\n"
     ]
    }
   ],
   "source": [
    "num_tp = np.sum(tp_mask)\n",
    "num_fp = np.sum(fp_mask)\n",
    "num_fn = np.sum(fn_mask)\n",
    "\n",
    "print(f\"True Positives (TP): {num_tp}\")\n",
    "print(f\"False Positives (FP): {num_fp}\")\n",
    "print(f\"False Negatives (FN): {num_fn}\")"
   ]
  },
  {
   "cell_type": "markdown",
   "id": "2aa968ab",
   "metadata": {},
   "source": [
    "**Convert to NetworkX graph (only plot TP/FP/FN edges)**"
   ]
  },
  {
   "cell_type": "code",
   "execution_count": 34,
   "id": "7e241085",
   "metadata": {},
   "outputs": [],
   "source": [
    "edge_index = single_test_data.edge_index.cpu().numpy()\n",
    "G = nx.Graph()"
   ]
  },
  {
   "cell_type": "code",
   "execution_count": 35,
   "id": "09cbf8e2",
   "metadata": {},
   "outputs": [],
   "source": [
    "# add only TP/FP/FN edges to reduce clutter\n",
    "for i, (src, dst) in enumerate(edge_index.T):\n",
    "    if tp_mask[i] or fp_mask[i] or fn_mask[i]:\n",
    "        G.add_edge(src, dst)"
   ]
  },
  {
   "cell_type": "markdown",
   "id": "ed6a53e1",
   "metadata": {},
   "source": [
    "**Assign edge colors**"
   ]
  },
  {
   "cell_type": "code",
   "execution_count": 36,
   "id": "38bfa01d",
   "metadata": {},
   "outputs": [],
   "source": [
    "edge_colors = []\n",
    "for i, (src, dst) in enumerate(edge_index.T):\n",
    "    if tp_mask[i]:\n",
    "        # TP -> green\n",
    "        edge_colors.append(\"green\")  \n",
    "    elif fp_mask[i]:\n",
    "        # FP -> red\n",
    "        edge_colors.append(\"red\")    \n",
    "    elif fn_mask[i]:\n",
    "        # FN -> blue\n",
    "        edge_colors.append(\"blue\")  "
   ]
  },
  {
   "cell_type": "markdown",
   "id": "155fac59",
   "metadata": {},
   "source": [
    "**Draw the graph (only TP/FP/FN edges)**"
   ]
  },
  {
   "cell_type": "code",
   "execution_count": 37,
   "id": "5dd0cab0",
   "metadata": {
    "scrolled": true
   },
   "outputs": [],
   "source": [
    "# plt.figure(figsize=(12, 10))\n",
    "# pos = nx.spring_layout(G, k=0.15, iterations=50)  # Force-directed layout\n",
    "# nx.draw(\n",
    "#     G,\n",
    "#     pos,\n",
    "#     edge_color=edge_colors,\n",
    "#     node_size=20,\n",
    "#     node_color=\"lightgray\",\n",
    "#     width=1.0,\n",
    "#     with_labels=False,\n",
    "# )\n",
    "# plt.title(\"Network: TP (Green), FP (Red), FN (Blue)\")\n",
    "# plt.show()"
   ]
  },
  {
   "cell_type": "markdown",
   "id": "788455aa",
   "metadata": {},
   "source": [
    "**Print metrics for this graph**"
   ]
  },
  {
   "cell_type": "code",
   "execution_count": 38,
   "id": "7adcde1d",
   "metadata": {},
   "outputs": [],
   "source": [
    "# precision = precision_score(y_true, y_pred, zero_division=0)\n",
    "# recall = recall_score(y_true, y_pred, zero_division=0)\n",
    "# f1 = f1_score(y_true, y_pred, zero_division=0)\n",
    "# print(f\"Precision: {precision:.4f}, Recall: {recall:.4f}, F1: {f1:.4f}\")"
   ]
  },
  {
   "cell_type": "markdown",
   "id": "6d1e3943",
   "metadata": {},
   "source": [
    "### Compute PRC for each `Data` object"
   ]
  },
  {
   "cell_type": "code",
   "execution_count": 39,
   "id": "6f4d2d6d",
   "metadata": {},
   "outputs": [],
   "source": [
    "def compute_prc_for_dataset(model, dataset, device):\n",
    "    model.eval()\n",
    "    prc_dict = {}\n",
    "\n",
    "    for data in dataset:\n",
    "        # --- 1) extract the raw prefix from the filename ---\n",
    "        raw_name = data.file_name                            \n",
    "        prefix   = raw_name.split('_train_')[0]\n",
    "\n",
    "        # --- 2) sanitize exactly as in your preprocessing script ---\n",
    "        #    replace every non-word (\\W+) with '_', strip leading/trailing '_', lowercase\n",
    "        sanitized = re.sub(r'\\W+', '_', prefix).strip('_').lower()\n",
    "        lookup_fp = os.path.join(\n",
    "            'processed-pc-individual-pathways',\n",
    "            f\"{sanitized}.txt\"\n",
    "        )\n",
    "\n",
    "        if not os.path.isfile(lookup_fp):\n",
    "            # raise FileNotFoundError(f\"No processed pathway file found at: {lookup_fp}\")\n",
    "            print(f\"No processed pathway file found at: {lookup_fp} for dataset {data.file_name}\")\n",
    "            continue\n",
    "\n",
    "        # --- 3) read in the gold-standard edges ---\n",
    "        pathway_df = pd.read_csv(lookup_fp, sep='\\t')\n",
    "\n",
    "        # --- 4) build the undirected gold-edge set ---\n",
    "        gold_edges = set()\n",
    "        for _, row in pathway_df.iterrows():\n",
    "            a, b = row['Node1'], row['Node2']\n",
    "            gold_edges.add(tuple(sorted((a, b))))\n",
    "\n",
    "        # --- 5) get model scores ---\n",
    "        with torch.no_grad():\n",
    "            logits = model(data.to(device))\n",
    "            probs  = torch.sigmoid(logits).view(-1).cpu().numpy()\n",
    "\n",
    "        # --- 6) override y_true based on gold_edges ---\n",
    "        src, dst = data.edge_index\n",
    "        src, dst = src.cpu().numpy(), dst.cpu().numpy()\n",
    "        y_true = np.array([\n",
    "            1 if tuple(sorted((inv_label_map[u], inv_label_map[v]))) in gold_edges else 0\n",
    "            for u, v in zip(src, dst)\n",
    "        ], dtype=int)\n",
    "\n",
    "        # --- 7) compute precision–recall & AP ---\n",
    "        precision, recall, thresholds = precision_recall_curve(y_true, probs)\n",
    "        ap = average_precision_score(y_true, probs)\n",
    "\n",
    "        prc_dict[raw_name] = {\n",
    "            'precision': precision,\n",
    "            'recall': recall,\n",
    "            'thresholds': thresholds,\n",
    "            'average_precision': ap,\n",
    "            'pathway_df': pathway_df\n",
    "        }\n",
    "\n",
    "    return prc_dict\n"
   ]
  },
  {
   "cell_type": "code",
   "execution_count": 40,
   "id": "ed69edc6",
   "metadata": {},
   "outputs": [],
   "source": [
    "model = model.to(device)\n",
    "train_prc = compute_prc_for_dataset(model, train_dataset, device)\n",
    "test_prc  = compute_prc_for_dataset(model, test_dataset,  device)"
   ]
  },
  {
   "cell_type": "code",
   "execution_count": 41,
   "id": "5cd08b2b",
   "metadata": {},
   "outputs": [],
   "source": [
    "rows = []\n",
    "for fn, info in train_prc.items():\n",
    "    rows.append({\n",
    "      'file_name': fn,\n",
    "      'precision': info['precision'],\n",
    "      'recall': info['recall'],\n",
    "      'thresholds': info['thresholds'],\n",
    "      'average_precision': info['average_precision']\n",
    "    })\n",
    "\n",
    "train_prc_df = pd.DataFrame(rows)"
   ]
  },
  {
   "cell_type": "code",
   "execution_count": 42,
   "id": "2983b0b0",
   "metadata": {},
   "outputs": [
    {
     "data": {
      "text/html": [
       "<div>\n",
       "<style scoped>\n",
       "    .dataframe tbody tr th:only-of-type {\n",
       "        vertical-align: middle;\n",
       "    }\n",
       "\n",
       "    .dataframe tbody tr th {\n",
       "        vertical-align: top;\n",
       "    }\n",
       "\n",
       "    .dataframe thead th {\n",
       "        text-align: right;\n",
       "    }\n",
       "</style>\n",
       "<table border=\"1\" class=\"dataframe\">\n",
       "  <thead>\n",
       "    <tr style=\"text-align: right;\">\n",
       "      <th></th>\n",
       "      <th>file_name</th>\n",
       "      <th>precision</th>\n",
       "      <th>recall</th>\n",
       "      <th>thresholds</th>\n",
       "      <th>average_precision</th>\n",
       "    </tr>\n",
       "  </thead>\n",
       "  <tbody>\n",
       "    <tr>\n",
       "      <th>0</th>\n",
       "      <td>alanine__aspartate_a_train_2535.csv</td>\n",
       "      <td>[0.0012913759833753896, 0.0012913823728780015,...</td>\n",
       "      <td>[1.0, 1.0, 1.0, 1.0, 1.0, 1.0, 1.0, 1.0, 1.0, ...</td>\n",
       "      <td>[0.0037633253, 0.0037796106, 0.0038461706, 0.0...</td>\n",
       "      <td>0.209535</td>\n",
       "    </tr>\n",
       "    <tr>\n",
       "      <th>1</th>\n",
       "      <td>alanine__aspartate_a_train_3273.csv</td>\n",
       "      <td>[0.001227133505197999, 0.001227139577230623, 0...</td>\n",
       "      <td>[1.0, 1.0, 1.0, 1.0, 1.0, 1.0, 1.0, 1.0, 1.0, ...</td>\n",
       "      <td>[0.0038300469, 0.0038461706, 0.0038692183, 0.0...</td>\n",
       "      <td>0.094234</td>\n",
       "    </tr>\n",
       "    <tr>\n",
       "      <th>2</th>\n",
       "      <td>alanine__aspartate_a_train_3711.csv</td>\n",
       "      <td>[0.0013012587080430652, 0.0013012651463799596,...</td>\n",
       "      <td>[1.0, 1.0, 1.0, 1.0, 1.0, 1.0, 1.0, 1.0, 1.0, ...</td>\n",
       "      <td>[0.0031356884, 0.0033304729, 0.003514468, 0.00...</td>\n",
       "      <td>0.253766</td>\n",
       "    </tr>\n",
       "    <tr>\n",
       "      <th>3</th>\n",
       "      <td>alanine__aspartate_a_train_3781.csv</td>\n",
       "      <td>[0.0012469013018243354, 0.0012469074715487382,...</td>\n",
       "      <td>[1.0, 1.0, 1.0, 1.0, 1.0, 1.0, 1.0, 1.0, 1.0, ...</td>\n",
       "      <td>[0.00433287, 0.0044043283, 0.0044560856, 0.004...</td>\n",
       "      <td>0.120355</td>\n",
       "    </tr>\n",
       "    <tr>\n",
       "      <th>4</th>\n",
       "      <td>alanine__aspartate_a_train_6130.csv</td>\n",
       "      <td>[0.0012419594260267195, 0.001241965571328903, ...</td>\n",
       "      <td>[1.0, 1.0, 1.0, 1.0, 1.0, 1.0, 1.0, 1.0, 1.0, ...</td>\n",
       "      <td>[0.0031356884, 0.0033304729, 0.003514468, 0.00...</td>\n",
       "      <td>0.156261</td>\n",
       "    </tr>\n",
       "  </tbody>\n",
       "</table>\n",
       "</div>"
      ],
      "text/plain": [
       "                             file_name  \\\n",
       "0  alanine__aspartate_a_train_2535.csv   \n",
       "1  alanine__aspartate_a_train_3273.csv   \n",
       "2  alanine__aspartate_a_train_3711.csv   \n",
       "3  alanine__aspartate_a_train_3781.csv   \n",
       "4  alanine__aspartate_a_train_6130.csv   \n",
       "\n",
       "                                           precision  \\\n",
       "0  [0.0012913759833753896, 0.0012913823728780015,...   \n",
       "1  [0.001227133505197999, 0.001227139577230623, 0...   \n",
       "2  [0.0013012587080430652, 0.0013012651463799596,...   \n",
       "3  [0.0012469013018243354, 0.0012469074715487382,...   \n",
       "4  [0.0012419594260267195, 0.001241965571328903, ...   \n",
       "\n",
       "                                              recall  \\\n",
       "0  [1.0, 1.0, 1.0, 1.0, 1.0, 1.0, 1.0, 1.0, 1.0, ...   \n",
       "1  [1.0, 1.0, 1.0, 1.0, 1.0, 1.0, 1.0, 1.0, 1.0, ...   \n",
       "2  [1.0, 1.0, 1.0, 1.0, 1.0, 1.0, 1.0, 1.0, 1.0, ...   \n",
       "3  [1.0, 1.0, 1.0, 1.0, 1.0, 1.0, 1.0, 1.0, 1.0, ...   \n",
       "4  [1.0, 1.0, 1.0, 1.0, 1.0, 1.0, 1.0, 1.0, 1.0, ...   \n",
       "\n",
       "                                          thresholds  average_precision  \n",
       "0  [0.0037633253, 0.0037796106, 0.0038461706, 0.0...           0.209535  \n",
       "1  [0.0038300469, 0.0038461706, 0.0038692183, 0.0...           0.094234  \n",
       "2  [0.0031356884, 0.0033304729, 0.003514468, 0.00...           0.253766  \n",
       "3  [0.00433287, 0.0044043283, 0.0044560856, 0.004...           0.120355  \n",
       "4  [0.0031356884, 0.0033304729, 0.003514468, 0.00...           0.156261  "
      ]
     },
     "execution_count": 42,
     "metadata": {},
     "output_type": "execute_result"
    }
   ],
   "source": [
    "train_prc_df.head()"
   ]
  },
  {
   "cell_type": "code",
   "execution_count": 43,
   "id": "8967eedf",
   "metadata": {},
   "outputs": [],
   "source": [
    "test_rows = []\n",
    "for fn, info in test_prc.items():\n",
    "    test_rows.append({\n",
    "      'file_name': fn,\n",
    "      'precision': info['precision'],\n",
    "      'recall': info['recall'],\n",
    "      'thresholds': info['thresholds'],\n",
    "      'average_precision': info['average_precision']\n",
    "    })\n",
    "\n",
    "test_prc_df = pd.DataFrame(test_rows)"
   ]
  },
  {
   "cell_type": "code",
   "execution_count": 44,
   "id": "b78ab54c",
   "metadata": {},
   "outputs": [
    {
     "data": {
      "text/html": [
       "<div>\n",
       "<style scoped>\n",
       "    .dataframe tbody tr th:only-of-type {\n",
       "        vertical-align: middle;\n",
       "    }\n",
       "\n",
       "    .dataframe tbody tr th {\n",
       "        vertical-align: top;\n",
       "    }\n",
       "\n",
       "    .dataframe thead th {\n",
       "        text-align: right;\n",
       "    }\n",
       "</style>\n",
       "<table border=\"1\" class=\"dataframe\">\n",
       "  <thead>\n",
       "    <tr style=\"text-align: right;\">\n",
       "      <th></th>\n",
       "      <th>file_name</th>\n",
       "      <th>precision</th>\n",
       "      <th>recall</th>\n",
       "      <th>thresholds</th>\n",
       "      <th>average_precision</th>\n",
       "    </tr>\n",
       "  </thead>\n",
       "  <tbody>\n",
       "    <tr>\n",
       "      <th>0</th>\n",
       "      <td>alpha_linolenic_acid_train_4939.csv</td>\n",
       "      <td>[0.00045524271364243656, 0.0004552494717621618...</td>\n",
       "      <td>[1.0, 1.0, 1.0, 1.0, 1.0, 1.0, 1.0, 1.0, 1.0, ...</td>\n",
       "      <td>[0.00433287, 0.0043786746, 0.0044043283, 0.004...</td>\n",
       "      <td>0.075108</td>\n",
       "    </tr>\n",
       "    <tr>\n",
       "      <th>1</th>\n",
       "      <td>aminoacyl_trna_biosy_train_2796.csv</td>\n",
       "      <td>[0.0008313127814340146, 0.0008313168950313971,...</td>\n",
       "      <td>[1.0, 1.0, 1.0, 1.0, 1.0, 1.0, 1.0, 1.0, 1.0, ...</td>\n",
       "      <td>[0.0037931562, 0.0037955283, 0.003818816, 0.00...</td>\n",
       "      <td>0.127089</td>\n",
       "    </tr>\n",
       "    <tr>\n",
       "      <th>2</th>\n",
       "      <td>aminoacyl_trna_biosy_train_5354.csv</td>\n",
       "      <td>[0.0008313127814340146, 0.0008313168950313971,...</td>\n",
       "      <td>[1.0, 1.0, 1.0, 1.0, 1.0, 1.0, 1.0, 1.0, 1.0, ...</td>\n",
       "      <td>[0.003814849, 0.0038748754, 0.003935495, 0.004...</td>\n",
       "      <td>0.138078</td>\n",
       "    </tr>\n",
       "    <tr>\n",
       "      <th>3</th>\n",
       "      <td>aminoacyl_trna_biosy_train_8954.csv</td>\n",
       "      <td>[0.0008313127814340146, 0.0008313168950313971,...</td>\n",
       "      <td>[1.0, 1.0, 1.0, 1.0, 1.0, 1.0, 1.0, 1.0, 1.0, ...</td>\n",
       "      <td>[0.0037931562, 0.003818816, 0.0038276152, 0.00...</td>\n",
       "      <td>0.142189</td>\n",
       "    </tr>\n",
       "    <tr>\n",
       "      <th>4</th>\n",
       "      <td>arachidonic_acid_met_train_3652.csv</td>\n",
       "      <td>[0.0033252511257360583, 0.0033252675801255884,...</td>\n",
       "      <td>[1.0, 1.0, 1.0, 1.0, 1.0, 1.0, 1.0, 1.0, 1.0, ...</td>\n",
       "      <td>[0.0041879155, 0.004261291, 0.004310343, 0.004...</td>\n",
       "      <td>0.197289</td>\n",
       "    </tr>\n",
       "  </tbody>\n",
       "</table>\n",
       "</div>"
      ],
      "text/plain": [
       "                             file_name  \\\n",
       "0  alpha_linolenic_acid_train_4939.csv   \n",
       "1  aminoacyl_trna_biosy_train_2796.csv   \n",
       "2  aminoacyl_trna_biosy_train_5354.csv   \n",
       "3  aminoacyl_trna_biosy_train_8954.csv   \n",
       "4  arachidonic_acid_met_train_3652.csv   \n",
       "\n",
       "                                           precision  \\\n",
       "0  [0.00045524271364243656, 0.0004552494717621618...   \n",
       "1  [0.0008313127814340146, 0.0008313168950313971,...   \n",
       "2  [0.0008313127814340146, 0.0008313168950313971,...   \n",
       "3  [0.0008313127814340146, 0.0008313168950313971,...   \n",
       "4  [0.0033252511257360583, 0.0033252675801255884,...   \n",
       "\n",
       "                                              recall  \\\n",
       "0  [1.0, 1.0, 1.0, 1.0, 1.0, 1.0, 1.0, 1.0, 1.0, ...   \n",
       "1  [1.0, 1.0, 1.0, 1.0, 1.0, 1.0, 1.0, 1.0, 1.0, ...   \n",
       "2  [1.0, 1.0, 1.0, 1.0, 1.0, 1.0, 1.0, 1.0, 1.0, ...   \n",
       "3  [1.0, 1.0, 1.0, 1.0, 1.0, 1.0, 1.0, 1.0, 1.0, ...   \n",
       "4  [1.0, 1.0, 1.0, 1.0, 1.0, 1.0, 1.0, 1.0, 1.0, ...   \n",
       "\n",
       "                                          thresholds  average_precision  \n",
       "0  [0.00433287, 0.0043786746, 0.0044043283, 0.004...           0.075108  \n",
       "1  [0.0037931562, 0.0037955283, 0.003818816, 0.00...           0.127089  \n",
       "2  [0.003814849, 0.0038748754, 0.003935495, 0.004...           0.138078  \n",
       "3  [0.0037931562, 0.003818816, 0.0038276152, 0.00...           0.142189  \n",
       "4  [0.0041879155, 0.004261291, 0.004310343, 0.004...           0.197289  "
      ]
     },
     "execution_count": 44,
     "metadata": {},
     "output_type": "execute_result"
    }
   ],
   "source": [
    "test_prc_df.head()"
   ]
  },
  {
   "cell_type": "markdown",
   "id": "ec328ea8",
   "metadata": {},
   "source": [
    "**Save these dataframes**"
   ]
  },
  {
   "cell_type": "code",
   "execution_count": 45,
   "id": "9ce3d072",
   "metadata": {},
   "outputs": [],
   "source": [
    "test_prc_df.to_csv('test_prc_values.csv', sep='\\t')"
   ]
  },
  {
   "cell_type": "code",
   "execution_count": 46,
   "id": "435d1917",
   "metadata": {},
   "outputs": [],
   "source": [
    "train_prc_df.to_csv('train_prc_values.csv', sep='\\t')"
   ]
  }
 ],
 "metadata": {
  "kernelspec": {
   "display_name": "Python 3 (ipykernel)",
   "language": "python",
   "name": "python3"
  },
  "language_info": {
   "codemirror_mode": {
    "name": "ipython",
    "version": 3
   },
   "file_extension": ".py",
   "mimetype": "text/x-python",
   "name": "python",
   "nbconvert_exporter": "python",
   "pygments_lexer": "ipython3",
   "version": "3.10.12"
  }
 },
 "nbformat": 4,
 "nbformat_minor": 5
}
