{
 "cells": [
  {
   "cell_type": "code",
   "execution_count": 13,
   "metadata": {},
   "outputs": [],
   "source": [
    "import pandas as pd\n",
    "import os\n",
    "import re"
   ]
  },
  {
   "cell_type": "code",
   "execution_count": 14,
   "metadata": {},
   "outputs": [],
   "source": [
    "training_nodes = [f for f in os.listdir('gnn-train-split-samples-nodes') if f.endswith('.txt')]"
   ]
  },
  {
   "cell_type": "code",
   "execution_count": 15,
   "metadata": {},
   "outputs": [
    {
     "name": "stdout",
     "output_type": "stream",
     "text": [
      "YAML config written to datasets_config.txt\n"
     ]
    }
   ],
   "source": [
    "output_lines = []\n",
    "output_lines.append(\"datasets:\")\n",
    "\n",
    "for filename in training_nodes:\n",
    "    match = re.search(r'_(\\d{4})_nodes\\.txt$', filename)\n",
    "    if not match:\n",
    "        continue\n",
    "    num = match.group(1)\n",
    "\n",
    "    base = filename[:10]\n",
    "    label = re.sub(r'\\W+', '_', base).strip('_') + f\"_{num}\"\n",
    "\n",
    "    output_lines.append(f\"    -\")\n",
    "    output_lines.append(f\"      label: {label}\")\n",
    "    output_lines.append(f\"      node_files: [\\\"{filename}\\\"]\")\n",
    "    output_lines.append(f\"      edge_files: [\\\"union_ppi.txt\\\"]\")\n",
    "    output_lines.append(f\"      # Placeholder\")\n",
    "    output_lines.append(f\"      other_files: []\")\n",
    "    output_lines.append(f\"      data_dir: \\\"input\\\"\")\n",
    "\n",
    "# Save to file\n",
    "with open(\"processed-data/datasets_config.txt\", \"w\") as f:\n",
    "    f.write(\"\\n\".join(output_lines))\n",
    "\n",
    "print(\"YAML config written to datasets_config.txt\")"
   ]
  },
  {
   "cell_type": "markdown",
   "metadata": {},
   "source": [
    "hyperparameter search?\n",
    "oi2 is going to return a tree structured graphs (collection of) + no weights or confience \n",
    "precision recall point - for curve: can say i run oi2 a bunch of times and look at the collection of points \n",
    "how running these graph algs gives consistence edges in the coll of returned graphs and graph ensembles - edge frequency to rank edges\n",
    "use the ensemble frequency for the precision recall curve\n",
    "\n",
    "run many hyperparam combinations and look at them individually \n",
    "prune some of theose \n",
    "training set presicion recall to restruvt hyperparam space and then go forard with constrained smaller hyperparam space \n",
    "reasonable set of hyperparam combinations - ensemble union graphs \n",
    "\n",
    "10 combinations with large ranges to see saturations extremes \n",
    "hopefully hit the end points and you can see in the summary table - am i getting some variation?\n",
    "want to see edge variation  \n",
    "more combinations with increased granularity for \n",
    "adding a couple values for the omega parameter - try some lower values \n",
    "\n",
    "one on the small side and one on the large of the range - i\n",
    "ranges cover the expected node sides\n",
    "\n",
    "locked in for a new pathway will have sample input \n",
    "hyperparameter ranges \n",
    "output oi2 graphs for each ombination\n",
    "get edge frequencies on input node sample 1 on pathway i and so on till pathway i"
   ]
  }
 ],
 "metadata": {
  "kernelspec": {
   "display_name": "base",
   "language": "python",
   "name": "python3"
  },
  "language_info": {
   "codemirror_mode": {
    "name": "ipython",
    "version": 3
   },
   "file_extension": ".py",
   "mimetype": "text/x-python",
   "name": "python",
   "nbconvert_exporter": "python",
   "pygments_lexer": "ipython3",
   "version": "3.11.7"
  }
 },
 "nbformat": 4,
 "nbformat_minor": 2
}
