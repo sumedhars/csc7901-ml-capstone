{
 "cells": [
  {
   "cell_type": "code",
   "execution_count": 8,
   "metadata": {},
   "outputs": [],
   "source": [
    "import pandas as pd\n",
    "import os\n",
    "import re"
   ]
  },
  {
   "cell_type": "code",
   "execution_count": 9,
   "metadata": {},
   "outputs": [],
   "source": [
    "training_nodes = [f for f in os.listdir('baseline-spras-nodes') if f.endswith('.txt')]"
   ]
  },
  {
   "cell_type": "code",
   "execution_count": 11,
   "metadata": {},
   "outputs": [
    {
     "name": "stdout",
     "output_type": "stream",
     "text": [
      "YAML config written to datasets_config.txt\n"
     ]
    }
   ],
   "source": [
    "output_lines = []\n",
    "output_lines.append(\"datasets:\")\n",
    "\n",
    "for filename in training_nodes:\n",
    "    match = re.search(r'_(\\d{4})_nodes\\.txt$', filename)\n",
    "    if not match:\n",
    "        continue\n",
    "    num = match.group(1)\n",
    "\n",
    "    base = filename[:10]\n",
    "    label = re.sub(r'\\W+', '_', base).strip('_') + f\"_{num}\"\n",
    "\n",
    "    output_lines.append(f\"    -\")\n",
    "    output_lines.append(f\"      label: {label}\")\n",
    "    output_lines.append(f\"      node_files: [\\\"{filename}\\\"]\")\n",
    "    output_lines.append(f\"      edge_files: [\\\"union_ppi.txt\\\"]\")\n",
    "    output_lines.append(f\"      # Placeholder\")\n",
    "    output_lines.append(f\"      other_files: []\")\n",
    "    output_lines.append(f\"      data_dir: \\\"input\\\"\")\n",
    "\n",
    "# Save to file\n",
    "with open(\"datasets_config.txt\", \"w\") as f:\n",
    "    f.write(\"\\n\".join(output_lines))\n",
    "\n",
    "print(\"YAML config written to datasets_config.txt\")"
   ]
  },
  {
   "cell_type": "code",
   "execution_count": null,
   "metadata": {},
   "outputs": [],
   "source": []
  }
 ],
 "metadata": {
  "kernelspec": {
   "display_name": "Python 3",
   "language": "python",
   "name": "python3"
  },
  "language_info": {
   "codemirror_mode": {
    "name": "ipython",
    "version": 3
   },
   "file_extension": ".py",
   "mimetype": "text/x-python",
   "name": "python",
   "nbconvert_exporter": "python",
   "pygments_lexer": "ipython3",
   "version": "3.13.2"
  }
 },
 "nbformat": 4,
 "nbformat_minor": 2
}
