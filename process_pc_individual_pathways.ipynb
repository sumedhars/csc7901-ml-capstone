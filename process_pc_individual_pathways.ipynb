{
 "cells": [
  {
   "cell_type": "code",
   "execution_count": 19,
   "id": "5de5f8c5",
   "metadata": {},
   "outputs": [],
   "source": [
    "import pandas as pd\n",
    "import os"
   ]
  },
  {
   "cell_type": "code",
   "execution_count": 20,
   "id": "294a4f7f",
   "metadata": {},
   "outputs": [],
   "source": [
    "ind_pathway_files = [f for f in os.listdir('pathway-commons-individual') if f.endswith('.txt')]"
   ]
  },
  {
   "cell_type": "code",
   "execution_count": 21,
   "id": "c92dd224",
   "metadata": {},
   "outputs": [
    {
     "data": {
      "text/html": [
       "<div>\n",
       "<style scoped>\n",
       "    .dataframe tbody tr th:only-of-type {\n",
       "        vertical-align: middle;\n",
       "    }\n",
       "\n",
       "    .dataframe tbody tr th {\n",
       "        vertical-align: top;\n",
       "    }\n",
       "\n",
       "    .dataframe thead th {\n",
       "        text-align: right;\n",
       "    }\n",
       "</style>\n",
       "<table border=\"1\" class=\"dataframe\">\n",
       "  <thead>\n",
       "    <tr style=\"text-align: right;\">\n",
       "      <th></th>\n",
       "      <th>gene_name</th>\n",
       "      <th>entry_name</th>\n",
       "    </tr>\n",
       "  </thead>\n",
       "  <tbody>\n",
       "    <tr>\n",
       "      <th>0</th>\n",
       "      <td>PLA2G10</td>\n",
       "      <td>PA2GX_HUMAN</td>\n",
       "    </tr>\n",
       "    <tr>\n",
       "      <th>1</th>\n",
       "      <td>FDFT1</td>\n",
       "      <td>FDFT_HUMAN</td>\n",
       "    </tr>\n",
       "    <tr>\n",
       "      <th>2</th>\n",
       "      <td>UGCG</td>\n",
       "      <td>CEGT_HUMAN</td>\n",
       "    </tr>\n",
       "    <tr>\n",
       "      <th>3</th>\n",
       "      <td>CYP1A2</td>\n",
       "      <td>CP1A2_HUMAN</td>\n",
       "    </tr>\n",
       "    <tr>\n",
       "      <th>4</th>\n",
       "      <td>RARS2</td>\n",
       "      <td>SYRM_HUMAN</td>\n",
       "    </tr>\n",
       "  </tbody>\n",
       "</table>\n",
       "</div>"
      ],
      "text/plain": [
       "  gene_name   entry_name\n",
       "0   PLA2G10  PA2GX_HUMAN\n",
       "1     FDFT1   FDFT_HUMAN\n",
       "2      UGCG   CEGT_HUMAN\n",
       "3    CYP1A2  CP1A2_HUMAN\n",
       "4     RARS2   SYRM_HUMAN"
      ]
     },
     "execution_count": 21,
     "metadata": {},
     "output_type": "execute_result"
    }
   ],
   "source": [
    "mapped_ids_reviewed = pd.read_csv('processed-data/mapped_ids_reviewed.csv', sep='\\t')\n",
    "mapped_ids_reviewed.head()\n"
   ]
  },
  {
   "cell_type": "code",
   "execution_count": 22,
   "id": "47a3c3df",
   "metadata": {},
   "outputs": [],
   "source": [
    "all_relations = ['catalysis-precedes',\n",
    " 'interacts-with',\n",
    " 'consumption-controlled-by',\n",
    " 'controls-production-of',\n",
    " 'reacts-with',\n",
    " 'used-to-produce']\n",
    "undirected = ['in-complex-with', 'interacts-with', 'neighbor-of', 'reacts-with']\n",
    "directed = [item for item in all_relations if item not in undirected]"
   ]
  },
  {
   "cell_type": "code",
   "execution_count": 23,
   "id": "220375bc",
   "metadata": {},
   "outputs": [],
   "source": [
    "mapping_dict = dict(zip(mapped_ids_reviewed[\"gene_name\"], mapped_ids_reviewed[\"entry_name\"]))"
   ]
  },
  {
   "cell_type": "code",
   "execution_count": 24,
   "id": "0e8868ec",
   "metadata": {},
   "outputs": [],
   "source": [
    "for ind_pathway in ind_pathway_files:\n",
    "    # path_name = os.path.splitext(os.path.basename(ind_pathway))[0]\n",
    "    read_file = os.path.join('pathway-commons-individual', ind_pathway)\n",
    "    pc_df = pd.read_csv(read_file, sep='\\t',header=None)\n",
    "    pc_df[0] = pc_df[0].replace(mapping_dict)\n",
    "    pc_df[2] = pc_df[2].replace(mapping_dict)\n",
    "    pc_df[4] = pc_df[2].apply(lambda x: 'D' if x in directed else 'U')\n",
    "    pc_df.drop(columns=[1], inplace=True)\n",
    "    pc_df.rename(columns={0:'Node1', 2:'Node2',4:'Directionality'}, inplace=True)\n",
    "    output_path = 'processed-pc-individual-pathways/' + ind_pathway.replace(' ', '_').lower()\n",
    "    pc_df.to_csv(output_path, index=False, sep='\\t')"
   ]
  }
 ],
 "metadata": {
  "kernelspec": {
   "display_name": "Python 3",
   "language": "python",
   "name": "python3"
  },
  "language_info": {
   "codemirror_mode": {
    "name": "ipython",
    "version": 3
   },
   "file_extension": ".py",
   "mimetype": "text/x-python",
   "name": "python",
   "nbconvert_exporter": "python",
   "pygments_lexer": "ipython3",
   "version": "3.13.2"
  }
 },
 "nbformat": 4,
 "nbformat_minor": 5
}
