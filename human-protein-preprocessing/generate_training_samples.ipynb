{
 "cells": [
  {
   "cell_type": "code",
   "execution_count": 1,
   "id": "e5704a88",
   "metadata": {},
   "outputs": [],
   "source": [
    "import pandas as pd\n",
    "import random"
   ]
  },
  {
   "cell_type": "markdown",
   "id": "333ede8f",
   "metadata": {},
   "source": [
    "### Individual Pathway: Glycolysis___Glucone.txt"
   ]
  },
  {
   "cell_type": "markdown",
   "id": "e12708c7",
   "metadata": {},
   "source": [
    "**load the pathway**"
   ]
  },
  {
   "cell_type": "code",
   "execution_count": 10,
   "id": "3fe7db77",
   "metadata": {},
   "outputs": [
    {
     "data": {
      "text/plain": [
       "{'catalysis-precedes',\n",
       " 'consumption-controlled-by',\n",
       " 'controls-production-of',\n",
       " 'reacts-with',\n",
       " 'used-to-produce'}"
      ]
     },
     "execution_count": 10,
     "metadata": {},
     "output_type": "execute_result"
    }
   ],
   "source": [
    "glycolysis_glucone = pd.read_csv('pathwaycommons-individual/Glycolysis___Glucone.txt', sep='\\t',header=None)\n",
    "set(glycolysis_glucone[1].tolist())"
   ]
  },
  {
   "cell_type": "code",
   "execution_count": 11,
   "id": "778eb3d5",
   "metadata": {},
   "outputs": [
    {
     "data": {
      "text/html": [
       "<div>\n",
       "<style scoped>\n",
       "    .dataframe tbody tr th:only-of-type {\n",
       "        vertical-align: middle;\n",
       "    }\n",
       "\n",
       "    .dataframe tbody tr th {\n",
       "        vertical-align: top;\n",
       "    }\n",
       "\n",
       "    .dataframe thead th {\n",
       "        text-align: right;\n",
       "    }\n",
       "</style>\n",
       "<table border=\"1\" class=\"dataframe\">\n",
       "  <thead>\n",
       "    <tr style=\"text-align: right;\">\n",
       "      <th></th>\n",
       "      <th>0</th>\n",
       "      <th>1</th>\n",
       "      <th>2</th>\n",
       "    </tr>\n",
       "  </thead>\n",
       "  <tbody>\n",
       "    <tr>\n",
       "      <th>0</th>\n",
       "      <td>ACSS2</td>\n",
       "      <td>catalysis-precedes</td>\n",
       "      <td>ADPGK</td>\n",
       "    </tr>\n",
       "    <tr>\n",
       "      <th>1</th>\n",
       "      <td>ACSS2</td>\n",
       "      <td>catalysis-precedes</td>\n",
       "      <td>DLAT</td>\n",
       "    </tr>\n",
       "    <tr>\n",
       "      <th>2</th>\n",
       "      <td>ACSS2</td>\n",
       "      <td>controls-production-of</td>\n",
       "      <td>chebi:15351</td>\n",
       "    </tr>\n",
       "    <tr>\n",
       "      <th>3</th>\n",
       "      <td>ACSS2</td>\n",
       "      <td>controls-production-of</td>\n",
       "      <td>chebi:16027</td>\n",
       "    </tr>\n",
       "    <tr>\n",
       "      <th>4</th>\n",
       "      <td>ADH1A</td>\n",
       "      <td>catalysis-precedes</td>\n",
       "      <td>ALDH3A1</td>\n",
       "    </tr>\n",
       "  </tbody>\n",
       "</table>\n",
       "</div>"
      ],
      "text/plain": [
       "       0                       1            2\n",
       "0  ACSS2      catalysis-precedes        ADPGK\n",
       "1  ACSS2      catalysis-precedes         DLAT\n",
       "2  ACSS2  controls-production-of  chebi:15351\n",
       "3  ACSS2  controls-production-of  chebi:16027\n",
       "4  ADH1A      catalysis-precedes      ALDH3A1"
      ]
     },
     "execution_count": 11,
     "metadata": {},
     "output_type": "execute_result"
    }
   ],
   "source": [
    "glycolysis_glucone.head()\n",
    "# chebi is a chemical not a protein - different database"
   ]
  },
  {
   "cell_type": "code",
   "execution_count": 12,
   "id": "42c18712",
   "metadata": {},
   "outputs": [
    {
     "name": "stdout",
     "output_type": "stream",
     "text": [
      "454\n"
     ]
    },
    {
     "data": {
      "text/html": [
       "<div>\n",
       "<style scoped>\n",
       "    .dataframe tbody tr th:only-of-type {\n",
       "        vertical-align: middle;\n",
       "    }\n",
       "\n",
       "    .dataframe tbody tr th {\n",
       "        vertical-align: top;\n",
       "    }\n",
       "\n",
       "    .dataframe thead th {\n",
       "        text-align: right;\n",
       "    }\n",
       "</style>\n",
       "<table border=\"1\" class=\"dataframe\">\n",
       "  <thead>\n",
       "    <tr style=\"text-align: right;\">\n",
       "      <th></th>\n",
       "      <th>0</th>\n",
       "      <th>2</th>\n",
       "    </tr>\n",
       "  </thead>\n",
       "  <tbody>\n",
       "    <tr>\n",
       "      <th>0</th>\n",
       "      <td>ACSS2</td>\n",
       "      <td>ADPGK</td>\n",
       "    </tr>\n",
       "    <tr>\n",
       "      <th>1</th>\n",
       "      <td>ACSS2</td>\n",
       "      <td>DLAT</td>\n",
       "    </tr>\n",
       "    <tr>\n",
       "      <th>2</th>\n",
       "      <td>ACSS2</td>\n",
       "      <td>chebi:15351</td>\n",
       "    </tr>\n",
       "    <tr>\n",
       "      <th>3</th>\n",
       "      <td>ACSS2</td>\n",
       "      <td>chebi:16027</td>\n",
       "    </tr>\n",
       "    <tr>\n",
       "      <th>4</th>\n",
       "      <td>ADH1A</td>\n",
       "      <td>ALDH3A1</td>\n",
       "    </tr>\n",
       "  </tbody>\n",
       "</table>\n",
       "</div>"
      ],
      "text/plain": [
       "       0            2\n",
       "0  ACSS2        ADPGK\n",
       "1  ACSS2         DLAT\n",
       "2  ACSS2  chebi:15351\n",
       "3  ACSS2  chebi:16027\n",
       "4  ADH1A      ALDH3A1"
      ]
     },
     "execution_count": 12,
     "metadata": {},
     "output_type": "execute_result"
    }
   ],
   "source": [
    "glycolysis_glucone.drop(columns=[1],inplace=True)\n",
    "print(len(glycolysis_glucone))\n",
    "glycolysis_glucone.head()"
   ]
  },
  {
   "cell_type": "markdown",
   "id": "c3c48e6c",
   "metadata": {},
   "source": [
    "**load the union ppi and ID map**"
   ]
  },
  {
   "cell_type": "code",
   "execution_count": 8,
   "id": "99df24e4",
   "metadata": {},
   "outputs": [
    {
     "data": {
      "text/html": [
       "<div>\n",
       "<style scoped>\n",
       "    .dataframe tbody tr th:only-of-type {\n",
       "        vertical-align: middle;\n",
       "    }\n",
       "\n",
       "    .dataframe tbody tr th {\n",
       "        vertical-align: top;\n",
       "    }\n",
       "\n",
       "    .dataframe thead th {\n",
       "        text-align: right;\n",
       "    }\n",
       "</style>\n",
       "<table border=\"1\" class=\"dataframe\">\n",
       "  <thead>\n",
       "    <tr style=\"text-align: right;\">\n",
       "      <th></th>\n",
       "      <th>0</th>\n",
       "      <th>1</th>\n",
       "      <th>2</th>\n",
       "      <th>3</th>\n",
       "    </tr>\n",
       "  </thead>\n",
       "  <tbody>\n",
       "    <tr>\n",
       "      <th>0</th>\n",
       "      <td>TACC1_HUMAN</td>\n",
       "      <td>RUXG_HUMAN</td>\n",
       "      <td>0.736771</td>\n",
       "      <td>U</td>\n",
       "    </tr>\n",
       "    <tr>\n",
       "      <th>1</th>\n",
       "      <td>TACC1_HUMAN</td>\n",
       "      <td>KAT2A_HUMAN</td>\n",
       "      <td>0.292198</td>\n",
       "      <td>U</td>\n",
       "    </tr>\n",
       "    <tr>\n",
       "      <th>2</th>\n",
       "      <td>TACC1_HUMAN</td>\n",
       "      <td>CKAP5_HUMAN</td>\n",
       "      <td>0.724783</td>\n",
       "      <td>U</td>\n",
       "    </tr>\n",
       "    <tr>\n",
       "      <th>3</th>\n",
       "      <td>TACC1_HUMAN</td>\n",
       "      <td>YETS4_HUMAN</td>\n",
       "      <td>0.542597</td>\n",
       "      <td>U</td>\n",
       "    </tr>\n",
       "    <tr>\n",
       "      <th>4</th>\n",
       "      <td>TACC1_HUMAN</td>\n",
       "      <td>LSM7_HUMAN</td>\n",
       "      <td>0.714823</td>\n",
       "      <td>U</td>\n",
       "    </tr>\n",
       "  </tbody>\n",
       "</table>\n",
       "</div>"
      ],
      "text/plain": [
       "             0            1         2  3\n",
       "0  TACC1_HUMAN   RUXG_HUMAN  0.736771  U\n",
       "1  TACC1_HUMAN  KAT2A_HUMAN  0.292198  U\n",
       "2  TACC1_HUMAN  CKAP5_HUMAN  0.724783  U\n",
       "3  TACC1_HUMAN  YETS4_HUMAN  0.542597  U\n",
       "4  TACC1_HUMAN   LSM7_HUMAN  0.714823  U"
      ]
     },
     "execution_count": 8,
     "metadata": {},
     "output_type": "execute_result"
    }
   ],
   "source": [
    "union_ppi = pd.read_csv('union_ppi.txt', sep='\\t', header=None)\n",
    "union_ppi.head()"
   ]
  },
  {
   "cell_type": "code",
   "execution_count": 16,
   "id": "cf057491",
   "metadata": {},
   "outputs": [
    {
     "data": {
      "text/html": [
       "<div>\n",
       "<style scoped>\n",
       "    .dataframe tbody tr th:only-of-type {\n",
       "        vertical-align: middle;\n",
       "    }\n",
       "\n",
       "    .dataframe tbody tr th {\n",
       "        vertical-align: top;\n",
       "    }\n",
       "\n",
       "    .dataframe thead th {\n",
       "        text-align: right;\n",
       "    }\n",
       "</style>\n",
       "<table border=\"1\" class=\"dataframe\">\n",
       "  <thead>\n",
       "    <tr style=\"text-align: right;\">\n",
       "      <th></th>\n",
       "      <th>gene_name</th>\n",
       "      <th>entry_name</th>\n",
       "    </tr>\n",
       "  </thead>\n",
       "  <tbody>\n",
       "    <tr>\n",
       "      <th>0</th>\n",
       "      <td>PLA2G10</td>\n",
       "      <td>PA2GX_HUMAN</td>\n",
       "    </tr>\n",
       "    <tr>\n",
       "      <th>1</th>\n",
       "      <td>FDFT1</td>\n",
       "      <td>FDFT_HUMAN</td>\n",
       "    </tr>\n",
       "    <tr>\n",
       "      <th>2</th>\n",
       "      <td>UGCG</td>\n",
       "      <td>CEGT_HUMAN</td>\n",
       "    </tr>\n",
       "    <tr>\n",
       "      <th>3</th>\n",
       "      <td>CYP1A2</td>\n",
       "      <td>CP1A2_HUMAN</td>\n",
       "    </tr>\n",
       "    <tr>\n",
       "      <th>4</th>\n",
       "      <td>RARS2</td>\n",
       "      <td>SYRM_HUMAN</td>\n",
       "    </tr>\n",
       "  </tbody>\n",
       "</table>\n",
       "</div>"
      ],
      "text/plain": [
       "  gene_name   entry_name\n",
       "0   PLA2G10  PA2GX_HUMAN\n",
       "1     FDFT1   FDFT_HUMAN\n",
       "2      UGCG   CEGT_HUMAN\n",
       "3    CYP1A2  CP1A2_HUMAN\n",
       "4     RARS2   SYRM_HUMAN"
      ]
     },
     "execution_count": 16,
     "metadata": {},
     "output_type": "execute_result"
    }
   ],
   "source": [
    "id_map = pd.read_csv('mapped_ids_reviewed.csv', sep='\\t')\n",
    "id_map.head()"
   ]
  },
  {
   "cell_type": "markdown",
   "id": "60fe80a1",
   "metadata": {},
   "source": [
    "**map the inidividual pathway to entry_names using ID map**"
   ]
  },
  {
   "cell_type": "code",
   "execution_count": 17,
   "id": "1128f2de",
   "metadata": {},
   "outputs": [],
   "source": [
    "mapping_dict = dict(zip(id_map[\"gene_name\"], id_map[\"entry_name\"]))\n",
    "\n",
    "glycolysis_glucone[0] = glycolysis_glucone[0].replace(mapping_dict)\n",
    "glycolysis_glucone[2] = glycolysis_glucone[2].replace(mapping_dict)"
   ]
  },
  {
   "cell_type": "code",
   "execution_count": 18,
   "id": "a4f23b6f",
   "metadata": {},
   "outputs": [
    {
     "data": {
      "text/html": [
       "<div>\n",
       "<style scoped>\n",
       "    .dataframe tbody tr th:only-of-type {\n",
       "        vertical-align: middle;\n",
       "    }\n",
       "\n",
       "    .dataframe tbody tr th {\n",
       "        vertical-align: top;\n",
       "    }\n",
       "\n",
       "    .dataframe thead th {\n",
       "        text-align: right;\n",
       "    }\n",
       "</style>\n",
       "<table border=\"1\" class=\"dataframe\">\n",
       "  <thead>\n",
       "    <tr style=\"text-align: right;\">\n",
       "      <th></th>\n",
       "      <th>0</th>\n",
       "      <th>2</th>\n",
       "    </tr>\n",
       "  </thead>\n",
       "  <tbody>\n",
       "    <tr>\n",
       "      <th>0</th>\n",
       "      <td>ACSA_HUMAN</td>\n",
       "      <td>ADPGK_HUMAN</td>\n",
       "    </tr>\n",
       "    <tr>\n",
       "      <th>1</th>\n",
       "      <td>ACSA_HUMAN</td>\n",
       "      <td>ODP2_HUMAN</td>\n",
       "    </tr>\n",
       "    <tr>\n",
       "      <th>2</th>\n",
       "      <td>ACSA_HUMAN</td>\n",
       "      <td>chebi:15351</td>\n",
       "    </tr>\n",
       "    <tr>\n",
       "      <th>3</th>\n",
       "      <td>ACSA_HUMAN</td>\n",
       "      <td>chebi:16027</td>\n",
       "    </tr>\n",
       "    <tr>\n",
       "      <th>4</th>\n",
       "      <td>ADH1A_HUMAN</td>\n",
       "      <td>AL3A1_HUMAN</td>\n",
       "    </tr>\n",
       "  </tbody>\n",
       "</table>\n",
       "</div>"
      ],
      "text/plain": [
       "             0            2\n",
       "0   ACSA_HUMAN  ADPGK_HUMAN\n",
       "1   ACSA_HUMAN   ODP2_HUMAN\n",
       "2   ACSA_HUMAN  chebi:15351\n",
       "3   ACSA_HUMAN  chebi:16027\n",
       "4  ADH1A_HUMAN  AL3A1_HUMAN"
      ]
     },
     "execution_count": 18,
     "metadata": {},
     "output_type": "execute_result"
    }
   ],
   "source": [
    "glycolysis_glucone.head()"
   ]
  },
  {
   "cell_type": "markdown",
   "id": "b99d4330",
   "metadata": {},
   "source": [
    "**get 50% of the nodes as input nodes, then deterministically select the edges that contains these nodes from the PPI**"
   ]
  },
  {
   "cell_type": "code",
   "execution_count": 20,
   "id": "2462436e",
   "metadata": {},
   "outputs": [
    {
     "data": {
      "text/plain": [
       "141"
      ]
     },
     "execution_count": 20,
     "metadata": {},
     "output_type": "execute_result"
    }
   ],
   "source": [
    "all_gg_nodes = list(set(glycolysis_glucone[0])) + list(set(glycolysis_glucone[2]))\n",
    "len(all_gg_nodes)"
   ]
  },
  {
   "cell_type": "code",
   "execution_count": 28,
   "id": "56644dbd",
   "metadata": {},
   "outputs": [
    {
     "name": "stdout",
     "output_type": "stream",
     "text": [
      "['BPGM', 'chebi:17665', 'PFKP', 'chebi:44897', 'AKR1A1', 'ALDH3A2', 'DLAT', 'G6PC1', 'DLST', 'chebi:17720', 'chebi:30744', 'HK3', 'ADH1C', 'chebi:9532', 'PDHB', 'chebi:80404', 'ADH4', 'chebi:29042', 'ENO3', 'chebi:16108', 'HK1', 'chebi:17925', 'chebi:17719', 'chebi:15903', 'chebi:16027', 'chebi:17808', 'chebi:16001', 'chebi:28013', 'chebi:80219', 'PGM2', 'chebi:17835', 'ADH1A', 'chebi:32816', 'chebi:16084', 'GAPDH']\n",
      "               0            2\n",
      "120        G6PC1  chebi:16027\n",
      "121        G6PC1  chebi:17665\n",
      "122        G6PC1  chebi:17925\n",
      "318  chebi:15903  chebi:16027\n",
      "320  chebi:15903  chebi:17719\n",
      "321  chebi:15903  chebi:17925\n",
      "324  chebi:16001  chebi:17720\n",
      "327  chebi:16027  chebi:15903\n",
      "328  chebi:16027  chebi:17719\n",
      "335  chebi:16084  chebi:28013\n",
      "337  chebi:16108  chebi:28013\n",
      "361  chebi:17665        G6PC1\n",
      "372  chebi:17665  chebi:17719\n",
      "373  chebi:17665  chebi:17925\n",
      "374  chebi:17665  chebi:29042\n",
      "377  chebi:17719  chebi:15903\n",
      "378  chebi:17719  chebi:17665\n",
      "380  chebi:17720  chebi:16001\n",
      "388  chebi:17835  chebi:44897\n",
      "390  chebi:17925        G6PC1\n",
      "398  chebi:17925  chebi:15903\n",
      "399  chebi:17925  chebi:16027\n",
      "400  chebi:17925  chebi:17665\n",
      "405  chebi:28013  chebi:16084\n",
      "406  chebi:28013  chebi:16108\n",
      "410  chebi:29042  chebi:17665\n",
      "416  chebi:30744  chebi:17808\n",
      "417  chebi:30744  chebi:44897\n",
      "421  chebi:32816   chebi:9532\n",
      "428  chebi:44897  chebi:17835\n",
      "445  chebi:80219  chebi:80404\n",
      "448  chebi:80404  chebi:80219\n"
     ]
    }
   ],
   "source": [
    "sample_size = max(1, len(all_gg_nodes) // 4) # TODO: change this to multiplication \n",
    "# vary the percentage of nodes being sampled - GNN will generalize better then\n",
    "gg_random_sample_1 = random.sample(all_nodes_gg, sample_size)\n",
    "print(gg_random_sample_1)\n",
    "mask = glycolysis_glucone[0].isin(gg_random_sample_1) & glycolysis_glucone[2].isin(gg_random_sample_1)\n",
    "matching_rows = glycolysis_glucone[mask]\n",
    "print(matching_rows)"
   ]
  },
  {
   "cell_type": "code",
   "execution_count": null,
   "id": "c97bcff2",
   "metadata": {},
   "outputs": [],
   "source": []
  }
 ],
 "metadata": {
  "kernelspec": {
   "display_name": "Python 3 (ipykernel)",
   "language": "python",
   "name": "python3"
  },
  "language_info": {
   "codemirror_mode": {
    "name": "ipython",
    "version": 3
   },
   "file_extension": ".py",
   "mimetype": "text/x-python",
   "name": "python",
   "nbconvert_exporter": "python",
   "pygments_lexer": "ipython3",
   "version": "3.7.13"
  }
 },
 "nbformat": 4,
 "nbformat_minor": 5
}
