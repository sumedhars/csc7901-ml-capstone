{
 "cells": [
  {
   "cell_type": "code",
   "execution_count": 1,
   "id": "e5704a88",
   "metadata": {},
   "outputs": [],
   "source": [
    "import pandas as pd\n",
    "import random\n",
    "import re"
   ]
  },
  {
   "cell_type": "markdown",
   "id": "c3c48e6c",
   "metadata": {},
   "source": [
    "### Load the union ppi and ID map"
   ]
  },
  {
   "cell_type": "code",
   "execution_count": 2,
   "id": "99df24e4",
   "metadata": {},
   "outputs": [
    {
     "data": {
      "text/html": [
       "<div>\n",
       "<style scoped>\n",
       "    .dataframe tbody tr th:only-of-type {\n",
       "        vertical-align: middle;\n",
       "    }\n",
       "\n",
       "    .dataframe tbody tr th {\n",
       "        vertical-align: top;\n",
       "    }\n",
       "\n",
       "    .dataframe thead th {\n",
       "        text-align: right;\n",
       "    }\n",
       "</style>\n",
       "<table border=\"1\" class=\"dataframe\">\n",
       "  <thead>\n",
       "    <tr style=\"text-align: right;\">\n",
       "      <th></th>\n",
       "      <th>0</th>\n",
       "      <th>1</th>\n",
       "      <th>2</th>\n",
       "      <th>3</th>\n",
       "    </tr>\n",
       "  </thead>\n",
       "  <tbody>\n",
       "    <tr>\n",
       "      <th>0</th>\n",
       "      <td>TACC1_HUMAN</td>\n",
       "      <td>RUXG_HUMAN</td>\n",
       "      <td>0.736771</td>\n",
       "      <td>U</td>\n",
       "    </tr>\n",
       "    <tr>\n",
       "      <th>1</th>\n",
       "      <td>TACC1_HUMAN</td>\n",
       "      <td>KAT2A_HUMAN</td>\n",
       "      <td>0.292198</td>\n",
       "      <td>U</td>\n",
       "    </tr>\n",
       "    <tr>\n",
       "      <th>2</th>\n",
       "      <td>TACC1_HUMAN</td>\n",
       "      <td>CKAP5_HUMAN</td>\n",
       "      <td>0.724783</td>\n",
       "      <td>U</td>\n",
       "    </tr>\n",
       "    <tr>\n",
       "      <th>3</th>\n",
       "      <td>TACC1_HUMAN</td>\n",
       "      <td>YETS4_HUMAN</td>\n",
       "      <td>0.542597</td>\n",
       "      <td>U</td>\n",
       "    </tr>\n",
       "    <tr>\n",
       "      <th>4</th>\n",
       "      <td>TACC1_HUMAN</td>\n",
       "      <td>LSM7_HUMAN</td>\n",
       "      <td>0.714823</td>\n",
       "      <td>U</td>\n",
       "    </tr>\n",
       "  </tbody>\n",
       "</table>\n",
       "</div>"
      ],
      "text/plain": [
       "             0            1         2  3\n",
       "0  TACC1_HUMAN   RUXG_HUMAN  0.736771  U\n",
       "1  TACC1_HUMAN  KAT2A_HUMAN  0.292198  U\n",
       "2  TACC1_HUMAN  CKAP5_HUMAN  0.724783  U\n",
       "3  TACC1_HUMAN  YETS4_HUMAN  0.542597  U\n",
       "4  TACC1_HUMAN   LSM7_HUMAN  0.714823  U"
      ]
     },
     "execution_count": 2,
     "metadata": {},
     "output_type": "execute_result"
    }
   ],
   "source": [
    "union_ppi = pd.read_csv('processed-data/union_ppi.txt', sep='\\t', header=None)\n",
    "union_ppi.head()"
   ]
  },
  {
   "cell_type": "code",
   "execution_count": 3,
   "id": "cf057491",
   "metadata": {},
   "outputs": [
    {
     "data": {
      "text/html": [
       "<div>\n",
       "<style scoped>\n",
       "    .dataframe tbody tr th:only-of-type {\n",
       "        vertical-align: middle;\n",
       "    }\n",
       "\n",
       "    .dataframe tbody tr th {\n",
       "        vertical-align: top;\n",
       "    }\n",
       "\n",
       "    .dataframe thead th {\n",
       "        text-align: right;\n",
       "    }\n",
       "</style>\n",
       "<table border=\"1\" class=\"dataframe\">\n",
       "  <thead>\n",
       "    <tr style=\"text-align: right;\">\n",
       "      <th></th>\n",
       "      <th>gene_name</th>\n",
       "      <th>entry_name</th>\n",
       "    </tr>\n",
       "  </thead>\n",
       "  <tbody>\n",
       "    <tr>\n",
       "      <th>0</th>\n",
       "      <td>PLA2G10</td>\n",
       "      <td>PA2GX_HUMAN</td>\n",
       "    </tr>\n",
       "    <tr>\n",
       "      <th>1</th>\n",
       "      <td>FDFT1</td>\n",
       "      <td>FDFT_HUMAN</td>\n",
       "    </tr>\n",
       "    <tr>\n",
       "      <th>2</th>\n",
       "      <td>UGCG</td>\n",
       "      <td>CEGT_HUMAN</td>\n",
       "    </tr>\n",
       "    <tr>\n",
       "      <th>3</th>\n",
       "      <td>CYP1A2</td>\n",
       "      <td>CP1A2_HUMAN</td>\n",
       "    </tr>\n",
       "    <tr>\n",
       "      <th>4</th>\n",
       "      <td>RARS2</td>\n",
       "      <td>SYRM_HUMAN</td>\n",
       "    </tr>\n",
       "  </tbody>\n",
       "</table>\n",
       "</div>"
      ],
      "text/plain": [
       "  gene_name   entry_name\n",
       "0   PLA2G10  PA2GX_HUMAN\n",
       "1     FDFT1   FDFT_HUMAN\n",
       "2      UGCG   CEGT_HUMAN\n",
       "3    CYP1A2  CP1A2_HUMAN\n",
       "4     RARS2   SYRM_HUMAN"
      ]
     },
     "execution_count": 3,
     "metadata": {},
     "output_type": "execute_result"
    }
   ],
   "source": [
    "id_map = pd.read_csv('processed-data/mapped_ids_reviewed.csv', sep='\\t')\n",
    "id_map.head()"
   ]
  },
  {
   "cell_type": "markdown",
   "id": "4ba99e44",
   "metadata": {},
   "source": [
    "### function to create the training sample data"
   ]
  },
  {
   "cell_type": "code",
   "execution_count": 4,
   "id": "61959c27",
   "metadata": {},
   "outputs": [],
   "source": [
    "def create_training_sample(individual_pathway, all_nodes, union_ppi, ind_pathway_name):\n",
    "    sample_size = max(1, len(all_nodes) // 4)  # TODO: change this to multiplication\n",
    "    # Randomly sample nodes\n",
    "    random_sample = random.sample(all_nodes, sample_size)\n",
    "    # Filter the edges that contain the sampled nodes\n",
    "    mask = individual_pathway[0].isin(random_sample) & individual_pathway[2].isin(random_sample)\n",
    "    matching_rows = individual_pathway[mask]\n",
    "    # Generate the training sample\n",
    "    training_sample = union_ppi.copy()\n",
    "    training_sample[\"label\"] = training_sample[[0, 1]].apply(tuple, axis=1).isin(matching_rows.apply(tuple, axis=1)).astype(int)\n",
    "    # print(training_sample[training_sample['label']==1])\n",
    "    if 1 in training_sample['label'].tolist():\n",
    "        print(\"True labels in PPI - found\")\n",
    "    else:\n",
    "        print(\"No True Label found in PPI\")\n",
    "    filename = ind_pathway_name + str(random.randint(1000, 9999)) + '.csv'\n",
    "    training_sample.to_csv(f'training-samples/{filename}', index=False, sep='\\t')"
   ]
  },
  {
   "cell_type": "markdown",
   "id": "333ede8f",
   "metadata": {},
   "source": [
    "### Individual Pathway: Glycolysis___Glucone.txt"
   ]
  },
  {
   "cell_type": "markdown",
   "id": "e12708c7",
   "metadata": {},
   "source": [
    "**load the pathway + map IDs using ID map + preprocessing**"
   ]
  },
  {
   "cell_type": "code",
   "execution_count": 5,
   "id": "3fe7db77",
   "metadata": {},
   "outputs": [
    {
     "name": "stdout",
     "output_type": "stream",
     "text": [
      "{'controls-production-of', 'consumption-controlled-by', 'reacts-with', 'catalysis-precedes', 'used-to-produce'}\n"
     ]
    },
    {
     "data": {
      "text/html": [
       "<div>\n",
       "<style scoped>\n",
       "    .dataframe tbody tr th:only-of-type {\n",
       "        vertical-align: middle;\n",
       "    }\n",
       "\n",
       "    .dataframe tbody tr th {\n",
       "        vertical-align: top;\n",
       "    }\n",
       "\n",
       "    .dataframe thead th {\n",
       "        text-align: right;\n",
       "    }\n",
       "</style>\n",
       "<table border=\"1\" class=\"dataframe\">\n",
       "  <thead>\n",
       "    <tr style=\"text-align: right;\">\n",
       "      <th></th>\n",
       "      <th>0</th>\n",
       "      <th>1</th>\n",
       "      <th>2</th>\n",
       "    </tr>\n",
       "  </thead>\n",
       "  <tbody>\n",
       "    <tr>\n",
       "      <th>0</th>\n",
       "      <td>ACSS2</td>\n",
       "      <td>catalysis-precedes</td>\n",
       "      <td>ADPGK</td>\n",
       "    </tr>\n",
       "    <tr>\n",
       "      <th>1</th>\n",
       "      <td>ACSS2</td>\n",
       "      <td>catalysis-precedes</td>\n",
       "      <td>DLAT</td>\n",
       "    </tr>\n",
       "    <tr>\n",
       "      <th>2</th>\n",
       "      <td>ACSS2</td>\n",
       "      <td>controls-production-of</td>\n",
       "      <td>chebi:15351</td>\n",
       "    </tr>\n",
       "    <tr>\n",
       "      <th>3</th>\n",
       "      <td>ACSS2</td>\n",
       "      <td>controls-production-of</td>\n",
       "      <td>chebi:16027</td>\n",
       "    </tr>\n",
       "    <tr>\n",
       "      <th>4</th>\n",
       "      <td>ADH1A</td>\n",
       "      <td>catalysis-precedes</td>\n",
       "      <td>ALDH3A1</td>\n",
       "    </tr>\n",
       "  </tbody>\n",
       "</table>\n",
       "</div>"
      ],
      "text/plain": [
       "       0                       1            2\n",
       "0  ACSS2      catalysis-precedes        ADPGK\n",
       "1  ACSS2      catalysis-precedes         DLAT\n",
       "2  ACSS2  controls-production-of  chebi:15351\n",
       "3  ACSS2  controls-production-of  chebi:16027\n",
       "4  ADH1A      catalysis-precedes      ALDH3A1"
      ]
     },
     "execution_count": 5,
     "metadata": {},
     "output_type": "execute_result"
    }
   ],
   "source": [
    "glycolysis_glucone = pd.read_csv('pathwaycommons-individual/Glycolysis___Glucone.txt', sep='\\t',header=None)\n",
    "print(set(glycolysis_glucone[1].tolist()))\n",
    "glycolysis_glucone.head()"
   ]
  },
  {
   "cell_type": "code",
   "execution_count": 6,
   "id": "42c18712",
   "metadata": {},
   "outputs": [
    {
     "name": "stdout",
     "output_type": "stream",
     "text": [
      "454\n"
     ]
    },
    {
     "data": {
      "text/html": [
       "<div>\n",
       "<style scoped>\n",
       "    .dataframe tbody tr th:only-of-type {\n",
       "        vertical-align: middle;\n",
       "    }\n",
       "\n",
       "    .dataframe tbody tr th {\n",
       "        vertical-align: top;\n",
       "    }\n",
       "\n",
       "    .dataframe thead th {\n",
       "        text-align: right;\n",
       "    }\n",
       "</style>\n",
       "<table border=\"1\" class=\"dataframe\">\n",
       "  <thead>\n",
       "    <tr style=\"text-align: right;\">\n",
       "      <th></th>\n",
       "      <th>0</th>\n",
       "      <th>2</th>\n",
       "    </tr>\n",
       "  </thead>\n",
       "  <tbody>\n",
       "    <tr>\n",
       "      <th>0</th>\n",
       "      <td>ACSS2</td>\n",
       "      <td>ADPGK</td>\n",
       "    </tr>\n",
       "    <tr>\n",
       "      <th>1</th>\n",
       "      <td>ACSS2</td>\n",
       "      <td>DLAT</td>\n",
       "    </tr>\n",
       "    <tr>\n",
       "      <th>2</th>\n",
       "      <td>ACSS2</td>\n",
       "      <td>chebi:15351</td>\n",
       "    </tr>\n",
       "    <tr>\n",
       "      <th>3</th>\n",
       "      <td>ACSS2</td>\n",
       "      <td>chebi:16027</td>\n",
       "    </tr>\n",
       "    <tr>\n",
       "      <th>4</th>\n",
       "      <td>ADH1A</td>\n",
       "      <td>ALDH3A1</td>\n",
       "    </tr>\n",
       "  </tbody>\n",
       "</table>\n",
       "</div>"
      ],
      "text/plain": [
       "       0            2\n",
       "0  ACSS2        ADPGK\n",
       "1  ACSS2         DLAT\n",
       "2  ACSS2  chebi:15351\n",
       "3  ACSS2  chebi:16027\n",
       "4  ADH1A      ALDH3A1"
      ]
     },
     "execution_count": 6,
     "metadata": {},
     "output_type": "execute_result"
    }
   ],
   "source": [
    "glycolysis_glucone.drop(columns=[1],inplace=True)\n",
    "print(len(glycolysis_glucone))\n",
    "glycolysis_glucone.head()"
   ]
  },
  {
   "cell_type": "code",
   "execution_count": 7,
   "id": "1128f2de",
   "metadata": {},
   "outputs": [
    {
     "data": {
      "text/html": [
       "<div>\n",
       "<style scoped>\n",
       "    .dataframe tbody tr th:only-of-type {\n",
       "        vertical-align: middle;\n",
       "    }\n",
       "\n",
       "    .dataframe tbody tr th {\n",
       "        vertical-align: top;\n",
       "    }\n",
       "\n",
       "    .dataframe thead th {\n",
       "        text-align: right;\n",
       "    }\n",
       "</style>\n",
       "<table border=\"1\" class=\"dataframe\">\n",
       "  <thead>\n",
       "    <tr style=\"text-align: right;\">\n",
       "      <th></th>\n",
       "      <th>0</th>\n",
       "      <th>2</th>\n",
       "    </tr>\n",
       "  </thead>\n",
       "  <tbody>\n",
       "    <tr>\n",
       "      <th>0</th>\n",
       "      <td>ACSA_HUMAN</td>\n",
       "      <td>ADPGK_HUMAN</td>\n",
       "    </tr>\n",
       "    <tr>\n",
       "      <th>1</th>\n",
       "      <td>ACSA_HUMAN</td>\n",
       "      <td>ODP2_HUMAN</td>\n",
       "    </tr>\n",
       "    <tr>\n",
       "      <th>2</th>\n",
       "      <td>ACSA_HUMAN</td>\n",
       "      <td>chebi:15351</td>\n",
       "    </tr>\n",
       "    <tr>\n",
       "      <th>3</th>\n",
       "      <td>ACSA_HUMAN</td>\n",
       "      <td>chebi:16027</td>\n",
       "    </tr>\n",
       "    <tr>\n",
       "      <th>4</th>\n",
       "      <td>ADH1A_HUMAN</td>\n",
       "      <td>AL3A1_HUMAN</td>\n",
       "    </tr>\n",
       "  </tbody>\n",
       "</table>\n",
       "</div>"
      ],
      "text/plain": [
       "             0            2\n",
       "0   ACSA_HUMAN  ADPGK_HUMAN\n",
       "1   ACSA_HUMAN   ODP2_HUMAN\n",
       "2   ACSA_HUMAN  chebi:15351\n",
       "3   ACSA_HUMAN  chebi:16027\n",
       "4  ADH1A_HUMAN  AL3A1_HUMAN"
      ]
     },
     "execution_count": 7,
     "metadata": {},
     "output_type": "execute_result"
    }
   ],
   "source": [
    "mapping_dict = dict(zip(id_map[\"gene_name\"], id_map[\"entry_name\"]))\n",
    "\n",
    "glycolysis_glucone[0] = glycolysis_glucone[0].replace(mapping_dict)\n",
    "glycolysis_glucone[2] = glycolysis_glucone[2].replace(mapping_dict)\n",
    "glycolysis_glucone.head()"
   ]
  },
  {
   "cell_type": "markdown",
   "id": "b99d4330",
   "metadata": {},
   "source": [
    "**get all nodes + apply the training sample generating function - 10 times**"
   ]
  },
  {
   "cell_type": "code",
   "execution_count": 8,
   "id": "2462436e",
   "metadata": {},
   "outputs": [
    {
     "data": {
      "text/plain": [
       "141"
      ]
     },
     "execution_count": 8,
     "metadata": {},
     "output_type": "execute_result"
    }
   ],
   "source": [
    "all_gg_nodes = list(set(glycolysis_glucone[0])) + list(set(glycolysis_glucone[2]))\n",
    "len(all_gg_nodes)"
   ]
  },
  {
   "cell_type": "code",
   "execution_count": 9,
   "id": "41561e50",
   "metadata": {},
   "outputs": [],
   "source": [
    "gg_path_name = 'glycolysis_glucone_train_'"
   ]
  },
  {
   "cell_type": "code",
   "execution_count": 10,
   "id": "f37d438b",
   "metadata": {},
   "outputs": [
    {
     "name": "stdout",
     "output_type": "stream",
     "text": [
      "True labels in PPI - found\n",
      "True labels in PPI - found\n",
      "True labels in PPI - found\n",
      "True labels in PPI - found\n",
      "True labels in PPI - found\n",
      "True labels in PPI - found\n",
      "True labels in PPI - found\n",
      "True labels in PPI - found\n",
      "True labels in PPI - found\n",
      "True labels in PPI - found\n"
     ]
    }
   ],
   "source": [
    "for _ in range(10):\n",
    "    create_training_sample(glycolysis_glucone, all_gg_nodes, union_ppi, gg_path_name)"
   ]
  },
  {
   "cell_type": "markdown",
   "id": "6f2ddaff",
   "metadata": {},
   "source": [
    "### Individual Pathway: Butirosin_and_neomyc.txt"
   ]
  },
  {
   "cell_type": "markdown",
   "id": "154acb47",
   "metadata": {},
   "source": [
    "**load + preprocess individual pathway**"
   ]
  },
  {
   "cell_type": "code",
   "execution_count": 11,
   "id": "aea45a8f",
   "metadata": {},
   "outputs": [
    {
     "name": "stdout",
     "output_type": "stream",
     "text": [
      "{'controls-production-of', 'consumption-controlled-by', 'used-to-produce'}\n"
     ]
    },
    {
     "data": {
      "text/html": [
       "<div>\n",
       "<style scoped>\n",
       "    .dataframe tbody tr th:only-of-type {\n",
       "        vertical-align: middle;\n",
       "    }\n",
       "\n",
       "    .dataframe tbody tr th {\n",
       "        vertical-align: top;\n",
       "    }\n",
       "\n",
       "    .dataframe thead th {\n",
       "        text-align: right;\n",
       "    }\n",
       "</style>\n",
       "<table border=\"1\" class=\"dataframe\">\n",
       "  <thead>\n",
       "    <tr style=\"text-align: right;\">\n",
       "      <th></th>\n",
       "      <th>0</th>\n",
       "      <th>1</th>\n",
       "      <th>2</th>\n",
       "    </tr>\n",
       "  </thead>\n",
       "  <tbody>\n",
       "    <tr>\n",
       "      <th>0</th>\n",
       "      <td>CHEBI:4167</td>\n",
       "      <td>consumption-controlled-by</td>\n",
       "      <td>GCK</td>\n",
       "    </tr>\n",
       "    <tr>\n",
       "      <th>1</th>\n",
       "      <td>CHEBI:4167</td>\n",
       "      <td>consumption-controlled-by</td>\n",
       "      <td>HK1</td>\n",
       "    </tr>\n",
       "    <tr>\n",
       "      <th>2</th>\n",
       "      <td>CHEBI:4167</td>\n",
       "      <td>consumption-controlled-by</td>\n",
       "      <td>HK2</td>\n",
       "    </tr>\n",
       "    <tr>\n",
       "      <th>3</th>\n",
       "      <td>CHEBI:4167</td>\n",
       "      <td>consumption-controlled-by</td>\n",
       "      <td>HK3</td>\n",
       "    </tr>\n",
       "    <tr>\n",
       "      <th>4</th>\n",
       "      <td>CHEBI:4167</td>\n",
       "      <td>consumption-controlled-by</td>\n",
       "      <td>HKDC1</td>\n",
       "    </tr>\n",
       "  </tbody>\n",
       "</table>\n",
       "</div>"
      ],
      "text/plain": [
       "            0                          1      2\n",
       "0  CHEBI:4167  consumption-controlled-by    GCK\n",
       "1  CHEBI:4167  consumption-controlled-by    HK1\n",
       "2  CHEBI:4167  consumption-controlled-by    HK2\n",
       "3  CHEBI:4167  consumption-controlled-by    HK3\n",
       "4  CHEBI:4167  consumption-controlled-by  HKDC1"
      ]
     },
     "execution_count": 11,
     "metadata": {},
     "output_type": "execute_result"
    }
   ],
   "source": [
    "butirosin_neomyc = pd.read_csv('pathwaycommons-individual/Butirosin_and_neomyc.txt', sep='\\t',header=None)\n",
    "print(set(butirosin_neomyc[1].tolist()))\n",
    "butirosin_neomyc.head()"
   ]
  },
  {
   "cell_type": "code",
   "execution_count": 12,
   "id": "8a8d8172",
   "metadata": {},
   "outputs": [
    {
     "name": "stdout",
     "output_type": "stream",
     "text": [
      "11\n"
     ]
    },
    {
     "data": {
      "text/html": [
       "<div>\n",
       "<style scoped>\n",
       "    .dataframe tbody tr th:only-of-type {\n",
       "        vertical-align: middle;\n",
       "    }\n",
       "\n",
       "    .dataframe tbody tr th {\n",
       "        vertical-align: top;\n",
       "    }\n",
       "\n",
       "    .dataframe thead th {\n",
       "        text-align: right;\n",
       "    }\n",
       "</style>\n",
       "<table border=\"1\" class=\"dataframe\">\n",
       "  <thead>\n",
       "    <tr style=\"text-align: right;\">\n",
       "      <th></th>\n",
       "      <th>0</th>\n",
       "      <th>2</th>\n",
       "    </tr>\n",
       "  </thead>\n",
       "  <tbody>\n",
       "    <tr>\n",
       "      <th>0</th>\n",
       "      <td>CHEBI:4167</td>\n",
       "      <td>GCK</td>\n",
       "    </tr>\n",
       "    <tr>\n",
       "      <th>1</th>\n",
       "      <td>CHEBI:4167</td>\n",
       "      <td>HK1</td>\n",
       "    </tr>\n",
       "    <tr>\n",
       "      <th>2</th>\n",
       "      <td>CHEBI:4167</td>\n",
       "      <td>HK2</td>\n",
       "    </tr>\n",
       "    <tr>\n",
       "      <th>3</th>\n",
       "      <td>CHEBI:4167</td>\n",
       "      <td>HK3</td>\n",
       "    </tr>\n",
       "    <tr>\n",
       "      <th>4</th>\n",
       "      <td>CHEBI:4167</td>\n",
       "      <td>HKDC1</td>\n",
       "    </tr>\n",
       "  </tbody>\n",
       "</table>\n",
       "</div>"
      ],
      "text/plain": [
       "            0      2\n",
       "0  CHEBI:4167    GCK\n",
       "1  CHEBI:4167    HK1\n",
       "2  CHEBI:4167    HK2\n",
       "3  CHEBI:4167    HK3\n",
       "4  CHEBI:4167  HKDC1"
      ]
     },
     "execution_count": 12,
     "metadata": {},
     "output_type": "execute_result"
    }
   ],
   "source": [
    "butirosin_neomyc.drop(columns=[1],inplace=True)\n",
    "print(len(butirosin_neomyc))\n",
    "butirosin_neomyc.head()"
   ]
  },
  {
   "cell_type": "code",
   "execution_count": 13,
   "id": "4751f9bc",
   "metadata": {},
   "outputs": [
    {
     "data": {
      "text/html": [
       "<div>\n",
       "<style scoped>\n",
       "    .dataframe tbody tr th:only-of-type {\n",
       "        vertical-align: middle;\n",
       "    }\n",
       "\n",
       "    .dataframe tbody tr th {\n",
       "        vertical-align: top;\n",
       "    }\n",
       "\n",
       "    .dataframe thead th {\n",
       "        text-align: right;\n",
       "    }\n",
       "</style>\n",
       "<table border=\"1\" class=\"dataframe\">\n",
       "  <thead>\n",
       "    <tr style=\"text-align: right;\">\n",
       "      <th></th>\n",
       "      <th>0</th>\n",
       "      <th>2</th>\n",
       "    </tr>\n",
       "  </thead>\n",
       "  <tbody>\n",
       "    <tr>\n",
       "      <th>0</th>\n",
       "      <td>chebi:4167</td>\n",
       "      <td>GCK</td>\n",
       "    </tr>\n",
       "    <tr>\n",
       "      <th>1</th>\n",
       "      <td>chebi:4167</td>\n",
       "      <td>HK1</td>\n",
       "    </tr>\n",
       "    <tr>\n",
       "      <th>2</th>\n",
       "      <td>chebi:4167</td>\n",
       "      <td>HK2</td>\n",
       "    </tr>\n",
       "    <tr>\n",
       "      <th>3</th>\n",
       "      <td>chebi:4167</td>\n",
       "      <td>HK3</td>\n",
       "    </tr>\n",
       "    <tr>\n",
       "      <th>4</th>\n",
       "      <td>chebi:4167</td>\n",
       "      <td>HKDC1</td>\n",
       "    </tr>\n",
       "  </tbody>\n",
       "</table>\n",
       "</div>"
      ],
      "text/plain": [
       "            0      2\n",
       "0  chebi:4167    GCK\n",
       "1  chebi:4167    HK1\n",
       "2  chebi:4167    HK2\n",
       "3  chebi:4167    HK3\n",
       "4  chebi:4167  HKDC1"
      ]
     },
     "execution_count": 13,
     "metadata": {},
     "output_type": "execute_result"
    }
   ],
   "source": [
    "def replace_chebi(value):\n",
    "    if isinstance(value, str) and value.startswith(\"CHEBI:\"):\n",
    "        match = re.match(r\"CHEBI:\\s*(\\d+)\", value)\n",
    "        if match:\n",
    "            return f\"chebi:{match.group(1)}\"\n",
    "    return value\n",
    "\n",
    "butirosin_neomyc = butirosin_neomyc.applymap(replace_chebi)\n",
    "butirosin_neomyc.head()"
   ]
  },
  {
   "cell_type": "code",
   "execution_count": 14,
   "id": "4d90b4b9",
   "metadata": {},
   "outputs": [
    {
     "data": {
      "text/html": [
       "<div>\n",
       "<style scoped>\n",
       "    .dataframe tbody tr th:only-of-type {\n",
       "        vertical-align: middle;\n",
       "    }\n",
       "\n",
       "    .dataframe tbody tr th {\n",
       "        vertical-align: top;\n",
       "    }\n",
       "\n",
       "    .dataframe thead th {\n",
       "        text-align: right;\n",
       "    }\n",
       "</style>\n",
       "<table border=\"1\" class=\"dataframe\">\n",
       "  <thead>\n",
       "    <tr style=\"text-align: right;\">\n",
       "      <th></th>\n",
       "      <th>0</th>\n",
       "      <th>2</th>\n",
       "    </tr>\n",
       "  </thead>\n",
       "  <tbody>\n",
       "    <tr>\n",
       "      <th>0</th>\n",
       "      <td>chebi:4167</td>\n",
       "      <td>HXK4_HUMAN</td>\n",
       "    </tr>\n",
       "    <tr>\n",
       "      <th>1</th>\n",
       "      <td>chebi:4167</td>\n",
       "      <td>HXK1_HUMAN</td>\n",
       "    </tr>\n",
       "    <tr>\n",
       "      <th>2</th>\n",
       "      <td>chebi:4167</td>\n",
       "      <td>HXK2_HUMAN</td>\n",
       "    </tr>\n",
       "    <tr>\n",
       "      <th>3</th>\n",
       "      <td>chebi:4167</td>\n",
       "      <td>HXK3_HUMAN</td>\n",
       "    </tr>\n",
       "    <tr>\n",
       "      <th>4</th>\n",
       "      <td>chebi:4167</td>\n",
       "      <td>HKDC1_HUMAN</td>\n",
       "    </tr>\n",
       "  </tbody>\n",
       "</table>\n",
       "</div>"
      ],
      "text/plain": [
       "            0            2\n",
       "0  chebi:4167   HXK4_HUMAN\n",
       "1  chebi:4167   HXK1_HUMAN\n",
       "2  chebi:4167   HXK2_HUMAN\n",
       "3  chebi:4167   HXK3_HUMAN\n",
       "4  chebi:4167  HKDC1_HUMAN"
      ]
     },
     "execution_count": 14,
     "metadata": {},
     "output_type": "execute_result"
    }
   ],
   "source": [
    "mapping_dict = dict(zip(id_map[\"gene_name\"], id_map[\"entry_name\"]))\n",
    "\n",
    "butirosin_neomyc[0] = butirosin_neomyc[0].replace(mapping_dict)\n",
    "butirosin_neomyc[2] = butirosin_neomyc[2].replace(mapping_dict)\n",
    "butirosin_neomyc.head()"
   ]
  },
  {
   "cell_type": "code",
   "execution_count": 15,
   "id": "fa2c33e8",
   "metadata": {},
   "outputs": [
    {
     "data": {
      "text/plain": [
       "12"
      ]
     },
     "execution_count": 15,
     "metadata": {},
     "output_type": "execute_result"
    }
   ],
   "source": [
    "all_bn_nodes = list(set(butirosin_neomyc[0])) + list(set(butirosin_neomyc[2]))\n",
    "len(all_bn_nodes)"
   ]
  },
  {
   "cell_type": "code",
   "execution_count": 16,
   "id": "6fa6fb9e",
   "metadata": {},
   "outputs": [],
   "source": [
    "bn_path_name = 'butirosin_neomyc_train_'"
   ]
  },
  {
   "cell_type": "code",
   "execution_count": 17,
   "id": "ea28a78f",
   "metadata": {},
   "outputs": [
    {
     "name": "stdout",
     "output_type": "stream",
     "text": [
      "True labels in PPI - found\n",
      "True labels in PPI - found\n",
      "True labels in PPI - found\n",
      "True labels in PPI - found\n",
      "True labels in PPI - found\n",
      "No True Label found in PPI\n",
      "True labels in PPI - found\n",
      "True labels in PPI - found\n",
      "No True Label found in PPI\n",
      "No True Label found in PPI\n"
     ]
    }
   ],
   "source": [
    "for _ in range(10):\n",
    "    create_training_sample(butirosin_neomyc, all_bn_nodes, union_ppi, bn_path_name)"
   ]
  },
  {
   "cell_type": "code",
   "execution_count": null,
   "id": "ca670867",
   "metadata": {},
   "outputs": [],
   "source": [
    "#TODO: training loop for all the individual pathways in training-samples folder"
   ]
  }
 ],
 "metadata": {
  "kernelspec": {
   "display_name": "Python 3 (ipykernel)",
   "language": "python",
   "name": "python3"
  },
  "language_info": {
   "codemirror_mode": {
    "name": "ipython",
    "version": 3
   },
   "file_extension": ".py",
   "mimetype": "text/x-python",
   "name": "python",
   "nbconvert_exporter": "python",
   "pygments_lexer": "ipython3",
   "version": "3.7.13"
  }
 },
 "nbformat": 4,
 "nbformat_minor": 5
}
