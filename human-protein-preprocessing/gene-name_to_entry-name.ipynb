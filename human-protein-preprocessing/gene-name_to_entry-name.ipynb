{
 "cells": [
  {
   "cell_type": "code",
   "execution_count": 1,
   "id": "9c72d8e6",
   "metadata": {},
   "outputs": [],
   "source": [
    "import pandas as pd"
   ]
  },
  {
   "cell_type": "markdown",
   "id": "0488d29d",
   "metadata": {},
   "source": [
    "#### load data"
   ]
  },
  {
   "cell_type": "code",
   "execution_count": 2,
   "id": "868e225d",
   "metadata": {},
   "outputs": [
    {
     "data": {
      "text/html": [
       "<div>\n",
       "<style scoped>\n",
       "    .dataframe tbody tr th:only-of-type {\n",
       "        vertical-align: middle;\n",
       "    }\n",
       "\n",
       "    .dataframe tbody tr th {\n",
       "        vertical-align: top;\n",
       "    }\n",
       "\n",
       "    .dataframe thead th {\n",
       "        text-align: right;\n",
       "    }\n",
       "</style>\n",
       "<table border=\"1\" class=\"dataframe\">\n",
       "  <thead>\n",
       "    <tr style=\"text-align: right;\">\n",
       "      <th></th>\n",
       "      <th>uniprot_id</th>\n",
       "      <th>id_type</th>\n",
       "      <th>ID</th>\n",
       "    </tr>\n",
       "  </thead>\n",
       "  <tbody>\n",
       "    <tr>\n",
       "      <th>0</th>\n",
       "      <td>P31946</td>\n",
       "      <td>UniProtKB-ID</td>\n",
       "      <td>1433B_HUMAN</td>\n",
       "    </tr>\n",
       "    <tr>\n",
       "      <th>1</th>\n",
       "      <td>P31946</td>\n",
       "      <td>Gene_Name</td>\n",
       "      <td>YWHAB</td>\n",
       "    </tr>\n",
       "    <tr>\n",
       "      <th>2</th>\n",
       "      <td>P31946</td>\n",
       "      <td>GI</td>\n",
       "      <td>4507949</td>\n",
       "    </tr>\n",
       "    <tr>\n",
       "      <th>3</th>\n",
       "      <td>P31946</td>\n",
       "      <td>GI</td>\n",
       "      <td>377656702</td>\n",
       "    </tr>\n",
       "    <tr>\n",
       "      <th>4</th>\n",
       "      <td>P31946</td>\n",
       "      <td>GI</td>\n",
       "      <td>67464628</td>\n",
       "    </tr>\n",
       "  </tbody>\n",
       "</table>\n",
       "</div>"
      ],
      "text/plain": [
       "  uniprot_id       id_type           ID\n",
       "0     P31946  UniProtKB-ID  1433B_HUMAN\n",
       "1     P31946     Gene_Name        YWHAB\n",
       "2     P31946            GI      4507949\n",
       "3     P31946            GI    377656702\n",
       "4     P31946            GI     67464628"
      ]
     },
     "execution_count": 2,
     "metadata": {},
     "output_type": "execute_result"
    }
   ],
   "source": [
    "protein_mapping = pd.read_csv('HUMAN_9606_idmapping.dat',sep='\\t', header=None)\n",
    "protein_mapping.rename(columns={0:'uniprot_id', 1:'id_type',2:'ID'}, inplace=True)\n",
    "protein_mapping.head()"
   ]
  },
  {
   "cell_type": "code",
   "execution_count": 3,
   "id": "4b0f72fc",
   "metadata": {},
   "outputs": [
    {
     "name": "stdout",
     "output_type": "stream",
     "text": [
      "1704\n"
     ]
    },
    {
     "data": {
      "text/html": [
       "<div>\n",
       "<style scoped>\n",
       "    .dataframe tbody tr th:only-of-type {\n",
       "        vertical-align: middle;\n",
       "    }\n",
       "\n",
       "    .dataframe tbody tr th {\n",
       "        vertical-align: top;\n",
       "    }\n",
       "\n",
       "    .dataframe thead th {\n",
       "        text-align: right;\n",
       "    }\n",
       "</style>\n",
       "<table border=\"1\" class=\"dataframe\">\n",
       "  <thead>\n",
       "    <tr style=\"text-align: right;\">\n",
       "      <th></th>\n",
       "      <th>ID</th>\n",
       "    </tr>\n",
       "  </thead>\n",
       "  <tbody>\n",
       "    <tr>\n",
       "      <th>0</th>\n",
       "      <td>PLA2G10</td>\n",
       "    </tr>\n",
       "    <tr>\n",
       "      <th>1</th>\n",
       "      <td>FDFT1</td>\n",
       "    </tr>\n",
       "    <tr>\n",
       "      <th>2</th>\n",
       "      <td>UGCG</td>\n",
       "    </tr>\n",
       "    <tr>\n",
       "      <th>3</th>\n",
       "      <td>CYP1A2</td>\n",
       "    </tr>\n",
       "    <tr>\n",
       "      <th>4</th>\n",
       "      <td>RARS2</td>\n",
       "    </tr>\n",
       "  </tbody>\n",
       "</table>\n",
       "</div>"
      ],
      "text/plain": [
       "        ID\n",
       "0  PLA2G10\n",
       "1    FDFT1\n",
       "2     UGCG\n",
       "3   CYP1A2\n",
       "4    RARS2"
      ]
     },
     "execution_count": 3,
     "metadata": {},
     "output_type": "execute_result"
    }
   ],
   "source": [
    "gene_nodes = pd.read_csv('gene_nodes.txt', header=None)\n",
    "gene_nodes.rename(columns={0:'ID'}, inplace=True)\n",
    "print(len(gene_nodes))\n",
    "gene_nodes.head()"
   ]
  },
  {
   "cell_type": "markdown",
   "id": "a8834c7e",
   "metadata": {},
   "source": [
    "#### gene_name to uniprot_id"
   ]
  },
  {
   "cell_type": "code",
   "execution_count": 4,
   "id": "26609e0b",
   "metadata": {},
   "outputs": [],
   "source": [
    "merged_df_1 = pd.merge(gene_nodes, protein_mapping, on = \"ID\", how = \"inner\")\n",
    "merged_df_1 = merged_df_1[merged_df_1['id_type']=='Gene_Name']"
   ]
  },
  {
   "cell_type": "code",
   "execution_count": 5,
   "id": "e8b2eb59",
   "metadata": {},
   "outputs": [
    {
     "data": {
      "text/html": [
       "<div>\n",
       "<style scoped>\n",
       "    .dataframe tbody tr th:only-of-type {\n",
       "        vertical-align: middle;\n",
       "    }\n",
       "\n",
       "    .dataframe tbody tr th {\n",
       "        vertical-align: top;\n",
       "    }\n",
       "\n",
       "    .dataframe thead th {\n",
       "        text-align: right;\n",
       "    }\n",
       "</style>\n",
       "<table border=\"1\" class=\"dataframe\">\n",
       "  <thead>\n",
       "    <tr style=\"text-align: right;\">\n",
       "      <th></th>\n",
       "      <th>ID</th>\n",
       "      <th>uniprot_id</th>\n",
       "      <th>id_type</th>\n",
       "    </tr>\n",
       "  </thead>\n",
       "  <tbody>\n",
       "    <tr>\n",
       "      <th>0</th>\n",
       "      <td>PLA2G10</td>\n",
       "      <td>O15496</td>\n",
       "      <td>Gene_Name</td>\n",
       "    </tr>\n",
       "    <tr>\n",
       "      <th>5</th>\n",
       "      <td>PLA2G10</td>\n",
       "      <td>H3BRW4</td>\n",
       "      <td>Gene_Name</td>\n",
       "    </tr>\n",
       "    <tr>\n",
       "      <th>7</th>\n",
       "      <td>PLA2G10</td>\n",
       "      <td>L8E7V2</td>\n",
       "      <td>Gene_Name</td>\n",
       "    </tr>\n",
       "    <tr>\n",
       "      <th>9</th>\n",
       "      <td>PLA2G10</td>\n",
       "      <td>O15496</td>\n",
       "      <td>Gene_Name</td>\n",
       "    </tr>\n",
       "    <tr>\n",
       "      <th>14</th>\n",
       "      <td>PLA2G10</td>\n",
       "      <td>H3BRW4</td>\n",
       "      <td>Gene_Name</td>\n",
       "    </tr>\n",
       "    <tr>\n",
       "      <th>...</th>\n",
       "      <td>...</td>\n",
       "      <td>...</td>\n",
       "      <td>...</td>\n",
       "    </tr>\n",
       "    <tr>\n",
       "      <th>26724</th>\n",
       "      <td>PIKFYVE</td>\n",
       "      <td>C9JL08</td>\n",
       "      <td>Gene_Name</td>\n",
       "    </tr>\n",
       "    <tr>\n",
       "      <th>26726</th>\n",
       "      <td>PIKFYVE</td>\n",
       "      <td>F8WEZ0</td>\n",
       "      <td>Gene_Name</td>\n",
       "    </tr>\n",
       "    <tr>\n",
       "      <th>26728</th>\n",
       "      <td>MOCS2</td>\n",
       "      <td>O96033</td>\n",
       "      <td>Gene_Name</td>\n",
       "    </tr>\n",
       "    <tr>\n",
       "      <th>26733</th>\n",
       "      <td>MOCS2</td>\n",
       "      <td>O96007</td>\n",
       "      <td>Gene_Name</td>\n",
       "    </tr>\n",
       "    <tr>\n",
       "      <th>26739</th>\n",
       "      <td>MOCS2</td>\n",
       "      <td>E9PKT9</td>\n",
       "      <td>Gene_Name</td>\n",
       "    </tr>\n",
       "  </tbody>\n",
       "</table>\n",
       "<p>12422 rows × 3 columns</p>\n",
       "</div>"
      ],
      "text/plain": [
       "            ID uniprot_id    id_type\n",
       "0      PLA2G10     O15496  Gene_Name\n",
       "5      PLA2G10     H3BRW4  Gene_Name\n",
       "7      PLA2G10     L8E7V2  Gene_Name\n",
       "9      PLA2G10     O15496  Gene_Name\n",
       "14     PLA2G10     H3BRW4  Gene_Name\n",
       "...        ...        ...        ...\n",
       "26724  PIKFYVE     C9JL08  Gene_Name\n",
       "26726  PIKFYVE     F8WEZ0  Gene_Name\n",
       "26728    MOCS2     O96033  Gene_Name\n",
       "26733    MOCS2     O96007  Gene_Name\n",
       "26739    MOCS2     E9PKT9  Gene_Name\n",
       "\n",
       "[12422 rows x 3 columns]"
      ]
     },
     "execution_count": 5,
     "metadata": {},
     "output_type": "execute_result"
    }
   ],
   "source": [
    "merged_df_1"
   ]
  },
  {
   "cell_type": "markdown",
   "id": "bca3828b",
   "metadata": {},
   "source": [
    "#### uniprot_id to UniProtKB-ID"
   ]
  },
  {
   "cell_type": "code",
   "execution_count": 6,
   "id": "71215d60",
   "metadata": {},
   "outputs": [
    {
     "data": {
      "text/html": [
       "<div>\n",
       "<style scoped>\n",
       "    .dataframe tbody tr th:only-of-type {\n",
       "        vertical-align: middle;\n",
       "    }\n",
       "\n",
       "    .dataframe tbody tr th {\n",
       "        vertical-align: top;\n",
       "    }\n",
       "\n",
       "    .dataframe thead th {\n",
       "        text-align: right;\n",
       "    }\n",
       "</style>\n",
       "<table border=\"1\" class=\"dataframe\">\n",
       "  <thead>\n",
       "    <tr style=\"text-align: right;\">\n",
       "      <th></th>\n",
       "      <th>ID</th>\n",
       "      <th>uniprot_id</th>\n",
       "    </tr>\n",
       "  </thead>\n",
       "  <tbody>\n",
       "    <tr>\n",
       "      <th>0</th>\n",
       "      <td>PLA2G10</td>\n",
       "      <td>O15496</td>\n",
       "    </tr>\n",
       "    <tr>\n",
       "      <th>5</th>\n",
       "      <td>PLA2G10</td>\n",
       "      <td>H3BRW4</td>\n",
       "    </tr>\n",
       "    <tr>\n",
       "      <th>7</th>\n",
       "      <td>PLA2G10</td>\n",
       "      <td>L8E7V2</td>\n",
       "    </tr>\n",
       "    <tr>\n",
       "      <th>9</th>\n",
       "      <td>PLA2G10</td>\n",
       "      <td>O15496</td>\n",
       "    </tr>\n",
       "    <tr>\n",
       "      <th>14</th>\n",
       "      <td>PLA2G10</td>\n",
       "      <td>H3BRW4</td>\n",
       "    </tr>\n",
       "    <tr>\n",
       "      <th>...</th>\n",
       "      <td>...</td>\n",
       "      <td>...</td>\n",
       "    </tr>\n",
       "    <tr>\n",
       "      <th>26724</th>\n",
       "      <td>PIKFYVE</td>\n",
       "      <td>C9JL08</td>\n",
       "    </tr>\n",
       "    <tr>\n",
       "      <th>26726</th>\n",
       "      <td>PIKFYVE</td>\n",
       "      <td>F8WEZ0</td>\n",
       "    </tr>\n",
       "    <tr>\n",
       "      <th>26728</th>\n",
       "      <td>MOCS2</td>\n",
       "      <td>O96033</td>\n",
       "    </tr>\n",
       "    <tr>\n",
       "      <th>26733</th>\n",
       "      <td>MOCS2</td>\n",
       "      <td>O96007</td>\n",
       "    </tr>\n",
       "    <tr>\n",
       "      <th>26739</th>\n",
       "      <td>MOCS2</td>\n",
       "      <td>E9PKT9</td>\n",
       "    </tr>\n",
       "  </tbody>\n",
       "</table>\n",
       "<p>12422 rows × 2 columns</p>\n",
       "</div>"
      ],
      "text/plain": [
       "            ID uniprot_id\n",
       "0      PLA2G10     O15496\n",
       "5      PLA2G10     H3BRW4\n",
       "7      PLA2G10     L8E7V2\n",
       "9      PLA2G10     O15496\n",
       "14     PLA2G10     H3BRW4\n",
       "...        ...        ...\n",
       "26724  PIKFYVE     C9JL08\n",
       "26726  PIKFYVE     F8WEZ0\n",
       "26728    MOCS2     O96033\n",
       "26733    MOCS2     O96007\n",
       "26739    MOCS2     E9PKT9\n",
       "\n",
       "[12422 rows x 2 columns]"
      ]
     },
     "execution_count": 6,
     "metadata": {},
     "output_type": "execute_result"
    }
   ],
   "source": [
    "merged_df_1.drop(columns=['id_type'],inplace=True)\n",
    "merged_df_1"
   ]
  },
  {
   "cell_type": "code",
   "execution_count": 7,
   "id": "57606cc4",
   "metadata": {},
   "outputs": [],
   "source": [
    "merged_df_2 = pd.merge(merged_df_1, protein_mapping, on = \"uniprot_id\", how = \"inner\")\n",
    "merged_df_2 = merged_df_2[merged_df_2['id_type']=='UniProtKB-ID']"
   ]
  },
  {
   "cell_type": "code",
   "execution_count": 8,
   "id": "867b859c",
   "metadata": {},
   "outputs": [],
   "source": [
    "merged_df_2.drop(columns=['uniprot_id','id_type'],inplace=True)\n",
    "merged_df_2 = merged_df_2.drop_duplicates()"
   ]
  },
  {
   "cell_type": "code",
   "execution_count": 9,
   "id": "7c0b6120",
   "metadata": {},
   "outputs": [],
   "source": [
    "merged_df_2.rename(columns={'ID_x':'gene_name','ID_y':'entry_name'}, inplace=True)"
   ]
  },
  {
   "cell_type": "code",
   "execution_count": 10,
   "id": "5e8c9eeb",
   "metadata": {},
   "outputs": [],
   "source": [
    "merged_df_2.to_csv('uniprot-entry-names.csv',index=False)"
   ]
  },
  {
   "cell_type": "code",
   "execution_count": null,
   "id": "225e60d9",
   "metadata": {},
   "outputs": [],
   "source": []
  }
 ],
 "metadata": {
  "kernelspec": {
   "display_name": "Python 3 (ipykernel)",
   "language": "python",
   "name": "python3"
  },
  "language_info": {
   "codemirror_mode": {
    "name": "ipython",
    "version": 3
   },
   "file_extension": ".py",
   "mimetype": "text/x-python",
   "name": "python",
   "nbconvert_exporter": "python",
   "pygments_lexer": "ipython3",
   "version": "3.7.13"
  }
 },
 "nbformat": 4,
 "nbformat_minor": 5
}
