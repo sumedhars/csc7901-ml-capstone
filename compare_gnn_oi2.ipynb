{
 "cells": [
  {
   "cell_type": "code",
   "execution_count": 1,
   "id": "1358bb05",
   "metadata": {},
   "outputs": [],
   "source": [
    "import pandas as pd\n",
    "import seaborn as sns\n",
    "import matplotlib.pyplot as plt"
   ]
  },
  {
   "cell_type": "markdown",
   "id": "afc362a9",
   "metadata": {},
   "source": [
    "#### Read GNN train and test prc value CSVs"
   ]
  },
  {
   "cell_type": "code",
   "execution_count": 2,
   "id": "7e6390fd",
   "metadata": {},
   "outputs": [
    {
     "data": {
      "text/html": [
       "<div>\n",
       "<style scoped>\n",
       "    .dataframe tbody tr th:only-of-type {\n",
       "        vertical-align: middle;\n",
       "    }\n",
       "\n",
       "    .dataframe tbody tr th {\n",
       "        vertical-align: top;\n",
       "    }\n",
       "\n",
       "    .dataframe thead th {\n",
       "        text-align: right;\n",
       "    }\n",
       "</style>\n",
       "<table border=\"1\" class=\"dataframe\">\n",
       "  <thead>\n",
       "    <tr style=\"text-align: right;\">\n",
       "      <th></th>\n",
       "      <th>file_name</th>\n",
       "      <th>precision</th>\n",
       "      <th>recall</th>\n",
       "      <th>thresholds</th>\n",
       "      <th>average_precision</th>\n",
       "    </tr>\n",
       "  </thead>\n",
       "  <tbody>\n",
       "    <tr>\n",
       "      <th>0</th>\n",
       "      <td>vitamin_b6_metabolis_train_1175.csv</td>\n",
       "      <td>[0. 0. 0. ... 0. 0. 1.]</td>\n",
       "      <td>[1. 1. 1. ... 1. 1. 0.]</td>\n",
       "      <td>[0.04978353 0.0500779  0.05021047 ... 0.158941...</td>\n",
       "      <td>-0.0</td>\n",
       "    </tr>\n",
       "    <tr>\n",
       "      <th>1</th>\n",
       "      <td>vitamin_b6_metabolis_train_3756.csv</td>\n",
       "      <td>[9.89653176e-06 9.89662970e-06 9.89667867e-06 ...</td>\n",
       "      <td>[1. 1. 1. ... 1. 1. 0.]</td>\n",
       "      <td>[0.01461539 0.01468741 0.01469137 ... 0.991771...</td>\n",
       "      <td>1.0</td>\n",
       "    </tr>\n",
       "    <tr>\n",
       "      <th>2</th>\n",
       "      <td>vitamin_b6_metabolis_train_3761.csv</td>\n",
       "      <td>[0. 0. 0. ... 0. 0. 1.]</td>\n",
       "      <td>[1. 1. 1. ... 1. 1. 0.]</td>\n",
       "      <td>[0.04978353 0.0500779  0.05021047 ... 0.158941...</td>\n",
       "      <td>-0.0</td>\n",
       "    </tr>\n",
       "    <tr>\n",
       "      <th>3</th>\n",
       "      <td>vitamin_b6_metabolis_train_6075.csv</td>\n",
       "      <td>[0. 0. 0. ... 0. 0. 1.]</td>\n",
       "      <td>[1. 1. 1. ... 1. 1. 0.]</td>\n",
       "      <td>[0.04978353 0.0500779  0.05021047 ... 0.158941...</td>\n",
       "      <td>-0.0</td>\n",
       "    </tr>\n",
       "    <tr>\n",
       "      <th>4</th>\n",
       "      <td>vitamin_b6_metabolis_train_7692.csv</td>\n",
       "      <td>[0. 0. 0. ... 0. 0. 1.]</td>\n",
       "      <td>[1. 1. 1. ... 1. 1. 0.]</td>\n",
       "      <td>[0.04978353 0.0500779  0.05021047 ... 0.158941...</td>\n",
       "      <td>-0.0</td>\n",
       "    </tr>\n",
       "  </tbody>\n",
       "</table>\n",
       "</div>"
      ],
      "text/plain": [
       "                             file_name  \\\n",
       "0  vitamin_b6_metabolis_train_1175.csv   \n",
       "1  vitamin_b6_metabolis_train_3756.csv   \n",
       "2  vitamin_b6_metabolis_train_3761.csv   \n",
       "3  vitamin_b6_metabolis_train_6075.csv   \n",
       "4  vitamin_b6_metabolis_train_7692.csv   \n",
       "\n",
       "                                           precision                   recall  \\\n",
       "0                            [0. 0. 0. ... 0. 0. 1.]  [1. 1. 1. ... 1. 1. 0.]   \n",
       "1  [9.89653176e-06 9.89662970e-06 9.89667867e-06 ...  [1. 1. 1. ... 1. 1. 0.]   \n",
       "2                            [0. 0. 0. ... 0. 0. 1.]  [1. 1. 1. ... 1. 1. 0.]   \n",
       "3                            [0. 0. 0. ... 0. 0. 1.]  [1. 1. 1. ... 1. 1. 0.]   \n",
       "4                            [0. 0. 0. ... 0. 0. 1.]  [1. 1. 1. ... 1. 1. 0.]   \n",
       "\n",
       "                                          thresholds  average_precision  \n",
       "0  [0.04978353 0.0500779  0.05021047 ... 0.158941...               -0.0  \n",
       "1  [0.01461539 0.01468741 0.01469137 ... 0.991771...                1.0  \n",
       "2  [0.04978353 0.0500779  0.05021047 ... 0.158941...               -0.0  \n",
       "3  [0.04978353 0.0500779  0.05021047 ... 0.158941...               -0.0  \n",
       "4  [0.04978353 0.0500779  0.05021047 ... 0.158941...               -0.0  "
      ]
     },
     "execution_count": 2,
     "metadata": {},
     "output_type": "execute_result"
    }
   ],
   "source": [
    "train_prcs = pd.read_csv('processed-data/train_prc_values.csv', sep='\\t')\n",
    "train_prcs.drop(columns=['Unnamed: 0'], inplace=True)\n",
    "train_prcs.head()"
   ]
  },
  {
   "cell_type": "code",
   "execution_count": 3,
   "id": "a99cf2da",
   "metadata": {},
   "outputs": [
    {
     "data": {
      "text/html": [
       "<div>\n",
       "<style scoped>\n",
       "    .dataframe tbody tr th:only-of-type {\n",
       "        vertical-align: middle;\n",
       "    }\n",
       "\n",
       "    .dataframe tbody tr th {\n",
       "        vertical-align: top;\n",
       "    }\n",
       "\n",
       "    .dataframe thead th {\n",
       "        text-align: right;\n",
       "    }\n",
       "</style>\n",
       "<table border=\"1\" class=\"dataframe\">\n",
       "  <thead>\n",
       "    <tr style=\"text-align: right;\">\n",
       "      <th></th>\n",
       "      <th>file_name</th>\n",
       "      <th>precision</th>\n",
       "      <th>recall</th>\n",
       "      <th>thresholds</th>\n",
       "      <th>average_precision</th>\n",
       "    </tr>\n",
       "  </thead>\n",
       "  <tbody>\n",
       "    <tr>\n",
       "      <th>0</th>\n",
       "      <td>vitamin_b6_metabolis_train_6881.csv</td>\n",
       "      <td>[9.89658073e-06 9.89662970e-06 9.89667867e-06 ...</td>\n",
       "      <td>[1.  1.  1.  ... 1.  0.5 0. ]</td>\n",
       "      <td>[0.01374454 0.01381178 0.01381377 ... 0.999007...</td>\n",
       "      <td>1.00000</td>\n",
       "    </tr>\n",
       "    <tr>\n",
       "      <th>1</th>\n",
       "      <td>valine,_leucine_and__train_1863.csv</td>\n",
       "      <td>[4.94829037e-06 4.94831485e-06 4.94833934e-06 ...</td>\n",
       "      <td>[1. 1. 1. ... 1. 0. 0.]</td>\n",
       "      <td>[0.01404285 0.01406828 0.0140906  ... 0.999492...</td>\n",
       "      <td>0.50000</td>\n",
       "    </tr>\n",
       "    <tr>\n",
       "      <th>2</th>\n",
       "      <td>valine,_leucine_and__train_7368.csv</td>\n",
       "      <td>[4.94829037e-06 4.94831485e-06 4.94833934e-06 ...</td>\n",
       "      <td>[1. 1. 1. ... 1. 0. 0.]</td>\n",
       "      <td>[0.01404285 0.01406828 0.01409061 ... 0.999492...</td>\n",
       "      <td>0.50000</td>\n",
       "    </tr>\n",
       "    <tr>\n",
       "      <th>3</th>\n",
       "      <td>valine,_leucine_and__(1)_train_4437.csv</td>\n",
       "      <td>[6.43277748e-05 6.43280931e-05 6.43284114e-05 ...</td>\n",
       "      <td>[1.         1.         1.         ... 0.076923...</td>\n",
       "      <td>[0.01489307 0.01489419 0.01494932 ... 0.999975...</td>\n",
       "      <td>0.60632</td>\n",
       "    </tr>\n",
       "    <tr>\n",
       "      <th>4</th>\n",
       "      <td>ubiquinone_and_other_train_2517.csv</td>\n",
       "      <td>[1.48448711e-05 1.48449446e-05 1.48450180e-05 ...</td>\n",
       "      <td>[1.         1.         1.         ... 0.666666...</td>\n",
       "      <td>[0.01819973 0.01837175 0.02080133 ... 0.999831...</td>\n",
       "      <td>1.00000</td>\n",
       "    </tr>\n",
       "  </tbody>\n",
       "</table>\n",
       "</div>"
      ],
      "text/plain": [
       "                                 file_name  \\\n",
       "0      vitamin_b6_metabolis_train_6881.csv   \n",
       "1      valine,_leucine_and__train_1863.csv   \n",
       "2      valine,_leucine_and__train_7368.csv   \n",
       "3  valine,_leucine_and__(1)_train_4437.csv   \n",
       "4      ubiquinone_and_other_train_2517.csv   \n",
       "\n",
       "                                           precision  \\\n",
       "0  [9.89658073e-06 9.89662970e-06 9.89667867e-06 ...   \n",
       "1  [4.94829037e-06 4.94831485e-06 4.94833934e-06 ...   \n",
       "2  [4.94829037e-06 4.94831485e-06 4.94833934e-06 ...   \n",
       "3  [6.43277748e-05 6.43280931e-05 6.43284114e-05 ...   \n",
       "4  [1.48448711e-05 1.48449446e-05 1.48450180e-05 ...   \n",
       "\n",
       "                                              recall  \\\n",
       "0                      [1.  1.  1.  ... 1.  0.5 0. ]   \n",
       "1                            [1. 1. 1. ... 1. 0. 0.]   \n",
       "2                            [1. 1. 1. ... 1. 0. 0.]   \n",
       "3  [1.         1.         1.         ... 0.076923...   \n",
       "4  [1.         1.         1.         ... 0.666666...   \n",
       "\n",
       "                                          thresholds  average_precision  \n",
       "0  [0.01374454 0.01381178 0.01381377 ... 0.999007...            1.00000  \n",
       "1  [0.01404285 0.01406828 0.0140906  ... 0.999492...            0.50000  \n",
       "2  [0.01404285 0.01406828 0.01409061 ... 0.999492...            0.50000  \n",
       "3  [0.01489307 0.01489419 0.01494932 ... 0.999975...            0.60632  \n",
       "4  [0.01819973 0.01837175 0.02080133 ... 0.999831...            1.00000  "
      ]
     },
     "execution_count": 3,
     "metadata": {},
     "output_type": "execute_result"
    }
   ],
   "source": [
    "test_prcs = pd.read_csv('processed-data/test_prc_values.csv', sep='\\t')\n",
    "test_prcs.drop(columns=['Unnamed: 0'], inplace=True)\n",
    "test_prcs.head()"
   ]
  },
  {
   "cell_type": "code",
   "execution_count": 4,
   "id": "fe0d0fe7",
   "metadata": {},
   "outputs": [],
   "source": [
    "train_prcs['prefix'] = train_prcs['file_name'].str.extract(r'^(.*)_train_\\d+\\.csv$')\n",
    "test_prcs['prefix'] = test_prcs['file_name'].str.extract(r'^(.*)_train_\\d+\\.csv$')"
   ]
  },
  {
   "cell_type": "markdown",
   "id": "e91d76a3",
   "metadata": {},
   "source": [
    "#### Read Oi2 prc value CSVs"
   ]
  },
  {
   "cell_type": "code",
   "execution_count": 5,
   "id": "fcbab4ff",
   "metadata": {},
   "outputs": [
    {
     "data": {
      "text/html": [
       "<div>\n",
       "<style scoped>\n",
       "    .dataframe tbody tr th:only-of-type {\n",
       "        vertical-align: middle;\n",
       "    }\n",
       "\n",
       "    .dataframe tbody tr th {\n",
       "        vertical-align: top;\n",
       "    }\n",
       "\n",
       "    .dataframe thead th {\n",
       "        text-align: right;\n",
       "    }\n",
       "</style>\n",
       "<table border=\"1\" class=\"dataframe\">\n",
       "  <thead>\n",
       "    <tr style=\"text-align: right;\">\n",
       "      <th></th>\n",
       "      <th>Sample</th>\n",
       "      <th>AveragePrecision</th>\n",
       "    </tr>\n",
       "  </thead>\n",
       "  <tbody>\n",
       "    <tr>\n",
       "      <th>0</th>\n",
       "      <td>alanine__a_1510</td>\n",
       "      <td>0.016665</td>\n",
       "    </tr>\n",
       "    <tr>\n",
       "      <th>1</th>\n",
       "      <td>alanine__a_2535</td>\n",
       "      <td>0.023841</td>\n",
       "    </tr>\n",
       "    <tr>\n",
       "      <th>2</th>\n",
       "      <td>alanine__a_3273</td>\n",
       "      <td>0.020378</td>\n",
       "    </tr>\n",
       "    <tr>\n",
       "      <th>3</th>\n",
       "      <td>alanine__a_3711</td>\n",
       "      <td>0.027565</td>\n",
       "    </tr>\n",
       "    <tr>\n",
       "      <th>4</th>\n",
       "      <td>alanine__a_3781</td>\n",
       "      <td>0.005766</td>\n",
       "    </tr>\n",
       "  </tbody>\n",
       "</table>\n",
       "</div>"
      ],
      "text/plain": [
       "            Sample  AveragePrecision\n",
       "0  alanine__a_1510          0.016665\n",
       "1  alanine__a_2535          0.023841\n",
       "2  alanine__a_3273          0.020378\n",
       "3  alanine__a_3711          0.027565\n",
       "4  alanine__a_3781          0.005766"
      ]
     },
     "execution_count": 5,
     "metadata": {},
     "output_type": "execute_result"
    }
   ],
   "source": [
    "oi2_prc_df = pd.read_csv('processed-data/oi2_summary_ap_scores.csv', sep='\\t')\n",
    "oi2_prc_df.head()"
   ]
  },
  {
   "cell_type": "code",
   "execution_count": 6,
   "id": "5b9386b0",
   "metadata": {},
   "outputs": [],
   "source": [
    "oi2_prc_df['prefix'] = oi2_prc_df['Sample'].str[:10]\n",
    "# grouped_oi2_prc_df = oi2_prc_df.groupby('prefix')"
   ]
  },
  {
   "cell_type": "markdown",
   "id": "f8d9cff7",
   "metadata": {},
   "source": [
    "#### Build box plots"
   ]
  },
  {
   "cell_type": "code",
   "execution_count": 7,
   "id": "4c37d62b",
   "metadata": {},
   "outputs": [],
   "source": [
    "# tag each source\n",
    "d_gnn = test_prcs.assign(source='gnn')\n",
    "d_oi2 = oi2_prc_df.assign(source='oi2')"
   ]
  },
  {
   "cell_type": "code",
   "execution_count": 8,
   "id": "57637671",
   "metadata": {},
   "outputs": [],
   "source": [
    "# stack them into one “long” DataFrame\n",
    "long = pd.concat([d_gnn, d_oi2], ignore_index=True)"
   ]
  },
  {
   "cell_type": "code",
   "execution_count": 9,
   "id": "9b7a52b9",
   "metadata": {},
   "outputs": [],
   "source": [
    "# x-axis order. Here we take all prefixes in sorted order:\n",
    "order = sorted(long['prefix'].unique())"
   ]
  },
  {
   "cell_type": "code",
   "execution_count": 10,
   "id": "cded8c62",
   "metadata": {},
   "outputs": [
    {
     "data": {
      "image/png": "[encoded data removed]",
      "text/plain": [
       "<Figure size 1000x600 with 1 Axes>"
      ]
     },
     "metadata": {},
     "output_type": "display_data"
    }
   ],
   "source": [
    "# 3) draw the boxplot\n",
    "plt.figure(figsize=(10,6))\n",
    "sns.boxplot(\n",
    "    data=long,\n",
    "    x='prefix',\n",
    "    y='average_precision',\n",
    "    hue='source',\n",
    "    order=order,\n",
    "    palette={'oi2':'#FF7F0E','gnn':'#1F77B4'}\n",
    ")\n",
    "plt.xlabel(\"Prefix\")\n",
    "plt.ylabel(\"Average Precision\")\n",
    "plt.title(\"Per-Prefix Average Precision for Drools vs Java\")\n",
    "plt.legend(title=\"Source\")\n",
    "plt.tight_layout()\n",
    "plt.show()"
   ]
  }
 ],
 "metadata": {
  "kernelspec": {
   "display_name": "Python 3",
   "language": "python",
   "name": "python3"
  },
  "language_info": {
   "codemirror_mode": {
    "name": "ipython",
    "version": 3
   },
   "file_extension": ".py",
   "mimetype": "text/x-python",
   "name": "python",
   "nbconvert_exporter": "python",
   "pygments_lexer": "ipython3",
   "version": "3.13.2"
  }
 },
 "nbformat": 4,
 "nbformat_minor": 5
}
