{
 "cells": [
  {
   "cell_type": "code",
   "execution_count": 21,
   "metadata": {},
   "outputs": [],
   "source": [
    "import pandas as pd"
   ]
  },
  {
   "cell_type": "markdown",
   "metadata": {},
   "source": [
    "### alanine"
   ]
  },
  {
   "cell_type": "code",
   "execution_count": 22,
   "metadata": {},
   "outputs": [
    {
     "data": {
      "text/plain": [
       "['ASNS_HUMAN-chebi:17196',\n",
       " 'CPSM_HUMAN-chebi:17672',\n",
       " 'GFPT1_HUMAN-GLNA_HUMAN',\n",
       " 'GLNA_HUMAN-chebi:18050',\n",
       " 'chebi:15682-chebi:17053',\n",
       " 'chebi:15682-chebi:18012',\n",
       " 'chebi:16027-chebi:29172',\n",
       " 'chebi:16134-chebi:17196',\n",
       " 'chebi:16134-chebi:17672',\n",
       " 'chebi:17053-chebi:17196',\n",
       " 'chebi:17196-chebi:18050',\n",
       " 'chebi:17053-chebi:21547',\n",
       " 'chebi:17196-chebi:29172']"
      ]
     },
     "execution_count": 22,
     "metadata": {},
     "output_type": "execute_result"
    }
   ],
   "source": [
    "alanine2535_CHM2OEG = pd.read_csv('test-oi2-outputs/alanine2535-omicsintegrator2-params-CHM2OEG/pathway.txt', sep='\\t')\n",
    "alanine2535_CHM2OEG[\"concat\"] = alanine2535_CHM2OEG[\"Node1\"].astype(str) + \"-\" + alanine2535_CHM2OEG[\"Node2\"].astype(str)\n",
    "alanine2535_CHM2OEG_list = alanine2535_CHM2OEG[\"concat\"].tolist()\n",
    "alanine2535_CHM2OEG_list"
   ]
  },
  {
   "cell_type": "code",
   "execution_count": 23,
   "metadata": {},
   "outputs": [
    {
     "data": {
      "text/plain": [
       "['ASNS_HUMAN-chebi:17196',\n",
       " 'CPSM_HUMAN-chebi:17672',\n",
       " 'GFPT1_HUMAN-GLNA_HUMAN',\n",
       " 'GLNA_HUMAN-chebi:18050',\n",
       " 'chebi:15682-chebi:18012',\n",
       " 'chebi:16027-chebi:29172',\n",
       " 'chebi:16134-chebi:17196',\n",
       " 'chebi:16134-chebi:17672',\n",
       " 'chebi:15682-chebi:17053',\n",
       " 'chebi:17053-chebi:17196',\n",
       " 'chebi:17196-chebi:18050',\n",
       " 'chebi:17053-chebi:21547',\n",
       " 'chebi:17196-chebi:29172']"
      ]
     },
     "execution_count": 23,
     "metadata": {},
     "output_type": "execute_result"
    }
   ],
   "source": [
    "alanine2535_CIOIRMT = pd.read_csv('test-oi2-outputs/alanine2535-omicsintegrator2-params-CIOIRMT/pathway.txt', sep='\\t')\n",
    "alanine2535_CIOIRMT[\"concat\"] = alanine2535_CIOIRMT[\"Node1\"].astype(str) + \"-\" + alanine2535_CIOIRMT[\"Node2\"].astype(str)\n",
    "alanine2535_CIOIRMT_list = alanine2535_CIOIRMT[\"concat\"].tolist()\n",
    "alanine2535_CIOIRMT_list"
   ]
  },
  {
   "cell_type": "code",
   "execution_count": 24,
   "metadata": {},
   "outputs": [
    {
     "name": "stdout",
     "output_type": "stream",
     "text": [
      "[]\n",
      "[]\n"
     ]
    }
   ],
   "source": [
    "diff1 = list(set(alanine2535_CIOIRMT_list) - set(alanine2535_CHM2OEG_list))\n",
    "diff2 = list(set(alanine2535_CHM2OEG_list) - set(alanine2535_CIOIRMT_list))\n",
    "print(diff1)\n",
    "print(diff2)"
   ]
  },
  {
   "cell_type": "markdown",
   "metadata": {},
   "source": [
    "### alphalinolenic"
   ]
  },
  {
   "cell_type": "code",
   "execution_count": 25,
   "metadata": {},
   "outputs": [
    {
     "data": {
      "text/plain": [
       "['ACER3_HUMAN-PA2GE_HUMAN',\n",
       " 'ACOX3_HUMAN-chebi:80448',\n",
       " 'ACOX3_HUMAN-chebi:80456',\n",
       " 'FADS2_HUMAN-chebi:32389',\n",
       " 'JMJD7-PLA2G4B-chebi:16929',\n",
       " 'PA2GE_HUMAN-chebi:16929',\n",
       " 'chebi:17499-chebi:18012',\n",
       " 'chebi:16238-chebi:18012',\n",
       " 'JMJD7-PLA2G4B-chebi:28936',\n",
       " 'PA24B_HUMAN-chebi:28936',\n",
       " 'ACER3_HUMAN-chebi:31488',\n",
       " 'chebi:17499-chebi:31488',\n",
       " 'chebi:17499-chebi:32389',\n",
       " 'chebi:16238-chebi:80448']"
      ]
     },
     "execution_count": 25,
     "metadata": {},
     "output_type": "execute_result"
    }
   ],
   "source": [
    "alphalinolenic9806_CHM2OEG = pd.read_csv('test-oi2-outputs/alphalinolenic9806-omicsintegrator2-params-CHM2OEG/pathway.txt', sep='\\t')\n",
    "alphalinolenic9806_CHM2OEG[\"concat\"] = alphalinolenic9806_CHM2OEG[\"Node1\"].astype(str) + \"-\" + alphalinolenic9806_CHM2OEG[\"Node2\"].astype(str)\n",
    "alphalinolenic9806_CHM2OEG_list = alphalinolenic9806_CHM2OEG[\"concat\"].tolist()\n",
    "alphalinolenic9806_CHM2OEG_list"
   ]
  },
  {
   "cell_type": "code",
   "execution_count": 26,
   "metadata": {},
   "outputs": [
    {
     "data": {
      "text/plain": [
       "['ACER3_HUMAN-PA2GE_HUMAN',\n",
       " 'ACER3_HUMAN-chebi:31488',\n",
       " 'JMJD7-PLA2G4B-chebi:28936',\n",
       " 'PA24B_HUMAN-chebi:28936',\n",
       " 'chebi:16238-chebi:18012',\n",
       " 'chebi:16238-chebi:80448',\n",
       " 'JMJD7-PLA2G4B-chebi:16929',\n",
       " 'PA2GE_HUMAN-chebi:16929',\n",
       " 'chebi:17499-chebi:18012',\n",
       " 'chebi:17499-chebi:31488',\n",
       " 'chebi:17499-chebi:32389',\n",
       " 'FADS2_HUMAN-chebi:32389',\n",
       " 'ACOX3_HUMAN-chebi:80448',\n",
       " 'ACOX3_HUMAN-chebi:80456']"
      ]
     },
     "execution_count": 26,
     "metadata": {},
     "output_type": "execute_result"
    }
   ],
   "source": [
    "alphalinolenic9806_CIOIRMT = pd.read_csv('test-oi2-outputs/alphalinolenic9806-omicsintegrator2-params-CIOIRMT/pathway.txt', sep='\\t')\n",
    "alphalinolenic9806_CIOIRMT[\"concat\"] = alphalinolenic9806_CIOIRMT[\"Node1\"].astype(str) + \"-\" + alphalinolenic9806_CIOIRMT[\"Node2\"].astype(str)\n",
    "alphalinolenic9806_CIOIRMT_list = alphalinolenic9806_CIOIRMT[\"concat\"].tolist()\n",
    "alphalinolenic9806_CIOIRMT_list"
   ]
  },
  {
   "cell_type": "code",
   "execution_count": 27,
   "metadata": {},
   "outputs": [
    {
     "name": "stdout",
     "output_type": "stream",
     "text": [
      "[]\n",
      "[]\n"
     ]
    }
   ],
   "source": [
    "diff1 = list(set(alphalinolenic9806_CHM2OEG_list) - set(alphalinolenic9806_CIOIRMT_list))\n",
    "diff2 = list(set(alphalinolenic9806_CIOIRMT_list) - set(alphalinolenic9806_CHM2OEG_list))\n",
    "print(diff1)\n",
    "print(diff2)"
   ]
  },
  {
   "cell_type": "markdown",
   "metadata": {},
   "source": [
    "### aminosugar"
   ]
  },
  {
   "cell_type": "code",
   "execution_count": 28,
   "metadata": {},
   "outputs": [
    {
     "data": {
      "text/plain": [
       "['ADPGK_HUMAN-chebi:17665',\n",
       " 'GFPT1_HUMAN-NAGA_HUMAN',\n",
       " 'HXK3_HUMAN-NAGA_HUMAN',\n",
       " 'HXK3_HUMAN-chebi:17665',\n",
       " 'HXK3_HUMAN-chebi:28645',\n",
       " 'NEUA_HUMAN-SIAS_HUMAN',\n",
       " 'NEUA_HUMAN-chebi:29025',\n",
       " 'chebi:16556-chebi:17677',\n",
       " 'chebi:16761-chebi:17665',\n",
       " 'PGM1_HUMAN-chebi:17665',\n",
       " 'PGM2_HUMAN-chebi:17665',\n",
       " 'chebi:17677-chebi:29025',\n",
       " 'chebi:17677-chebi:4250',\n",
       " 'chebi:16761-chebi:4250',\n",
       " 'SIAS_HUMAN-chebi:44897']"
      ]
     },
     "execution_count": 28,
     "metadata": {},
     "output_type": "execute_result"
    }
   ],
   "source": [
    "aminosugar1699_CHM2OEG = pd.read_csv('test-oi2-outputs/aminosugar1699-omicsintegrator2-params-CHM2OEG/pathway.txt', sep='\\t')\n",
    "aminosugar1699_CHM2OEG[\"concat\"] = aminosugar1699_CHM2OEG[\"Node1\"].astype(str) + \"-\" + aminosugar1699_CHM2OEG[\"Node2\"].astype(str)\n",
    "aminosugar1699_CHM2OEG_list = aminosugar1699_CHM2OEG[\"concat\"].tolist()\n",
    "aminosugar1699_CHM2OEG_list"
   ]
  },
  {
   "cell_type": "code",
   "execution_count": 29,
   "metadata": {},
   "outputs": [
    {
     "data": {
      "text/plain": [
       "['GFPT1_HUMAN-NAGA_HUMAN',\n",
       " 'HXK3_HUMAN-NAGA_HUMAN',\n",
       " 'NEUA_HUMAN-SIAS_HUMAN',\n",
       " 'NEUA_HUMAN-chebi:29025',\n",
       " 'chebi:16556-chebi:17677',\n",
       " 'chebi:16761-chebi:4250',\n",
       " 'ADPGK_HUMAN-chebi:17665',\n",
       " 'HXK3_HUMAN-chebi:17665',\n",
       " 'PGM1_HUMAN-chebi:17665',\n",
       " 'PGM2_HUMAN-chebi:17665',\n",
       " 'chebi:16761-chebi:17665',\n",
       " 'chebi:17677-chebi:29025',\n",
       " 'chebi:17677-chebi:4250',\n",
       " 'HXK3_HUMAN-chebi:28645',\n",
       " 'SIAS_HUMAN-chebi:44897']"
      ]
     },
     "execution_count": 29,
     "metadata": {},
     "output_type": "execute_result"
    }
   ],
   "source": [
    "aminosugar1699_CIOIRMT = pd.read_csv('test-oi2-outputs/aminosugar1699-omicsintegrator2-params-CIOIRMT/pathway.txt', sep='\\t')\n",
    "aminosugar1699_CIOIRMT[\"concat\"] = aminosugar1699_CIOIRMT[\"Node1\"].astype(str) + \"-\" + aminosugar1699_CIOIRMT[\"Node2\"].astype(str)\n",
    "aminosugar1699_CIOIRMT_list = aminosugar1699_CIOIRMT[\"concat\"].tolist()\n",
    "aminosugar1699_CIOIRMT_list"
   ]
  },
  {
   "cell_type": "code",
   "execution_count": 30,
   "metadata": {},
   "outputs": [
    {
     "name": "stdout",
     "output_type": "stream",
     "text": [
      "[]\n",
      "[]\n"
     ]
    }
   ],
   "source": [
    "diff1 = list(set(aminosugar1699_CHM2OEG_list) - set(aminosugar1699_CIOIRMT_list))\n",
    "diff2 = list(set(aminosugar1699_CIOIRMT_list) - set(aminosugar1699_CHM2OEG_list))\n",
    "print(diff1)\n",
    "print(diff2)"
   ]
  }
 ],
 "metadata": {
  "kernelspec": {
   "display_name": "base",
   "language": "python",
   "name": "python3"
  },
  "language_info": {
   "codemirror_mode": {
    "name": "ipython",
    "version": 3
   },
   "file_extension": ".py",
   "mimetype": "text/x-python",
   "name": "python",
   "nbconvert_exporter": "python",
   "pygments_lexer": "ipython3",
   "version": "3.11.7"
  }
 },
 "nbformat": 4,
 "nbformat_minor": 2
}
