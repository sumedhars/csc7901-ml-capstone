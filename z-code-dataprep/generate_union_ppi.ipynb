{
 "cells": [
  {
   "cell_type": "code",
   "execution_count": 1,
   "id": "6982c463",
   "metadata": {},
   "outputs": [],
   "source": [
    "import pandas as pd\n",
    "import re"
   ]
  },
  {
   "cell_type": "markdown",
   "id": "35cbcbe9",
   "metadata": {},
   "source": [
    "### phosphosite-irefindex13.0-uniprot.txt (SPRAS PPI)"
   ]
  },
  {
   "cell_type": "code",
   "execution_count": 2,
   "id": "88a35b58",
   "metadata": {},
   "outputs": [
    {
     "data": {
      "text/html": [
       "<div>\n",
       "<style scoped>\n",
       "    .dataframe tbody tr th:only-of-type {\n",
       "        vertical-align: middle;\n",
       "    }\n",
       "\n",
       "    .dataframe tbody tr th {\n",
       "        vertical-align: top;\n",
       "    }\n",
       "\n",
       "    .dataframe thead th {\n",
       "        text-align: right;\n",
       "    }\n",
       "</style>\n",
       "<table border=\"1\" class=\"dataframe\">\n",
       "  <thead>\n",
       "    <tr style=\"text-align: right;\">\n",
       "      <th></th>\n",
       "      <th>0</th>\n",
       "      <th>1</th>\n",
       "      <th>2</th>\n",
       "      <th>3</th>\n",
       "    </tr>\n",
       "  </thead>\n",
       "  <tbody>\n",
       "    <tr>\n",
       "      <th>0</th>\n",
       "      <td>TACC1_HUMAN</td>\n",
       "      <td>RUXG_HUMAN</td>\n",
       "      <td>0.736771</td>\n",
       "      <td>U</td>\n",
       "    </tr>\n",
       "    <tr>\n",
       "      <th>1</th>\n",
       "      <td>TACC1_HUMAN</td>\n",
       "      <td>KAT2A_HUMAN</td>\n",
       "      <td>0.292198</td>\n",
       "      <td>U</td>\n",
       "    </tr>\n",
       "    <tr>\n",
       "      <th>2</th>\n",
       "      <td>TACC1_HUMAN</td>\n",
       "      <td>CKAP5_HUMAN</td>\n",
       "      <td>0.724783</td>\n",
       "      <td>U</td>\n",
       "    </tr>\n",
       "    <tr>\n",
       "      <th>3</th>\n",
       "      <td>TACC1_HUMAN</td>\n",
       "      <td>YETS4_HUMAN</td>\n",
       "      <td>0.542597</td>\n",
       "      <td>U</td>\n",
       "    </tr>\n",
       "    <tr>\n",
       "      <th>4</th>\n",
       "      <td>TACC1_HUMAN</td>\n",
       "      <td>LSM7_HUMAN</td>\n",
       "      <td>0.714823</td>\n",
       "      <td>U</td>\n",
       "    </tr>\n",
       "  </tbody>\n",
       "</table>\n",
       "</div>"
      ],
      "text/plain": [
       "             0            1         2  3\n",
       "0  TACC1_HUMAN   RUXG_HUMAN  0.736771  U\n",
       "1  TACC1_HUMAN  KAT2A_HUMAN  0.292198  U\n",
       "2  TACC1_HUMAN  CKAP5_HUMAN  0.724783  U\n",
       "3  TACC1_HUMAN  YETS4_HUMAN  0.542597  U\n",
       "4  TACC1_HUMAN   LSM7_HUMAN  0.714823  U"
      ]
     },
     "execution_count": 2,
     "metadata": {},
     "output_type": "execute_result"
    }
   ],
   "source": [
    "initial_ppi = pd.read_csv('phosphosite-irefindex13.0-uniprot.txt', sep='\\t',header=None)\n",
    "initial_ppi.head()"
   ]
  },
  {
   "cell_type": "code",
   "execution_count": 3,
   "id": "ac762fa9",
   "metadata": {},
   "outputs": [
    {
     "data": {
      "text/html": [
       "<div>\n",
       "<style scoped>\n",
       "    .dataframe tbody tr th:only-of-type {\n",
       "        vertical-align: middle;\n",
       "    }\n",
       "\n",
       "    .dataframe tbody tr th {\n",
       "        vertical-align: top;\n",
       "    }\n",
       "\n",
       "    .dataframe thead th {\n",
       "        text-align: right;\n",
       "    }\n",
       "</style>\n",
       "<table border=\"1\" class=\"dataframe\">\n",
       "  <thead>\n",
       "    <tr style=\"text-align: right;\">\n",
       "      <th></th>\n",
       "      <th>2</th>\n",
       "    </tr>\n",
       "  </thead>\n",
       "  <tbody>\n",
       "    <tr>\n",
       "      <th>count</th>\n",
       "      <td>3917.000000</td>\n",
       "    </tr>\n",
       "    <tr>\n",
       "      <th>mean</th>\n",
       "      <td>0.697130</td>\n",
       "    </tr>\n",
       "    <tr>\n",
       "      <th>std</th>\n",
       "      <td>0.114483</td>\n",
       "    </tr>\n",
       "    <tr>\n",
       "      <th>min</th>\n",
       "      <td>0.553333</td>\n",
       "    </tr>\n",
       "    <tr>\n",
       "      <th>25%</th>\n",
       "      <td>0.553333</td>\n",
       "    </tr>\n",
       "    <tr>\n",
       "      <th>50%</th>\n",
       "      <td>0.666667</td>\n",
       "    </tr>\n",
       "    <tr>\n",
       "      <th>75%</th>\n",
       "      <td>0.773333</td>\n",
       "    </tr>\n",
       "    <tr>\n",
       "      <th>max</th>\n",
       "      <td>0.996667</td>\n",
       "    </tr>\n",
       "  </tbody>\n",
       "</table>\n",
       "</div>"
      ],
      "text/plain": [
       "                 2\n",
       "count  3917.000000\n",
       "mean      0.697130\n",
       "std       0.114483\n",
       "min       0.553333\n",
       "25%       0.553333\n",
       "50%       0.666667\n",
       "75%       0.773333\n",
       "max       0.996667"
      ]
     },
     "execution_count": 3,
     "metadata": {},
     "output_type": "execute_result"
    }
   ],
   "source": [
    "# getting summary stats for directed edges - to assign to KEGG edges\n",
    "directed_initial_ppi = initial_ppi[initial_ppi[3]=='D']\n",
    "directed_initial_ppi.describe()"
   ]
  },
  {
   "cell_type": "markdown",
   "id": "4a87fe87",
   "metadata": {},
   "source": [
    "### load mapped IDs"
   ]
  },
  {
   "cell_type": "code",
   "execution_count": 4,
   "id": "7604a94d",
   "metadata": {},
   "outputs": [
    {
     "data": {
      "text/html": [
       "<div>\n",
       "<style scoped>\n",
       "    .dataframe tbody tr th:only-of-type {\n",
       "        vertical-align: middle;\n",
       "    }\n",
       "\n",
       "    .dataframe tbody tr th {\n",
       "        vertical-align: top;\n",
       "    }\n",
       "\n",
       "    .dataframe thead th {\n",
       "        text-align: right;\n",
       "    }\n",
       "</style>\n",
       "<table border=\"1\" class=\"dataframe\">\n",
       "  <thead>\n",
       "    <tr style=\"text-align: right;\">\n",
       "      <th></th>\n",
       "      <th>gene_name</th>\n",
       "      <th>entry_name</th>\n",
       "    </tr>\n",
       "  </thead>\n",
       "  <tbody>\n",
       "    <tr>\n",
       "      <th>0</th>\n",
       "      <td>PLA2G10</td>\n",
       "      <td>PA2GX_HUMAN</td>\n",
       "    </tr>\n",
       "    <tr>\n",
       "      <th>1</th>\n",
       "      <td>FDFT1</td>\n",
       "      <td>FDFT_HUMAN</td>\n",
       "    </tr>\n",
       "    <tr>\n",
       "      <th>2</th>\n",
       "      <td>UGCG</td>\n",
       "      <td>CEGT_HUMAN</td>\n",
       "    </tr>\n",
       "    <tr>\n",
       "      <th>3</th>\n",
       "      <td>CYP1A2</td>\n",
       "      <td>CP1A2_HUMAN</td>\n",
       "    </tr>\n",
       "    <tr>\n",
       "      <th>4</th>\n",
       "      <td>RARS2</td>\n",
       "      <td>SYRM_HUMAN</td>\n",
       "    </tr>\n",
       "  </tbody>\n",
       "</table>\n",
       "</div>"
      ],
      "text/plain": [
       "  gene_name   entry_name\n",
       "0   PLA2G10  PA2GX_HUMAN\n",
       "1     FDFT1   FDFT_HUMAN\n",
       "2      UGCG   CEGT_HUMAN\n",
       "3    CYP1A2  CP1A2_HUMAN\n",
       "4     RARS2   SYRM_HUMAN"
      ]
     },
     "execution_count": 4,
     "metadata": {},
     "output_type": "execute_result"
    }
   ],
   "source": [
    "mapped_ids_reviewed = pd.read_csv('processed-data/mapped_ids_reviewed.csv', sep='\\t')\n",
    "mapped_ids_reviewed.head()"
   ]
  },
  {
   "cell_type": "markdown",
   "id": "f3983239",
   "metadata": {},
   "source": [
    "### Add PathwayCommons KEGG edges to SPRAS PPI - make Union PPI"
   ]
  },
  {
   "cell_type": "code",
   "execution_count": 5,
   "id": "321e4f28",
   "metadata": {},
   "outputs": [
    {
     "data": {
      "text/html": [
       "<div>\n",
       "<style scoped>\n",
       "    .dataframe tbody tr th:only-of-type {\n",
       "        vertical-align: middle;\n",
       "    }\n",
       "\n",
       "    .dataframe tbody tr th {\n",
       "        vertical-align: top;\n",
       "    }\n",
       "\n",
       "    .dataframe thead th {\n",
       "        text-align: right;\n",
       "    }\n",
       "</style>\n",
       "<table border=\"1\" class=\"dataframe\">\n",
       "  <thead>\n",
       "    <tr style=\"text-align: right;\">\n",
       "      <th></th>\n",
       "      <th>0</th>\n",
       "      <th>1</th>\n",
       "      <th>2</th>\n",
       "    </tr>\n",
       "  </thead>\n",
       "  <tbody>\n",
       "    <tr>\n",
       "      <th>0</th>\n",
       "      <td>A4GALT</td>\n",
       "      <td>catalysis-precedes</td>\n",
       "      <td>ABO</td>\n",
       "    </tr>\n",
       "    <tr>\n",
       "      <th>1</th>\n",
       "      <td>A4GALT</td>\n",
       "      <td>catalysis-precedes</td>\n",
       "      <td>AK3</td>\n",
       "    </tr>\n",
       "    <tr>\n",
       "      <th>2</th>\n",
       "      <td>A4GALT</td>\n",
       "      <td>catalysis-precedes</td>\n",
       "      <td>ALG13</td>\n",
       "    </tr>\n",
       "    <tr>\n",
       "      <th>3</th>\n",
       "      <td>A4GALT</td>\n",
       "      <td>catalysis-precedes</td>\n",
       "      <td>ALG14</td>\n",
       "    </tr>\n",
       "    <tr>\n",
       "      <th>4</th>\n",
       "      <td>A4GALT</td>\n",
       "      <td>catalysis-precedes</td>\n",
       "      <td>ALG5</td>\n",
       "    </tr>\n",
       "  </tbody>\n",
       "</table>\n",
       "</div>"
      ],
      "text/plain": [
       "        0                   1      2\n",
       "0  A4GALT  catalysis-precedes    ABO\n",
       "1  A4GALT  catalysis-precedes    AK3\n",
       "2  A4GALT  catalysis-precedes  ALG13\n",
       "3  A4GALT  catalysis-precedes  ALG14\n",
       "4  A4GALT  catalysis-precedes   ALG5"
      ]
     },
     "execution_count": 5,
     "metadata": {},
     "output_type": "execute_result"
    }
   ],
   "source": [
    "pathway_commons = pd.read_csv('PathwayCommons12.kegg.hgnc.sif', sep='\\t', header=None)\n",
    "pathway_commons.head()"
   ]
  },
  {
   "cell_type": "markdown",
   "id": "916da2b0",
   "metadata": {},
   "source": [
    "**map gene names to uniprot entry names to match spras PPI**"
   ]
  },
  {
   "cell_type": "code",
   "execution_count": 6,
   "id": "b2b9f4cb",
   "metadata": {
    "scrolled": true
   },
   "outputs": [],
   "source": [
    "mapping_dict = dict(zip(mapped_ids_reviewed[\"gene_name\"], mapped_ids_reviewed[\"entry_name\"]))\n",
    "\n",
    "pathway_commons[0] = pathway_commons[0].replace(mapping_dict)\n",
    "pathway_commons[2] = pathway_commons[2].replace(mapping_dict)"
   ]
  },
  {
   "cell_type": "code",
   "execution_count": 7,
   "id": "861bb9a1",
   "metadata": {
    "scrolled": true
   },
   "outputs": [
    {
     "data": {
      "text/html": [
       "<div>\n",
       "<style scoped>\n",
       "    .dataframe tbody tr th:only-of-type {\n",
       "        vertical-align: middle;\n",
       "    }\n",
       "\n",
       "    .dataframe tbody tr th {\n",
       "        vertical-align: top;\n",
       "    }\n",
       "\n",
       "    .dataframe thead th {\n",
       "        text-align: right;\n",
       "    }\n",
       "</style>\n",
       "<table border=\"1\" class=\"dataframe\">\n",
       "  <thead>\n",
       "    <tr style=\"text-align: right;\">\n",
       "      <th></th>\n",
       "      <th>0</th>\n",
       "      <th>1</th>\n",
       "      <th>2</th>\n",
       "    </tr>\n",
       "  </thead>\n",
       "  <tbody>\n",
       "    <tr>\n",
       "      <th>0</th>\n",
       "      <td>A4GAT_HUMAN</td>\n",
       "      <td>catalysis-precedes</td>\n",
       "      <td>BGAT_HUMAN</td>\n",
       "    </tr>\n",
       "    <tr>\n",
       "      <th>1</th>\n",
       "      <td>A4GAT_HUMAN</td>\n",
       "      <td>catalysis-precedes</td>\n",
       "      <td>KAD3_HUMAN</td>\n",
       "    </tr>\n",
       "    <tr>\n",
       "      <th>2</th>\n",
       "      <td>A4GAT_HUMAN</td>\n",
       "      <td>catalysis-precedes</td>\n",
       "      <td>ALG13_HUMAN</td>\n",
       "    </tr>\n",
       "    <tr>\n",
       "      <th>3</th>\n",
       "      <td>A4GAT_HUMAN</td>\n",
       "      <td>catalysis-precedes</td>\n",
       "      <td>ALG14_HUMAN</td>\n",
       "    </tr>\n",
       "    <tr>\n",
       "      <th>4</th>\n",
       "      <td>A4GAT_HUMAN</td>\n",
       "      <td>catalysis-precedes</td>\n",
       "      <td>ALG5_HUMAN</td>\n",
       "    </tr>\n",
       "  </tbody>\n",
       "</table>\n",
       "</div>"
      ],
      "text/plain": [
       "             0                   1            2\n",
       "0  A4GAT_HUMAN  catalysis-precedes   BGAT_HUMAN\n",
       "1  A4GAT_HUMAN  catalysis-precedes   KAD3_HUMAN\n",
       "2  A4GAT_HUMAN  catalysis-precedes  ALG13_HUMAN\n",
       "3  A4GAT_HUMAN  catalysis-precedes  ALG14_HUMAN\n",
       "4  A4GAT_HUMAN  catalysis-precedes   ALG5_HUMAN"
      ]
     },
     "execution_count": 7,
     "metadata": {},
     "output_type": "execute_result"
    }
   ],
   "source": [
    "pathway_commons.head()"
   ]
  },
  {
   "cell_type": "markdown",
   "id": "85031a14",
   "metadata": {},
   "source": [
    "**directionality**"
   ]
  },
  {
   "cell_type": "code",
   "execution_count": 8,
   "id": "9c548f56",
   "metadata": {},
   "outputs": [
    {
     "data": {
      "text/plain": [
       "['catalysis-precedes',\n",
       " 'interacts-with',\n",
       " 'consumption-controlled-by',\n",
       " 'controls-production-of',\n",
       " 'reacts-with',\n",
       " 'used-to-produce']"
      ]
     },
     "execution_count": 8,
     "metadata": {},
     "output_type": "execute_result"
    }
   ],
   "source": [
    "all_relations = list(set(pathway_commons[1]))\n",
    "all_relations"
   ]
  },
  {
   "cell_type": "code",
   "execution_count": 9,
   "id": "7b163043",
   "metadata": {},
   "outputs": [
    {
     "data": {
      "text/plain": [
       "['catalysis-precedes',\n",
       " 'consumption-controlled-by',\n",
       " 'controls-production-of',\n",
       " 'used-to-produce']"
      ]
     },
     "execution_count": 9,
     "metadata": {},
     "output_type": "execute_result"
    }
   ],
   "source": [
    "undirected = ['in-complex-with', 'interacts-with', 'neighbor-of', 'reacts-with']\n",
    "directed = [item for item in all_relations if item not in undirected]\n",
    "directed"
   ]
  },
  {
   "cell_type": "markdown",
   "id": "d904b3e2",
   "metadata": {},
   "source": [
    "**make new rows based on the pathwaycommons PPI**"
   ]
  },
  {
   "cell_type": "code",
   "execution_count": 10,
   "id": "b3c13a0b",
   "metadata": {},
   "outputs": [],
   "source": [
    "new_rows = pd.DataFrame({\n",
    "    0: pathway_commons[0],  # First column\n",
    "    1: pathway_commons[2],  # Second column\n",
    "    2: [0.75] * len(pathway_commons),  # Placeholder for column 3\n",
    "    3: pathway_commons[1].apply(lambda x: 'D' if x in directed else 'U')\n",
    "})"
   ]
  },
  {
   "cell_type": "markdown",
   "id": "fd84223d",
   "metadata": {},
   "source": [
    "**concat + clean the union ppi**"
   ]
  },
  {
   "cell_type": "code",
   "execution_count": 11,
   "id": "d96b4887",
   "metadata": {},
   "outputs": [
    {
     "name": "stderr",
     "output_type": "stream",
     "text": [
      "/tmp/ipykernel_52896/3435582215.py:10: FutureWarning: DataFrame.applymap has been deprecated. Use DataFrame.map instead.\n",
      "  new_rows = new_rows.applymap(replace_chebi)\n"
     ]
    }
   ],
   "source": [
    "# Function to replace CHEBI entries efficiently\n",
    "def replace_chebi(value):\n",
    "    if isinstance(value, str) and value.startswith(\"CHEBI:\"):\n",
    "        match = re.match(r\"CHEBI:\\s*(\\d+)\", value)\n",
    "        if match:\n",
    "            return f\"chebi:{match.group(1)}\"\n",
    "    return value\n",
    "\n",
    "# Apply function to the entire DataFrame\n",
    "new_rows = new_rows.applymap(replace_chebi)"
   ]
  },
  {
   "cell_type": "code",
   "execution_count": 12,
   "id": "9063f034",
   "metadata": {},
   "outputs": [
    {
     "data": {
      "text/html": [
       "<div>\n",
       "<style scoped>\n",
       "    .dataframe tbody tr th:only-of-type {\n",
       "        vertical-align: middle;\n",
       "    }\n",
       "\n",
       "    .dataframe tbody tr th {\n",
       "        vertical-align: top;\n",
       "    }\n",
       "\n",
       "    .dataframe thead th {\n",
       "        text-align: right;\n",
       "    }\n",
       "</style>\n",
       "<table border=\"1\" class=\"dataframe\">\n",
       "  <thead>\n",
       "    <tr style=\"text-align: right;\">\n",
       "      <th></th>\n",
       "      <th>0</th>\n",
       "      <th>1</th>\n",
       "      <th>2</th>\n",
       "      <th>3</th>\n",
       "    </tr>\n",
       "  </thead>\n",
       "  <tbody>\n",
       "    <tr>\n",
       "      <th>0</th>\n",
       "      <td>A4GAT_HUMAN</td>\n",
       "      <td>BGAT_HUMAN</td>\n",
       "      <td>0.75</td>\n",
       "      <td>D</td>\n",
       "    </tr>\n",
       "    <tr>\n",
       "      <th>1</th>\n",
       "      <td>A4GAT_HUMAN</td>\n",
       "      <td>KAD3_HUMAN</td>\n",
       "      <td>0.75</td>\n",
       "      <td>D</td>\n",
       "    </tr>\n",
       "    <tr>\n",
       "      <th>2</th>\n",
       "      <td>A4GAT_HUMAN</td>\n",
       "      <td>ALG13_HUMAN</td>\n",
       "      <td>0.75</td>\n",
       "      <td>D</td>\n",
       "    </tr>\n",
       "    <tr>\n",
       "      <th>3</th>\n",
       "      <td>A4GAT_HUMAN</td>\n",
       "      <td>ALG14_HUMAN</td>\n",
       "      <td>0.75</td>\n",
       "      <td>D</td>\n",
       "    </tr>\n",
       "    <tr>\n",
       "      <th>4</th>\n",
       "      <td>A4GAT_HUMAN</td>\n",
       "      <td>ALG5_HUMAN</td>\n",
       "      <td>0.75</td>\n",
       "      <td>D</td>\n",
       "    </tr>\n",
       "  </tbody>\n",
       "</table>\n",
       "</div>"
      ],
      "text/plain": [
       "             0            1     2  3\n",
       "0  A4GAT_HUMAN   BGAT_HUMAN  0.75  D\n",
       "1  A4GAT_HUMAN   KAD3_HUMAN  0.75  D\n",
       "2  A4GAT_HUMAN  ALG13_HUMAN  0.75  D\n",
       "3  A4GAT_HUMAN  ALG14_HUMAN  0.75  D\n",
       "4  A4GAT_HUMAN   ALG5_HUMAN  0.75  D"
      ]
     },
     "execution_count": 12,
     "metadata": {},
     "output_type": "execute_result"
    }
   ],
   "source": [
    "# Concatenate the new rows to the existing DataFrame\n",
    "updated_ppi = pd.concat([initial_ppi, new_rows], ignore_index=True)\n",
    "new_rows.head()"
   ]
  },
  {
   "cell_type": "code",
   "execution_count": 13,
   "id": "85626057",
   "metadata": {},
   "outputs": [
    {
     "data": {
      "text/html": [
       "<div>\n",
       "<style scoped>\n",
       "    .dataframe tbody tr th:only-of-type {\n",
       "        vertical-align: middle;\n",
       "    }\n",
       "\n",
       "    .dataframe tbody tr th {\n",
       "        vertical-align: top;\n",
       "    }\n",
       "\n",
       "    .dataframe thead th {\n",
       "        text-align: right;\n",
       "    }\n",
       "</style>\n",
       "<table border=\"1\" class=\"dataframe\">\n",
       "  <thead>\n",
       "    <tr style=\"text-align: right;\">\n",
       "      <th></th>\n",
       "      <th>0</th>\n",
       "      <th>1</th>\n",
       "      <th>2</th>\n",
       "      <th>3</th>\n",
       "    </tr>\n",
       "  </thead>\n",
       "  <tbody>\n",
       "    <tr>\n",
       "      <th>0</th>\n",
       "      <td>TACC1_HUMAN</td>\n",
       "      <td>RUXG_HUMAN</td>\n",
       "      <td>0.736771</td>\n",
       "      <td>U</td>\n",
       "    </tr>\n",
       "    <tr>\n",
       "      <th>1</th>\n",
       "      <td>TACC1_HUMAN</td>\n",
       "      <td>KAT2A_HUMAN</td>\n",
       "      <td>0.292198</td>\n",
       "      <td>U</td>\n",
       "    </tr>\n",
       "    <tr>\n",
       "      <th>2</th>\n",
       "      <td>TACC1_HUMAN</td>\n",
       "      <td>CKAP5_HUMAN</td>\n",
       "      <td>0.724783</td>\n",
       "      <td>U</td>\n",
       "    </tr>\n",
       "    <tr>\n",
       "      <th>3</th>\n",
       "      <td>TACC1_HUMAN</td>\n",
       "      <td>YETS4_HUMAN</td>\n",
       "      <td>0.542597</td>\n",
       "      <td>U</td>\n",
       "    </tr>\n",
       "    <tr>\n",
       "      <th>4</th>\n",
       "      <td>TACC1_HUMAN</td>\n",
       "      <td>LSM7_HUMAN</td>\n",
       "      <td>0.714823</td>\n",
       "      <td>U</td>\n",
       "    </tr>\n",
       "  </tbody>\n",
       "</table>\n",
       "</div>"
      ],
      "text/plain": [
       "             0            1         2  3\n",
       "0  TACC1_HUMAN   RUXG_HUMAN  0.736771  U\n",
       "1  TACC1_HUMAN  KAT2A_HUMAN  0.292198  U\n",
       "2  TACC1_HUMAN  CKAP5_HUMAN  0.724783  U\n",
       "3  TACC1_HUMAN  YETS4_HUMAN  0.542597  U\n",
       "4  TACC1_HUMAN   LSM7_HUMAN  0.714823  U"
      ]
     },
     "execution_count": 13,
     "metadata": {},
     "output_type": "execute_result"
    }
   ],
   "source": [
    "updated_ppi.head()"
   ]
  },
  {
   "cell_type": "code",
   "execution_count": 14,
   "id": "a9a0f9e1",
   "metadata": {},
   "outputs": [],
   "source": [
    "updated_ppi.to_csv('processed-data/union_ppi.txt', sep='\\t', header=None, index=False)"
   ]
  }
 ],
 "metadata": {
  "kernelspec": {
   "display_name": "Python 3 (ipykernel)",
   "language": "python",
   "name": "python3"
  },
  "language_info": {
   "codemirror_mode": {
    "name": "ipython",
    "version": 3
   },
   "file_extension": ".py",
   "mimetype": "text/x-python",
   "name": "python",
   "nbconvert_exporter": "python",
   "pygments_lexer": "ipython3",
   "version": "3.10.12"
  }
 },
 "nbformat": 4,
 "nbformat_minor": 5
}
